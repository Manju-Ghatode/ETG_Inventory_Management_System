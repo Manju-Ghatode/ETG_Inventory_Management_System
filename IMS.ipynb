{
  "nbformat": 4,
  "nbformat_minor": 0,
  "metadata": {
    "colab": {
      "name": "IMS.ipynb",
      "provenance": [],
      "collapsed_sections": [],
      "authorship_tag": "ABX9TyPdFSzhNTxq8g8Rg71B9Ujb",
      "include_colab_link": true
    },
    "kernelspec": {
      "name": "python3",
      "display_name": "Python 3"
    },
    "language_info": {
      "name": "python"
    }
  },
  "cells": [
    {
      "cell_type": "markdown",
      "metadata": {
        "id": "view-in-github",
        "colab_type": "text"
      },
      "source": [
        "<a href=\"https://colab.research.google.com/github/Manju-Ghatode/ETG_Inventory_Management_System/blob/main/IMS.ipynb\" target=\"_parent\"><img src=\"https://colab.research.google.com/assets/colab-badge.svg\" alt=\"Open In Colab\"/></a>"
      ]
    },
    {
      "cell_type": "markdown",
      "metadata": {
        "id": "fiFPQ_wAP9k5"
      },
      "source": [
        "#**ELITE TECHNO GROUPS**\n",
        "\n",
        "#**Skills-India-AI-ML-Scholarship**\n",
        "\n",
        "#**JSON Based Inventory Management System**\n",
        "\n",
        "##**Author : Manju Ghatode**"
      ]
    },
    {
      "cell_type": "markdown",
      "metadata": {
        "id": "5XfFaga8wJwb"
      },
      "source": [
        "#**Create  Inventory Management System**"
      ]
    },
    {
      "cell_type": "code",
      "metadata": {
        "id": "k0bt_6T1Qau0"
      },
      "source": [
        "record = { 1000001 : {\"Name\" : \"Baby Cream\", \"Price\" : 140, \"Quantity\" : 30, \"Company\" : \"Himalaya\", \"Color\" : \"White\"}, \n",
        "           1000002 : {\"Name\" : \"Brightning Day Cream\" , \"Price\" :150, \"Quantity\" : 10 , 'Company' : 'Kaya', 'Color' : 'Light Pink'},\n",
        "           1000003 : {'Name':'Eyelyner','Price' :500, 'Quantity' : 5, 'Company' : 'Shehnaz Husan','Color':'Black'},\n",
        "1000004 : {'Name':'Lipstic','Price' :750, 'Quantity' : 23, 'Company' : 'Lakme','Color':'Bold Red'},\n",
        "1000005 : {'Name':'White Glow','Price' :110, 'Quantity' :50 , 'Company' : 'Lotus','Color':'Navy Blue'},\n",
        "1000006: {'Name':'Anti Wrinkle','Price' :1189, 'Quantity' : 1, 'Company' : 'Ptanjali','Color':'Gold'},\n",
        "1000007 : {'Name':'Foundation','Price' :1100, 'Quantity' : 5, 'Company' : 'VLCC','Color':'Light Borwn'},\n",
        "1000008 : {'Name':'Nailpaint','Price' :11, 'Quantity' : 24, 'Company' : 'Colorssence','Color':'White'},\n",
        "1000009 : {'Name':'Skin Care','Price' :220, 'Quantity' : 100, 'Company' : 'Biotique' , 'Color' : 'Black'},\n",
        "1000010 : {'Name':'Muskara','Price' :1110, 'Quantity' : 10, 'Company' : 'Milani','Color':'Dark Black'},\n",
        "1000011 : {'Name':'Lipstic','Price' :750, 'Quantity' : 50, 'Company' : 'Blue heaven','Color':'Pink'},\n",
        "1000012 : {'Name':'Makeup remover','Price' :350, 'Quantity' : 30, 'Company' : 'Viviana','Color':'Light pink'},\n",
        "1000013: {'Name':'Swarna Kanti','Price' :590, 'Quantity' : 40, 'Company' : 'Patanjali','Color':'Fair White'},\n",
        "1000014 : {'Name':'Skincare','Price' :10, 'Quantity' : 10, 'Company' : 'Forest Essentials','Color':'Gold'},\n",
        "1000015 : {'Name':'Compact Powder','Price' :590, 'Quantity' : 35, 'Company' : 'Coloressence','Color':'Pearl White'},\n",
        "1000016 : {'Name':' Gold Facial kit','Price' :2000, 'Quantity' : 1, 'Company' : 'VLCC','Color':'Pearl White'},\n",
        "1000017 : {'Name':'Lipstik','Price' :1111, 'Quantity' : 100, 'Company' : 'ELLE 18','Color':'Pop silk'},\n",
        "1000018 : {'Name':'Kajal Stick','Price' :850, 'Quantity' : 45 , 'Company' : 'VIVIANA','Color':'Dark Red'},\n",
        "1000019 : {'Name':'Intensive Moisturizing','Price' :20, 'Quantity' : 20, 'Company' : 'PAC','Color':'Milky'},\n",
        "1000020 : {'Name':'Radiance Cream','Price' :450, 'Quantity' : 300, 'Company' : 'Lakme','Color':'Skin color'},\n",
        "1000021 : {'Name':'Skin perfect','Price' :2500, 'Quantity' : 370, 'Company' : 'olreal','Color':'POP silky'},\n",
        "1000022 : {'Name':'Shanglow Plus','Price' :710, 'Quantity' : 10, 'Company' : 'Maybellinge','Color':'Skin color'},\n",
        "1000023 : {'Name':'Whitamin C face cream','Price' :599, 'Quantity' : 15, 'Company' : 'Mamaearth','Color':'Light Green'},\n",
        "1000024: {'Name':'Diamond cellular','Price' :1020, 'Quantity' : 70, 'Company' : 'Oriflame','Color':'Bolg Gold'},\n",
        "1000025 : {'Name':'Sundarya Rdiance','Price' :110, 'Quantity' : 500, 'Company' : 'Avon','Color':'Blue'},\n",
        "1000026 : {'Name':'Blue light defence','Price' :590, 'Quantity' : 300, 'Company' : 'Colorbar','Color':'Light DEfence'},\n",
        "1000027 : {'Name':'Hydra White','Price' :1300, 'Quantity' : 450, 'Company' : 'Revlon','Color':'Silk'},\n",
        "1000028 : {'Name':'Sebamed','Price' :5550,'Quantity' : 450, 'Company' : 'NYX','Color':'Black'},\n",
        "1000029 : {'Name':'Wow','Price' :100, 'Quantity' : 7, 'Company' : 'Nykaa','Color':'Facial'},\n",
        "1000030 : {'Name':'Glutathione','Price' :1100, 'Quantity' : 30, 'Company' : 'Wet ','Color':'Shiny gold'},\n",
        "\n",
        "}"
      ],
      "execution_count": null,
      "outputs": []
    },
    {
      "cell_type": "markdown",
      "metadata": {
        "id": "GEVuznzXwWS6"
      },
      "source": [
        "#**Read the Record**"
      ]
    },
    {
      "cell_type": "code",
      "metadata": {
        "id": "vrlGciJIYef-",
        "colab": {
          "base_uri": "https://localhost:8080/"
        },
        "outputId": "fa376ab2-2997-4a2b-a285-11fda8c8c67e"
      },
      "source": [
        "print(\"~~~~~~~~~~~Record Of Inventary Management System~~~~~~~~~~~~~~~\")\n",
        "\n",
        "record"
      ],
      "execution_count": null,
      "outputs": [
        {
          "output_type": "stream",
          "name": "stdout",
          "text": [
            "~~~~~~~~~~~Record Of Inventary Management System~~~~~~~~~~~~~~~\n"
          ]
        },
        {
          "output_type": "execute_result",
          "data": {
            "text/plain": [
              "{1000001: {'Color': 'White',\n",
              "  'Company': 'Himalaya',\n",
              "  'Name': 'Baby Cream',\n",
              "  'Price': 140,\n",
              "  'Quantity': 30},\n",
              " 1000002: {'Color': 'Light Pink',\n",
              "  'Company': 'Kaya',\n",
              "  'Name': 'Brightning Day Cream',\n",
              "  'Price': 150,\n",
              "  'Quantity': 10},\n",
              " 1000003: {'Color': 'Black',\n",
              "  'Company': 'Shehnaz Husan',\n",
              "  'Name': 'Eyelyner',\n",
              "  'Price': 500,\n",
              "  'Quantity': 5},\n",
              " 1000004: {'Color': 'Bold Red',\n",
              "  'Company': 'Lakme',\n",
              "  'Name': 'Lipstic',\n",
              "  'Price': 750,\n",
              "  'Quantity': 23},\n",
              " 1000005: {'Color': 'Navy Blue',\n",
              "  'Company': 'Lotus',\n",
              "  'Name': 'White Glow',\n",
              "  'Price': 110,\n",
              "  'Quantity': 50},\n",
              " 1000006: {'Color': 'Gold',\n",
              "  'Company': 'Ptanjali',\n",
              "  'Name': 'Anti Wrinkle',\n",
              "  'Price': 1189,\n",
              "  'Quantity': 1},\n",
              " 1000007: {'Color': 'Light Borwn',\n",
              "  'Company': 'VLCC',\n",
              "  'Name': 'Foundation',\n",
              "  'Price': 1100,\n",
              "  'Quantity': 5},\n",
              " 1000008: {'Color': 'White',\n",
              "  'Company': 'Colorssence',\n",
              "  'Name': 'Nailpaint',\n",
              "  'Price': 11,\n",
              "  'Quantity': 24},\n",
              " 1000009: {'Color': 'Black',\n",
              "  'Company': 'Biotique',\n",
              "  'Name': 'Skin Care',\n",
              "  'Price': 220,\n",
              "  'Quantity': 100},\n",
              " 1000010: {'Color': 'Dark Black',\n",
              "  'Company': 'Milani',\n",
              "  'Name': 'Muskara',\n",
              "  'Price': 1110,\n",
              "  'Quantity': 10},\n",
              " 1000011: {'Color': 'Pink',\n",
              "  'Company': 'Blue heaven',\n",
              "  'Name': 'Lipstic',\n",
              "  'Price': 750,\n",
              "  'Quantity': 50},\n",
              " 1000012: {'Color': 'Light pink',\n",
              "  'Company': 'Viviana',\n",
              "  'Name': 'Makeup remover',\n",
              "  'Price': 350,\n",
              "  'Quantity': 30},\n",
              " 1000013: {'Color': 'Fair White',\n",
              "  'Company': 'Patanjali',\n",
              "  'Name': 'Swarna Kanti',\n",
              "  'Price': 590,\n",
              "  'Quantity': 40},\n",
              " 1000014: {'Color': 'Gold',\n",
              "  'Company': 'Forest Essentials',\n",
              "  'Name': 'Skincare',\n",
              "  'Price': 10,\n",
              "  'Quantity': 10},\n",
              " 1000015: {'Color': 'Pearl White',\n",
              "  'Company': 'Coloressence',\n",
              "  'Name': 'Compact Powder',\n",
              "  'Price': 590,\n",
              "  'Quantity': 35},\n",
              " 1000016: {'Color': 'Pearl White',\n",
              "  'Company': 'VLCC',\n",
              "  'Name': ' Gold Facial kit',\n",
              "  'Price': 2000,\n",
              "  'Quantity': 1},\n",
              " 1000017: {'Color': 'Pop silk',\n",
              "  'Company': 'ELLE 18',\n",
              "  'Name': 'Lipstik',\n",
              "  'Price': 1111,\n",
              "  'Quantity': 100},\n",
              " 1000018: {'Color': 'Dark Red',\n",
              "  'Company': 'VIVIANA',\n",
              "  'Name': 'Kajal Stick',\n",
              "  'Price': 850,\n",
              "  'Quantity': 45},\n",
              " 1000019: {'Color': 'Milky',\n",
              "  'Company': 'PAC',\n",
              "  'Name': 'Intensive Moisturizing',\n",
              "  'Price': 20,\n",
              "  'Quantity': 20},\n",
              " 1000020: {'Color': 'Skin color',\n",
              "  'Company': 'Lakme',\n",
              "  'Name': 'Radiance Cream',\n",
              "  'Price': 450,\n",
              "  'Quantity': 300},\n",
              " 1000021: {'Color': 'POP silky',\n",
              "  'Company': 'olreal',\n",
              "  'Name': 'Skin perfect',\n",
              "  'Price': 2500,\n",
              "  'Quantity': 370},\n",
              " 1000022: {'Color': 'Skin color',\n",
              "  'Company': 'Maybellinge',\n",
              "  'Name': 'Shanglow Plus',\n",
              "  'Price': 710,\n",
              "  'Quantity': 10},\n",
              " 1000023: {'Color': 'Light Green',\n",
              "  'Company': 'Mamaearth',\n",
              "  'Name': 'Whitamin C face cream',\n",
              "  'Price': 599,\n",
              "  'Quantity': 15},\n",
              " 1000024: {'Color': 'Bolg Gold',\n",
              "  'Company': 'Oriflame',\n",
              "  'Name': 'Diamond cellular',\n",
              "  'Price': 1020,\n",
              "  'Quantity': 70},\n",
              " 1000025: {'Color': 'Blue',\n",
              "  'Company': 'Avon',\n",
              "  'Name': 'Sundarya Rdiance',\n",
              "  'Price': 110,\n",
              "  'Quantity': 500},\n",
              " 1000026: {'Color': 'Light DEfence',\n",
              "  'Company': 'Colorbar',\n",
              "  'Name': 'Blue light defence',\n",
              "  'Price': 590,\n",
              "  'Quantity': 300},\n",
              " 1000027: {'Color': 'Silk',\n",
              "  'Company': 'Revlon',\n",
              "  'Name': 'Hydra White',\n",
              "  'Price': 1300,\n",
              "  'Quantity': 450},\n",
              " 1000028: {'Color': 'Black',\n",
              "  'Company': 'NYX',\n",
              "  'Name': 'Sebamed',\n",
              "  'Price': 5550,\n",
              "  'Quantity': 450},\n",
              " 1000029: {'Color': 'Facial',\n",
              "  'Company': 'Nykaa',\n",
              "  'Name': 'Wow',\n",
              "  'Price': 100,\n",
              "  'Quantity': 7},\n",
              " 1000030: {'Color': 'Shiny gold',\n",
              "  'Company': 'Wet ',\n",
              "  'Name': 'Glutathione',\n",
              "  'Price': 1100,\n",
              "  'Quantity': 30}}"
            ]
          },
          "metadata": {},
          "execution_count": 24
        }
      ]
    },
    {
      "cell_type": "markdown",
      "metadata": {
        "id": "lHWi7kDbn8MX"
      },
      "source": [
        "#**Add new item into Inventary**"
      ]
    },
    {
      "cell_type": "code",
      "metadata": {
        "id": "gA6XrkRtS052"
      },
      "source": [
        "import json"
      ],
      "execution_count": null,
      "outputs": []
    },
    {
      "cell_type": "code",
      "metadata": {
        "id": "ZZxlnKZldjvX"
      },
      "source": [
        "js = json.dumps(record)"
      ],
      "execution_count": null,
      "outputs": []
    },
    {
      "cell_type": "code",
      "metadata": {
        "colab": {
          "base_uri": "https://localhost:8080/",
          "height": 135
        },
        "id": "sLiX8L2Jdq2K",
        "outputId": "79fb5853-5df0-4365-b034-373120c1a034"
      },
      "source": [
        "js"
      ],
      "execution_count": null,
      "outputs": [
        {
          "output_type": "execute_result",
          "data": {
            "application/vnd.google.colaboratory.intrinsic+json": {
              "type": "string"
            },
            "text/plain": [
              "'{\"1000001\": {\"Name\": \"Baby Cream\", \"Price\": 140, \"Quantity\": 30, \"Company\": \"Himalaya\", \"Color\": \"White\"}, \"1000002\": {\"Name\": \"Brightning Day Cream\", \"Price\": 150, \"Quantity\": 10, \"Company\": \"Kaya\", \"Color\": \"Light Pink\"}, \"1000003\": {\"Name\": \"Eyelyner\", \"Price\": 500, \"Quantity\": 5, \"Company\": \"Shehnaz Husan\", \"Color\": \"Black\"}, \"1000004\": {\"Name\": \"Lipstic\", \"Price\": 750, \"Quantity\": 23, \"Company\": \"Lakme\", \"Color\": \"Bold Red\"}, \"1000005\": {\"Name\": \"White Glow\", \"Price\": 110, \"Quantity\": 50, \"Company\": \"Lotus\", \"Color\": \"Navy Blue\"}, \"1000006\": {\"Name\": \"Anti Wrinkle\", \"Price\": 1189, \"Quantity\": 1, \"Company\": \"Ptanjali\", \"Color\": \"Gold\"}, \"1000007\": {\"Name\": \"Foundation\", \"Price\": 1100, \"Quantity\": 5, \"Company\": \"VLCC\", \"Color\": \"Light Borwn\"}, \"1000008\": {\"Name\": \"Nailpaint\", \"Price\": 11, \"Quantity\": 24, \"Company\": \"Colorssence\", \"Color\": \"White\"}, \"1000009\": {\"Name\": \"Skin Care\", \"Price\": 220, \"Quantity\": 100, \"Company\": \"Biotique\", \"Color\": \"Black\"}, \"1000010\": {\"Name\": \"Muskara\", \"Price\": 1110, \"Quantity\": 10, \"Company\": \"Milani\", \"Color\": \"Dark Black\"}, \"1000011\": {\"Name\": \"Lipstic\", \"Price\": 750, \"Quantity\": 50, \"Company\": \"Blue heaven\", \"Color\": \"Pink\"}, \"1000012\": {\"Name\": \"Makeup remover\", \"Price\": 350, \"Quantity\": 30, \"Company\": \"Viviana\", \"Color\": \"Light pink\"}, \"1000013\": {\"Name\": \"Swarna Kanti\", \"Price\": 590, \"Quantity\": 40, \"Company\": \"Patanjali\", \"Color\": \"Fair White\"}, \"1000014\": {\"Name\": \"Skincare\", \"Price\": 10, \"Quantity\": 10, \"Company\": \"Forest Essentials\", \"Color\": \"Gold\"}, \"1000015\": {\"Name\": \"Compact Powder\", \"Price\": 590, \"Quantity\": 35, \"Company\": \"Coloressence\", \"Color\": \"Pearl White\"}, \"1000016\": {\"Name\": \" Gold Facial kit\", \"Price\": 2000, \"Quantity\": 1, \"Company\": \"VLCC\", \"Color\": \"Pearl White\"}, \"1000017\": {\"Name\": \"Lipstik\", \"Price\": 1111, \"Quantity\": 100, \"Company\": \"ELLE 18\", \"Color\": \"Pop silk\"}, \"1000018\": {\"Name\": \"Kajal Stick\", \"Price\": 850, \"Quantity\": 45, \"Company\": \"VIVIANA\", \"Color\": \"Dark Red\"}, \"1000019\": {\"Name\": \"Intensive Moisturizing\", \"Price\": 20, \"Quantity\": 20, \"Company\": \"PAC\", \"Color\": \"Milky\"}, \"1000020\": {\"Name\": \"Radiance Cream\", \"Price\": 450, \"Quantity\": 300, \"Company\": \"Lakme\", \"Color\": \"Skin color\"}, \"1000021\": {\"Name\": \"Skin perfect\", \"Price\": 2500, \"Quantity\": 370, \"Company\": \"olreal\", \"Color\": \"POP silky\"}, \"1000022\": {\"Name\": \"Shanglow Plus\", \"Price\": 710, \"Quantity\": 10, \"Company\": \"Maybellinge\", \"Color\": \"Skin color\"}, \"1000023\": {\"Name\": \"Whitamin C face cream\", \"Price\": 599, \"Quantity\": 15, \"Company\": \"Mamaearth\", \"Color\": \"Light Green\"}, \"1000024\": {\"Name\": \"Diamond cellular\", \"Price\": 1020, \"Quantity\": 70, \"Company\": \"Oriflame\", \"Color\": \"Bolg Gold\"}, \"1000025\": {\"Name\": \"Sundarya Rdiance\", \"Price\": 110, \"Quantity\": 500, \"Company\": \"Avon\", \"Color\": \"Blue\"}, \"1000026\": {\"Name\": \"Blue light defence\", \"Price\": 590, \"Quantity\": 300, \"Company\": \"Colorbar\", \"Color\": \"Light DEfence\"}, \"1000027\": {\"Name\": \"Hydra White\", \"Price\": 1300, \"Quantity\": 450, \"Company\": \"Revlon\", \"Color\": \"Silk\"}, \"1000028\": {\"Name\": \"Sebamed\", \"Price\": 5550, \"Quantity\": 450, \"Company\": \"NYX\", \"Color\": \"Black\"}, \"1000029\": {\"Name\": \"Wow\", \"Price\": 100, \"Quantity\": 7, \"Company\": \"Nykaa\", \"Color\": \"Facial\"}, \"1000030\": {\"Name\": \"Glutathione\", \"Price\": 1100, \"Quantity\": 30, \"Company\": \"Wet \", \"Color\": \"Shiny gold\"}}'"
            ]
          },
          "metadata": {},
          "execution_count": 30
        }
      ]
    },
    {
      "cell_type": "code",
      "metadata": {
        "colab": {
          "base_uri": "https://localhost:8080/"
        },
        "id": "OdRsklcLqmB4",
        "outputId": "67afb486-4bf9-4707-ea97-95b3409d560a"
      },
      "source": [
        "prod_id = str(input(\"Enter product id:\"))\n",
        "name = str(input(\"Enter name:\"))\n",
        "pr = int(input(\"Enter price:\"))\n",
        "qn = int(input(\"Enter quantity:\"))\n",
        "com = str(input(\"Enter company:\"))\n",
        "col = str(input(\"Enter color:\"))\n",
        "\n",
        "record[prod_id] = {'name': name, 'pr': pr, 'qn': qn, 'com' : com, 'col': col}\n",
        "\n",
        "js = json.dumps(record)\n",
        "\n",
        "fd = open(\"record.json\",'w')\n",
        "fd.write(js)\n",
        "fd.close()"
      ],
      "execution_count": null,
      "outputs": [
        {
          "name": "stdout",
          "output_type": "stream",
          "text": [
            "Enter product id:10000031\n",
            "Enter name:Old Wax\n",
            "Enter price:10001\n",
            "Enter quantity:10\n",
            "Enter company:Zara\n",
            "Enter color:Light green\n"
          ]
        }
      ]
    },
    {
      "cell_type": "code",
      "metadata": {
        "colab": {
          "base_uri": "https://localhost:8080/"
        },
        "id": "atX1P3_Pq-UN",
        "outputId": "e0ff0487-8f2d-49af-f059-8656a25e486c"
      },
      "source": [
        "prod_id = str(input(\"Enter product id:\"))\n",
        "name = str(input(\"Enter name:\"))\n",
        "pr = int(input(\"Enter price:\"))\n",
        "qn = int(input(\"Enter quantity:\"))\n",
        "com = str(input(\"Enter company:\"))\n",
        "col = str(input(\"Enter color:\"))\n",
        "\n",
        "record[prod_id] = {'name': name, 'pr': pr, 'qn': qn, 'com' : com, 'col': col}\n",
        "\n",
        "js = json.dumps(record)\n",
        "\n",
        "fd = open(\"record.json\",'w')\n",
        "fd.write(js)\n",
        "fd.close()"
      ],
      "execution_count": null,
      "outputs": [
        {
          "name": "stdout",
          "output_type": "stream",
          "text": [
            "Enter product id:1000032\n",
            "Enter name:Natura\n",
            "Enter price:1600\n",
            "Enter quantity:10\n",
            "Enter company:Lava\n",
            "Enter color:Sun color\n"
          ]
        }
      ]
    },
    {
      "cell_type": "code",
      "metadata": {
        "colab": {
          "base_uri": "https://localhost:8080/"
        },
        "id": "pjO8MSiwrO9s",
        "outputId": "80535298-9ae1-4c3b-a66e-d77a56b89b4b"
      },
      "source": [
        "prod_id = str(input(\"Enter product id:\"))\n",
        "name = str(input(\"Enter name:\"))\n",
        "pr = int(input(\"Enter price:\"))\n",
        "qn = int(input(\"Enter quantity:\"))\n",
        "com = str(input(\"Enter company:\"))\n",
        "col = str(input(\"Enter color:\"))\n",
        "\n",
        "record[prod_id] = {'name': name, 'pr': pr, 'qn': qn, 'com' : com, 'col': col}\n",
        "\n",
        "js = json.dumps(record)\n",
        "\n",
        "fd = open(\"record.json\",'w')\n",
        "fd.write(js)\n",
        "fd.close()"
      ],
      "execution_count": null,
      "outputs": [
        {
          "name": "stdout",
          "output_type": "stream",
          "text": [
            "Enter product id:1000033\n",
            "Enter name:Mariya\n",
            "Enter price:2000\n",
            "Enter quantity:20\n",
            "Enter company:Kaya\n",
            "Enter color:Silk\n"
          ]
        }
      ]
    },
    {
      "cell_type": "code",
      "metadata": {
        "colab": {
          "base_uri": "https://localhost:8080/"
        },
        "id": "Sd_Uha3arfPE",
        "outputId": "a0f0e49d-f883-49be-dcef-0af001dadedf"
      },
      "source": [
        "prod_id = str(input(\"Enter product id:\"))\n",
        "name = str(input(\"Enter name:\"))\n",
        "pr = int(input(\"Enter price:\"))\n",
        "qn = int(input(\"Enter quantity:\"))\n",
        "com = str(input(\"Enter company:\"))\n",
        "col = str(input(\"Enter color:\"))\n",
        "\n",
        "record[prod_id] = {'name': name, 'pr': pr, 'qn': qn, 'com' : com, 'col': col}\n",
        "\n",
        "js = json.dumps(record)\n",
        "\n",
        "fd = open(\"record.json\",'w')\n",
        "fd.write(js)\n",
        "fd.close()"
      ],
      "execution_count": null,
      "outputs": [
        {
          "name": "stdout",
          "output_type": "stream",
          "text": [
            "Enter product id:1000034\n",
            "Enter name:Vaseline\n",
            "Enter price:200\n",
            "Enter quantity:40\n",
            "Enter company:Ponds\n",
            "Enter color:White\n"
          ]
        }
      ]
    },
    {
      "cell_type": "code",
      "metadata": {
        "colab": {
          "base_uri": "https://localhost:8080/"
        },
        "id": "PnjcVkILrvBz",
        "outputId": "c9c3ee7b-ab9e-4e0a-d83b-23de3566dca2"
      },
      "source": [
        "prod_id = str(input(\"Enter product id:\"))\n",
        "name = str(input(\"Enter name:\"))\n",
        "pr = int(input(\"Enter price:\"))\n",
        "qn = int(input(\"Enter quantity:\"))\n",
        "com = str(input(\"Enter company:\"))\n",
        "col = str(input(\"Enter color:\"))\n",
        "\n",
        "record[prod_id] = {'name': name, 'pr': pr, 'qn': qn, 'com' : com, 'col': col}\n",
        "\n",
        "js = json.dumps(record)\n",
        "\n",
        "fd = open(\"record.json\",'w')\n",
        "fd.write(js)\n",
        "fd.close()"
      ],
      "execution_count": null,
      "outputs": [
        {
          "name": "stdout",
          "output_type": "stream",
          "text": [
            "Enter product id:1000035\n",
            "Enter name:Old Spice\n",
            "Enter price:3000\n",
            "Enter quantity:1\n",
            "Enter company:Colfax\n",
            "Enter color:Green\n"
          ]
        }
      ]
    },
    {
      "cell_type": "code",
      "metadata": {
        "colab": {
          "base_uri": "https://localhost:8080/"
        },
        "id": "-wBKMEIUsBK-",
        "outputId": "478f854d-971c-476b-c45a-33a22f6ac2aa"
      },
      "source": [
        "prod_id = str(input(\"Enter product id:\"))\n",
        "name = str(input(\"Enter name:\"))\n",
        "pr = int(input(\"Enter price:\"))\n",
        "qn = int(input(\"Enter quantity:\"))\n",
        "com = str(input(\"Enter company:\"))\n",
        "col = str(input(\"Enter color:\"))\n",
        "\n",
        "record[prod_id] = {'name': name, 'pr': pr, 'qn': qn, 'com' : com, 'col': col}\n",
        "\n",
        "js = json.dumps(record)\n",
        "\n",
        "fd = open(\"record.json\",'w')\n",
        "fd.write(js)\n",
        "fd.close()"
      ],
      "execution_count": null,
      "outputs": [
        {
          "name": "stdout",
          "output_type": "stream",
          "text": [
            "Enter product id:1000036\n",
            "Enter name:Safedi\n",
            "Enter price:3400\n",
            "Enter quantity:100\n",
            "Enter company:Patanjali\n",
            "Enter color:Black\n"
          ]
        }
      ]
    },
    {
      "cell_type": "code",
      "metadata": {
        "colab": {
          "base_uri": "https://localhost:8080/"
        },
        "id": "Jt9HC5fesReC",
        "outputId": "3625699b-be55-4080-d6e9-79b086d7b8d3"
      },
      "source": [
        "prod_id = str(input(\"Enter product id:\"))\n",
        "name = str(input(\"Enter name:\"))\n",
        "pr = int(input(\"Enter price:\"))\n",
        "qn = int(input(\"Enter quantity:\"))\n",
        "com = str(input(\"Enter company:\"))\n",
        "col = str(input(\"Enter color:\"))\n",
        "\n",
        "record[prod_id] = {'name': name, 'pr': pr, 'qn': qn, 'com' : com, 'col': col}\n",
        "\n",
        "js = json.dumps(record)\n",
        "\n",
        "fd = open(\"record.json\",'w')\n",
        "fd.write(js)\n",
        "fd.close()"
      ],
      "execution_count": null,
      "outputs": [
        {
          "name": "stdout",
          "output_type": "stream",
          "text": [
            "Enter product id:1000037\n",
            "Enter name:Saundarya\n",
            "Enter price:380\n",
            "Enter quantity:27\n",
            "Enter company:Maya\n",
            "Enter color:Solo White\n"
          ]
        }
      ]
    },
    {
      "cell_type": "code",
      "metadata": {
        "colab": {
          "base_uri": "https://localhost:8080/"
        },
        "id": "2YyofZQYsqjY",
        "outputId": "84e00a63-5abc-4f77-93c5-f93b436d797b"
      },
      "source": [
        "prod_id = str(input(\"Enter product id:\"))\n",
        "name = str(input(\"Enter name:\"))\n",
        "pr = int(input(\"Enter price:\"))\n",
        "qn = int(input(\"Enter quantity:\"))\n",
        "com = str(input(\"Enter company:\"))\n",
        "col = str(input(\"Enter color:\"))\n",
        "\n",
        "record[prod_id] = {'name': name, 'pr': pr, 'qn': qn, 'com' : com, 'col': col}\n",
        "\n",
        "js = json.dumps(record)\n",
        "\n",
        "fd = open(\"record.json\",'w')\n",
        "fd.write(js)\n",
        "fd.close()"
      ],
      "execution_count": null,
      "outputs": [
        {
          "name": "stdout",
          "output_type": "stream",
          "text": [
            "Enter product id:1000038\n",
            "Enter name:Facial Kit\n",
            "Enter price:7500\n",
            "Enter quantity:54\n",
            "Enter company:Natura\n",
            "Enter color:Soily\n"
          ]
        }
      ]
    },
    {
      "cell_type": "code",
      "metadata": {
        "colab": {
          "base_uri": "https://localhost:8080/"
        },
        "id": "IPXoxFHLsqui",
        "outputId": "328b49cc-488f-4454-9876-7612d6810ba0"
      },
      "source": [
        "prod_id = str(input(\"Enter product id:\"))\n",
        "name = str(input(\"Enter name:\"))\n",
        "pr = int(input(\"Enter price:\"))\n",
        "qn = int(input(\"Enter quantity:\"))\n",
        "com = str(input(\"Enter company:\"))\n",
        "col = str(input(\"Enter color:\"))\n",
        "\n",
        "record[prod_id] = {'name': name, 'pr': pr, 'qn': qn, 'com' : com, 'col': col}\n",
        "\n",
        "js = json.dumps(record)\n",
        "\n",
        "fd = open(\"record.json\",'w')\n",
        "fd.write(js)\n",
        "fd.close()"
      ],
      "execution_count": null,
      "outputs": [
        {
          "name": "stdout",
          "output_type": "stream",
          "text": [
            "Enter product id:1000039\n",
            "Enter name:Goree\n",
            "Enter price:590\n",
            "Enter quantity:10\n",
            "Enter company:Goree\n",
            "Enter color:Yellow\n"
          ]
        }
      ]
    },
    {
      "cell_type": "code",
      "metadata": {
        "colab": {
          "base_uri": "https://localhost:8080/"
        },
        "id": "ax5qGzS9tMzl",
        "outputId": "bb5ef2ce-5aaa-4004-c7d5-7c9745c0202c"
      },
      "source": [
        "prod_id = str(input(\"Enter product id:\"))\n",
        "name = str(input(\"Enter name:\"))\n",
        "pr = int(input(\"Enter price:\"))\n",
        "qn = int(input(\"Enter quantity:\"))\n",
        "com = str(input(\"Enter company:\"))\n",
        "col = str(input(\"Enter color:\"))\n",
        "\n",
        "record[prod_id] = {'name': name, 'pr': pr, 'qn': qn, 'com' : com, 'col': col}\n",
        "\n",
        "js = json.dumps(record)\n",
        "\n",
        "fd = open(\"record.json\",'w')\n",
        "fd.write(js)\n",
        "fd.close()"
      ],
      "execution_count": null,
      "outputs": [
        {
          "name": "stdout",
          "output_type": "stream",
          "text": [
            "Enter product id:1000040\n",
            "Enter name:Jalousy\n",
            "Enter price:500\n",
            "Enter quantity:10\n",
            "Enter company:Maurya\n",
            "Enter color:Blue\n"
          ]
        }
      ]
    },
    {
      "cell_type": "code",
      "metadata": {
        "colab": {
          "base_uri": "https://localhost:8080/"
        },
        "id": "POX5oo_Uqyby",
        "outputId": "3aea6d89-b516-42a8-e6a9-e3e6d8b4a77e"
      },
      "source": [
        "print(\"~~~~~~~~~~~~~~~~~After Adding New Inventary in Inventary Management System ~~~~~~~~~~~~~~~~~~ \")\n",
        "\n",
        "record\n"
      ],
      "execution_count": null,
      "outputs": [
        {
          "output_type": "stream",
          "name": "stdout",
          "text": [
            "~~~~~~~~~~~~~~~~~After Adding New Inventary in Inventary Management System ~~~~~~~~~~~~~~~~~~ \n"
          ]
        },
        {
          "output_type": "execute_result",
          "data": {
            "text/plain": [
              "{1000001: {'Color': 'White',\n",
              "  'Company': 'Himalaya',\n",
              "  'Name': 'Baby Cream',\n",
              "  'Price': 140,\n",
              "  'Quantity': 30},\n",
              " 1000002: {'Color': 'Light Pink',\n",
              "  'Company': 'Kaya',\n",
              "  'Name': 'Brightning Day Cream',\n",
              "  'Price': 150,\n",
              "  'Quantity': 10},\n",
              " 1000003: {'Color': 'Black',\n",
              "  'Company': 'Shehnaz Husan',\n",
              "  'Name': 'Eyelyner',\n",
              "  'Price': 500,\n",
              "  'Quantity': 5},\n",
              " '10000031': {'col': 'Light green',\n",
              "  'com': 'Zara',\n",
              "  'name': 'Old Wax',\n",
              "  'pr': 10001,\n",
              "  'qn': 10},\n",
              " 1000004: {'Color': 'Bold Red',\n",
              "  'Company': 'Lakme',\n",
              "  'Name': 'Lipstic',\n",
              "  'Price': 750,\n",
              "  'Quantity': 23},\n",
              " 1000005: {'Color': 'Navy Blue',\n",
              "  'Company': 'Lotus',\n",
              "  'Name': 'White Glow',\n",
              "  'Price': 110,\n",
              "  'Quantity': 50},\n",
              " 1000006: {'Color': 'Gold',\n",
              "  'Company': 'Ptanjali',\n",
              "  'Name': 'Anti Wrinkle',\n",
              "  'Price': 1189,\n",
              "  'Quantity': 1},\n",
              " 1000007: {'Color': 'Light Borwn',\n",
              "  'Company': 'VLCC',\n",
              "  'Name': 'Foundation',\n",
              "  'Price': 1100,\n",
              "  'Quantity': 5},\n",
              " 1000008: {'Color': 'White',\n",
              "  'Company': 'Colorssence',\n",
              "  'Name': 'Nailpaint',\n",
              "  'Price': 11,\n",
              "  'Quantity': 24},\n",
              " 1000009: {'Color': 'Black',\n",
              "  'Company': 'Biotique',\n",
              "  'Name': 'Skin Care',\n",
              "  'Price': 220,\n",
              "  'Quantity': 100},\n",
              " 1000010: {'Color': 'Dark Black',\n",
              "  'Company': 'Milani',\n",
              "  'Name': 'Muskara',\n",
              "  'Price': 1110,\n",
              "  'Quantity': 10},\n",
              " 1000011: {'Color': 'Pink',\n",
              "  'Company': 'Blue heaven',\n",
              "  'Name': 'Lipstic',\n",
              "  'Price': 750,\n",
              "  'Quantity': 50},\n",
              " 1000012: {'Color': 'Light pink',\n",
              "  'Company': 'Viviana',\n",
              "  'Name': 'Makeup remover',\n",
              "  'Price': 350,\n",
              "  'Quantity': 30},\n",
              " 1000013: {'Color': 'Fair White',\n",
              "  'Company': 'Patanjali',\n",
              "  'Name': 'Swarna Kanti',\n",
              "  'Price': 590,\n",
              "  'Quantity': 40},\n",
              " 1000014: {'Color': 'Gold',\n",
              "  'Company': 'Forest Essentials',\n",
              "  'Name': 'Skincare',\n",
              "  'Price': 10,\n",
              "  'Quantity': 10},\n",
              " 1000015: {'Color': 'Pearl White',\n",
              "  'Company': 'Coloressence',\n",
              "  'Name': 'Compact Powder',\n",
              "  'Price': 590,\n",
              "  'Quantity': 35},\n",
              " 1000016: {'Color': 'Pearl White',\n",
              "  'Company': 'VLCC',\n",
              "  'Name': ' Gold Facial kit',\n",
              "  'Price': 2000,\n",
              "  'Quantity': 1},\n",
              " 1000017: {'Color': 'Pop silk',\n",
              "  'Company': 'ELLE 18',\n",
              "  'Name': 'Lipstik',\n",
              "  'Price': 1111,\n",
              "  'Quantity': 100},\n",
              " 1000018: {'Color': 'Dark Red',\n",
              "  'Company': 'VIVIANA',\n",
              "  'Name': 'Kajal Stick',\n",
              "  'Price': 850,\n",
              "  'Quantity': 45},\n",
              " 1000019: {'Color': 'Milky',\n",
              "  'Company': 'PAC',\n",
              "  'Name': 'Intensive Moisturizing',\n",
              "  'Price': 20,\n",
              "  'Quantity': 20},\n",
              " 1000020: {'Color': 'Skin color',\n",
              "  'Company': 'Lakme',\n",
              "  'Name': 'Radiance Cream',\n",
              "  'Price': 450,\n",
              "  'Quantity': 300},\n",
              " 1000021: {'Color': 'POP silky',\n",
              "  'Company': 'olreal',\n",
              "  'Name': 'Skin perfect',\n",
              "  'Price': 2500,\n",
              "  'Quantity': 370},\n",
              " 1000022: {'Color': 'Skin color',\n",
              "  'Company': 'Maybellinge',\n",
              "  'Name': 'Shanglow Plus',\n",
              "  'Price': 710,\n",
              "  'Quantity': 10},\n",
              " 1000023: {'Color': 'Light Green',\n",
              "  'Company': 'Mamaearth',\n",
              "  'Name': 'Whitamin C face cream',\n",
              "  'Price': 599,\n",
              "  'Quantity': 15},\n",
              " 1000024: {'Color': 'Bolg Gold',\n",
              "  'Company': 'Oriflame',\n",
              "  'Name': 'Diamond cellular',\n",
              "  'Price': 1020,\n",
              "  'Quantity': 70},\n",
              " 1000025: {'Color': 'Blue',\n",
              "  'Company': 'Avon',\n",
              "  'Name': 'Sundarya Rdiance',\n",
              "  'Price': 110,\n",
              "  'Quantity': 500},\n",
              " 1000026: {'Color': 'Light DEfence',\n",
              "  'Company': 'Colorbar',\n",
              "  'Name': 'Blue light defence',\n",
              "  'Price': 590,\n",
              "  'Quantity': 300},\n",
              " 1000027: {'Color': 'Silk',\n",
              "  'Company': 'Revlon',\n",
              "  'Name': 'Hydra White',\n",
              "  'Price': 1300,\n",
              "  'Quantity': 450},\n",
              " 1000028: {'Color': 'Black',\n",
              "  'Company': 'NYX',\n",
              "  'Name': 'Sebamed',\n",
              "  'Price': 5550,\n",
              "  'Quantity': 450},\n",
              " 1000029: {'Color': 'Facial',\n",
              "  'Company': 'Nykaa',\n",
              "  'Name': 'Wow',\n",
              "  'Price': 100,\n",
              "  'Quantity': 7},\n",
              " 1000030: {'Color': 'Shiny gold',\n",
              "  'Company': 'Wet ',\n",
              "  'Name': 'Glutathione',\n",
              "  'Price': 1100,\n",
              "  'Quantity': 30},\n",
              " '1000032': {'col': 'Sun color',\n",
              "  'com': 'Lava',\n",
              "  'name': 'Natura',\n",
              "  'pr': 1600,\n",
              "  'qn': 10},\n",
              " '1000033': {'col': 'Silk',\n",
              "  'com': 'Kaya',\n",
              "  'name': 'Mariya',\n",
              "  'pr': 2000,\n",
              "  'qn': 20},\n",
              " '1000034': {'col': 'White',\n",
              "  'com': 'Ponds',\n",
              "  'name': 'Vaseline',\n",
              "  'pr': 200,\n",
              "  'qn': 40},\n",
              " '1000035': {'col': 'Green',\n",
              "  'com': 'Colfax',\n",
              "  'name': 'Old Spice',\n",
              "  'pr': 3000,\n",
              "  'qn': 1},\n",
              " '1000036': {'col': 'Black',\n",
              "  'com': 'Patanjali',\n",
              "  'name': 'Safedi',\n",
              "  'pr': 3400,\n",
              "  'qn': 100},\n",
              " '1000037': {'col': 'Solo White',\n",
              "  'com': 'Maya',\n",
              "  'name': 'Saundarya',\n",
              "  'pr': 380,\n",
              "  'qn': 27},\n",
              " '1000038': {'col': 'Soily',\n",
              "  'com': 'Natura',\n",
              "  'name': 'Facial Kit',\n",
              "  'pr': 7500,\n",
              "  'qn': 54},\n",
              " '1000039': {'col': 'Yellow',\n",
              "  'com': 'Goree',\n",
              "  'name': 'Goree',\n",
              "  'pr': 590,\n",
              "  'qn': 10},\n",
              " '1000040': {'col': 'Blue',\n",
              "  'com': 'Maurya',\n",
              "  'name': 'Jalousy',\n",
              "  'pr': 500,\n",
              "  'qn': 10}}"
            ]
          },
          "metadata": {},
          "execution_count": 42
        }
      ]
    },
    {
      "cell_type": "code",
      "metadata": {
        "id": "n2rTIksSdzUO",
        "colab": {
          "base_uri": "https://localhost:8080/"
        },
        "outputId": "795ca5e6-c86c-4767-d72a-d6b0e3e80af0"
      },
      "source": [
        "type(js)"
      ],
      "execution_count": null,
      "outputs": [
        {
          "output_type": "execute_result",
          "data": {
            "text/plain": [
              "str"
            ]
          },
          "metadata": {},
          "execution_count": 43
        }
      ]
    },
    {
      "cell_type": "code",
      "metadata": {
        "id": "1ygCxRCoeAau"
      },
      "source": [
        "fd = open(\"record.json\",'w')\n",
        "\n",
        "fd.write(js)\n",
        "\n",
        "fd.close()"
      ],
      "execution_count": null,
      "outputs": []
    },
    {
      "cell_type": "code",
      "metadata": {
        "id": "GJH3tUvbiWVP"
      },
      "source": [
        "fd = open(\"record.json\" , 'r')\n",
        "\n",
        "txt = fd.read()\n",
        "record = json.loads(txt)\n",
        "fd.close()"
      ],
      "execution_count": null,
      "outputs": []
    },
    {
      "cell_type": "code",
      "metadata": {
        "id": "Xl1dEimOizNX",
        "colab": {
          "base_uri": "https://localhost:8080/",
          "height": 135
        },
        "outputId": "c3373d3c-8842-4808-d2de-0d3fa720b221"
      },
      "source": [
        "txt"
      ],
      "execution_count": null,
      "outputs": [
        {
          "output_type": "execute_result",
          "data": {
            "application/vnd.google.colaboratory.intrinsic+json": {
              "type": "string"
            },
            "text/plain": [
              "'{\"1000001\": {\"Name\": \"Baby Cream\", \"Price\": 140, \"Quantity\": 30, \"Company\": \"Himalaya\", \"Color\": \"White\"}, \"1000002\": {\"Name\": \"Brightning Day Cream\", \"Price\": 150, \"Quantity\": 10, \"Company\": \"Kaya\", \"Color\": \"Light Pink\"}, \"1000003\": {\"Name\": \"Eyelyner\", \"Price\": 500, \"Quantity\": 5, \"Company\": \"Shehnaz Husan\", \"Color\": \"Black\"}, \"1000004\": {\"Name\": \"Lipstic\", \"Price\": 750, \"Quantity\": 23, \"Company\": \"Lakme\", \"Color\": \"Bold Red\"}, \"1000005\": {\"Name\": \"White Glow\", \"Price\": 110, \"Quantity\": 50, \"Company\": \"Lotus\", \"Color\": \"Navy Blue\"}, \"1000006\": {\"Name\": \"Anti Wrinkle\", \"Price\": 1189, \"Quantity\": 1, \"Company\": \"Ptanjali\", \"Color\": \"Gold\"}, \"1000007\": {\"Name\": \"Foundation\", \"Price\": 1100, \"Quantity\": 5, \"Company\": \"VLCC\", \"Color\": \"Light Borwn\"}, \"1000008\": {\"Name\": \"Nailpaint\", \"Price\": 11, \"Quantity\": 24, \"Company\": \"Colorssence\", \"Color\": \"White\"}, \"1000009\": {\"Name\": \"Skin Care\", \"Price\": 220, \"Quantity\": 100, \"Company\": \"Biotique\", \"Color\": \"Black\"}, \"1000010\": {\"Name\": \"Muskara\", \"Price\": 1110, \"Quantity\": 10, \"Company\": \"Milani\", \"Color\": \"Dark Black\"}, \"1000011\": {\"Name\": \"Lipstic\", \"Price\": 750, \"Quantity\": 50, \"Company\": \"Blue heaven\", \"Color\": \"Pink\"}, \"1000012\": {\"Name\": \"Makeup remover\", \"Price\": 350, \"Quantity\": 30, \"Company\": \"Viviana\", \"Color\": \"Light pink\"}, \"1000013\": {\"Name\": \"Swarna Kanti\", \"Price\": 590, \"Quantity\": 40, \"Company\": \"Patanjali\", \"Color\": \"Fair White\"}, \"1000014\": {\"Name\": \"Skincare\", \"Price\": 10, \"Quantity\": 10, \"Company\": \"Forest Essentials\", \"Color\": \"Gold\"}, \"1000015\": {\"Name\": \"Compact Powder\", \"Price\": 590, \"Quantity\": 35, \"Company\": \"Coloressence\", \"Color\": \"Pearl White\"}, \"1000016\": {\"Name\": \" Gold Facial kit\", \"Price\": 2000, \"Quantity\": 1, \"Company\": \"VLCC\", \"Color\": \"Pearl White\"}, \"1000017\": {\"Name\": \"Lipstik\", \"Price\": 1111, \"Quantity\": 100, \"Company\": \"ELLE 18\", \"Color\": \"Pop silk\"}, \"1000018\": {\"Name\": \"Kajal Stick\", \"Price\": 850, \"Quantity\": 45, \"Company\": \"VIVIANA\", \"Color\": \"Dark Red\"}, \"1000019\": {\"Name\": \"Intensive Moisturizing\", \"Price\": 20, \"Quantity\": 20, \"Company\": \"PAC\", \"Color\": \"Milky\"}, \"1000020\": {\"Name\": \"Radiance Cream\", \"Price\": 450, \"Quantity\": 300, \"Company\": \"Lakme\", \"Color\": \"Skin color\"}, \"1000021\": {\"Name\": \"Skin perfect\", \"Price\": 2500, \"Quantity\": 370, \"Company\": \"olreal\", \"Color\": \"POP silky\"}, \"1000022\": {\"Name\": \"Shanglow Plus\", \"Price\": 710, \"Quantity\": 10, \"Company\": \"Maybellinge\", \"Color\": \"Skin color\"}, \"1000023\": {\"Name\": \"Whitamin C face cream\", \"Price\": 599, \"Quantity\": 15, \"Company\": \"Mamaearth\", \"Color\": \"Light Green\"}, \"1000024\": {\"Name\": \"Diamond cellular\", \"Price\": 1020, \"Quantity\": 70, \"Company\": \"Oriflame\", \"Color\": \"Bolg Gold\"}, \"1000025\": {\"Name\": \"Sundarya Rdiance\", \"Price\": 110, \"Quantity\": 500, \"Company\": \"Avon\", \"Color\": \"Blue\"}, \"1000026\": {\"Name\": \"Blue light defence\", \"Price\": 590, \"Quantity\": 300, \"Company\": \"Colorbar\", \"Color\": \"Light DEfence\"}, \"1000027\": {\"Name\": \"Hydra White\", \"Price\": 1300, \"Quantity\": 450, \"Company\": \"Revlon\", \"Color\": \"Silk\"}, \"1000028\": {\"Name\": \"Sebamed\", \"Price\": 5550, \"Quantity\": 450, \"Company\": \"NYX\", \"Color\": \"Black\"}, \"1000029\": {\"Name\": \"Wow\", \"Price\": 100, \"Quantity\": 7, \"Company\": \"Nykaa\", \"Color\": \"Facial\"}, \"1000030\": {\"Name\": \"Glutathione\", \"Price\": 1100, \"Quantity\": 30, \"Company\": \"Wet \", \"Color\": \"Shiny gold\"}, \"10000031\": {\"name\": \"Old Wax\", \"pr\": 10001, \"qn\": 10, \"com\": \"Zara\", \"col\": \"Light green\"}, \"1000032\": {\"name\": \"Natura\", \"pr\": 1600, \"qn\": 10, \"com\": \"Lava\", \"col\": \"Sun color\"}, \"1000033\": {\"name\": \"Mariya\", \"pr\": 2000, \"qn\": 20, \"com\": \"Kaya\", \"col\": \"Silk\"}, \"1000034\": {\"name\": \"Vaseline\", \"pr\": 200, \"qn\": 40, \"com\": \"Ponds\", \"col\": \"White\"}, \"1000035\": {\"name\": \"Old Spice\", \"pr\": 3000, \"qn\": 1, \"com\": \"Colfax\", \"col\": \"Green\"}, \"1000036\": {\"name\": \"Safedi\", \"pr\": 3400, \"qn\": 100, \"com\": \"Patanjali\", \"col\": \"Black\"}, \"1000037\": {\"name\": \"Saundarya\", \"pr\": 380, \"qn\": 27, \"com\": \"Maya\", \"col\": \"Solo White\"}, \"1000038\": {\"name\": \"Facial Kit\", \"pr\": 7500, \"qn\": 54, \"com\": \"Natura\", \"col\": \"Soily\"}, \"1000039\": {\"name\": \"Goree\", \"pr\": 590, \"qn\": 10, \"com\": \"Goree\", \"col\": \"Yellow\"}, \"1000040\": {\"name\": \"Jalousy\", \"pr\": 500, \"qn\": 10, \"com\": \"Maurya\", \"col\": \"Blue\"}}'"
            ]
          },
          "metadata": {},
          "execution_count": 46
        }
      ]
    },
    {
      "cell_type": "code",
      "metadata": {
        "id": "3BmlyTb6i3KX",
        "colab": {
          "base_uri": "https://localhost:8080/"
        },
        "outputId": "3b9dd2f7-31e7-4a67-fa34-e0114cc20c88"
      },
      "source": [
        " type(txt)"
      ],
      "execution_count": null,
      "outputs": [
        {
          "output_type": "execute_result",
          "data": {
            "text/plain": [
              "str"
            ]
          },
          "metadata": {},
          "execution_count": 47
        }
      ]
    },
    {
      "cell_type": "markdown",
      "metadata": {
        "id": "rtayDjpav70j"
      },
      "source": [
        "#**find Kyes and Values**"
      ]
    },
    {
      "cell_type": "code",
      "metadata": {
        "id": "-D0itQdfvXeG"
      },
      "source": [
        "record = json.loads(txt)"
      ],
      "execution_count": null,
      "outputs": []
    },
    {
      "cell_type": "code",
      "metadata": {
        "colab": {
          "base_uri": "https://localhost:8080/"
        },
        "id": "c8izGs5JvfzK",
        "outputId": "82c47d99-7492-4771-ff50-83270fd7af1b"
      },
      "source": [
        "record"
      ],
      "execution_count": null,
      "outputs": [
        {
          "output_type": "execute_result",
          "data": {
            "text/plain": [
              "{'1000001': {'Color': 'White',\n",
              "  'Company': 'Himalaya',\n",
              "  'Name': 'Baby Cream',\n",
              "  'Price': 140,\n",
              "  'Quantity': 30},\n",
              " '1000002': {'Color': 'Light Pink',\n",
              "  'Company': 'Kaya',\n",
              "  'Name': 'Brightning Day Cream',\n",
              "  'Price': 150,\n",
              "  'Quantity': 10},\n",
              " '1000003': {'Color': 'Black',\n",
              "  'Company': 'Shehnaz Husan',\n",
              "  'Name': 'Eyelyner',\n",
              "  'Price': 500,\n",
              "  'Quantity': 5},\n",
              " '10000031': {'col': 'Light green',\n",
              "  'com': 'Zara',\n",
              "  'name': 'Old Wax',\n",
              "  'pr': 10001,\n",
              "  'qn': 10},\n",
              " '1000004': {'Color': 'Bold Red',\n",
              "  'Company': 'Lakme',\n",
              "  'Name': 'Lipstic',\n",
              "  'Price': 750,\n",
              "  'Quantity': 23},\n",
              " '1000005': {'Color': 'Navy Blue',\n",
              "  'Company': 'Lotus',\n",
              "  'Name': 'White Glow',\n",
              "  'Price': 110,\n",
              "  'Quantity': 50},\n",
              " '1000006': {'Color': 'Gold',\n",
              "  'Company': 'Ptanjali',\n",
              "  'Name': 'Anti Wrinkle',\n",
              "  'Price': 1189,\n",
              "  'Quantity': 1},\n",
              " '1000007': {'Color': 'Light Borwn',\n",
              "  'Company': 'VLCC',\n",
              "  'Name': 'Foundation',\n",
              "  'Price': 1100,\n",
              "  'Quantity': 5},\n",
              " '1000008': {'Color': 'White',\n",
              "  'Company': 'Colorssence',\n",
              "  'Name': 'Nailpaint',\n",
              "  'Price': 11,\n",
              "  'Quantity': 24},\n",
              " '1000009': {'Color': 'Black',\n",
              "  'Company': 'Biotique',\n",
              "  'Name': 'Skin Care',\n",
              "  'Price': 220,\n",
              "  'Quantity': 100},\n",
              " '1000010': {'Color': 'Dark Black',\n",
              "  'Company': 'Milani',\n",
              "  'Name': 'Muskara',\n",
              "  'Price': 1110,\n",
              "  'Quantity': 10},\n",
              " '1000011': {'Color': 'Pink',\n",
              "  'Company': 'Blue heaven',\n",
              "  'Name': 'Lipstic',\n",
              "  'Price': 750,\n",
              "  'Quantity': 50},\n",
              " '1000012': {'Color': 'Light pink',\n",
              "  'Company': 'Viviana',\n",
              "  'Name': 'Makeup remover',\n",
              "  'Price': 350,\n",
              "  'Quantity': 30},\n",
              " '1000013': {'Color': 'Fair White',\n",
              "  'Company': 'Patanjali',\n",
              "  'Name': 'Swarna Kanti',\n",
              "  'Price': 590,\n",
              "  'Quantity': 40},\n",
              " '1000014': {'Color': 'Gold',\n",
              "  'Company': 'Forest Essentials',\n",
              "  'Name': 'Skincare',\n",
              "  'Price': 10,\n",
              "  'Quantity': 10},\n",
              " '1000015': {'Color': 'Pearl White',\n",
              "  'Company': 'Coloressence',\n",
              "  'Name': 'Compact Powder',\n",
              "  'Price': 590,\n",
              "  'Quantity': 35},\n",
              " '1000016': {'Color': 'Pearl White',\n",
              "  'Company': 'VLCC',\n",
              "  'Name': ' Gold Facial kit',\n",
              "  'Price': 2000,\n",
              "  'Quantity': 1},\n",
              " '1000017': {'Color': 'Pop silk',\n",
              "  'Company': 'ELLE 18',\n",
              "  'Name': 'Lipstik',\n",
              "  'Price': 1111,\n",
              "  'Quantity': 100},\n",
              " '1000018': {'Color': 'Dark Red',\n",
              "  'Company': 'VIVIANA',\n",
              "  'Name': 'Kajal Stick',\n",
              "  'Price': 850,\n",
              "  'Quantity': 45},\n",
              " '1000019': {'Color': 'Milky',\n",
              "  'Company': 'PAC',\n",
              "  'Name': 'Intensive Moisturizing',\n",
              "  'Price': 20,\n",
              "  'Quantity': 20},\n",
              " '1000020': {'Color': 'Skin color',\n",
              "  'Company': 'Lakme',\n",
              "  'Name': 'Radiance Cream',\n",
              "  'Price': 450,\n",
              "  'Quantity': 300},\n",
              " '1000021': {'Color': 'POP silky',\n",
              "  'Company': 'olreal',\n",
              "  'Name': 'Skin perfect',\n",
              "  'Price': 2500,\n",
              "  'Quantity': 370},\n",
              " '1000022': {'Color': 'Skin color',\n",
              "  'Company': 'Maybellinge',\n",
              "  'Name': 'Shanglow Plus',\n",
              "  'Price': 710,\n",
              "  'Quantity': 10},\n",
              " '1000023': {'Color': 'Light Green',\n",
              "  'Company': 'Mamaearth',\n",
              "  'Name': 'Whitamin C face cream',\n",
              "  'Price': 599,\n",
              "  'Quantity': 15},\n",
              " '1000024': {'Color': 'Bolg Gold',\n",
              "  'Company': 'Oriflame',\n",
              "  'Name': 'Diamond cellular',\n",
              "  'Price': 1020,\n",
              "  'Quantity': 70},\n",
              " '1000025': {'Color': 'Blue',\n",
              "  'Company': 'Avon',\n",
              "  'Name': 'Sundarya Rdiance',\n",
              "  'Price': 110,\n",
              "  'Quantity': 500},\n",
              " '1000026': {'Color': 'Light DEfence',\n",
              "  'Company': 'Colorbar',\n",
              "  'Name': 'Blue light defence',\n",
              "  'Price': 590,\n",
              "  'Quantity': 300},\n",
              " '1000027': {'Color': 'Silk',\n",
              "  'Company': 'Revlon',\n",
              "  'Name': 'Hydra White',\n",
              "  'Price': 1300,\n",
              "  'Quantity': 450},\n",
              " '1000028': {'Color': 'Black',\n",
              "  'Company': 'NYX',\n",
              "  'Name': 'Sebamed',\n",
              "  'Price': 5550,\n",
              "  'Quantity': 450},\n",
              " '1000029': {'Color': 'Facial',\n",
              "  'Company': 'Nykaa',\n",
              "  'Name': 'Wow',\n",
              "  'Price': 100,\n",
              "  'Quantity': 7},\n",
              " '1000030': {'Color': 'Shiny gold',\n",
              "  'Company': 'Wet ',\n",
              "  'Name': 'Glutathione',\n",
              "  'Price': 1100,\n",
              "  'Quantity': 30},\n",
              " '1000032': {'col': 'Sun color',\n",
              "  'com': 'Lava',\n",
              "  'name': 'Natura',\n",
              "  'pr': 1600,\n",
              "  'qn': 10},\n",
              " '1000033': {'col': 'Silk',\n",
              "  'com': 'Kaya',\n",
              "  'name': 'Mariya',\n",
              "  'pr': 2000,\n",
              "  'qn': 20},\n",
              " '1000034': {'col': 'White',\n",
              "  'com': 'Ponds',\n",
              "  'name': 'Vaseline',\n",
              "  'pr': 200,\n",
              "  'qn': 40},\n",
              " '1000035': {'col': 'Green',\n",
              "  'com': 'Colfax',\n",
              "  'name': 'Old Spice',\n",
              "  'pr': 3000,\n",
              "  'qn': 1},\n",
              " '1000036': {'col': 'Black',\n",
              "  'com': 'Patanjali',\n",
              "  'name': 'Safedi',\n",
              "  'pr': 3400,\n",
              "  'qn': 100},\n",
              " '1000037': {'col': 'Solo White',\n",
              "  'com': 'Maya',\n",
              "  'name': 'Saundarya',\n",
              "  'pr': 380,\n",
              "  'qn': 27},\n",
              " '1000038': {'col': 'Soily',\n",
              "  'com': 'Natura',\n",
              "  'name': 'Facial Kit',\n",
              "  'pr': 7500,\n",
              "  'qn': 54},\n",
              " '1000039': {'col': 'Yellow',\n",
              "  'com': 'Goree',\n",
              "  'name': 'Goree',\n",
              "  'pr': 590,\n",
              "  'qn': 10},\n",
              " '1000040': {'col': 'Blue',\n",
              "  'com': 'Maurya',\n",
              "  'name': 'Jalousy',\n",
              "  'pr': 500,\n",
              "  'qn': 10}}"
            ]
          },
          "metadata": {},
          "execution_count": 49
        }
      ]
    },
    {
      "cell_type": "code",
      "metadata": {
        "colab": {
          "base_uri": "https://localhost:8080/"
        },
        "id": "aNiDCsOgr3Ur",
        "outputId": "be84d786-6f64-4553-cfc2-aebb22bb4e9f"
      },
      "source": [
        "record.keys()"
      ],
      "execution_count": null,
      "outputs": [
        {
          "output_type": "execute_result",
          "data": {
            "text/plain": [
              "dict_keys(['1000001', '1000002', '1000003', '1000004', '1000005', '1000006', '1000007', '1000008', '1000009', '1000010', '1000011', '1000012', '1000013', '1000014', '1000015', '1000016', '1000017', '1000018', '1000019', '1000020', '1000021', '1000022', '1000023', '1000024', '1000025', '1000026', '1000027', '1000028', '1000029', '1000030', '10000031', '1000032', '1000033', '1000034', '1000035', '1000036', '1000037', '1000038', '1000039', '1000040'])"
            ]
          },
          "metadata": {},
          "execution_count": 50
        }
      ]
    },
    {
      "cell_type": "code",
      "metadata": {
        "colab": {
          "base_uri": "https://localhost:8080/"
        },
        "id": "z3Ye0o4_sT89",
        "outputId": "08999029-fa10-4db9-b07e-3a64f205bf23"
      },
      "source": [
        "record.values()"
      ],
      "execution_count": null,
      "outputs": [
        {
          "output_type": "execute_result",
          "data": {
            "text/plain": [
              "dict_values([{'Name': 'Baby Cream', 'Price': 140, 'Quantity': 30, 'Company': 'Himalaya', 'Color': 'White'}, {'Name': 'Brightning Day Cream', 'Price': 150, 'Quantity': 10, 'Company': 'Kaya', 'Color': 'Light Pink'}, {'Name': 'Eyelyner', 'Price': 500, 'Quantity': 5, 'Company': 'Shehnaz Husan', 'Color': 'Black'}, {'Name': 'Lipstic', 'Price': 750, 'Quantity': 23, 'Company': 'Lakme', 'Color': 'Bold Red'}, {'Name': 'White Glow', 'Price': 110, 'Quantity': 50, 'Company': 'Lotus', 'Color': 'Navy Blue'}, {'Name': 'Anti Wrinkle', 'Price': 1189, 'Quantity': 1, 'Company': 'Ptanjali', 'Color': 'Gold'}, {'Name': 'Foundation', 'Price': 1100, 'Quantity': 5, 'Company': 'VLCC', 'Color': 'Light Borwn'}, {'Name': 'Nailpaint', 'Price': 11, 'Quantity': 24, 'Company': 'Colorssence', 'Color': 'White'}, {'Name': 'Skin Care', 'Price': 220, 'Quantity': 100, 'Company': 'Biotique', 'Color': 'Black'}, {'Name': 'Muskara', 'Price': 1110, 'Quantity': 10, 'Company': 'Milani', 'Color': 'Dark Black'}, {'Name': 'Lipstic', 'Price': 750, 'Quantity': 50, 'Company': 'Blue heaven', 'Color': 'Pink'}, {'Name': 'Makeup remover', 'Price': 350, 'Quantity': 30, 'Company': 'Viviana', 'Color': 'Light pink'}, {'Name': 'Swarna Kanti', 'Price': 590, 'Quantity': 40, 'Company': 'Patanjali', 'Color': 'Fair White'}, {'Name': 'Skincare', 'Price': 10, 'Quantity': 10, 'Company': 'Forest Essentials', 'Color': 'Gold'}, {'Name': 'Compact Powder', 'Price': 590, 'Quantity': 35, 'Company': 'Coloressence', 'Color': 'Pearl White'}, {'Name': ' Gold Facial kit', 'Price': 2000, 'Quantity': 1, 'Company': 'VLCC', 'Color': 'Pearl White'}, {'Name': 'Lipstik', 'Price': 1111, 'Quantity': 100, 'Company': 'ELLE 18', 'Color': 'Pop silk'}, {'Name': 'Kajal Stick', 'Price': 850, 'Quantity': 45, 'Company': 'VIVIANA', 'Color': 'Dark Red'}, {'Name': 'Intensive Moisturizing', 'Price': 20, 'Quantity': 20, 'Company': 'PAC', 'Color': 'Milky'}, {'Name': 'Radiance Cream', 'Price': 450, 'Quantity': 300, 'Company': 'Lakme', 'Color': 'Skin color'}, {'Name': 'Skin perfect', 'Price': 2500, 'Quantity': 370, 'Company': 'olreal', 'Color': 'POP silky'}, {'Name': 'Shanglow Plus', 'Price': 710, 'Quantity': 10, 'Company': 'Maybellinge', 'Color': 'Skin color'}, {'Name': 'Whitamin C face cream', 'Price': 599, 'Quantity': 15, 'Company': 'Mamaearth', 'Color': 'Light Green'}, {'Name': 'Diamond cellular', 'Price': 1020, 'Quantity': 70, 'Company': 'Oriflame', 'Color': 'Bolg Gold'}, {'Name': 'Sundarya Rdiance', 'Price': 110, 'Quantity': 500, 'Company': 'Avon', 'Color': 'Blue'}, {'Name': 'Blue light defence', 'Price': 590, 'Quantity': 300, 'Company': 'Colorbar', 'Color': 'Light DEfence'}, {'Name': 'Hydra White', 'Price': 1300, 'Quantity': 450, 'Company': 'Revlon', 'Color': 'Silk'}, {'Name': 'Sebamed', 'Price': 5550, 'Quantity': 450, 'Company': 'NYX', 'Color': 'Black'}, {'Name': 'Wow', 'Price': 100, 'Quantity': 7, 'Company': 'Nykaa', 'Color': 'Facial'}, {'Name': 'Glutathione', 'Price': 1100, 'Quantity': 30, 'Company': 'Wet ', 'Color': 'Shiny gold'}, {'name': 'Old Wax', 'pr': 10001, 'qn': 10, 'com': 'Zara', 'col': 'Light green'}, {'name': 'Natura', 'pr': 1600, 'qn': 10, 'com': 'Lava', 'col': 'Sun color'}, {'name': 'Mariya', 'pr': 2000, 'qn': 20, 'com': 'Kaya', 'col': 'Silk'}, {'name': 'Vaseline', 'pr': 200, 'qn': 40, 'com': 'Ponds', 'col': 'White'}, {'name': 'Old Spice', 'pr': 3000, 'qn': 1, 'com': 'Colfax', 'col': 'Green'}, {'name': 'Safedi', 'pr': 3400, 'qn': 100, 'com': 'Patanjali', 'col': 'Black'}, {'name': 'Saundarya', 'pr': 380, 'qn': 27, 'com': 'Maya', 'col': 'Solo White'}, {'name': 'Facial Kit', 'pr': 7500, 'qn': 54, 'com': 'Natura', 'col': 'Soily'}, {'name': 'Goree', 'pr': 590, 'qn': 10, 'com': 'Goree', 'col': 'Yellow'}, {'name': 'Jalousy', 'pr': 500, 'qn': 10, 'com': 'Maurya', 'col': 'Blue'}])"
            ]
          },
          "metadata": {},
          "execution_count": 51
        }
      ]
    },
    {
      "cell_type": "code",
      "metadata": {
        "colab": {
          "base_uri": "https://localhost:8080/"
        },
        "id": "dffg8c29swSL",
        "outputId": "ed735f74-b0dc-4f1e-d5db-98230df2540a"
      },
      "source": [
        "record['1000001']"
      ],
      "execution_count": null,
      "outputs": [
        {
          "output_type": "execute_result",
          "data": {
            "text/plain": [
              "{'Color': 'White',\n",
              " 'Company': 'Himalaya',\n",
              " 'Name': 'Baby Cream',\n",
              " 'Price': 140,\n",
              " 'Quantity': 30}"
            ]
          },
          "metadata": {},
          "execution_count": 52
        }
      ]
    },
    {
      "cell_type": "code",
      "metadata": {
        "colab": {
          "base_uri": "https://localhost:8080/"
        },
        "id": "ncwo0MGPvthR",
        "outputId": "2df59ade-b96e-4119-98a5-1ae4edff16aa"
      },
      "source": [
        "record['1000005']"
      ],
      "execution_count": null,
      "outputs": [
        {
          "output_type": "execute_result",
          "data": {
            "text/plain": [
              "{'Color': 'Navy Blue',\n",
              " 'Company': 'Lotus',\n",
              " 'Name': 'White Glow',\n",
              " 'Price': 110,\n",
              " 'Quantity': 50}"
            ]
          },
          "metadata": {},
          "execution_count": 53
        }
      ]
    },
    {
      "cell_type": "code",
      "metadata": {
        "colab": {
          "base_uri": "https://localhost:8080/"
        },
        "id": "o5lnjuhhwBuC",
        "outputId": "1f52798d-640c-443b-8e3e-eb4ec72b579e"
      },
      "source": [
        "record['1000010']"
      ],
      "execution_count": null,
      "outputs": [
        {
          "output_type": "execute_result",
          "data": {
            "text/plain": [
              "{'Color': 'Dark Black',\n",
              " 'Company': 'Milani',\n",
              " 'Name': 'Muskara',\n",
              " 'Price': 1110,\n",
              " 'Quantity': 10}"
            ]
          },
          "metadata": {},
          "execution_count": 54
        }
      ]
    },
    {
      "cell_type": "code",
      "metadata": {
        "colab": {
          "base_uri": "https://localhost:8080/"
        },
        "id": "39wAH5U5wJQj",
        "outputId": "7d737edb-579f-4969-c4d9-8ce0ea3b84a4"
      },
      "source": [
        "record['1000020']"
      ],
      "execution_count": null,
      "outputs": [
        {
          "output_type": "execute_result",
          "data": {
            "text/plain": [
              "{'Color': 'Skin color',\n",
              " 'Company': 'Lakme',\n",
              " 'Name': 'Radiance Cream',\n",
              " 'Price': 450,\n",
              " 'Quantity': 300}"
            ]
          },
          "metadata": {},
          "execution_count": 55
        }
      ]
    },
    {
      "cell_type": "code",
      "metadata": {
        "colab": {
          "base_uri": "https://localhost:8080/"
        },
        "id": "ZA8CREFhwMoT",
        "outputId": "c7cd7387-d000-401d-a520-922bcdf3650b"
      },
      "source": [
        "record['1000030']"
      ],
      "execution_count": null,
      "outputs": [
        {
          "output_type": "execute_result",
          "data": {
            "text/plain": [
              "{'Color': 'Shiny gold',\n",
              " 'Company': 'Wet ',\n",
              " 'Name': 'Glutathione',\n",
              " 'Price': 1100,\n",
              " 'Quantity': 30}"
            ]
          },
          "metadata": {},
          "execution_count": 56
        }
      ]
    },
    {
      "cell_type": "code",
      "metadata": {
        "colab": {
          "base_uri": "https://localhost:8080/"
        },
        "id": "Bvt0InWaw96n",
        "outputId": "b692a417-8140-4a1f-a3ca-1c2a2078aaf9"
      },
      "source": [
        "record['1000005']['Price']"
      ],
      "execution_count": null,
      "outputs": [
        {
          "output_type": "execute_result",
          "data": {
            "text/plain": [
              "110"
            ]
          },
          "metadata": {},
          "execution_count": 57
        }
      ]
    },
    {
      "cell_type": "code",
      "metadata": {
        "colab": {
          "base_uri": "https://localhost:8080/",
          "height": 35
        },
        "id": "j_tPQS2gxA-i",
        "outputId": "124d0ba5-dddc-4e78-800a-361ca21dc2b5"
      },
      "source": [
        "record['1000010']['Name']"
      ],
      "execution_count": null,
      "outputs": [
        {
          "output_type": "execute_result",
          "data": {
            "application/vnd.google.colaboratory.intrinsic+json": {
              "type": "string"
            },
            "text/plain": [
              "'Muskara'"
            ]
          },
          "metadata": {},
          "execution_count": 58
        }
      ]
    },
    {
      "cell_type": "code",
      "metadata": {
        "colab": {
          "base_uri": "https://localhost:8080/",
          "height": 35
        },
        "id": "1-out29cxIjD",
        "outputId": "18101d86-ccec-4f01-ea08-9aa4b20b99e7"
      },
      "source": [
        "record['1000010']['Color']"
      ],
      "execution_count": null,
      "outputs": [
        {
          "output_type": "execute_result",
          "data": {
            "application/vnd.google.colaboratory.intrinsic+json": {
              "type": "string"
            },
            "text/plain": [
              "'Dark Black'"
            ]
          },
          "metadata": {},
          "execution_count": 59
        }
      ]
    },
    {
      "cell_type": "code",
      "metadata": {
        "colab": {
          "base_uri": "https://localhost:8080/",
          "height": 35
        },
        "id": "0ZCVn7nIxPip",
        "outputId": "e65d47dc-0c0f-4376-d37e-3dfb8bdc8a06"
      },
      "source": [
        "record['1000020']['Company']"
      ],
      "execution_count": null,
      "outputs": [
        {
          "output_type": "execute_result",
          "data": {
            "application/vnd.google.colaboratory.intrinsic+json": {
              "type": "string"
            },
            "text/plain": [
              "'Lakme'"
            ]
          },
          "metadata": {},
          "execution_count": 60
        }
      ]
    },
    {
      "cell_type": "code",
      "metadata": {
        "colab": {
          "base_uri": "https://localhost:8080/"
        },
        "id": "kfKvb6pNxZzv",
        "outputId": "5cba901a-50e5-4b10-d404-a63c3d1cde74"
      },
      "source": [
        "record['1000015']['Quantity']"
      ],
      "execution_count": null,
      "outputs": [
        {
          "output_type": "execute_result",
          "data": {
            "text/plain": [
              "35"
            ]
          },
          "metadata": {},
          "execution_count": 61
        }
      ]
    },
    {
      "cell_type": "markdown",
      "metadata": {
        "id": "66tQbwmIwsg7"
      },
      "source": [
        "#**Check Date and Time**"
      ]
    },
    {
      "cell_type": "code",
      "metadata": {
        "id": "Xj_FKdptS3Gk"
      },
      "source": [
        "import time"
      ],
      "execution_count": null,
      "outputs": []
    },
    {
      "cell_type": "code",
      "metadata": {
        "colab": {
          "base_uri": "https://localhost:8080/",
          "height": 35
        },
        "id": "JG5fHWtVS6kg",
        "outputId": "618939b5-32c3-4022-b3db-428a37a75bcf"
      },
      "source": [
        "time.ctime()"
      ],
      "execution_count": null,
      "outputs": [
        {
          "output_type": "execute_result",
          "data": {
            "application/vnd.google.colaboratory.intrinsic+json": {
              "type": "string"
            },
            "text/plain": [
              "'Mon Sep  6 04:53:46 2021'"
            ]
          },
          "metadata": {},
          "execution_count": 63
        }
      ]
    },
    {
      "cell_type": "markdown",
      "metadata": {
        "id": "f17J-K7kfJEy"
      },
      "source": [
        "#**Purchase inventory**"
      ]
    },
    {
      "cell_type": "code",
      "metadata": {
        "id": "I9a9-iE2iKDH"
      },
      "source": [
        "fd = open(\"record.json\",'r')\n",
        "r = fd.read()\n",
        "fd.close()\n",
        "\n",
        "records = json.loads(r)"
      ],
      "execution_count": null,
      "outputs": []
    },
    {
      "cell_type": "code",
      "metadata": {
        "colab": {
          "base_uri": "https://localhost:8080/"
        },
        "id": "kIIUaNiKfybg",
        "outputId": "b3290561-aac5-4dd3-82b1-90e005429edf"
      },
      "source": [
        "records"
      ],
      "execution_count": null,
      "outputs": [
        {
          "output_type": "execute_result",
          "data": {
            "text/plain": [
              "{'1000001': {'Color': 'White',\n",
              "  'Company': 'Himalaya',\n",
              "  'Name': 'Baby Cream',\n",
              "  'Price': 140,\n",
              "  'Quantity': 30},\n",
              " '1000002': {'Color': 'Light Pink',\n",
              "  'Company': 'Kaya',\n",
              "  'Name': 'Brightning Day Cream',\n",
              "  'Price': 150,\n",
              "  'Quantity': 10},\n",
              " '1000003': {'Color': 'Black',\n",
              "  'Company': 'Shehnaz Husan',\n",
              "  'Name': 'Eyelyner',\n",
              "  'Price': 500,\n",
              "  'Quantity': 5},\n",
              " '10000031': {'col': 'Light green',\n",
              "  'com': 'Zara',\n",
              "  'name': 'Old Wax',\n",
              "  'pr': 10001,\n",
              "  'qn': 10},\n",
              " '1000004': {'Color': 'Bold Red',\n",
              "  'Company': 'Lakme',\n",
              "  'Name': 'Lipstic',\n",
              "  'Price': 750,\n",
              "  'Quantity': 23},\n",
              " '1000005': {'Color': 'Navy Blue',\n",
              "  'Company': 'Lotus',\n",
              "  'Name': 'White Glow',\n",
              "  'Price': 110,\n",
              "  'Quantity': 50},\n",
              " '1000006': {'Color': 'Gold',\n",
              "  'Company': 'Ptanjali',\n",
              "  'Name': 'Anti Wrinkle',\n",
              "  'Price': 1189,\n",
              "  'Quantity': 1},\n",
              " '1000007': {'Color': 'Light Borwn',\n",
              "  'Company': 'VLCC',\n",
              "  'Name': 'Foundation',\n",
              "  'Price': 1100,\n",
              "  'Quantity': 5},\n",
              " '1000008': {'Color': 'White',\n",
              "  'Company': 'Colorssence',\n",
              "  'Name': 'Nailpaint',\n",
              "  'Price': 11,\n",
              "  'Quantity': 24},\n",
              " '1000009': {'Color': 'Black',\n",
              "  'Company': 'Biotique',\n",
              "  'Name': 'Skin Care',\n",
              "  'Price': 220,\n",
              "  'Quantity': 100},\n",
              " '1000010': {'Color': 'Dark Black',\n",
              "  'Company': 'Milani',\n",
              "  'Name': 'Muskara',\n",
              "  'Price': 1110,\n",
              "  'Quantity': 10},\n",
              " '1000011': {'Color': 'Pink',\n",
              "  'Company': 'Blue heaven',\n",
              "  'Name': 'Lipstic',\n",
              "  'Price': 750,\n",
              "  'Quantity': 50},\n",
              " '1000012': {'Color': 'Light pink',\n",
              "  'Company': 'Viviana',\n",
              "  'Name': 'Makeup remover',\n",
              "  'Price': 350,\n",
              "  'Quantity': 30},\n",
              " '1000013': {'Color': 'Fair White',\n",
              "  'Company': 'Patanjali',\n",
              "  'Name': 'Swarna Kanti',\n",
              "  'Price': 590,\n",
              "  'Quantity': 40},\n",
              " '1000014': {'Color': 'Gold',\n",
              "  'Company': 'Forest Essentials',\n",
              "  'Name': 'Skincare',\n",
              "  'Price': 10,\n",
              "  'Quantity': 10},\n",
              " '1000015': {'Color': 'Pearl White',\n",
              "  'Company': 'Coloressence',\n",
              "  'Name': 'Compact Powder',\n",
              "  'Price': 590,\n",
              "  'Quantity': 35},\n",
              " '1000016': {'Color': 'Pearl White',\n",
              "  'Company': 'VLCC',\n",
              "  'Name': ' Gold Facial kit',\n",
              "  'Price': 2000,\n",
              "  'Quantity': 1},\n",
              " '1000017': {'Color': 'Pop silk',\n",
              "  'Company': 'ELLE 18',\n",
              "  'Name': 'Lipstik',\n",
              "  'Price': 1111,\n",
              "  'Quantity': 100},\n",
              " '1000018': {'Color': 'Dark Red',\n",
              "  'Company': 'VIVIANA',\n",
              "  'Name': 'Kajal Stick',\n",
              "  'Price': 850,\n",
              "  'Quantity': 45},\n",
              " '1000019': {'Color': 'Milky',\n",
              "  'Company': 'PAC',\n",
              "  'Name': 'Intensive Moisturizing',\n",
              "  'Price': 20,\n",
              "  'Quantity': 20},\n",
              " '1000020': {'Color': 'Skin color',\n",
              "  'Company': 'Lakme',\n",
              "  'Name': 'Radiance Cream',\n",
              "  'Price': 450,\n",
              "  'Quantity': 300},\n",
              " '1000021': {'Color': 'POP silky',\n",
              "  'Company': 'olreal',\n",
              "  'Name': 'Skin perfect',\n",
              "  'Price': 2500,\n",
              "  'Quantity': 370},\n",
              " '1000022': {'Color': 'Skin color',\n",
              "  'Company': 'Maybellinge',\n",
              "  'Name': 'Shanglow Plus',\n",
              "  'Price': 710,\n",
              "  'Quantity': 10},\n",
              " '1000023': {'Color': 'Light Green',\n",
              "  'Company': 'Mamaearth',\n",
              "  'Name': 'Whitamin C face cream',\n",
              "  'Price': 599,\n",
              "  'Quantity': 15},\n",
              " '1000024': {'Color': 'Bolg Gold',\n",
              "  'Company': 'Oriflame',\n",
              "  'Name': 'Diamond cellular',\n",
              "  'Price': 1020,\n",
              "  'Quantity': 70},\n",
              " '1000025': {'Color': 'Blue',\n",
              "  'Company': 'Avon',\n",
              "  'Name': 'Sundarya Rdiance',\n",
              "  'Price': 110,\n",
              "  'Quantity': 500},\n",
              " '1000026': {'Color': 'Light DEfence',\n",
              "  'Company': 'Colorbar',\n",
              "  'Name': 'Blue light defence',\n",
              "  'Price': 590,\n",
              "  'Quantity': 300},\n",
              " '1000027': {'Color': 'Silk',\n",
              "  'Company': 'Revlon',\n",
              "  'Name': 'Hydra White',\n",
              "  'Price': 1300,\n",
              "  'Quantity': 450},\n",
              " '1000028': {'Color': 'Black',\n",
              "  'Company': 'NYX',\n",
              "  'Name': 'Sebamed',\n",
              "  'Price': 5550,\n",
              "  'Quantity': 450},\n",
              " '1000029': {'Color': 'Facial',\n",
              "  'Company': 'Nykaa',\n",
              "  'Name': 'Wow',\n",
              "  'Price': 100,\n",
              "  'Quantity': 7},\n",
              " '1000030': {'Color': 'Shiny gold',\n",
              "  'Company': 'Wet ',\n",
              "  'Name': 'Glutathione',\n",
              "  'Price': 1100,\n",
              "  'Quantity': 30},\n",
              " '1000032': {'col': 'Sun color',\n",
              "  'com': 'Lava',\n",
              "  'name': 'Natura',\n",
              "  'pr': 1600,\n",
              "  'qn': 10},\n",
              " '1000033': {'col': 'Silk',\n",
              "  'com': 'Kaya',\n",
              "  'name': 'Mariya',\n",
              "  'pr': 2000,\n",
              "  'qn': 20},\n",
              " '1000034': {'col': 'White',\n",
              "  'com': 'Ponds',\n",
              "  'name': 'Vaseline',\n",
              "  'pr': 200,\n",
              "  'qn': 40},\n",
              " '1000035': {'col': 'Green',\n",
              "  'com': 'Colfax',\n",
              "  'name': 'Old Spice',\n",
              "  'pr': 3000,\n",
              "  'qn': 1},\n",
              " '1000036': {'col': 'Black',\n",
              "  'com': 'Patanjali',\n",
              "  'name': 'Safedi',\n",
              "  'pr': 3400,\n",
              "  'qn': 100},\n",
              " '1000037': {'col': 'Solo White',\n",
              "  'com': 'Maya',\n",
              "  'name': 'Saundarya',\n",
              "  'pr': 380,\n",
              "  'qn': 27},\n",
              " '1000038': {'col': 'Soily',\n",
              "  'com': 'Natura',\n",
              "  'name': 'Facial Kit',\n",
              "  'pr': 7500,\n",
              "  'qn': 54},\n",
              " '1000039': {'col': 'Yellow',\n",
              "  'com': 'Goree',\n",
              "  'name': 'Goree',\n",
              "  'pr': 590,\n",
              "  'qn': 10},\n",
              " '1000040': {'col': 'Blue',\n",
              "  'com': 'Maurya',\n",
              "  'name': 'Jalousy',\n",
              "  'pr': 500,\n",
              "  'qn': 10}}"
            ]
          },
          "metadata": {},
          "execution_count": 65
        }
      ]
    },
    {
      "cell_type": "markdown",
      "metadata": {
        "id": "QB1sKOsOYft2"
      },
      "source": [
        "#**Purchase if chice is 1**\n",
        "\n",
        "\n",
        "\n"
      ]
    },
    {
      "cell_type": "code",
      "metadata": {
        "colab": {
          "base_uri": "https://localhost:8080/"
        },
        "id": "2cvySNbleZEz",
        "outputId": "2a9e57a6-9847-4dce-bd87-357554a0cff6"
      },
      "source": [
        "import json\n",
        "import time\n",
        "import datetime\n",
        "\n",
        "a_name=input(\"Please enter your name: \")\n",
        "print(f\"Hello {a_name} ! Welcome to our Shopping Store. Buy Products at Discounted & Cheapest Rate !!\")\n",
        "\n",
        "\n",
        "print(\"********************************************************************************************\")\n",
        "\n",
        "print(f\"--------------------WELCOME {a_name}  TO THE TOY SHOP -------------------------------------\")\n",
        "\n",
        "print(\"*******************************************************************************************\")\n",
        "\n",
        "\n",
        "\n",
        "    \n",
        "def exit():\n",
        "    pass\n",
        "\n",
        "def itemPurchase():\n",
        "    with open (\"record.json\",\"r\") as fd:\n",
        "        r = fd.read()\n",
        "        records = json.loads(r)\n",
        "    print(\"Loading items ... Please Wait !!!\")\n",
        "    time.sleep(3)\n",
        "    print(f\"Items Available at Our Stores are {records} \")\n",
        "    bill = 0\n",
        "    i = 0\n",
        "    num_items = 100\n",
        "    ls_items = []\n",
        "    while(num_items > 0):\n",
        "        print(\"========================================================================================\")\n",
        "        item = input(\"Enter one item that you wish to Purchase: \")\n",
        "        prod_id= item.capitalize()\n",
        "        quan = int(input(\"Enter the quantity of Product: \"))\n",
        "        print(\"Product: \", records[prod_id]['Name'])\n",
        "        print(\"Price: \", records[prod_id]['Price'])\n",
        "        print(\"Comoany\" , records[prod_id]['Company'])\n",
        "        print(\"Color:\" , records[prod_id]['Color'])\n",
        "        print(\"-----------------------------------------------------------------------------------------\")\n",
        "        print(\"Billing Amount: \", records[prod_id]['Price'] * quan)\n",
        "        if(prod_id in records):\n",
        "            bill = bill + records[prod_id]['Price'] * quan\n",
        "            ls_items.append(prod_id)\n",
        "            num_items += 1\n",
        "            i += 1\n",
        "            records[prod_id][\"Quantity\"] = records[prod_id][\"Quantity\"] - quan\n",
        "        else:\n",
        "            print(\"________________________________________________________________________________________\")\n",
        "            print(\"We Dont Have This Item as of Now. \")\n",
        "            print(\"_________________________________________________________________________________________\")\n",
        "        wish = input(\"Do You Wish To enter another item y/n : \")\n",
        "        if(wish == \"y\"):\n",
        "            continue\n",
        "        else:\n",
        "            break\n",
        "\n",
        "\n",
        "    # Discount\n",
        "    if (bill <= 5000):\n",
        "        disc = 5.0\n",
        "        discount = (disc*bill)/100\n",
        "        total=float(bill-discount)\n",
        "    elif (bill >= 5000):\n",
        "        disc = 10.0\n",
        "        discount = (disc*bill)/100\n",
        "        total=float(bill-discount)\n",
        "    \n",
        "    # Bill\n",
        "    print(\"******************************************************************************************\") \n",
        "    print(\"                                                                                           \") \n",
        "    print(\"                        \"+  \"  Love Cosmetics \"                            + \"           \") \n",
        "    \n",
        "    print(\"                                                                                        \")\n",
        "    print(\"******************************************************************************************\")\n",
        "    print(\"Address: Block no.2,Shraddha Mangalam Apartment,\\n2nd Floaar, Near Ganesh Peth Police Station\\nNagpur - 440012\")\n",
        "    print(\"_____________________________________________________________________________________________\") \n",
        "    print('                                                                                         ')\n",
        "    print(f\"Customer Name : {a_name}                         Time & Date of Shopping : {time.ctime()}\")\n",
        "    print(\"______________________________________________________________________________________________\")\n",
        "    time.sleep(2)\n",
        "    print(\"                                                                                          \")\n",
        "    print(f\"                Bill Amount is {bill} for the Toys you have purchased.  \")\n",
        "    print(\"                                                                                         \")\n",
        "    print(f\"            Discount {disc}% discount and Your Payable Amount is: {total}\")\n",
        "    print('                                                                                           ')\n",
        "    print(\"^^^^^^^^^^^^^^^^^^^^^ Pay your Bill on Cash Counter ^^^^^^^^^^^^^^^^^^^^^^^^^^^^^^^^^^^^^^\")\n",
        "    print( \"                                                                                            \")\n",
        "    \n",
        "    \n",
        "\n",
        "print(\"Please Choose from the Below Option : \")\n",
        "\n",
        "print(\"1. Item Purchase : \")\n",
        "print(\"2. Exit : \")\n",
        "\n",
        "choice = int(input(\"Enter Your Choice Here : \"))\n",
        "print(\"OK .. Wait For The Next Step ... \")\n",
        "time.sleep(3)\n",
        "\n",
        "if (choice == 1):    \n",
        "    itemPurchase()\n",
        "\n",
        "elif (choice == 2):\n",
        "    exit()\n",
        "    print(\"^^^^^^^^^^^^^^^^^^^^^^^^^^^^^^^^^^^^^^^^^^^^^^^^^^^^^^^^^^^^^^^^^^^^^^^^^^^^^^^^^^^^^^^^^\")\n",
        "print(\"                  \" + \"THANK YOU FOR SHOPPING WITH US\" +          \"             \"          )\n",
        "print(\"                      \"  +  \"Visit Again \" +         \"                                     \")\n",
        "print(\"^^^^^^^^^^^^^^^^^^^^^^^^^^^^^^^^^^^^^^^^^^^^^^^^^^^^^^^^^^^^^^^^^^^^^^^^^^^^^^^^^^^^^^^^^\")"
      ],
      "execution_count": null,
      "outputs": [
        {
          "output_type": "stream",
          "name": "stdout",
          "text": [
            "Please enter your name: Sashi Nagdive\n",
            "Hello Sashi Nagdive ! Welcome to our Shopping Store. Buy Products at Discounted & Cheapest Rate !!\n",
            "********************************************************************************************\n",
            "--------------------WELCOME Sashi Nagdive  TO THE TOY SHOP -------------------------------------\n",
            "*******************************************************************************************\n",
            "Please Choose from the Below Option : \n",
            "1. Item Purchase : \n",
            "2. Exit : \n",
            "Enter Your Choice Here : 1\n",
            "OK .. Wait For The Next Step ... \n",
            "Loading items ... Please Wait !!!\n",
            "Items Available at Our Stores are {'1000001': {'Name': 'Baby Cream', 'Price': 140, 'Quantity': 30, 'Company': 'Himalaya', 'Color': 'White'}, '1000002': {'Name': 'Brightning Day Cream', 'Price': 150, 'Quantity': 10, 'Company': 'Kaya', 'Color': 'Light Pink'}, '1000003': {'Name': 'Eyelyner', 'Price': 500, 'Quantity': 5, 'Company': 'Shehnaz Husan', 'Color': 'Black'}, '1000004': {'Name': 'Lipstic', 'Price': 750, 'Quantity': 23, 'Company': 'Lakme', 'Color': 'Bold Red'}, '1000005': {'Name': 'White Glow', 'Price': 110, 'Quantity': 50, 'Company': 'Lotus', 'Color': 'Navy Blue'}, '1000006': {'Name': 'Anti Wrinkle', 'Price': 1189, 'Quantity': 1, 'Company': 'Ptanjali', 'Color': 'Gold'}, '1000007': {'Name': 'Foundation', 'Price': 1100, 'Quantity': 5, 'Company': 'VLCC', 'Color': 'Light Borwn'}, '1000008': {'Name': 'Nailpaint', 'Price': 11, 'Quantity': 24, 'Company': 'Colorssence', 'Color': 'White'}, '1000009': {'Name': 'Skin Care', 'Price': 220, 'Quantity': 100, 'Company': 'Biotique', 'Color': 'Black'}, '1000010': {'Name': 'Muskara', 'Price': 1110, 'Quantity': 10, 'Company': 'Milani', 'Color': 'Dark Black'}, '1000011': {'Name': 'Lipstic', 'Price': 750, 'Quantity': 50, 'Company': 'Blue heaven', 'Color': 'Pink'}, '1000012': {'Name': 'Makeup remover', 'Price': 350, 'Quantity': 30, 'Company': 'Viviana', 'Color': 'Light pink'}, '1000013': {'Name': 'Swarna Kanti', 'Price': 590, 'Quantity': 40, 'Company': 'Patanjali', 'Color': 'Fair White'}, '1000014': {'Name': 'Skincare', 'Price': 10, 'Quantity': 10, 'Company': 'Forest Essentials', 'Color': 'Gold'}, '1000015': {'Name': 'Compact Powder', 'Price': 590, 'Quantity': 35, 'Company': 'Coloressence', 'Color': 'Pearl White'}, '1000016': {'Name': ' Gold Facial kit', 'Price': 2000, 'Quantity': 1, 'Company': 'VLCC', 'Color': 'Pearl White'}, '1000017': {'Name': 'Lipstik', 'Price': 1111, 'Quantity': 100, 'Company': 'ELLE 18', 'Color': 'Pop silk'}, '1000018': {'Name': 'Kajal Stick', 'Price': 850, 'Quantity': 45, 'Company': 'VIVIANA', 'Color': 'Dark Red'}, '1000019': {'Name': 'Intensive Moisturizing', 'Price': 20, 'Quantity': 20, 'Company': 'PAC', 'Color': 'Milky'}, '1000020': {'Name': 'Radiance Cream', 'Price': 450, 'Quantity': 300, 'Company': 'Lakme', 'Color': 'Skin color'}, '1000021': {'Name': 'Skin perfect', 'Price': 2500, 'Quantity': 370, 'Company': 'olreal', 'Color': 'POP silky'}, '1000022': {'Name': 'Shanglow Plus', 'Price': 710, 'Quantity': 10, 'Company': 'Maybellinge', 'Color': 'Skin color'}, '1000023': {'Name': 'Whitamin C face cream', 'Price': 599, 'Quantity': 15, 'Company': 'Mamaearth', 'Color': 'Light Green'}, '1000024': {'Name': 'Diamond cellular', 'Price': 1020, 'Quantity': 70, 'Company': 'Oriflame', 'Color': 'Bolg Gold'}, '1000025': {'Name': 'Sundarya Rdiance', 'Price': 110, 'Quantity': 500, 'Company': 'Avon', 'Color': 'Blue'}, '1000026': {'Name': 'Blue light defence', 'Price': 590, 'Quantity': 300, 'Company': 'Colorbar', 'Color': 'Light DEfence'}, '1000027': {'Name': 'Hydra White', 'Price': 1300, 'Quantity': 450, 'Company': 'Revlon', 'Color': 'Silk'}, '1000028': {'Name': 'Sebamed', 'Price': 5550, 'Quantity': 450, 'Company': 'NYX', 'Color': 'Black'}, '1000029': {'Name': 'Wow', 'Price': 100, 'Quantity': 7, 'Company': 'Nykaa', 'Color': 'Facial'}, '1000030': {'Name': 'Glutathione', 'Price': 1100, 'Quantity': 30, 'Company': 'Wet ', 'Color': 'Shiny gold'}, '10000031': {'name': 'Old Wax', 'pr': 10001, 'qn': 10, 'com': 'Zara', 'col': 'Light green'}, '1000032': {'name': 'Natura', 'pr': 1600, 'qn': 10, 'com': 'Lava', 'col': 'Sun color'}, '1000033': {'name': 'Mariya', 'pr': 2000, 'qn': 20, 'com': 'Kaya', 'col': 'Silk'}, '1000034': {'name': 'Vaseline', 'pr': 200, 'qn': 40, 'com': 'Ponds', 'col': 'White'}, '1000035': {'name': 'Old Spice', 'pr': 3000, 'qn': 1, 'com': 'Colfax', 'col': 'Green'}, '1000036': {'name': 'Safedi', 'pr': 3400, 'qn': 100, 'com': 'Patanjali', 'col': 'Black'}, '1000037': {'name': 'Saundarya', 'pr': 380, 'qn': 27, 'com': 'Maya', 'col': 'Solo White'}, '1000038': {'name': 'Facial Kit', 'pr': 7500, 'qn': 54, 'com': 'Natura', 'col': 'Soily'}, '1000039': {'name': 'Goree', 'pr': 590, 'qn': 10, 'com': 'Goree', 'col': 'Yellow'}, '1000040': {'name': 'Jalousy', 'pr': 500, 'qn': 10, 'com': 'Maurya', 'col': 'Blue'}} \n",
            "========================================================================================\n",
            "Enter one item that you wish to Purchase: 1000001\n",
            "Enter the quantity of Product: 10\n",
            "Product:  Baby Cream\n",
            "Price:  140\n",
            "Comoany Himalaya\n",
            "Color: White\n",
            "-----------------------------------------------------------------------------------------\n",
            "Billing Amount:  1400\n",
            "Do You Wish To enter another item y/n : y\n",
            "========================================================================================\n",
            "Enter one item that you wish to Purchase: 1000005\n",
            "Enter the quantity of Product: 40\n",
            "Product:  White Glow\n",
            "Price:  110\n",
            "Comoany Lotus\n",
            "Color: Navy Blue\n",
            "-----------------------------------------------------------------------------------------\n",
            "Billing Amount:  4400\n",
            "Do You Wish To enter another item y/n : y\n",
            "========================================================================================\n",
            "Enter one item that you wish to Purchase: 1000010\n",
            "Enter the quantity of Product: 25\n",
            "Product:  Muskara\n",
            "Price:  1110\n",
            "Comoany Milani\n",
            "Color: Dark Black\n",
            "-----------------------------------------------------------------------------------------\n",
            "Billing Amount:  27750\n",
            "Do You Wish To enter another item y/n : y\n",
            "========================================================================================\n",
            "Enter one item that you wish to Purchase: 1000015\n",
            "Enter the quantity of Product: 10\n",
            "Product:  Compact Powder\n",
            "Price:  590\n",
            "Comoany Coloressence\n",
            "Color: Pearl White\n",
            "-----------------------------------------------------------------------------------------\n",
            "Billing Amount:  5900\n",
            "Do You Wish To enter another item y/n : y\n",
            "========================================================================================\n",
            "Enter one item that you wish to Purchase: 1000020\n",
            "Enter the quantity of Product: 100\n",
            "Product:  Radiance Cream\n",
            "Price:  450\n",
            "Comoany Lakme\n",
            "Color: Skin color\n",
            "-----------------------------------------------------------------------------------------\n",
            "Billing Amount:  45000\n",
            "Do You Wish To enter another item y/n : n\n",
            "******************************************************************************************\n",
            "                                                                                           \n",
            "                          Love Cosmetics            \n",
            "                                                                                        \n",
            "******************************************************************************************\n",
            "Address: Block no.2,Shraddha Mangalam Apartment,\n",
            "2nd Floaar, Near Ganesh Peth Police Station\n",
            "Nagpur - 440012\n",
            "_____________________________________________________________________________________________\n",
            "                                                                                         \n",
            "Customer Name : Sashi Nagdive                         Time & Date of Shopping : Mon Sep  6 04:57:31 2021\n",
            "______________________________________________________________________________________________\n",
            "                                                                                          \n",
            "                Bill Amount is 84450 for the Toys you have purchased.  \n",
            "                                                                                         \n",
            "            Discount 10.0% discount and Your Payable Amount is: 76005.0\n",
            "                                                                                           \n",
            "^^^^^^^^^^^^^^^^^^^^^ Pay your Bill on Cash Counter ^^^^^^^^^^^^^^^^^^^^^^^^^^^^^^^^^^^^^^\n",
            "                                                                                            \n",
            "                  THANK YOU FOR SHOPPING WITH US             \n",
            "                      Visit Again                                      \n",
            "^^^^^^^^^^^^^^^^^^^^^^^^^^^^^^^^^^^^^^^^^^^^^^^^^^^^^^^^^^^^^^^^^^^^^^^^^^^^^^^^^^^^^^^^^\n"
          ]
        }
      ]
    },
    {
      "cell_type": "markdown",
      "metadata": {
        "id": "-XTfqtxOY4a2"
      },
      "source": [
        "#**If choice is 2**"
      ]
    },
    {
      "cell_type": "code",
      "metadata": {
        "colab": {
          "base_uri": "https://localhost:8080/"
        },
        "id": "jvTYuowIYO52",
        "outputId": "536d76af-6a0f-4f0e-8dff-568763825db4"
      },
      "source": [
        "import json\n",
        "import time\n",
        "import datetime\n",
        "\n",
        "a_name=input(\"Please enter your name: \")\n",
        "print(f\"Hello {a_name} ! Welcome to our Shopping Store. Buy Products at Discounted & Cheapest Rate !!\")\n",
        "\n",
        "\n",
        "print(\"********************************************************************************************\")\n",
        "\n",
        "print(f\"--------------------WELCOME {a_name}  TO THE TOY SHOP -------------------------------------\")\n",
        "\n",
        "print(\"*******************************************************************************************\")\n",
        "\n",
        "\n",
        "\n",
        "    \n",
        "def exit():\n",
        "    pass\n",
        "\n",
        "def itemPurchase():\n",
        "    with open (\"record.json\",\"r\") as fd:\n",
        "        r = fd.read()\n",
        "        records = json.loads(r)\n",
        "    print(\"Loading items ... Please Wait !!!\")\n",
        "    time.sleep(3)\n",
        "    print(f\"Items Available at Our Stores are {records} \")\n",
        "    bill = 0\n",
        "    i = 0\n",
        "    num_items = 100\n",
        "    ls_items = []\n",
        "    while(num_items > 0):\n",
        "        print(\"========================================================================================\")\n",
        "        item = input(\"Enter one item that you wish to Purchase: \")\n",
        "        prod_id= item.capitalize()\n",
        "        quan = int(input(\"Enter the quantity of Product: \"))\n",
        "        print(\"Product: \", records[prod_id]['Name'])\n",
        "        print(\"Price: \", records[prod_id]['Price'])\n",
        "        print(\"Comoany\" , records[prod_id]['Company'])\n",
        "        print(\"Color:\" , records[prod_id]['Color'])\n",
        "        print(\"-----------------------------------------------------------------------------------------\")\n",
        "        print(\"Billing Amount: \", records[prod_id]['Price'] * quan)\n",
        "        if(prod_id in records):\n",
        "            bill = bill + records[prod_id]['Price'] * quan\n",
        "            ls_items.append(prod_id)\n",
        "            num_items += 1\n",
        "            i += 1\n",
        "            records[prod_id][\"Quantity\"] = records[prod_id][\"Quantity\"] - quan\n",
        "        else:\n",
        "            print(\"________________________________________________________________________________________\")\n",
        "            print(\"We Dont Have This Item as of Now. \")\n",
        "            print(\"_________________________________________________________________________________________\")\n",
        "        wish = input(\"Do You Wish To enter another item y/n : \")\n",
        "        if(wish == \"y\"):\n",
        "            continue\n",
        "        else:\n",
        "            break\n",
        "\n",
        "\n",
        "    # Discount\n",
        "    if (bill <= 5000):\n",
        "        disc = 5.0\n",
        "        discount = (disc*bill)/100\n",
        "        total=float(bill-discount)\n",
        "    elif (bill >= 5000):\n",
        "        disc = 10.0\n",
        "        discount = (disc*bill)/100\n",
        "        total=float(bill-discount)\n",
        "    \n",
        "    # Bill\n",
        "    print(\"******************************************************************************************\") \n",
        "    print(\"                                                                                           \") \n",
        "    print(\"                        \"+  \"  Love Cosmetics \"                            + \"           \") \n",
        "    \n",
        "    print(\"                                                                                        \")\n",
        "    print(\"******************************************************************************************\")\n",
        "    print(\"Address: Block no.2,Shraddha Mangalam Apartment,\\n2nd Floaar, Near Ganesh Peth Police Station\\nNagpur - 440012\")\n",
        "    print(\"_____________________________________________________________________________________________\") \n",
        "    print('                                                                                         ')\n",
        "    print(f\"Customer Name : {a_name}                         Time & Date of Shopping : {time.ctime()}\")\n",
        "    print(\"______________________________________________________________________________________________\")\n",
        "    time.sleep(2)\n",
        "    print(\"                                                                                          \")\n",
        "    print(f\"                Bill Amount is {bill} for the Toys you have purchased.  \")\n",
        "    print(\"                                                                                         \")\n",
        "    print(f\"            Discount {disc}% discount and Your Payable Amount is: {total}\")\n",
        "    print('                                                                                           ')\n",
        "    print(\"^^^^^^^^^^^^^^^^^^^^^ Pay your Bill on Cash Counter ^^^^^^^^^^^^^^^^^^^^^^^^^^^^^^^^^^^^^^\")\n",
        "    print( \"                                                                                            \")\n",
        "    \n",
        "    \n",
        "\n",
        "print(\"Please Choose from the Below Option : \")\n",
        "\n",
        "print(\"1. Item Purchase : \")\n",
        "print(\"2. Exit : \")\n",
        "\n",
        "choice = int(input(\"Enter Your Choice Here : \"))\n",
        "print(\"OK .. Wait For The Next Step ... \")\n",
        "time.sleep(3)\n",
        "\n",
        "if (choice == 1):    \n",
        "    itemPurchase()\n",
        "\n",
        "elif (choice == 2):\n",
        "    exit()\n",
        "    print(\"^^^^^^^^^^^^^^^^^^^^^^^^^^^^^^^^^^^^^^^^^^^^^^^^^^^^^^^^^^^^^^^^^^^^^^^^^^^^^^^^^^^^^^^^^\")\n",
        "print(\"                  \" + \"THANK YOU FOR SHOPPING WITH US\" +          \"             \"          )\n",
        "print(\"                      \"  +  \"Visit Again \" +         \"                                     \")\n",
        "print(\"^^^^^^^^^^^^^^^^^^^^^^^^^^^^^^^^^^^^^^^^^^^^^^^^^^^^^^^^^^^^^^^^^^^^^^^^^^^^^^^^^^^^^^^^^\")"
      ],
      "execution_count": null,
      "outputs": [
        {
          "output_type": "stream",
          "name": "stdout",
          "text": [
            "Please enter your name: Manju Ghatode\n",
            "Hello Manju Ghatode ! Welcome to our Shopping Store. Buy Products at Discounted & Cheapest Rate !!\n",
            "********************************************************************************************\n",
            "--------------------WELCOME Manju Ghatode  TO THE TOY SHOP -------------------------------------\n",
            "*******************************************************************************************\n",
            "Please Choose from the Below Option : \n",
            "1. Item Purchase : \n",
            "2. Exit : \n",
            "Enter Your Choice Here : 2\n",
            "OK .. Wait For The Next Step ... \n",
            "^^^^^^^^^^^^^^^^^^^^^^^^^^^^^^^^^^^^^^^^^^^^^^^^^^^^^^^^^^^^^^^^^^^^^^^^^^^^^^^^^^^^^^^^^\n",
            "                  THANK YOU FOR SHOPPING WITH US             \n",
            "                      Visit Again                                      \n",
            "^^^^^^^^^^^^^^^^^^^^^^^^^^^^^^^^^^^^^^^^^^^^^^^^^^^^^^^^^^^^^^^^^^^^^^^^^^^^^^^^^^^^^^^^^\n"
          ]
        }
      ]
    },
    {
      "cell_type": "markdown",
      "metadata": {
        "id": "rO_lxuJSfcFp"
      },
      "source": [
        "#**Update Inventary After purchase**"
      ]
    },
    {
      "cell_type": "code",
      "metadata": {
        "id": "3Xlokz-hfGJa"
      },
      "source": [
        "js = json.dumps(records)\n",
        "\n",
        "fd = open(\"records.json\",\"w\")\n",
        "fd.write(js)\n",
        "fd.close()"
      ],
      "execution_count": null,
      "outputs": []
    },
    {
      "cell_type": "code",
      "metadata": {
        "colab": {
          "base_uri": "https://localhost:8080/",
          "height": 482
        },
        "id": "RuJY7jpcfmnA",
        "outputId": "67497d0c-c43b-4587-ac51-4bd72f1f8d22"
      },
      "source": [
        "js"
      ],
      "execution_count": null,
      "outputs": [
        {
          "output_type": "execute_result",
          "data": {
            "application/vnd.google.colaboratory.intrinsic+json": {
              "type": "string"
            },
            "text/plain": [
              "'{\"1000001\": {\"Name\": \"Baby Cream\", \"Price\": 140, \"Quantity\": 30, \"Company\": \"Himalaya\", \"Color\": \"White\"}, \"1000002\": {\"Name\": \"Brightning Day Cream\", \"Price\": 150, \"Quantity\": 10, \"Company\": \"Kaya\", \"Color\": \"Light Pink\"}, \"1000003\": {\"Name\": \"Eyelyner\", \"Price\": 500, \"Quantity\": 5, \"Company\": \"Shehnaz Husan\", \"Color\": \"Black\"}, \"1000004\": {\"Name\": \"Lipstic\", \"Price\": 750, \"Quantity\": 23, \"Company\": \"Lakme\", \"Color\": \"Bold Red\"}, \"1000005\": {\"Name\": \"White Glow\", \"Price\": 110, \"Quantity\": 50, \"Company\": \"Lotus\", \"Color\": \"Navy Blue\"}, \"1000006\": {\"Name\": \"Anti Wrinkle\", \"Price\": 1189, \"Quantity\": 1, \"Company\": \"Ptanjali\", \"Color\": \"Gold\"}, \"1000007\": {\"Name\": \"Foundation\", \"Price\": 1100, \"Quantity\": 5, \"Company\": \"VLCC\", \"Color\": \"Light Borwn\"}, \"1000008\": {\"Name\": \"Nailpaint\", \"Price\": 11, \"Quantity\": 24, \"Company\": \"Colorssence\", \"Color\": \"White\"}, \"1000009\": {\"Name\": \"Skin Care\", \"Price\": 220, \"Quantity\": 100, \"Company\": \"Biotique\", \"Color\": \"Black\"}, \"1000010\": {\"Name\": \"Muskara\", \"Price\": 1110, \"Quantity\": 10, \"Company\": \"Milani\", \"Color\": \"Dark Black\"}, \"1000011\": {\"Name\": \"Lipstic\", \"Price\": 750, \"Quantity\": 50, \"Company\": \"Blue heaven\", \"Color\": \"Pink\"}, \"1000012\": {\"Name\": \"Makeup remover\", \"Price\": 350, \"Quantity\": 30, \"Company\": \"Viviana\", \"Color\": \"Light pink\"}, \"1000013\": {\"Name\": \"Swarna Kanti\", \"Price\": 590, \"Quantity\": 40, \"Company\": \"Patanjali\", \"Color\": \"Fair White\"}, \"1000014\": {\"Name\": \"Skincare\", \"Price\": 10, \"Quantity\": 10, \"Company\": \"Forest Essentials\", \"Color\": \"Gold\"}, \"1000015\": {\"Name\": \"Compact Powder\", \"Price\": 590, \"Quantity\": 35, \"Company\": \"Coloressence\", \"Color\": \"Pearl White\"}, \"1000016\": {\"Name\": \" Gold Facial kit\", \"Price\": 2000, \"Quantity\": 1, \"Company\": \"VLCC\", \"Color\": \"Pearl White\"}, \"1000017\": {\"Name\": \"Lipstik\", \"Price\": 1111, \"Quantity\": 100, \"Company\": \"ELLE 18\", \"Color\": \"Pop silk\"}, \"1000018\": {\"Name\": \"Kajal Stick\", \"Price\": 850, \"Quantity\": 45, \"Company\": \"VIVIANA\", \"Color\": \"Dark Red\"}, \"1000019\": {\"Name\": \"Intensive Moisturizing\", \"Price\": 20, \"Quantity\": 20, \"Company\": \"PAC\", \"Color\": \"Milky\"}, \"1000020\": {\"Name\": \"Radiance Cream\", \"Price\": 450, \"Quantity\": 300, \"Company\": \"Lakme\", \"Color\": \"Skin color\"}, \"1000021\": {\"Name\": \"Skin perfect\", \"Price\": 2500, \"Quantity\": 370, \"Company\": \"olreal\", \"Color\": \"POP silky\"}, \"1000022\": {\"Name\": \"Shanglow Plus\", \"Price\": 710, \"Quantity\": 10, \"Company\": \"Maybellinge\", \"Color\": \"Skin color\"}, \"1000023\": {\"Name\": \"Whitamin C face cream\", \"Price\": 599, \"Quantity\": 15, \"Company\": \"Mamaearth\", \"Color\": \"Light Green\"}, \"1000024\": {\"Name\": \"Diamond cellular\", \"Price\": 1020, \"Quantity\": 70, \"Company\": \"Oriflame\", \"Color\": \"Bolg Gold\"}, \"1000025\": {\"Name\": \"Sundarya Rdiance\", \"Price\": 110, \"Quantity\": 500, \"Company\": \"Avon\", \"Color\": \"Blue\"}, \"1000026\": {\"Name\": \"Blue light defence\", \"Price\": 590, \"Quantity\": 300, \"Company\": \"Colorbar\", \"Color\": \"Light DEfence\"}, \"1000027\": {\"Name\": \"Hydra White\", \"Price\": 1300, \"Quantity\": 450, \"Company\": \"Revlon\", \"Color\": \"Silk\"}, \"1000028\": {\"Name\": \"Sebamed\", \"Price\": 5550, \"Quantity\": 450, \"Company\": \"NYX\", \"Color\": \"Black\"}, \"1000029\": {\"Name\": \"Wow\", \"Price\": 100, \"Quantity\": 7, \"Company\": \"Nykaa\", \"Color\": \"Facial\"}, \"1000030\": {\"Name\": \"Glutathione\", \"Price\": 1100, \"Quantity\": 30, \"Company\": \"Wet \", \"Color\": \"Shiny gold\"}, \"10000031\": {\"name\": \"Old Wax\", \"pr\": 10001, \"qn\": 10, \"com\": \"Zara\", \"col\": \"Light green\"}, \"1000032\": {\"name\": \"Natura\", \"pr\": 1600, \"qn\": 10, \"com\": \"Lava\", \"col\": \"Sun color\"}, \"1000033\": {\"name\": \"Mariya\", \"pr\": 2000, \"qn\": 20, \"com\": \"Kaya\", \"col\": \"Silk\"}, \"1000034\": {\"name\": \"Vaseline\", \"pr\": 200, \"qn\": 40, \"com\": \"Ponds\", \"col\": \"White\"}, \"1000035\": {\"name\": \"Old Spice\", \"pr\": 3000, \"qn\": 1, \"com\": \"Colfax\", \"col\": \"Green\"}, \"1000036\": {\"name\": \"Safedi\", \"pr\": 3400, \"qn\": 100, \"com\": \"Patanjali\", \"col\": \"Black\"}, \"1000037\": {\"name\": \"Saundarya\", \"pr\": 380, \"qn\": 27, \"com\": \"Maya\", \"col\": \"Solo White\"}, \"1000038\": {\"name\": \"Facial Kit\", \"pr\": 7500, \"qn\": 54, \"com\": \"Natura\", \"col\": \"Soily\"}, \"1000039\": {\"name\": \"Goree\", \"pr\": 590, \"qn\": 10, \"com\": \"Goree\", \"col\": \"Yellow\"}, \"1000040\": {\"name\": \"Jalousy\", \"pr\": 500, \"qn\": 10, \"com\": \"Maurya\", \"col\": \"Blue\"}}'"
            ]
          },
          "metadata": {},
          "execution_count": 72
        }
      ]
    },
    {
      "cell_type": "markdown",
      "metadata": {
        "id": "14jWlBdKg5_R"
      },
      "source": [
        "#**Purchase**"
      ]
    },
    {
      "cell_type": "code",
      "metadata": {
        "id": "xlVmzlbliw2i"
      },
      "source": [
        "import json "
      ],
      "execution_count": null,
      "outputs": []
    },
    {
      "cell_type": "code",
      "metadata": {
        "id": "DTswioC2i9yT"
      },
      "source": [
        "fd = open(\"record.json\", \"r\")\n",
        "r = fd.read()\n",
        "fd.close()\n",
        "records == json.loads(r)"
      ],
      "execution_count": null,
      "outputs": []
    },
    {
      "cell_type": "code",
      "metadata": {
        "colab": {
          "base_uri": "https://localhost:8080/"
        },
        "id": "rme_c6_3jF24",
        "outputId": "9bdc5be3-2b7e-40b6-f149-aef1582ccd20"
      },
      "source": [
        "records"
      ],
      "execution_count": null,
      "outputs": [
        {
          "output_type": "execute_result",
          "data": {
            "text/plain": [
              "{'1000001': {'Color': 'White',\n",
              "  'Company': 'Himalaya',\n",
              "  'Name': 'Baby Cream',\n",
              "  'Price': 140,\n",
              "  'Quantity': 30},\n",
              " '1000002': {'Color': 'Light Pink',\n",
              "  'Company': 'Kaya',\n",
              "  'Name': 'Brightning Day Cream',\n",
              "  'Price': 150,\n",
              "  'Quantity': 10},\n",
              " '1000003': {'Color': 'Black',\n",
              "  'Company': 'Shehnaz Husan',\n",
              "  'Name': 'Eyelyner',\n",
              "  'Price': 500,\n",
              "  'Quantity': 5},\n",
              " '10000031': {'col': 'Light green',\n",
              "  'com': 'Zara',\n",
              "  'name': 'Old Wax',\n",
              "  'pr': 10001,\n",
              "  'qn': 10},\n",
              " '1000004': {'Color': 'Bold Red',\n",
              "  'Company': 'Lakme',\n",
              "  'Name': 'Lipstic',\n",
              "  'Price': 750,\n",
              "  'Quantity': 23},\n",
              " '1000005': {'Color': 'Navy Blue',\n",
              "  'Company': 'Lotus',\n",
              "  'Name': 'White Glow',\n",
              "  'Price': 110,\n",
              "  'Quantity': 50},\n",
              " '1000006': {'Color': 'Gold',\n",
              "  'Company': 'Ptanjali',\n",
              "  'Name': 'Anti Wrinkle',\n",
              "  'Price': 1189,\n",
              "  'Quantity': 1},\n",
              " '1000007': {'Color': 'Light Borwn',\n",
              "  'Company': 'VLCC',\n",
              "  'Name': 'Foundation',\n",
              "  'Price': 1100,\n",
              "  'Quantity': 5},\n",
              " '1000008': {'Color': 'White',\n",
              "  'Company': 'Colorssence',\n",
              "  'Name': 'Nailpaint',\n",
              "  'Price': 11,\n",
              "  'Quantity': 24},\n",
              " '1000009': {'Color': 'Black',\n",
              "  'Company': 'Biotique',\n",
              "  'Name': 'Skin Care',\n",
              "  'Price': 220,\n",
              "  'Quantity': 100},\n",
              " '1000010': {'Color': 'Dark Black',\n",
              "  'Company': 'Milani',\n",
              "  'Name': 'Muskara',\n",
              "  'Price': 1110,\n",
              "  'Quantity': -20},\n",
              " '1000011': {'Color': 'Pink',\n",
              "  'Company': 'Blue heaven',\n",
              "  'Name': 'Lipstic',\n",
              "  'Price': 750,\n",
              "  'Quantity': 50},\n",
              " '1000012': {'Color': 'Light pink',\n",
              "  'Company': 'Viviana',\n",
              "  'Name': 'Makeup remover',\n",
              "  'Price': 350,\n",
              "  'Quantity': 30},\n",
              " '1000013': {'Color': 'Fair White',\n",
              "  'Company': 'Patanjali',\n",
              "  'Name': 'Swarna Kanti',\n",
              "  'Price': 590,\n",
              "  'Quantity': 40},\n",
              " '1000014': {'Color': 'Gold',\n",
              "  'Company': 'Forest Essentials',\n",
              "  'Name': 'Skincare',\n",
              "  'Price': 10,\n",
              "  'Quantity': 10},\n",
              " '1000015': {'Color': 'Pearl White',\n",
              "  'Company': 'Coloressence',\n",
              "  'Name': 'Compact Powder',\n",
              "  'Price': 590,\n",
              "  'Quantity': 35},\n",
              " '1000016': {'Color': 'Pearl White',\n",
              "  'Company': 'VLCC',\n",
              "  'Name': ' Gold Facial kit',\n",
              "  'Price': 2000,\n",
              "  'Quantity': 1},\n",
              " '1000017': {'Color': 'Pop silk',\n",
              "  'Company': 'ELLE 18',\n",
              "  'Name': 'Lipstik',\n",
              "  'Price': 1111,\n",
              "  'Quantity': 100},\n",
              " '1000018': {'Color': 'Dark Red',\n",
              "  'Company': 'VIVIANA',\n",
              "  'Name': 'Kajal Stick',\n",
              "  'Price': 850,\n",
              "  'Quantity': 45},\n",
              " '1000019': {'Color': 'Milky',\n",
              "  'Company': 'PAC',\n",
              "  'Name': 'Intensive Moisturizing',\n",
              "  'Price': 20,\n",
              "  'Quantity': 20},\n",
              " '1000020': {'Color': 'Skin color',\n",
              "  'Company': 'Lakme',\n",
              "  'Name': 'Radiance Cream',\n",
              "  'Price': 450,\n",
              "  'Quantity': 300},\n",
              " '1000021': {'Color': 'POP silky',\n",
              "  'Company': 'olreal',\n",
              "  'Name': 'Skin perfect',\n",
              "  'Price': 2500,\n",
              "  'Quantity': 370},\n",
              " '1000022': {'Color': 'Skin color',\n",
              "  'Company': 'Maybellinge',\n",
              "  'Name': 'Shanglow Plus',\n",
              "  'Price': 710,\n",
              "  'Quantity': 10},\n",
              " '1000023': {'Color': 'Light Green',\n",
              "  'Company': 'Mamaearth',\n",
              "  'Name': 'Whitamin C face cream',\n",
              "  'Price': 599,\n",
              "  'Quantity': 15},\n",
              " '1000024': {'Color': 'Bolg Gold',\n",
              "  'Company': 'Oriflame',\n",
              "  'Name': 'Diamond cellular',\n",
              "  'Price': 1020,\n",
              "  'Quantity': 70},\n",
              " '1000025': {'Color': 'Blue',\n",
              "  'Company': 'Avon',\n",
              "  'Name': 'Sundarya Rdiance',\n",
              "  'Price': 110,\n",
              "  'Quantity': 500},\n",
              " '1000026': {'Color': 'Light DEfence',\n",
              "  'Company': 'Colorbar',\n",
              "  'Name': 'Blue light defence',\n",
              "  'Price': 590,\n",
              "  'Quantity': 300},\n",
              " '1000027': {'Color': 'Silk',\n",
              "  'Company': 'Revlon',\n",
              "  'Name': 'Hydra White',\n",
              "  'Price': 1300,\n",
              "  'Quantity': 450},\n",
              " '1000028': {'Color': 'Black',\n",
              "  'Company': 'NYX',\n",
              "  'Name': 'Sebamed',\n",
              "  'Price': 5550,\n",
              "  'Quantity': 450},\n",
              " '1000029': {'Color': 'Facial',\n",
              "  'Company': 'Nykaa',\n",
              "  'Name': 'Wow',\n",
              "  'Price': 100,\n",
              "  'Quantity': 7},\n",
              " '1000030': {'Color': 'Shiny gold',\n",
              "  'Company': 'Wet ',\n",
              "  'Name': 'Glutathione',\n",
              "  'Price': 1100,\n",
              "  'Quantity': 30},\n",
              " '1000032': {'col': 'Sun color',\n",
              "  'com': 'Lava',\n",
              "  'name': 'Natura',\n",
              "  'pr': 1600,\n",
              "  'qn': 10},\n",
              " '1000033': {'col': 'Silk',\n",
              "  'com': 'Kaya',\n",
              "  'name': 'Mariya',\n",
              "  'pr': 2000,\n",
              "  'qn': 20},\n",
              " '1000034': {'col': 'White',\n",
              "  'com': 'Ponds',\n",
              "  'name': 'Vaseline',\n",
              "  'pr': 200,\n",
              "  'qn': 40},\n",
              " '1000035': {'col': 'Green',\n",
              "  'com': 'Colfax',\n",
              "  'name': 'Old Spice',\n",
              "  'pr': 3000,\n",
              "  'qn': 1},\n",
              " '1000036': {'col': 'Black',\n",
              "  'com': 'Patanjali',\n",
              "  'name': 'Safedi',\n",
              "  'pr': 3400,\n",
              "  'qn': 100},\n",
              " '1000037': {'col': 'Solo White',\n",
              "  'com': 'Maya',\n",
              "  'name': 'Saundarya',\n",
              "  'pr': 380,\n",
              "  'qn': 27},\n",
              " '1000038': {'col': 'Soily',\n",
              "  'com': 'Natura',\n",
              "  'name': 'Facial Kit',\n",
              "  'pr': 7500,\n",
              "  'qn': 54},\n",
              " '1000039': {'col': 'Yellow',\n",
              "  'com': 'Goree',\n",
              "  'name': 'Goree',\n",
              "  'pr': 590,\n",
              "  'qn': 10},\n",
              " '1000040': {'col': 'Blue',\n",
              "  'com': 'Maurya',\n",
              "  'name': 'Jalousy',\n",
              "  'pr': 500,\n",
              "  'qn': 10}}"
            ]
          },
          "metadata": {},
          "execution_count": 95
        }
      ]
    },
    {
      "cell_type": "code",
      "metadata": {
        "colab": {
          "base_uri": "https://localhost:8080/"
        },
        "id": "82qmvfneisGS",
        "outputId": "9bf32b51-4cee-46a7-e16f-2a634a72f6f0"
      },
      "source": [
        "ui_prod  = str(input(\"Enter the product_Id: \"))\n",
        "ui_quant = int(input(\"Enter the quantity: \"))\n",
        "\n",
        "\n",
        "print(\"Product: \", records[ui_prod]['Name'])\n",
        "print(\"Price: \", records[ui_prod]['Price'])\n",
        "print(\"Company: \", records[ui_prod]['Company'])\n",
        "print(\"Color: \", records[ui_prod]['Color'])\n",
        "print(\"Billing Amount: \", records[ui_prod]['Price'] * ui_quant)\n",
        "\n",
        "records[ui_prod]['Quantity'] = records[ui_prod]['Quantity'] - ui_quant"
      ],
      "execution_count": null,
      "outputs": [
        {
          "output_type": "stream",
          "name": "stdout",
          "text": [
            "Enter the product_Id: 1000010\n",
            "Enter the quantity: 10\n",
            "Product:  Muskara\n",
            "Price:  1110\n",
            "Company:  Milani\n",
            "Color:  Dark Black\n",
            "Billing Amount:  11100\n"
          ]
        }
      ]
    },
    {
      "cell_type": "markdown",
      "metadata": {
        "id": "gWVWBUhDjRIp"
      },
      "source": [
        "#**Update Inventory after purchase**"
      ]
    },
    {
      "cell_type": "code",
      "metadata": {
        "id": "IZuXOXJweeuH"
      },
      "source": [
        "js = json.dumps(records)\n",
        "\n",
        "fd = open(\"records.json\", 'w')\n",
        "fd.write(js)\n",
        "fd.close()"
      ],
      "execution_count": null,
      "outputs": []
    },
    {
      "cell_type": "code",
      "metadata": {
        "colab": {
          "base_uri": "https://localhost:8080/",
          "height": 482
        },
        "id": "vEAV5WH8hYbM",
        "outputId": "f527a7fd-867c-4774-afac-ca94bd822dfd"
      },
      "source": [
        "js"
      ],
      "execution_count": null,
      "outputs": [
        {
          "output_type": "execute_result",
          "data": {
            "application/vnd.google.colaboratory.intrinsic+json": {
              "type": "string"
            },
            "text/plain": [
              "'{\"1000001\": {\"Name\": \"Baby Cream\", \"Price\": 140, \"Quantity\": 30, \"Company\": \"Himalaya\", \"Color\": \"White\"}, \"1000002\": {\"Name\": \"Brightning Day Cream\", \"Price\": 150, \"Quantity\": 10, \"Company\": \"Kaya\", \"Color\": \"Light Pink\"}, \"1000003\": {\"Name\": \"Eyelyner\", \"Price\": 500, \"Quantity\": 5, \"Company\": \"Shehnaz Husan\", \"Color\": \"Black\"}, \"1000004\": {\"Name\": \"Lipstic\", \"Price\": 750, \"Quantity\": 23, \"Company\": \"Lakme\", \"Color\": \"Bold Red\"}, \"1000005\": {\"Name\": \"White Glow\", \"Price\": 110, \"Quantity\": 50, \"Company\": \"Lotus\", \"Color\": \"Navy Blue\"}, \"1000006\": {\"Name\": \"Anti Wrinkle\", \"Price\": 1189, \"Quantity\": 1, \"Company\": \"Ptanjali\", \"Color\": \"Gold\"}, \"1000007\": {\"Name\": \"Foundation\", \"Price\": 1100, \"Quantity\": 5, \"Company\": \"VLCC\", \"Color\": \"Light Borwn\"}, \"1000008\": {\"Name\": \"Nailpaint\", \"Price\": 11, \"Quantity\": 24, \"Company\": \"Colorssence\", \"Color\": \"White\"}, \"1000009\": {\"Name\": \"Skin Care\", \"Price\": 220, \"Quantity\": 100, \"Company\": \"Biotique\", \"Color\": \"Black\"}, \"1000010\": {\"Name\": \"Muskara\", \"Price\": 1110, \"Quantity\": -20, \"Company\": \"Milani\", \"Color\": \"Dark Black\"}, \"1000011\": {\"Name\": \"Lipstic\", \"Price\": 750, \"Quantity\": 50, \"Company\": \"Blue heaven\", \"Color\": \"Pink\"}, \"1000012\": {\"Name\": \"Makeup remover\", \"Price\": 350, \"Quantity\": 30, \"Company\": \"Viviana\", \"Color\": \"Light pink\"}, \"1000013\": {\"Name\": \"Swarna Kanti\", \"Price\": 590, \"Quantity\": 40, \"Company\": \"Patanjali\", \"Color\": \"Fair White\"}, \"1000014\": {\"Name\": \"Skincare\", \"Price\": 10, \"Quantity\": 10, \"Company\": \"Forest Essentials\", \"Color\": \"Gold\"}, \"1000015\": {\"Name\": \"Compact Powder\", \"Price\": 590, \"Quantity\": 35, \"Company\": \"Coloressence\", \"Color\": \"Pearl White\"}, \"1000016\": {\"Name\": \" Gold Facial kit\", \"Price\": 2000, \"Quantity\": 1, \"Company\": \"VLCC\", \"Color\": \"Pearl White\"}, \"1000017\": {\"Name\": \"Lipstik\", \"Price\": 1111, \"Quantity\": 100, \"Company\": \"ELLE 18\", \"Color\": \"Pop silk\"}, \"1000018\": {\"Name\": \"Kajal Stick\", \"Price\": 850, \"Quantity\": 45, \"Company\": \"VIVIANA\", \"Color\": \"Dark Red\"}, \"1000019\": {\"Name\": \"Intensive Moisturizing\", \"Price\": 20, \"Quantity\": 20, \"Company\": \"PAC\", \"Color\": \"Milky\"}, \"1000020\": {\"Name\": \"Radiance Cream\", \"Price\": 450, \"Quantity\": 300, \"Company\": \"Lakme\", \"Color\": \"Skin color\"}, \"1000021\": {\"Name\": \"Skin perfect\", \"Price\": 2500, \"Quantity\": 370, \"Company\": \"olreal\", \"Color\": \"POP silky\"}, \"1000022\": {\"Name\": \"Shanglow Plus\", \"Price\": 710, \"Quantity\": 10, \"Company\": \"Maybellinge\", \"Color\": \"Skin color\"}, \"1000023\": {\"Name\": \"Whitamin C face cream\", \"Price\": 599, \"Quantity\": 15, \"Company\": \"Mamaearth\", \"Color\": \"Light Green\"}, \"1000024\": {\"Name\": \"Diamond cellular\", \"Price\": 1020, \"Quantity\": 70, \"Company\": \"Oriflame\", \"Color\": \"Bolg Gold\"}, \"1000025\": {\"Name\": \"Sundarya Rdiance\", \"Price\": 110, \"Quantity\": 500, \"Company\": \"Avon\", \"Color\": \"Blue\"}, \"1000026\": {\"Name\": \"Blue light defence\", \"Price\": 590, \"Quantity\": 300, \"Company\": \"Colorbar\", \"Color\": \"Light DEfence\"}, \"1000027\": {\"Name\": \"Hydra White\", \"Price\": 1300, \"Quantity\": 450, \"Company\": \"Revlon\", \"Color\": \"Silk\"}, \"1000028\": {\"Name\": \"Sebamed\", \"Price\": 5550, \"Quantity\": 450, \"Company\": \"NYX\", \"Color\": \"Black\"}, \"1000029\": {\"Name\": \"Wow\", \"Price\": 100, \"Quantity\": 7, \"Company\": \"Nykaa\", \"Color\": \"Facial\"}, \"1000030\": {\"Name\": \"Glutathione\", \"Price\": 1100, \"Quantity\": 30, \"Company\": \"Wet \", \"Color\": \"Shiny gold\"}, \"10000031\": {\"name\": \"Old Wax\", \"pr\": 10001, \"qn\": 10, \"com\": \"Zara\", \"col\": \"Light green\"}, \"1000032\": {\"name\": \"Natura\", \"pr\": 1600, \"qn\": 10, \"com\": \"Lava\", \"col\": \"Sun color\"}, \"1000033\": {\"name\": \"Mariya\", \"pr\": 2000, \"qn\": 20, \"com\": \"Kaya\", \"col\": \"Silk\"}, \"1000034\": {\"name\": \"Vaseline\", \"pr\": 200, \"qn\": 40, \"com\": \"Ponds\", \"col\": \"White\"}, \"1000035\": {\"name\": \"Old Spice\", \"pr\": 3000, \"qn\": 1, \"com\": \"Colfax\", \"col\": \"Green\"}, \"1000036\": {\"name\": \"Safedi\", \"pr\": 3400, \"qn\": 100, \"com\": \"Patanjali\", \"col\": \"Black\"}, \"1000037\": {\"name\": \"Saundarya\", \"pr\": 380, \"qn\": 27, \"com\": \"Maya\", \"col\": \"Solo White\"}, \"1000038\": {\"name\": \"Facial Kit\", \"pr\": 7500, \"qn\": 54, \"com\": \"Natura\", \"col\": \"Soily\"}, \"1000039\": {\"name\": \"Goree\", \"pr\": 590, \"qn\": 10, \"com\": \"Goree\", \"col\": \"Yellow\"}, \"1000040\": {\"name\": \"Jalousy\", \"pr\": 500, \"qn\": 10, \"com\": \"Maurya\", \"col\": \"Blue\"}}'"
            ]
          },
          "metadata": {},
          "execution_count": 97
        }
      ]
    },
    {
      "cell_type": "markdown",
      "metadata": {
        "id": "uvym34ACnscF"
      },
      "source": [
        "#**Sales JSON**"
      ]
    },
    {
      "cell_type": "code",
      "metadata": {
        "id": "ZGW924tcqFdh"
      },
      "source": [
        "sales = {1 : {'prod' : ui_prod, 'qn' : ui_quant, 'amount': records[ui_prod]['Price'] * ui_quant},\n",
        "         2 : {'prod' : ui_prod, 'qn' : ui_quant, 'amount': records[ui_prod]['Price'] * ui_quant},\n",
        "         3 : {'prod' : ui_prod, 'qn' : ui_quant, 'amount': records[ui_prod]['Price'] * ui_quant}}"
      ],
      "execution_count": null,
      "outputs": []
    },
    {
      "cell_type": "code",
      "metadata": {
        "colab": {
          "base_uri": "https://localhost:8080/"
        },
        "id": "-g1e78ujqfcl",
        "outputId": "2dd91c21-42bf-4c50-a17e-ad1f08dfd65a"
      },
      "source": [
        "sales"
      ],
      "execution_count": null,
      "outputs": [
        {
          "output_type": "execute_result",
          "data": {
            "text/plain": [
              "{1: {'amount': 11100, 'prod': '1000010', 'qn': 10},\n",
              " 2: {'amount': 11100, 'prod': '1000010', 'qn': 10},\n",
              " 3: {'amount': 11100, 'prod': '1000010', 'qn': 10}}"
            ]
          },
          "metadata": {},
          "execution_count": 109
        }
      ]
    },
    {
      "cell_type": "code",
      "metadata": {
        "id": "SCzrkO-wqsPO"
      },
      "source": [
        "sale = json.dumps(sales)"
      ],
      "execution_count": null,
      "outputs": []
    },
    {
      "cell_type": "code",
      "metadata": {
        "colab": {
          "base_uri": "https://localhost:8080/",
          "height": 52
        },
        "id": "O6zQOh5Hqyqj",
        "outputId": "6b3fef8f-b101-4948-e899-a766c23f1f34"
      },
      "source": [
        "sale"
      ],
      "execution_count": null,
      "outputs": [
        {
          "output_type": "execute_result",
          "data": {
            "application/vnd.google.colaboratory.intrinsic+json": {
              "type": "string"
            },
            "text/plain": [
              "'{\"1\": {\"prod\": \"1000010\", \"qn\": 10, \"amount\": 11100}, \"2\": {\"prod\": \"1000010\", \"qn\": 10, \"amount\": 11100}, \"3\": {\"prod\": \"1000010\", \"qn\": 10, \"amount\": 11100}}'"
            ]
          },
          "metadata": {},
          "execution_count": 105
        }
      ]
    }
  ]
}