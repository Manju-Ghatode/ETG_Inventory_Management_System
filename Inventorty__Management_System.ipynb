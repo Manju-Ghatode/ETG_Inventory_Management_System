{
  "nbformat": 4,
  "nbformat_minor": 0,
  "metadata": {
    "colab": {
      "name": "Inventorty _Management_System.ipynb",
      "provenance": [],
      "authorship_tag": "ABX9TyPhCQofB/SgzTbWV3IzjGUH",
      "include_colab_link": true
    },
    "kernelspec": {
      "name": "python3",
      "display_name": "Python 3"
    },
    "language_info": {
      "name": "python"
    }
  },
  "cells": [
    {
      "cell_type": "markdown",
      "metadata": {
        "id": "view-in-github",
        "colab_type": "text"
      },
      "source": [
        "<a href=\"https://colab.research.google.com/github/Manju-Ghatode/ETG_Inventory_Management_System/blob/main/Inventorty__Management_System.ipynb\" target=\"_parent\"><img src=\"https://colab.research.google.com/assets/colab-badge.svg\" alt=\"Open In Colab\"/></a>"
      ]
    },
    {
      "cell_type": "code",
      "metadata": {
        "id": "83VvQMfaptAD"
      },
      "source": [
        ""
      ],
      "execution_count": null,
      "outputs": []
    },
    {
      "cell_type": "markdown",
      "metadata": {
        "id": "1sBhC2zMp1fd"
      },
      "source": [
        "#**ELITE TECHNO GROUPS**\n",
        "\n",
        "#**Skills-India-AI-ML-Scholarship**\n",
        "\n",
        "#**JSON Based Inventory Management System**\n",
        "\n",
        "##**Author : Manju Ghatode**"
      ]
    },
    {
      "cell_type": "code",
      "metadata": {
        "id": "k0bt_6T1Qau0"
      },
      "source": [
        "record = { 1000001 : {\"Name\" : \"Baby Cream\", \"Price\" : 140, \"Quantity\" : 30, \"Company\" : \"Himalaya\", \"Color\" : \"White\"}, \n",
        "           1000002 : {\"Name\" : \"Brightning Day Cream\" , \"Price\" :150, \"Quantity\" : 10 , 'Company' : 'Kaya', 'Color' : 'Light Pink'},\n",
        "           1000003 : {'Name':'Eyelyner','Price' :500, 'Quantity' : 5, 'Company' : 'Shehnaz Husan','Color':'Black'},\n",
        "1000004 : {'Name':'Lipstic','Price' :750, 'Quantity' : 23, 'Company' : 'Lakme','Color':'Bold Red'},\n",
        "1000005 : {'Name':'White Glow','Price' :110, 'Quantity' :50 , 'Company' : 'Lotus','Color':'Navy Blue'},\n",
        "1000006: {'Name':'Anti Wrinkle','Price' :1189, 'Quantity' : 1, 'Company' : 'Ptanjali','Color':'Gold'},\n",
        "1000007 : {'Name':'Foundation','Price' :1100, 'Quantity' : 5, 'Company' : 'VLCC','Color':'Light Borwn'},\n",
        "1000008 : {'Name':'Nailpaint','Price' :11, 'Quantity' : 24, 'Company' : 'Colorssence','Color':'White'},\n",
        "1000009 : {'Name':'Skin Care','Price' :220, 'Quantity' : 100, 'Company' : 'Biotique' , 'Color' : 'Black'},\n",
        "1000010 : {'Name':'Muskara','Price' :1110, 'Quantity' : 10, 'Company' : 'Milani','Color':'Dark Black'},\n",
        "1000011 : {'Name':'Lipstic','Price' :750, 'Quantity' : 50, 'Company' : 'Blue heaven','Color':'Pink'},\n",
        "1000012 : {'Name':'Makeup remover','Price' :350, 'Quantity' : 30, 'Company' : 'Viviana','Color':'Light pink'},\n",
        "1000013: {'Name':'Swarna Kanti','Price' :590, 'Quantity' : 40, 'Company' : 'Patanjali','Color':'Fair White'},\n",
        "1000014 : {'Name':'Skincare','Price' :10, 'Quantity' : 10, 'Company' : 'Forest Essentials','Color':'Gold'},\n",
        "1000015 : {'Name':'Compact Powder','Price' :590, 'Quantity' : 35, 'Company' : 'Coloressence','Color':'Pearl White'},\n",
        "1000016 : {'Name':' Gold Facial kit','Price' :2000, 'Quantity' : 1, 'Company' : 'VLCC','Color':'Pearl White'},\n",
        "1000017 : {'Name':'Lipstik','Price' :1111, 'Quantity' : 100, 'Company' : 'ELLE 18','Color':'Pop silk'},\n",
        "1000018 : {'Name':'Kajal Stick','Price' :850, 'Quantity' : 45 , 'Company' : 'VIVIANA','Color':'Dark Red'},\n",
        "1000019 : {'Name':'Intensive Moisturizing','Price' :20, 'Quantity' : 20, 'Company' : 'PAC','Color':'Milky'},\n",
        "1000020 : {'Name':'Radiance Cream','Price' :450, 'Quantity' : 300, 'Company' : 'Lakme','Color':'Skin color'},\n",
        "1000021 : {'Name':'Skin perfect','Price' :2500, 'Quantity' : 370, 'Company' : 'olreal','Color':'POP silky'},\n",
        "1000022 : {'Name':'Shanglow Plus','Price' :710, 'Quantity' : 10, 'Company' : 'Maybellinge','Color':'Skin color'},\n",
        "1000023 : {'Name':'Whitamin C face cream','Price' :599, 'Quantity' : 15, 'Company' : 'Mamaearth','Color':'Light Green'},\n",
        "1000024: {'Name':'Diamond cellular','Price' :1020, 'Quantity' : 70, 'Company' : 'Oriflame','Color':'Bolg Gold'},\n",
        "1000025 : {'Name':'Sundarya Rdiance','Price' :110, 'Quantity' : 500, 'Company' : 'Avon','Color':'Blue'},\n",
        "1000026 : {'Name':'Blue light defence','Price' :590, 'Quantity' : 300, 'Company' : 'Colorbar','Color':'Light DEfence'},\n",
        "1000027 : {'Name':'Hydra White','Price' :1300, 'Quantity' : 450, 'Company' : 'Revlon','Color':'Silk'},\n",
        "1000028 : {'Name':'Sebamed','Price' :5550,'Quantity' : 450, 'Company' : 'NYX','Color':'Black'},\n",
        "1000029 : {'Name':'Wow','Price' :100, 'Quantity' : 7, 'Company' : 'Nykaa','Color':'Facial'},\n",
        "1000030 : {'Name':'Glutathione','Price' :1100, 'Quantity' : 30, 'Company' : 'Wet ','Color':'Shiny gold'},\n",
        "\n",
        "}"
      ],
      "execution_count": 1,
      "outputs": []
    },
    {
      "cell_type": "markdown",
      "metadata": {
        "id": "iJR0-eL_qX4A"
      },
      "source": [
        "#**Read the Record**"
      ]
    },
    {
      "cell_type": "code",
      "metadata": {
        "colab": {
          "base_uri": "https://localhost:8080/"
        },
        "id": "8G4U_MMNqcWa",
        "outputId": "530ca53c-cd41-4843-d8fe-114121f08a8a"
      },
      "source": [
        "print(\"~~~~~~~~~~~Record Of Inventary Management System~~~~~~~~~~~~~~~\")\n",
        "\n",
        "record"
      ],
      "execution_count": 2,
      "outputs": [
        {
          "output_type": "stream",
          "name": "stdout",
          "text": [
            "~~~~~~~~~~~Record Of Inventary Management System~~~~~~~~~~~~~~~\n"
          ]
        },
        {
          "output_type": "execute_result",
          "data": {
            "text/plain": [
              "{1000001: {'Color': 'White',\n",
              "  'Company': 'Himalaya',\n",
              "  'Name': 'Baby Cream',\n",
              "  'Price': 140,\n",
              "  'Quantity': 30},\n",
              " 1000002: {'Color': 'Light Pink',\n",
              "  'Company': 'Kaya',\n",
              "  'Name': 'Brightning Day Cream',\n",
              "  'Price': 150,\n",
              "  'Quantity': 10},\n",
              " 1000003: {'Color': 'Black',\n",
              "  'Company': 'Shehnaz Husan',\n",
              "  'Name': 'Eyelyner',\n",
              "  'Price': 500,\n",
              "  'Quantity': 5},\n",
              " 1000004: {'Color': 'Bold Red',\n",
              "  'Company': 'Lakme',\n",
              "  'Name': 'Lipstic',\n",
              "  'Price': 750,\n",
              "  'Quantity': 23},\n",
              " 1000005: {'Color': 'Navy Blue',\n",
              "  'Company': 'Lotus',\n",
              "  'Name': 'White Glow',\n",
              "  'Price': 110,\n",
              "  'Quantity': 50},\n",
              " 1000006: {'Color': 'Gold',\n",
              "  'Company': 'Ptanjali',\n",
              "  'Name': 'Anti Wrinkle',\n",
              "  'Price': 1189,\n",
              "  'Quantity': 1},\n",
              " 1000007: {'Color': 'Light Borwn',\n",
              "  'Company': 'VLCC',\n",
              "  'Name': 'Foundation',\n",
              "  'Price': 1100,\n",
              "  'Quantity': 5},\n",
              " 1000008: {'Color': 'White',\n",
              "  'Company': 'Colorssence',\n",
              "  'Name': 'Nailpaint',\n",
              "  'Price': 11,\n",
              "  'Quantity': 24},\n",
              " 1000009: {'Color': 'Black',\n",
              "  'Company': 'Biotique',\n",
              "  'Name': 'Skin Care',\n",
              "  'Price': 220,\n",
              "  'Quantity': 100},\n",
              " 1000010: {'Color': 'Dark Black',\n",
              "  'Company': 'Milani',\n",
              "  'Name': 'Muskara',\n",
              "  'Price': 1110,\n",
              "  'Quantity': 10},\n",
              " 1000011: {'Color': 'Pink',\n",
              "  'Company': 'Blue heaven',\n",
              "  'Name': 'Lipstic',\n",
              "  'Price': 750,\n",
              "  'Quantity': 50},\n",
              " 1000012: {'Color': 'Light pink',\n",
              "  'Company': 'Viviana',\n",
              "  'Name': 'Makeup remover',\n",
              "  'Price': 350,\n",
              "  'Quantity': 30},\n",
              " 1000013: {'Color': 'Fair White',\n",
              "  'Company': 'Patanjali',\n",
              "  'Name': 'Swarna Kanti',\n",
              "  'Price': 590,\n",
              "  'Quantity': 40},\n",
              " 1000014: {'Color': 'Gold',\n",
              "  'Company': 'Forest Essentials',\n",
              "  'Name': 'Skincare',\n",
              "  'Price': 10,\n",
              "  'Quantity': 10},\n",
              " 1000015: {'Color': 'Pearl White',\n",
              "  'Company': 'Coloressence',\n",
              "  'Name': 'Compact Powder',\n",
              "  'Price': 590,\n",
              "  'Quantity': 35},\n",
              " 1000016: {'Color': 'Pearl White',\n",
              "  'Company': 'VLCC',\n",
              "  'Name': ' Gold Facial kit',\n",
              "  'Price': 2000,\n",
              "  'Quantity': 1},\n",
              " 1000017: {'Color': 'Pop silk',\n",
              "  'Company': 'ELLE 18',\n",
              "  'Name': 'Lipstik',\n",
              "  'Price': 1111,\n",
              "  'Quantity': 100},\n",
              " 1000018: {'Color': 'Dark Red',\n",
              "  'Company': 'VIVIANA',\n",
              "  'Name': 'Kajal Stick',\n",
              "  'Price': 850,\n",
              "  'Quantity': 45},\n",
              " 1000019: {'Color': 'Milky',\n",
              "  'Company': 'PAC',\n",
              "  'Name': 'Intensive Moisturizing',\n",
              "  'Price': 20,\n",
              "  'Quantity': 20},\n",
              " 1000020: {'Color': 'Skin color',\n",
              "  'Company': 'Lakme',\n",
              "  'Name': 'Radiance Cream',\n",
              "  'Price': 450,\n",
              "  'Quantity': 300},\n",
              " 1000021: {'Color': 'POP silky',\n",
              "  'Company': 'olreal',\n",
              "  'Name': 'Skin perfect',\n",
              "  'Price': 2500,\n",
              "  'Quantity': 370},\n",
              " 1000022: {'Color': 'Skin color',\n",
              "  'Company': 'Maybellinge',\n",
              "  'Name': 'Shanglow Plus',\n",
              "  'Price': 710,\n",
              "  'Quantity': 10},\n",
              " 1000023: {'Color': 'Light Green',\n",
              "  'Company': 'Mamaearth',\n",
              "  'Name': 'Whitamin C face cream',\n",
              "  'Price': 599,\n",
              "  'Quantity': 15},\n",
              " 1000024: {'Color': 'Bolg Gold',\n",
              "  'Company': 'Oriflame',\n",
              "  'Name': 'Diamond cellular',\n",
              "  'Price': 1020,\n",
              "  'Quantity': 70},\n",
              " 1000025: {'Color': 'Blue',\n",
              "  'Company': 'Avon',\n",
              "  'Name': 'Sundarya Rdiance',\n",
              "  'Price': 110,\n",
              "  'Quantity': 500},\n",
              " 1000026: {'Color': 'Light DEfence',\n",
              "  'Company': 'Colorbar',\n",
              "  'Name': 'Blue light defence',\n",
              "  'Price': 590,\n",
              "  'Quantity': 300},\n",
              " 1000027: {'Color': 'Silk',\n",
              "  'Company': 'Revlon',\n",
              "  'Name': 'Hydra White',\n",
              "  'Price': 1300,\n",
              "  'Quantity': 450},\n",
              " 1000028: {'Color': 'Black',\n",
              "  'Company': 'NYX',\n",
              "  'Name': 'Sebamed',\n",
              "  'Price': 5550,\n",
              "  'Quantity': 450},\n",
              " 1000029: {'Color': 'Facial',\n",
              "  'Company': 'Nykaa',\n",
              "  'Name': 'Wow',\n",
              "  'Price': 100,\n",
              "  'Quantity': 7},\n",
              " 1000030: {'Color': 'Shiny gold',\n",
              "  'Company': 'Wet ',\n",
              "  'Name': 'Glutathione',\n",
              "  'Price': 1100,\n",
              "  'Quantity': 30}}"
            ]
          },
          "metadata": {},
          "execution_count": 2
        }
      ]
    },
    {
      "cell_type": "markdown",
      "metadata": {
        "id": "Vwfc_uI8qwNN"
      },
      "source": [
        "#**Add new item into Inventary**"
      ]
    },
    {
      "cell_type": "code",
      "metadata": {
        "id": "_0OTfwHUq7up"
      },
      "source": [
        "import json"
      ],
      "execution_count": 3,
      "outputs": []
    },
    {
      "cell_type": "code",
      "metadata": {
        "id": "ZZxlnKZldjvX"
      },
      "source": [
        "js = json.dumps(record)"
      ],
      "execution_count": 4,
      "outputs": []
    },
    {
      "cell_type": "code",
      "metadata": {
        "colab": {
          "base_uri": "https://localhost:8080/",
          "height": 135
        },
        "id": "eM_SEa4cq4SF",
        "outputId": "7092d8b4-6564-4955-b35a-83a1c48a43d3"
      },
      "source": [
        "js"
      ],
      "execution_count": 5,
      "outputs": [
        {
          "output_type": "execute_result",
          "data": {
            "application/vnd.google.colaboratory.intrinsic+json": {
              "type": "string"
            },
            "text/plain": [
              "'{\"1000001\": {\"Name\": \"Baby Cream\", \"Price\": 140, \"Quantity\": 30, \"Company\": \"Himalaya\", \"Color\": \"White\"}, \"1000002\": {\"Name\": \"Brightning Day Cream\", \"Price\": 150, \"Quantity\": 10, \"Company\": \"Kaya\", \"Color\": \"Light Pink\"}, \"1000003\": {\"Name\": \"Eyelyner\", \"Price\": 500, \"Quantity\": 5, \"Company\": \"Shehnaz Husan\", \"Color\": \"Black\"}, \"1000004\": {\"Name\": \"Lipstic\", \"Price\": 750, \"Quantity\": 23, \"Company\": \"Lakme\", \"Color\": \"Bold Red\"}, \"1000005\": {\"Name\": \"White Glow\", \"Price\": 110, \"Quantity\": 50, \"Company\": \"Lotus\", \"Color\": \"Navy Blue\"}, \"1000006\": {\"Name\": \"Anti Wrinkle\", \"Price\": 1189, \"Quantity\": 1, \"Company\": \"Ptanjali\", \"Color\": \"Gold\"}, \"1000007\": {\"Name\": \"Foundation\", \"Price\": 1100, \"Quantity\": 5, \"Company\": \"VLCC\", \"Color\": \"Light Borwn\"}, \"1000008\": {\"Name\": \"Nailpaint\", \"Price\": 11, \"Quantity\": 24, \"Company\": \"Colorssence\", \"Color\": \"White\"}, \"1000009\": {\"Name\": \"Skin Care\", \"Price\": 220, \"Quantity\": 100, \"Company\": \"Biotique\", \"Color\": \"Black\"}, \"1000010\": {\"Name\": \"Muskara\", \"Price\": 1110, \"Quantity\": 10, \"Company\": \"Milani\", \"Color\": \"Dark Black\"}, \"1000011\": {\"Name\": \"Lipstic\", \"Price\": 750, \"Quantity\": 50, \"Company\": \"Blue heaven\", \"Color\": \"Pink\"}, \"1000012\": {\"Name\": \"Makeup remover\", \"Price\": 350, \"Quantity\": 30, \"Company\": \"Viviana\", \"Color\": \"Light pink\"}, \"1000013\": {\"Name\": \"Swarna Kanti\", \"Price\": 590, \"Quantity\": 40, \"Company\": \"Patanjali\", \"Color\": \"Fair White\"}, \"1000014\": {\"Name\": \"Skincare\", \"Price\": 10, \"Quantity\": 10, \"Company\": \"Forest Essentials\", \"Color\": \"Gold\"}, \"1000015\": {\"Name\": \"Compact Powder\", \"Price\": 590, \"Quantity\": 35, \"Company\": \"Coloressence\", \"Color\": \"Pearl White\"}, \"1000016\": {\"Name\": \" Gold Facial kit\", \"Price\": 2000, \"Quantity\": 1, \"Company\": \"VLCC\", \"Color\": \"Pearl White\"}, \"1000017\": {\"Name\": \"Lipstik\", \"Price\": 1111, \"Quantity\": 100, \"Company\": \"ELLE 18\", \"Color\": \"Pop silk\"}, \"1000018\": {\"Name\": \"Kajal Stick\", \"Price\": 850, \"Quantity\": 45, \"Company\": \"VIVIANA\", \"Color\": \"Dark Red\"}, \"1000019\": {\"Name\": \"Intensive Moisturizing\", \"Price\": 20, \"Quantity\": 20, \"Company\": \"PAC\", \"Color\": \"Milky\"}, \"1000020\": {\"Name\": \"Radiance Cream\", \"Price\": 450, \"Quantity\": 300, \"Company\": \"Lakme\", \"Color\": \"Skin color\"}, \"1000021\": {\"Name\": \"Skin perfect\", \"Price\": 2500, \"Quantity\": 370, \"Company\": \"olreal\", \"Color\": \"POP silky\"}, \"1000022\": {\"Name\": \"Shanglow Plus\", \"Price\": 710, \"Quantity\": 10, \"Company\": \"Maybellinge\", \"Color\": \"Skin color\"}, \"1000023\": {\"Name\": \"Whitamin C face cream\", \"Price\": 599, \"Quantity\": 15, \"Company\": \"Mamaearth\", \"Color\": \"Light Green\"}, \"1000024\": {\"Name\": \"Diamond cellular\", \"Price\": 1020, \"Quantity\": 70, \"Company\": \"Oriflame\", \"Color\": \"Bolg Gold\"}, \"1000025\": {\"Name\": \"Sundarya Rdiance\", \"Price\": 110, \"Quantity\": 500, \"Company\": \"Avon\", \"Color\": \"Blue\"}, \"1000026\": {\"Name\": \"Blue light defence\", \"Price\": 590, \"Quantity\": 300, \"Company\": \"Colorbar\", \"Color\": \"Light DEfence\"}, \"1000027\": {\"Name\": \"Hydra White\", \"Price\": 1300, \"Quantity\": 450, \"Company\": \"Revlon\", \"Color\": \"Silk\"}, \"1000028\": {\"Name\": \"Sebamed\", \"Price\": 5550, \"Quantity\": 450, \"Company\": \"NYX\", \"Color\": \"Black\"}, \"1000029\": {\"Name\": \"Wow\", \"Price\": 100, \"Quantity\": 7, \"Company\": \"Nykaa\", \"Color\": \"Facial\"}, \"1000030\": {\"Name\": \"Glutathione\", \"Price\": 1100, \"Quantity\": 30, \"Company\": \"Wet \", \"Color\": \"Shiny gold\"}}'"
            ]
          },
          "metadata": {},
          "execution_count": 5
        }
      ]
    },
    {
      "cell_type": "code",
      "metadata": {
        "id": "OdRsklcLqmB4",
        "colab": {
          "base_uri": "https://localhost:8080/"
        },
        "outputId": "de0f2cd7-eaf8-41db-a8d3-9b54dd2d0f7b"
      },
      "source": [
        "prod_id = str(input(\"Enter product id:\"))\n",
        "name = str(input(\"Enter name:\"))\n",
        "pr = int(input(\"Enter price:\"))\n",
        "qn = int(input(\"Enter quantity:\"))\n",
        "com = str(input(\"Enter company:\"))\n",
        "col = str(input(\"Enter color:\"))\n",
        "\n",
        "record[prod_id] = {'name': name, 'pr': pr, 'qn': qn, 'com' : com, 'col': col}\n",
        "\n",
        "js = json.dumps(record)\n",
        "\n",
        "fd = open(\"record.json\",'w')\n",
        "fd.write(js)\n",
        "fd.close()"
      ],
      "execution_count": 6,
      "outputs": [
        {
          "name": "stdout",
          "output_type": "stream",
          "text": [
            "Enter product id:1000031\n",
            "Enter name:Maya\n",
            "Enter price:6000\n",
            "Enter quantity:100\n",
            "Enter company:Javeda\n",
            "Enter color:Blue\n"
          ]
        }
      ]
    },
    {
      "cell_type": "code",
      "metadata": {
        "colab": {
          "base_uri": "https://localhost:8080/"
        },
        "id": "8THBgyb_rPzD",
        "outputId": "e44cb935-51fb-4dd4-8345-ea6a31714344"
      },
      "source": [
        "prod_id = str(input(\"Enter product id:\"))\n",
        "name = str(input(\"Enter name:\"))\n",
        "pr = int(input(\"Enter price:\"))\n",
        "qn = int(input(\"Enter quantity:\"))\n",
        "com = str(input(\"Enter company:\"))\n",
        "col = str(input(\"Enter color:\"))\n",
        "\n",
        "record[prod_id] = {'name': name, 'pr': pr, 'qn': qn, 'com' : com, 'col': col}\n",
        "\n",
        "js = json.dumps(record)\n",
        "\n",
        "fd = open(\"record.json\",'w')\n",
        "fd.write(js)\n",
        "fd.close()"
      ],
      "execution_count": 7,
      "outputs": [
        {
          "name": "stdout",
          "output_type": "stream",
          "text": [
            "Enter product id:1000032\n",
            "Enter name:Masumi\n",
            "Enter price:2300\n",
            "Enter quantity:50\n",
            "Enter company:Moka\n",
            "Enter color:Orange\n"
          ]
        }
      ]
    },
    {
      "cell_type": "code",
      "metadata": {
        "colab": {
          "base_uri": "https://localhost:8080/"
        },
        "id": "Z88t4w7ZrRFx",
        "outputId": "48b64911-c663-4867-c0f7-ab51bc665021"
      },
      "source": [
        "prod_id = str(input(\"Enter product id:\"))\n",
        "name = str(input(\"Enter name:\"))\n",
        "pr = int(input(\"Enter price:\"))\n",
        "qn = int(input(\"Enter quantity:\"))\n",
        "com = str(input(\"Enter company:\"))\n",
        "col = str(input(\"Enter color:\"))\n",
        "\n",
        "record[prod_id] = {'name': name, 'pr': pr, 'qn': qn, 'com' : com, 'col': col}\n",
        "\n",
        "js = json.dumps(record)\n",
        "\n",
        "fd = open(\"record.json\",'w')\n",
        "fd.write(js)\n",
        "fd.close()"
      ],
      "execution_count": 8,
      "outputs": [
        {
          "name": "stdout",
          "output_type": "stream",
          "text": [
            "Enter product id:1000033\n",
            "Enter name:Romanch\n",
            "Enter price:2900\n",
            "Enter quantity:20\n",
            "Enter company:Mehrum\n",
            "Enter color:Shiny Gold\n"
          ]
        }
      ]
    },
    {
      "cell_type": "code",
      "metadata": {
        "id": "x1czoZ9orCAO",
        "colab": {
          "base_uri": "https://localhost:8080/"
        },
        "outputId": "9ea09b3c-ea9d-4067-a0ca-59783085046d"
      },
      "source": [
        "prod_id = str(input(\"Enter product id:\"))\n",
        "name = str(input(\"Enter name:\"))\n",
        "pr = int(input(\"Enter price:\"))\n",
        "qn = int(input(\"Enter quantity:\"))\n",
        "com = str(input(\"Enter company:\"))\n",
        "col = str(input(\"Enter color:\"))\n",
        "\n",
        "record[prod_id] = {'name': name, 'pr': pr, 'qn': qn, 'com' : com, 'col': col}\n",
        "\n",
        "js = json.dumps(record)\n",
        "\n",
        "fd = open(\"record.json\",'w')\n",
        "fd.write(js)\n",
        "fd.close()"
      ],
      "execution_count": 9,
      "outputs": [
        {
          "name": "stdout",
          "output_type": "stream",
          "text": [
            "Enter product id:1000034\n",
            "Enter name:Vaseline\n",
            "Enter price:2300\n",
            "Enter quantity:1\n",
            "Enter company:Ponds\n",
            "Enter color:White\n"
          ]
        }
      ]
    },
    {
      "cell_type": "code",
      "metadata": {
        "colab": {
          "base_uri": "https://localhost:8080/"
        },
        "id": "vBF9Y4wxr21t",
        "outputId": "e3582d52-895f-497a-ac62-5cf123c91de1"
      },
      "source": [
        "prod_id = str(input(\"Enter product id:\"))\n",
        "name = str(input(\"Enter name:\"))\n",
        "pr = int(input(\"Enter price:\"))\n",
        "qn = int(input(\"Enter quantity:\"))\n",
        "com = str(input(\"Enter company:\"))\n",
        "col = str(input(\"Enter color:\"))\n",
        "\n",
        "record[prod_id] = {'name': name, 'pr': pr, 'qn': qn, 'com' : com, 'col': col}\n",
        "\n",
        "js = json.dumps(record)\n",
        "\n",
        "fd = open(\"record.json\",'w')\n",
        "fd.write(js)\n",
        "fd.close()"
      ],
      "execution_count": 10,
      "outputs": [
        {
          "name": "stdout",
          "output_type": "stream",
          "text": [
            "Enter product id:1000035\n",
            "Enter name:Old Spice\n",
            "Enter price:300\n",
            "Enter quantity:4\n",
            "Enter company:Colfax\n",
            "Enter color:Green\n"
          ]
        }
      ]
    },
    {
      "cell_type": "code",
      "metadata": {
        "colab": {
          "base_uri": "https://localhost:8080/"
        },
        "id": "-WEwLspJsDna",
        "outputId": "ba1534bd-152f-44ba-8748-ce8d6f3304da"
      },
      "source": [
        "prod_id = str(input(\"Enter product id:\"))\n",
        "name = str(input(\"Enter name:\"))\n",
        "pr = int(input(\"Enter price:\"))\n",
        "qn = int(input(\"Enter quantity:\"))\n",
        "com = str(input(\"Enter company:\"))\n",
        "col = str(input(\"Enter color:\"))\n",
        "\n",
        "record[prod_id] = {'name': name, 'pr': pr, 'qn': qn, 'com' : com, 'col': col}\n",
        "\n",
        "js = json.dumps(record)\n",
        "\n",
        "fd = open(\"record.json\",'w')\n",
        "fd.write(js)\n",
        "fd.close()"
      ],
      "execution_count": 11,
      "outputs": [
        {
          "name": "stdout",
          "output_type": "stream",
          "text": [
            "Enter product id:1000036\n",
            "Enter name:Safedi\n",
            "Enter price:690\n",
            "Enter quantity:20\n",
            "Enter company:Patanjali\n",
            "Enter color:Black\n"
          ]
        }
      ]
    },
    {
      "cell_type": "code",
      "metadata": {
        "colab": {
          "base_uri": "https://localhost:8080/"
        },
        "id": "KBdaIhPEsQyO",
        "outputId": "93545d2d-e7f9-4e85-ac91-3573a7a5fa9c"
      },
      "source": [
        "prod_id = str(input(\"Enter product id:\"))\n",
        "name = str(input(\"Enter name:\"))\n",
        "pr = int(input(\"Enter price:\"))\n",
        "qn = int(input(\"Enter quantity:\"))\n",
        "com = str(input(\"Enter company:\"))\n",
        "col = str(input(\"Enter color:\"))\n",
        "\n",
        "record[prod_id] = {'name': name, 'pr': pr, 'qn': qn, 'com' : com, 'col': col}\n",
        "\n",
        "js = json.dumps(record)\n",
        "\n",
        "fd = open(\"record.json\",'w')\n",
        "fd.write(js)\n",
        "fd.close()"
      ],
      "execution_count": 12,
      "outputs": [
        {
          "name": "stdout",
          "output_type": "stream",
          "text": [
            "Enter product id:1000037\n",
            "Enter name:Saundarya\n",
            "Enter price:500\n",
            "Enter quantity:25\n",
            "Enter company:Himalaya\n",
            "Enter color:Blue\n"
          ]
        }
      ]
    },
    {
      "cell_type": "code",
      "metadata": {
        "colab": {
          "base_uri": "https://localhost:8080/"
        },
        "id": "k1SjELDpsh2Q",
        "outputId": "6b3aab42-62d2-4e4f-bbb0-69740d50387e"
      },
      "source": [
        "prod_id = str(input(\"Enter product id:\"))\n",
        "name = str(input(\"Enter name:\"))\n",
        "pr = int(input(\"Enter price:\"))\n",
        "qn = int(input(\"Enter quantity:\"))\n",
        "com = str(input(\"Enter company:\"))\n",
        "col = str(input(\"Enter color:\"))\n",
        "\n",
        "record[prod_id] = {'name': name, 'pr': pr, 'qn': qn, 'com' : com, 'col': col}\n",
        "\n",
        "js = json.dumps(record)\n",
        "\n",
        "fd = open(\"record.json\",'w')\n",
        "fd.write(js)\n",
        "fd.close()"
      ],
      "execution_count": 13,
      "outputs": [
        {
          "name": "stdout",
          "output_type": "stream",
          "text": [
            "Enter product id:1000038\n",
            "Enter name:Facial kit\n",
            "Enter price:2000\n",
            "Enter quantity:20\n",
            "Enter company:Nature\n",
            "Enter color:Soil Color\n"
          ]
        }
      ]
    },
    {
      "cell_type": "code",
      "metadata": {
        "colab": {
          "base_uri": "https://localhost:8080/"
        },
        "id": "2vWIL-pGswD1",
        "outputId": "eafa6a5f-4ef4-49ac-8da3-7bd41b39b87c"
      },
      "source": [
        "prod_id = str(input(\"Enter product id:\"))\n",
        "name = str(input(\"Enter name:\"))\n",
        "pr = int(input(\"Enter price:\"))\n",
        "qn = int(input(\"Enter quantity:\"))\n",
        "com = str(input(\"Enter company:\"))\n",
        "col = str(input(\"Enter color:\"))\n",
        "\n",
        "record[prod_id] = {'name': name, 'pr': pr, 'qn': qn, 'com' : com, 'col': col}\n",
        "\n",
        "js = json.dumps(record)\n",
        "\n",
        "fd = open(\"record.json\",'w')\n",
        "fd.write(js)\n",
        "fd.close()"
      ],
      "execution_count": 14,
      "outputs": [
        {
          "name": "stdout",
          "output_type": "stream",
          "text": [
            "Enter product id:1000040\n",
            "Enter name:Kayra\n",
            "Enter price:200\n",
            "Enter quantity:40\n",
            "Enter company:Unilever\n",
            "Enter color:Yellow\n"
          ]
        }
      ]
    },
    {
      "cell_type": "code",
      "metadata": {
        "colab": {
          "base_uri": "https://localhost:8080/"
        },
        "id": "cd6QDhWJs90K",
        "outputId": "2584f865-0968-4697-f93c-923d3c62ea4b"
      },
      "source": [
        "prod_id = str(input(\"Enter product id:\"))\n",
        "name = str(input(\"Enter name:\"))\n",
        "pr = int(input(\"Enter price:\"))\n",
        "qn = int(input(\"Enter quantity:\"))\n",
        "com = str(input(\"Enter company:\"))\n",
        "col = str(input(\"Enter color:\"))\n",
        "\n",
        "record[prod_id] = {'name': name, 'pr': pr, 'qn': qn, 'com' : com, 'col': col}\n",
        "\n",
        "js = json.dumps(record)\n",
        "\n",
        "fd = open(\"record.json\",'w')\n",
        "fd.write(js)\n",
        "fd.close()"
      ],
      "execution_count": 15,
      "outputs": [
        {
          "name": "stdout",
          "output_type": "stream",
          "text": [
            "Enter product id:1000039\n",
            "Enter name:Muskara\n",
            "Enter price:6700\n",
            "Enter quantity:2\n",
            "Enter company:ELLE 18\n",
            "Enter color:Cream\n"
          ]
        }
      ]
    },
    {
      "cell_type": "code",
      "metadata": {
        "colab": {
          "base_uri": "https://localhost:8080/"
        },
        "id": "zEOb_2YjtN1e",
        "outputId": "c20c390e-fa8e-41a1-a05c-ec16c718cd4e"
      },
      "source": [
        "print(\"~~~~~~~~~~~~~~~~~After Adding New Inventary in Inventary Management System ~~~~~~~~~~~~~~~~~~ \")\n",
        "\n",
        "record"
      ],
      "execution_count": 16,
      "outputs": [
        {
          "output_type": "stream",
          "name": "stdout",
          "text": [
            "~~~~~~~~~~~~~~~~~After Adding New Inventary in Inventary Management System ~~~~~~~~~~~~~~~~~~ \n"
          ]
        },
        {
          "output_type": "execute_result",
          "data": {
            "text/plain": [
              "{1000001: {'Color': 'White',\n",
              "  'Company': 'Himalaya',\n",
              "  'Name': 'Baby Cream',\n",
              "  'Price': 140,\n",
              "  'Quantity': 30},\n",
              " 1000002: {'Color': 'Light Pink',\n",
              "  'Company': 'Kaya',\n",
              "  'Name': 'Brightning Day Cream',\n",
              "  'Price': 150,\n",
              "  'Quantity': 10},\n",
              " 1000003: {'Color': 'Black',\n",
              "  'Company': 'Shehnaz Husan',\n",
              "  'Name': 'Eyelyner',\n",
              "  'Price': 500,\n",
              "  'Quantity': 5},\n",
              " 1000004: {'Color': 'Bold Red',\n",
              "  'Company': 'Lakme',\n",
              "  'Name': 'Lipstic',\n",
              "  'Price': 750,\n",
              "  'Quantity': 23},\n",
              " 1000005: {'Color': 'Navy Blue',\n",
              "  'Company': 'Lotus',\n",
              "  'Name': 'White Glow',\n",
              "  'Price': 110,\n",
              "  'Quantity': 50},\n",
              " 1000006: {'Color': 'Gold',\n",
              "  'Company': 'Ptanjali',\n",
              "  'Name': 'Anti Wrinkle',\n",
              "  'Price': 1189,\n",
              "  'Quantity': 1},\n",
              " 1000007: {'Color': 'Light Borwn',\n",
              "  'Company': 'VLCC',\n",
              "  'Name': 'Foundation',\n",
              "  'Price': 1100,\n",
              "  'Quantity': 5},\n",
              " 1000008: {'Color': 'White',\n",
              "  'Company': 'Colorssence',\n",
              "  'Name': 'Nailpaint',\n",
              "  'Price': 11,\n",
              "  'Quantity': 24},\n",
              " 1000009: {'Color': 'Black',\n",
              "  'Company': 'Biotique',\n",
              "  'Name': 'Skin Care',\n",
              "  'Price': 220,\n",
              "  'Quantity': 100},\n",
              " 1000010: {'Color': 'Dark Black',\n",
              "  'Company': 'Milani',\n",
              "  'Name': 'Muskara',\n",
              "  'Price': 1110,\n",
              "  'Quantity': 10},\n",
              " 1000011: {'Color': 'Pink',\n",
              "  'Company': 'Blue heaven',\n",
              "  'Name': 'Lipstic',\n",
              "  'Price': 750,\n",
              "  'Quantity': 50},\n",
              " 1000012: {'Color': 'Light pink',\n",
              "  'Company': 'Viviana',\n",
              "  'Name': 'Makeup remover',\n",
              "  'Price': 350,\n",
              "  'Quantity': 30},\n",
              " 1000013: {'Color': 'Fair White',\n",
              "  'Company': 'Patanjali',\n",
              "  'Name': 'Swarna Kanti',\n",
              "  'Price': 590,\n",
              "  'Quantity': 40},\n",
              " 1000014: {'Color': 'Gold',\n",
              "  'Company': 'Forest Essentials',\n",
              "  'Name': 'Skincare',\n",
              "  'Price': 10,\n",
              "  'Quantity': 10},\n",
              " 1000015: {'Color': 'Pearl White',\n",
              "  'Company': 'Coloressence',\n",
              "  'Name': 'Compact Powder',\n",
              "  'Price': 590,\n",
              "  'Quantity': 35},\n",
              " 1000016: {'Color': 'Pearl White',\n",
              "  'Company': 'VLCC',\n",
              "  'Name': ' Gold Facial kit',\n",
              "  'Price': 2000,\n",
              "  'Quantity': 1},\n",
              " 1000017: {'Color': 'Pop silk',\n",
              "  'Company': 'ELLE 18',\n",
              "  'Name': 'Lipstik',\n",
              "  'Price': 1111,\n",
              "  'Quantity': 100},\n",
              " 1000018: {'Color': 'Dark Red',\n",
              "  'Company': 'VIVIANA',\n",
              "  'Name': 'Kajal Stick',\n",
              "  'Price': 850,\n",
              "  'Quantity': 45},\n",
              " 1000019: {'Color': 'Milky',\n",
              "  'Company': 'PAC',\n",
              "  'Name': 'Intensive Moisturizing',\n",
              "  'Price': 20,\n",
              "  'Quantity': 20},\n",
              " 1000020: {'Color': 'Skin color',\n",
              "  'Company': 'Lakme',\n",
              "  'Name': 'Radiance Cream',\n",
              "  'Price': 450,\n",
              "  'Quantity': 300},\n",
              " 1000021: {'Color': 'POP silky',\n",
              "  'Company': 'olreal',\n",
              "  'Name': 'Skin perfect',\n",
              "  'Price': 2500,\n",
              "  'Quantity': 370},\n",
              " 1000022: {'Color': 'Skin color',\n",
              "  'Company': 'Maybellinge',\n",
              "  'Name': 'Shanglow Plus',\n",
              "  'Price': 710,\n",
              "  'Quantity': 10},\n",
              " 1000023: {'Color': 'Light Green',\n",
              "  'Company': 'Mamaearth',\n",
              "  'Name': 'Whitamin C face cream',\n",
              "  'Price': 599,\n",
              "  'Quantity': 15},\n",
              " 1000024: {'Color': 'Bolg Gold',\n",
              "  'Company': 'Oriflame',\n",
              "  'Name': 'Diamond cellular',\n",
              "  'Price': 1020,\n",
              "  'Quantity': 70},\n",
              " 1000025: {'Color': 'Blue',\n",
              "  'Company': 'Avon',\n",
              "  'Name': 'Sundarya Rdiance',\n",
              "  'Price': 110,\n",
              "  'Quantity': 500},\n",
              " 1000026: {'Color': 'Light DEfence',\n",
              "  'Company': 'Colorbar',\n",
              "  'Name': 'Blue light defence',\n",
              "  'Price': 590,\n",
              "  'Quantity': 300},\n",
              " 1000027: {'Color': 'Silk',\n",
              "  'Company': 'Revlon',\n",
              "  'Name': 'Hydra White',\n",
              "  'Price': 1300,\n",
              "  'Quantity': 450},\n",
              " 1000028: {'Color': 'Black',\n",
              "  'Company': 'NYX',\n",
              "  'Name': 'Sebamed',\n",
              "  'Price': 5550,\n",
              "  'Quantity': 450},\n",
              " 1000029: {'Color': 'Facial',\n",
              "  'Company': 'Nykaa',\n",
              "  'Name': 'Wow',\n",
              "  'Price': 100,\n",
              "  'Quantity': 7},\n",
              " 1000030: {'Color': 'Shiny gold',\n",
              "  'Company': 'Wet ',\n",
              "  'Name': 'Glutathione',\n",
              "  'Price': 1100,\n",
              "  'Quantity': 30},\n",
              " '1000031': {'col': 'Blue',\n",
              "  'com': 'Javeda',\n",
              "  'name': 'Maya',\n",
              "  'pr': 6000,\n",
              "  'qn': 100},\n",
              " '1000032': {'col': 'Orange',\n",
              "  'com': 'Moka',\n",
              "  'name': 'Masumi',\n",
              "  'pr': 2300,\n",
              "  'qn': 50},\n",
              " '1000033': {'col': 'Shiny Gold',\n",
              "  'com': 'Mehrum',\n",
              "  'name': 'Romanch',\n",
              "  'pr': 2900,\n",
              "  'qn': 20},\n",
              " '1000034': {'col': 'White',\n",
              "  'com': 'Ponds',\n",
              "  'name': 'Vaseline',\n",
              "  'pr': 2300,\n",
              "  'qn': 1},\n",
              " '1000035': {'col': 'Green',\n",
              "  'com': 'Colfax',\n",
              "  'name': 'Old Spice',\n",
              "  'pr': 300,\n",
              "  'qn': 4},\n",
              " '1000036': {'col': 'Black',\n",
              "  'com': 'Patanjali',\n",
              "  'name': 'Safedi',\n",
              "  'pr': 690,\n",
              "  'qn': 20},\n",
              " '1000037': {'col': 'Blue',\n",
              "  'com': 'Himalaya',\n",
              "  'name': 'Saundarya',\n",
              "  'pr': 500,\n",
              "  'qn': 25},\n",
              " '1000038': {'col': 'Soil Color',\n",
              "  'com': 'Nature',\n",
              "  'name': 'Facial kit',\n",
              "  'pr': 2000,\n",
              "  'qn': 20},\n",
              " '1000039': {'col': 'Cream',\n",
              "  'com': 'ELLE 18',\n",
              "  'name': 'Muskara',\n",
              "  'pr': 6700,\n",
              "  'qn': 2},\n",
              " '1000040': {'col': 'Yellow',\n",
              "  'com': 'Unilever',\n",
              "  'name': 'Kayra',\n",
              "  'pr': 200,\n",
              "  'qn': 40}}"
            ]
          },
          "metadata": {},
          "execution_count": 16
        }
      ]
    },
    {
      "cell_type": "code",
      "metadata": {
        "colab": {
          "base_uri": "https://localhost:8080/"
        },
        "id": "4FL-YVGdtWs9",
        "outputId": "0c715c73-ae89-4eaf-b019-0bb54ac5b52a"
      },
      "source": [
        "type(js)"
      ],
      "execution_count": 17,
      "outputs": [
        {
          "output_type": "execute_result",
          "data": {
            "text/plain": [
              "str"
            ]
          },
          "metadata": {},
          "execution_count": 17
        }
      ]
    },
    {
      "cell_type": "code",
      "metadata": {
        "id": "r-FQc5qmtaWy"
      },
      "source": [
        "fd = open(\"record.json\",'w')\n",
        "\n",
        "fd.write(js)\n",
        "\n",
        "fd.close()"
      ],
      "execution_count": 18,
      "outputs": []
    },
    {
      "cell_type": "code",
      "metadata": {
        "id": "Q8AsXq2Mtd3N"
      },
      "source": [
        "fd = open(\"record.json\" , 'r')\n",
        "\n",
        "txt = fd.read()\n",
        "record = json.loads(txt)\n",
        "fd.close()"
      ],
      "execution_count": 19,
      "outputs": []
    },
    {
      "cell_type": "code",
      "metadata": {
        "colab": {
          "base_uri": "https://localhost:8080/",
          "height": 135
        },
        "id": "SkGrhHHctrF7",
        "outputId": "142e9c7e-1596-4db8-b67f-68cc5483ab6b"
      },
      "source": [
        "txt"
      ],
      "execution_count": 20,
      "outputs": [
        {
          "output_type": "execute_result",
          "data": {
            "application/vnd.google.colaboratory.intrinsic+json": {
              "type": "string"
            },
            "text/plain": [
              "'{\"1000001\": {\"Name\": \"Baby Cream\", \"Price\": 140, \"Quantity\": 30, \"Company\": \"Himalaya\", \"Color\": \"White\"}, \"1000002\": {\"Name\": \"Brightning Day Cream\", \"Price\": 150, \"Quantity\": 10, \"Company\": \"Kaya\", \"Color\": \"Light Pink\"}, \"1000003\": {\"Name\": \"Eyelyner\", \"Price\": 500, \"Quantity\": 5, \"Company\": \"Shehnaz Husan\", \"Color\": \"Black\"}, \"1000004\": {\"Name\": \"Lipstic\", \"Price\": 750, \"Quantity\": 23, \"Company\": \"Lakme\", \"Color\": \"Bold Red\"}, \"1000005\": {\"Name\": \"White Glow\", \"Price\": 110, \"Quantity\": 50, \"Company\": \"Lotus\", \"Color\": \"Navy Blue\"}, \"1000006\": {\"Name\": \"Anti Wrinkle\", \"Price\": 1189, \"Quantity\": 1, \"Company\": \"Ptanjali\", \"Color\": \"Gold\"}, \"1000007\": {\"Name\": \"Foundation\", \"Price\": 1100, \"Quantity\": 5, \"Company\": \"VLCC\", \"Color\": \"Light Borwn\"}, \"1000008\": {\"Name\": \"Nailpaint\", \"Price\": 11, \"Quantity\": 24, \"Company\": \"Colorssence\", \"Color\": \"White\"}, \"1000009\": {\"Name\": \"Skin Care\", \"Price\": 220, \"Quantity\": 100, \"Company\": \"Biotique\", \"Color\": \"Black\"}, \"1000010\": {\"Name\": \"Muskara\", \"Price\": 1110, \"Quantity\": 10, \"Company\": \"Milani\", \"Color\": \"Dark Black\"}, \"1000011\": {\"Name\": \"Lipstic\", \"Price\": 750, \"Quantity\": 50, \"Company\": \"Blue heaven\", \"Color\": \"Pink\"}, \"1000012\": {\"Name\": \"Makeup remover\", \"Price\": 350, \"Quantity\": 30, \"Company\": \"Viviana\", \"Color\": \"Light pink\"}, \"1000013\": {\"Name\": \"Swarna Kanti\", \"Price\": 590, \"Quantity\": 40, \"Company\": \"Patanjali\", \"Color\": \"Fair White\"}, \"1000014\": {\"Name\": \"Skincare\", \"Price\": 10, \"Quantity\": 10, \"Company\": \"Forest Essentials\", \"Color\": \"Gold\"}, \"1000015\": {\"Name\": \"Compact Powder\", \"Price\": 590, \"Quantity\": 35, \"Company\": \"Coloressence\", \"Color\": \"Pearl White\"}, \"1000016\": {\"Name\": \" Gold Facial kit\", \"Price\": 2000, \"Quantity\": 1, \"Company\": \"VLCC\", \"Color\": \"Pearl White\"}, \"1000017\": {\"Name\": \"Lipstik\", \"Price\": 1111, \"Quantity\": 100, \"Company\": \"ELLE 18\", \"Color\": \"Pop silk\"}, \"1000018\": {\"Name\": \"Kajal Stick\", \"Price\": 850, \"Quantity\": 45, \"Company\": \"VIVIANA\", \"Color\": \"Dark Red\"}, \"1000019\": {\"Name\": \"Intensive Moisturizing\", \"Price\": 20, \"Quantity\": 20, \"Company\": \"PAC\", \"Color\": \"Milky\"}, \"1000020\": {\"Name\": \"Radiance Cream\", \"Price\": 450, \"Quantity\": 300, \"Company\": \"Lakme\", \"Color\": \"Skin color\"}, \"1000021\": {\"Name\": \"Skin perfect\", \"Price\": 2500, \"Quantity\": 370, \"Company\": \"olreal\", \"Color\": \"POP silky\"}, \"1000022\": {\"Name\": \"Shanglow Plus\", \"Price\": 710, \"Quantity\": 10, \"Company\": \"Maybellinge\", \"Color\": \"Skin color\"}, \"1000023\": {\"Name\": \"Whitamin C face cream\", \"Price\": 599, \"Quantity\": 15, \"Company\": \"Mamaearth\", \"Color\": \"Light Green\"}, \"1000024\": {\"Name\": \"Diamond cellular\", \"Price\": 1020, \"Quantity\": 70, \"Company\": \"Oriflame\", \"Color\": \"Bolg Gold\"}, \"1000025\": {\"Name\": \"Sundarya Rdiance\", \"Price\": 110, \"Quantity\": 500, \"Company\": \"Avon\", \"Color\": \"Blue\"}, \"1000026\": {\"Name\": \"Blue light defence\", \"Price\": 590, \"Quantity\": 300, \"Company\": \"Colorbar\", \"Color\": \"Light DEfence\"}, \"1000027\": {\"Name\": \"Hydra White\", \"Price\": 1300, \"Quantity\": 450, \"Company\": \"Revlon\", \"Color\": \"Silk\"}, \"1000028\": {\"Name\": \"Sebamed\", \"Price\": 5550, \"Quantity\": 450, \"Company\": \"NYX\", \"Color\": \"Black\"}, \"1000029\": {\"Name\": \"Wow\", \"Price\": 100, \"Quantity\": 7, \"Company\": \"Nykaa\", \"Color\": \"Facial\"}, \"1000030\": {\"Name\": \"Glutathione\", \"Price\": 1100, \"Quantity\": 30, \"Company\": \"Wet \", \"Color\": \"Shiny gold\"}, \"1000031\": {\"name\": \"Maya\", \"pr\": 6000, \"qn\": 100, \"com\": \"Javeda\", \"col\": \"Blue\"}, \"1000032\": {\"name\": \"Masumi\", \"pr\": 2300, \"qn\": 50, \"com\": \"Moka\", \"col\": \"Orange\"}, \"1000033\": {\"name\": \"Romanch\", \"pr\": 2900, \"qn\": 20, \"com\": \"Mehrum\", \"col\": \"Shiny Gold\"}, \"1000034\": {\"name\": \"Vaseline\", \"pr\": 2300, \"qn\": 1, \"com\": \"Ponds\", \"col\": \"White\"}, \"1000035\": {\"name\": \"Old Spice\", \"pr\": 300, \"qn\": 4, \"com\": \"Colfax\", \"col\": \"Green\"}, \"1000036\": {\"name\": \"Safedi\", \"pr\": 690, \"qn\": 20, \"com\": \"Patanjali\", \"col\": \"Black\"}, \"1000037\": {\"name\": \"Saundarya\", \"pr\": 500, \"qn\": 25, \"com\": \"Himalaya\", \"col\": \"Blue\"}, \"1000038\": {\"name\": \"Facial kit\", \"pr\": 2000, \"qn\": 20, \"com\": \"Nature\", \"col\": \"Soil Color\"}, \"1000040\": {\"name\": \"Kayra\", \"pr\": 200, \"qn\": 40, \"com\": \"Unilever\", \"col\": \"Yellow\"}, \"1000039\": {\"name\": \"Muskara\", \"pr\": 6700, \"qn\": 2, \"com\": \"ELLE 18\", \"col\": \"Cream\"}}'"
            ]
          },
          "metadata": {},
          "execution_count": 20
        }
      ]
    },
    {
      "cell_type": "code",
      "metadata": {
        "colab": {
          "base_uri": "https://localhost:8080/"
        },
        "id": "_UmOyc-Qtu1R",
        "outputId": "d19ae0d9-b8a4-4481-b0e9-8c79b4e55039"
      },
      "source": [
        "type(txt)"
      ],
      "execution_count": 21,
      "outputs": [
        {
          "output_type": "execute_result",
          "data": {
            "text/plain": [
              "str"
            ]
          },
          "metadata": {},
          "execution_count": 21
        }
      ]
    },
    {
      "cell_type": "markdown",
      "metadata": {
        "id": "iIQLL-jMtyzo"
      },
      "source": [
        "#**Find keys() and values()**"
      ]
    },
    {
      "cell_type": "code",
      "metadata": {
        "id": "rvGqd2g6t7rN"
      },
      "source": [
        "record = json.loads(txt)"
      ],
      "execution_count": 22,
      "outputs": []
    },
    {
      "cell_type": "code",
      "metadata": {
        "colab": {
          "base_uri": "https://localhost:8080/"
        },
        "id": "v7S4QdOMuDiI",
        "outputId": "d4541447-08a7-4503-c01a-e0a070c5a928"
      },
      "source": [
        "record"
      ],
      "execution_count": 23,
      "outputs": [
        {
          "output_type": "execute_result",
          "data": {
            "text/plain": [
              "{'1000001': {'Color': 'White',\n",
              "  'Company': 'Himalaya',\n",
              "  'Name': 'Baby Cream',\n",
              "  'Price': 140,\n",
              "  'Quantity': 30},\n",
              " '1000002': {'Color': 'Light Pink',\n",
              "  'Company': 'Kaya',\n",
              "  'Name': 'Brightning Day Cream',\n",
              "  'Price': 150,\n",
              "  'Quantity': 10},\n",
              " '1000003': {'Color': 'Black',\n",
              "  'Company': 'Shehnaz Husan',\n",
              "  'Name': 'Eyelyner',\n",
              "  'Price': 500,\n",
              "  'Quantity': 5},\n",
              " '1000004': {'Color': 'Bold Red',\n",
              "  'Company': 'Lakme',\n",
              "  'Name': 'Lipstic',\n",
              "  'Price': 750,\n",
              "  'Quantity': 23},\n",
              " '1000005': {'Color': 'Navy Blue',\n",
              "  'Company': 'Lotus',\n",
              "  'Name': 'White Glow',\n",
              "  'Price': 110,\n",
              "  'Quantity': 50},\n",
              " '1000006': {'Color': 'Gold',\n",
              "  'Company': 'Ptanjali',\n",
              "  'Name': 'Anti Wrinkle',\n",
              "  'Price': 1189,\n",
              "  'Quantity': 1},\n",
              " '1000007': {'Color': 'Light Borwn',\n",
              "  'Company': 'VLCC',\n",
              "  'Name': 'Foundation',\n",
              "  'Price': 1100,\n",
              "  'Quantity': 5},\n",
              " '1000008': {'Color': 'White',\n",
              "  'Company': 'Colorssence',\n",
              "  'Name': 'Nailpaint',\n",
              "  'Price': 11,\n",
              "  'Quantity': 24},\n",
              " '1000009': {'Color': 'Black',\n",
              "  'Company': 'Biotique',\n",
              "  'Name': 'Skin Care',\n",
              "  'Price': 220,\n",
              "  'Quantity': 100},\n",
              " '1000010': {'Color': 'Dark Black',\n",
              "  'Company': 'Milani',\n",
              "  'Name': 'Muskara',\n",
              "  'Price': 1110,\n",
              "  'Quantity': 10},\n",
              " '1000011': {'Color': 'Pink',\n",
              "  'Company': 'Blue heaven',\n",
              "  'Name': 'Lipstic',\n",
              "  'Price': 750,\n",
              "  'Quantity': 50},\n",
              " '1000012': {'Color': 'Light pink',\n",
              "  'Company': 'Viviana',\n",
              "  'Name': 'Makeup remover',\n",
              "  'Price': 350,\n",
              "  'Quantity': 30},\n",
              " '1000013': {'Color': 'Fair White',\n",
              "  'Company': 'Patanjali',\n",
              "  'Name': 'Swarna Kanti',\n",
              "  'Price': 590,\n",
              "  'Quantity': 40},\n",
              " '1000014': {'Color': 'Gold',\n",
              "  'Company': 'Forest Essentials',\n",
              "  'Name': 'Skincare',\n",
              "  'Price': 10,\n",
              "  'Quantity': 10},\n",
              " '1000015': {'Color': 'Pearl White',\n",
              "  'Company': 'Coloressence',\n",
              "  'Name': 'Compact Powder',\n",
              "  'Price': 590,\n",
              "  'Quantity': 35},\n",
              " '1000016': {'Color': 'Pearl White',\n",
              "  'Company': 'VLCC',\n",
              "  'Name': ' Gold Facial kit',\n",
              "  'Price': 2000,\n",
              "  'Quantity': 1},\n",
              " '1000017': {'Color': 'Pop silk',\n",
              "  'Company': 'ELLE 18',\n",
              "  'Name': 'Lipstik',\n",
              "  'Price': 1111,\n",
              "  'Quantity': 100},\n",
              " '1000018': {'Color': 'Dark Red',\n",
              "  'Company': 'VIVIANA',\n",
              "  'Name': 'Kajal Stick',\n",
              "  'Price': 850,\n",
              "  'Quantity': 45},\n",
              " '1000019': {'Color': 'Milky',\n",
              "  'Company': 'PAC',\n",
              "  'Name': 'Intensive Moisturizing',\n",
              "  'Price': 20,\n",
              "  'Quantity': 20},\n",
              " '1000020': {'Color': 'Skin color',\n",
              "  'Company': 'Lakme',\n",
              "  'Name': 'Radiance Cream',\n",
              "  'Price': 450,\n",
              "  'Quantity': 300},\n",
              " '1000021': {'Color': 'POP silky',\n",
              "  'Company': 'olreal',\n",
              "  'Name': 'Skin perfect',\n",
              "  'Price': 2500,\n",
              "  'Quantity': 370},\n",
              " '1000022': {'Color': 'Skin color',\n",
              "  'Company': 'Maybellinge',\n",
              "  'Name': 'Shanglow Plus',\n",
              "  'Price': 710,\n",
              "  'Quantity': 10},\n",
              " '1000023': {'Color': 'Light Green',\n",
              "  'Company': 'Mamaearth',\n",
              "  'Name': 'Whitamin C face cream',\n",
              "  'Price': 599,\n",
              "  'Quantity': 15},\n",
              " '1000024': {'Color': 'Bolg Gold',\n",
              "  'Company': 'Oriflame',\n",
              "  'Name': 'Diamond cellular',\n",
              "  'Price': 1020,\n",
              "  'Quantity': 70},\n",
              " '1000025': {'Color': 'Blue',\n",
              "  'Company': 'Avon',\n",
              "  'Name': 'Sundarya Rdiance',\n",
              "  'Price': 110,\n",
              "  'Quantity': 500},\n",
              " '1000026': {'Color': 'Light DEfence',\n",
              "  'Company': 'Colorbar',\n",
              "  'Name': 'Blue light defence',\n",
              "  'Price': 590,\n",
              "  'Quantity': 300},\n",
              " '1000027': {'Color': 'Silk',\n",
              "  'Company': 'Revlon',\n",
              "  'Name': 'Hydra White',\n",
              "  'Price': 1300,\n",
              "  'Quantity': 450},\n",
              " '1000028': {'Color': 'Black',\n",
              "  'Company': 'NYX',\n",
              "  'Name': 'Sebamed',\n",
              "  'Price': 5550,\n",
              "  'Quantity': 450},\n",
              " '1000029': {'Color': 'Facial',\n",
              "  'Company': 'Nykaa',\n",
              "  'Name': 'Wow',\n",
              "  'Price': 100,\n",
              "  'Quantity': 7},\n",
              " '1000030': {'Color': 'Shiny gold',\n",
              "  'Company': 'Wet ',\n",
              "  'Name': 'Glutathione',\n",
              "  'Price': 1100,\n",
              "  'Quantity': 30},\n",
              " '1000031': {'col': 'Blue',\n",
              "  'com': 'Javeda',\n",
              "  'name': 'Maya',\n",
              "  'pr': 6000,\n",
              "  'qn': 100},\n",
              " '1000032': {'col': 'Orange',\n",
              "  'com': 'Moka',\n",
              "  'name': 'Masumi',\n",
              "  'pr': 2300,\n",
              "  'qn': 50},\n",
              " '1000033': {'col': 'Shiny Gold',\n",
              "  'com': 'Mehrum',\n",
              "  'name': 'Romanch',\n",
              "  'pr': 2900,\n",
              "  'qn': 20},\n",
              " '1000034': {'col': 'White',\n",
              "  'com': 'Ponds',\n",
              "  'name': 'Vaseline',\n",
              "  'pr': 2300,\n",
              "  'qn': 1},\n",
              " '1000035': {'col': 'Green',\n",
              "  'com': 'Colfax',\n",
              "  'name': 'Old Spice',\n",
              "  'pr': 300,\n",
              "  'qn': 4},\n",
              " '1000036': {'col': 'Black',\n",
              "  'com': 'Patanjali',\n",
              "  'name': 'Safedi',\n",
              "  'pr': 690,\n",
              "  'qn': 20},\n",
              " '1000037': {'col': 'Blue',\n",
              "  'com': 'Himalaya',\n",
              "  'name': 'Saundarya',\n",
              "  'pr': 500,\n",
              "  'qn': 25},\n",
              " '1000038': {'col': 'Soil Color',\n",
              "  'com': 'Nature',\n",
              "  'name': 'Facial kit',\n",
              "  'pr': 2000,\n",
              "  'qn': 20},\n",
              " '1000039': {'col': 'Cream',\n",
              "  'com': 'ELLE 18',\n",
              "  'name': 'Muskara',\n",
              "  'pr': 6700,\n",
              "  'qn': 2},\n",
              " '1000040': {'col': 'Yellow',\n",
              "  'com': 'Unilever',\n",
              "  'name': 'Kayra',\n",
              "  'pr': 200,\n",
              "  'qn': 40}}"
            ]
          },
          "metadata": {},
          "execution_count": 23
        }
      ]
    },
    {
      "cell_type": "code",
      "metadata": {
        "colab": {
          "base_uri": "https://localhost:8080/"
        },
        "id": "uStoVXORuPJf",
        "outputId": "954d5f09-de1a-40ad-a19a-70a1d0cffd07"
      },
      "source": [
        "record.keys()"
      ],
      "execution_count": 25,
      "outputs": [
        {
          "output_type": "execute_result",
          "data": {
            "text/plain": [
              "dict_keys(['1000001', '1000002', '1000003', '1000004', '1000005', '1000006', '1000007', '1000008', '1000009', '1000010', '1000011', '1000012', '1000013', '1000014', '1000015', '1000016', '1000017', '1000018', '1000019', '1000020', '1000021', '1000022', '1000023', '1000024', '1000025', '1000026', '1000027', '1000028', '1000029', '1000030', '1000031', '1000032', '1000033', '1000034', '1000035', '1000036', '1000037', '1000038', '1000040', '1000039'])"
            ]
          },
          "metadata": {},
          "execution_count": 25
        }
      ]
    },
    {
      "cell_type": "code",
      "metadata": {
        "colab": {
          "base_uri": "https://localhost:8080/"
        },
        "id": "glMcmtaMuJxE",
        "outputId": "b065d0fb-6c24-405e-bd5e-0838c9a236cf"
      },
      "source": [
        "record.values()"
      ],
      "execution_count": 24,
      "outputs": [
        {
          "output_type": "execute_result",
          "data": {
            "text/plain": [
              "dict_values([{'Name': 'Baby Cream', 'Price': 140, 'Quantity': 30, 'Company': 'Himalaya', 'Color': 'White'}, {'Name': 'Brightning Day Cream', 'Price': 150, 'Quantity': 10, 'Company': 'Kaya', 'Color': 'Light Pink'}, {'Name': 'Eyelyner', 'Price': 500, 'Quantity': 5, 'Company': 'Shehnaz Husan', 'Color': 'Black'}, {'Name': 'Lipstic', 'Price': 750, 'Quantity': 23, 'Company': 'Lakme', 'Color': 'Bold Red'}, {'Name': 'White Glow', 'Price': 110, 'Quantity': 50, 'Company': 'Lotus', 'Color': 'Navy Blue'}, {'Name': 'Anti Wrinkle', 'Price': 1189, 'Quantity': 1, 'Company': 'Ptanjali', 'Color': 'Gold'}, {'Name': 'Foundation', 'Price': 1100, 'Quantity': 5, 'Company': 'VLCC', 'Color': 'Light Borwn'}, {'Name': 'Nailpaint', 'Price': 11, 'Quantity': 24, 'Company': 'Colorssence', 'Color': 'White'}, {'Name': 'Skin Care', 'Price': 220, 'Quantity': 100, 'Company': 'Biotique', 'Color': 'Black'}, {'Name': 'Muskara', 'Price': 1110, 'Quantity': 10, 'Company': 'Milani', 'Color': 'Dark Black'}, {'Name': 'Lipstic', 'Price': 750, 'Quantity': 50, 'Company': 'Blue heaven', 'Color': 'Pink'}, {'Name': 'Makeup remover', 'Price': 350, 'Quantity': 30, 'Company': 'Viviana', 'Color': 'Light pink'}, {'Name': 'Swarna Kanti', 'Price': 590, 'Quantity': 40, 'Company': 'Patanjali', 'Color': 'Fair White'}, {'Name': 'Skincare', 'Price': 10, 'Quantity': 10, 'Company': 'Forest Essentials', 'Color': 'Gold'}, {'Name': 'Compact Powder', 'Price': 590, 'Quantity': 35, 'Company': 'Coloressence', 'Color': 'Pearl White'}, {'Name': ' Gold Facial kit', 'Price': 2000, 'Quantity': 1, 'Company': 'VLCC', 'Color': 'Pearl White'}, {'Name': 'Lipstik', 'Price': 1111, 'Quantity': 100, 'Company': 'ELLE 18', 'Color': 'Pop silk'}, {'Name': 'Kajal Stick', 'Price': 850, 'Quantity': 45, 'Company': 'VIVIANA', 'Color': 'Dark Red'}, {'Name': 'Intensive Moisturizing', 'Price': 20, 'Quantity': 20, 'Company': 'PAC', 'Color': 'Milky'}, {'Name': 'Radiance Cream', 'Price': 450, 'Quantity': 300, 'Company': 'Lakme', 'Color': 'Skin color'}, {'Name': 'Skin perfect', 'Price': 2500, 'Quantity': 370, 'Company': 'olreal', 'Color': 'POP silky'}, {'Name': 'Shanglow Plus', 'Price': 710, 'Quantity': 10, 'Company': 'Maybellinge', 'Color': 'Skin color'}, {'Name': 'Whitamin C face cream', 'Price': 599, 'Quantity': 15, 'Company': 'Mamaearth', 'Color': 'Light Green'}, {'Name': 'Diamond cellular', 'Price': 1020, 'Quantity': 70, 'Company': 'Oriflame', 'Color': 'Bolg Gold'}, {'Name': 'Sundarya Rdiance', 'Price': 110, 'Quantity': 500, 'Company': 'Avon', 'Color': 'Blue'}, {'Name': 'Blue light defence', 'Price': 590, 'Quantity': 300, 'Company': 'Colorbar', 'Color': 'Light DEfence'}, {'Name': 'Hydra White', 'Price': 1300, 'Quantity': 450, 'Company': 'Revlon', 'Color': 'Silk'}, {'Name': 'Sebamed', 'Price': 5550, 'Quantity': 450, 'Company': 'NYX', 'Color': 'Black'}, {'Name': 'Wow', 'Price': 100, 'Quantity': 7, 'Company': 'Nykaa', 'Color': 'Facial'}, {'Name': 'Glutathione', 'Price': 1100, 'Quantity': 30, 'Company': 'Wet ', 'Color': 'Shiny gold'}, {'name': 'Maya', 'pr': 6000, 'qn': 100, 'com': 'Javeda', 'col': 'Blue'}, {'name': 'Masumi', 'pr': 2300, 'qn': 50, 'com': 'Moka', 'col': 'Orange'}, {'name': 'Romanch', 'pr': 2900, 'qn': 20, 'com': 'Mehrum', 'col': 'Shiny Gold'}, {'name': 'Vaseline', 'pr': 2300, 'qn': 1, 'com': 'Ponds', 'col': 'White'}, {'name': 'Old Spice', 'pr': 300, 'qn': 4, 'com': 'Colfax', 'col': 'Green'}, {'name': 'Safedi', 'pr': 690, 'qn': 20, 'com': 'Patanjali', 'col': 'Black'}, {'name': 'Saundarya', 'pr': 500, 'qn': 25, 'com': 'Himalaya', 'col': 'Blue'}, {'name': 'Facial kit', 'pr': 2000, 'qn': 20, 'com': 'Nature', 'col': 'Soil Color'}, {'name': 'Kayra', 'pr': 200, 'qn': 40, 'com': 'Unilever', 'col': 'Yellow'}, {'name': 'Muskara', 'pr': 6700, 'qn': 2, 'com': 'ELLE 18', 'col': 'Cream'}])"
            ]
          },
          "metadata": {},
          "execution_count": 24
        }
      ]
    },
    {
      "cell_type": "code",
      "metadata": {
        "colab": {
          "base_uri": "https://localhost:8080/"
        },
        "id": "BbE64AFRuL2U",
        "outputId": "708425c4-386b-495f-afef-78e2c6acd560"
      },
      "source": [
        "record['1000001']"
      ],
      "execution_count": 26,
      "outputs": [
        {
          "output_type": "execute_result",
          "data": {
            "text/plain": [
              "{'Color': 'White',\n",
              " 'Company': 'Himalaya',\n",
              " 'Name': 'Baby Cream',\n",
              " 'Price': 140,\n",
              " 'Quantity': 30}"
            ]
          },
          "metadata": {},
          "execution_count": 26
        }
      ]
    },
    {
      "cell_type": "code",
      "metadata": {
        "colab": {
          "base_uri": "https://localhost:8080/"
        },
        "id": "VeII7z0quX_U",
        "outputId": "7389365b-94e7-4984-f993-e3a59a380e14"
      },
      "source": [
        "record['1000005']"
      ],
      "execution_count": 27,
      "outputs": [
        {
          "output_type": "execute_result",
          "data": {
            "text/plain": [
              "{'Color': 'Navy Blue',\n",
              " 'Company': 'Lotus',\n",
              " 'Name': 'White Glow',\n",
              " 'Price': 110,\n",
              " 'Quantity': 50}"
            ]
          },
          "metadata": {},
          "execution_count": 27
        }
      ]
    },
    {
      "cell_type": "code",
      "metadata": {
        "colab": {
          "base_uri": "https://localhost:8080/"
        },
        "id": "vKiKESZoucuZ",
        "outputId": "d1ad2f39-4d96-4474-d786-6f87f60c8b1a"
      },
      "source": [
        "record['1000010']"
      ],
      "execution_count": 28,
      "outputs": [
        {
          "output_type": "execute_result",
          "data": {
            "text/plain": [
              "{'Color': 'Dark Black',\n",
              " 'Company': 'Milani',\n",
              " 'Name': 'Muskara',\n",
              " 'Price': 1110,\n",
              " 'Quantity': 10}"
            ]
          },
          "metadata": {},
          "execution_count": 28
        }
      ]
    },
    {
      "cell_type": "code",
      "metadata": {
        "colab": {
          "base_uri": "https://localhost:8080/"
        },
        "id": "E3z2Y_Yrugk5",
        "outputId": "bc66783a-0858-43c9-8423-e42f05a351a0"
      },
      "source": [
        "record['1000020']"
      ],
      "execution_count": 29,
      "outputs": [
        {
          "output_type": "execute_result",
          "data": {
            "text/plain": [
              "{'Color': 'Skin color',\n",
              " 'Company': 'Lakme',\n",
              " 'Name': 'Radiance Cream',\n",
              " 'Price': 450,\n",
              " 'Quantity': 300}"
            ]
          },
          "metadata": {},
          "execution_count": 29
        }
      ]
    },
    {
      "cell_type": "code",
      "metadata": {
        "colab": {
          "base_uri": "https://localhost:8080/"
        },
        "id": "YCfYRSN0ulGr",
        "outputId": "e198c47f-241a-483f-f8db-cf68466a79a7"
      },
      "source": [
        "record['1000030']"
      ],
      "execution_count": 30,
      "outputs": [
        {
          "output_type": "execute_result",
          "data": {
            "text/plain": [
              "{'Color': 'Shiny gold',\n",
              " 'Company': 'Wet ',\n",
              " 'Name': 'Glutathione',\n",
              " 'Price': 1100,\n",
              " 'Quantity': 30}"
            ]
          },
          "metadata": {},
          "execution_count": 30
        }
      ]
    },
    {
      "cell_type": "code",
      "metadata": {
        "colab": {
          "base_uri": "https://localhost:8080/"
        },
        "id": "P8MEwM6Mumsh",
        "outputId": "6077dba6-1a70-4b66-b665-c3869ffc789a"
      },
      "source": [
        "record['1000005']['Price']"
      ],
      "execution_count": 31,
      "outputs": [
        {
          "output_type": "execute_result",
          "data": {
            "text/plain": [
              "110"
            ]
          },
          "metadata": {},
          "execution_count": 31
        }
      ]
    },
    {
      "cell_type": "code",
      "metadata": {
        "colab": {
          "base_uri": "https://localhost:8080/",
          "height": 35
        },
        "id": "4j9Xr1Nouup-",
        "outputId": "35d81b7f-2175-45a4-b2aa-0716e9e329da"
      },
      "source": [
        "record['1000010']['Name']"
      ],
      "execution_count": 32,
      "outputs": [
        {
          "output_type": "execute_result",
          "data": {
            "application/vnd.google.colaboratory.intrinsic+json": {
              "type": "string"
            },
            "text/plain": [
              "'Muskara'"
            ]
          },
          "metadata": {},
          "execution_count": 32
        }
      ]
    },
    {
      "cell_type": "code",
      "metadata": {
        "colab": {
          "base_uri": "https://localhost:8080/",
          "height": 35
        },
        "id": "GX8jQKcJuv3T",
        "outputId": "f835a882-8e3f-43f6-f41f-f1433cbaa438"
      },
      "source": [
        "record['1000010']['Color']"
      ],
      "execution_count": 33,
      "outputs": [
        {
          "output_type": "execute_result",
          "data": {
            "application/vnd.google.colaboratory.intrinsic+json": {
              "type": "string"
            },
            "text/plain": [
              "'Dark Black'"
            ]
          },
          "metadata": {},
          "execution_count": 33
        }
      ]
    },
    {
      "cell_type": "code",
      "metadata": {
        "colab": {
          "base_uri": "https://localhost:8080/",
          "height": 35
        },
        "id": "DD2JBUsGu02T",
        "outputId": "a02d2670-bedd-4475-b1b9-80f2693fc552"
      },
      "source": [
        "record['1000020']['Company']"
      ],
      "execution_count": 34,
      "outputs": [
        {
          "output_type": "execute_result",
          "data": {
            "application/vnd.google.colaboratory.intrinsic+json": {
              "type": "string"
            },
            "text/plain": [
              "'Lakme'"
            ]
          },
          "metadata": {},
          "execution_count": 34
        }
      ]
    },
    {
      "cell_type": "code",
      "metadata": {
        "colab": {
          "base_uri": "https://localhost:8080/"
        },
        "id": "BbjHpScku4rR",
        "outputId": "f1b5e95b-9388-4f0c-dfdf-5d97ea6dc901"
      },
      "source": [
        "record['1000015']['Quantity']"
      ],
      "execution_count": 35,
      "outputs": [
        {
          "output_type": "execute_result",
          "data": {
            "text/plain": [
              "35"
            ]
          },
          "metadata": {},
          "execution_count": 35
        }
      ]
    },
    {
      "cell_type": "markdown",
      "metadata": {
        "id": "aX0PXlLju9vr"
      },
      "source": [
        "#**Check Date and Time**"
      ]
    },
    {
      "cell_type": "code",
      "metadata": {
        "id": "P9MxcWizu6tt"
      },
      "source": [
        "import time"
      ],
      "execution_count": 36,
      "outputs": []
    },
    {
      "cell_type": "code",
      "metadata": {
        "colab": {
          "base_uri": "https://localhost:8080/",
          "height": 35
        },
        "id": "o0ArW56svCAj",
        "outputId": "ca2153cc-75a9-4456-ae67-e241debd44a8"
      },
      "source": [
        "time.ctime()"
      ],
      "execution_count": 37,
      "outputs": [
        {
          "output_type": "execute_result",
          "data": {
            "application/vnd.google.colaboratory.intrinsic+json": {
              "type": "string"
            },
            "text/plain": [
              "'Mon Sep  6 10:51:47 2021'"
            ]
          },
          "metadata": {},
          "execution_count": 37
        }
      ]
    },
    {
      "cell_type": "markdown",
      "metadata": {
        "id": "Aio5rIADvIWD"
      },
      "source": [
        "#**Purchase inventory**"
      ]
    },
    {
      "cell_type": "code",
      "metadata": {
        "id": "l0Hn7aFcvLQZ"
      },
      "source": [
        "fd = open(\"record.json\",'r')\n",
        "r = fd.read()\n",
        "fd.close()\n",
        "\n",
        "records = json.loads(r)"
      ],
      "execution_count": 38,
      "outputs": []
    },
    {
      "cell_type": "code",
      "metadata": {
        "colab": {
          "base_uri": "https://localhost:8080/"
        },
        "id": "4FuR_V77vPOV",
        "outputId": "4dc96667-973b-4d55-e281-d99cd44f5c78"
      },
      "source": [
        "records"
      ],
      "execution_count": 39,
      "outputs": [
        {
          "output_type": "execute_result",
          "data": {
            "text/plain": [
              "{'1000001': {'Color': 'White',\n",
              "  'Company': 'Himalaya',\n",
              "  'Name': 'Baby Cream',\n",
              "  'Price': 140,\n",
              "  'Quantity': 30},\n",
              " '1000002': {'Color': 'Light Pink',\n",
              "  'Company': 'Kaya',\n",
              "  'Name': 'Brightning Day Cream',\n",
              "  'Price': 150,\n",
              "  'Quantity': 10},\n",
              " '1000003': {'Color': 'Black',\n",
              "  'Company': 'Shehnaz Husan',\n",
              "  'Name': 'Eyelyner',\n",
              "  'Price': 500,\n",
              "  'Quantity': 5},\n",
              " '1000004': {'Color': 'Bold Red',\n",
              "  'Company': 'Lakme',\n",
              "  'Name': 'Lipstic',\n",
              "  'Price': 750,\n",
              "  'Quantity': 23},\n",
              " '1000005': {'Color': 'Navy Blue',\n",
              "  'Company': 'Lotus',\n",
              "  'Name': 'White Glow',\n",
              "  'Price': 110,\n",
              "  'Quantity': 50},\n",
              " '1000006': {'Color': 'Gold',\n",
              "  'Company': 'Ptanjali',\n",
              "  'Name': 'Anti Wrinkle',\n",
              "  'Price': 1189,\n",
              "  'Quantity': 1},\n",
              " '1000007': {'Color': 'Light Borwn',\n",
              "  'Company': 'VLCC',\n",
              "  'Name': 'Foundation',\n",
              "  'Price': 1100,\n",
              "  'Quantity': 5},\n",
              " '1000008': {'Color': 'White',\n",
              "  'Company': 'Colorssence',\n",
              "  'Name': 'Nailpaint',\n",
              "  'Price': 11,\n",
              "  'Quantity': 24},\n",
              " '1000009': {'Color': 'Black',\n",
              "  'Company': 'Biotique',\n",
              "  'Name': 'Skin Care',\n",
              "  'Price': 220,\n",
              "  'Quantity': 100},\n",
              " '1000010': {'Color': 'Dark Black',\n",
              "  'Company': 'Milani',\n",
              "  'Name': 'Muskara',\n",
              "  'Price': 1110,\n",
              "  'Quantity': 10},\n",
              " '1000011': {'Color': 'Pink',\n",
              "  'Company': 'Blue heaven',\n",
              "  'Name': 'Lipstic',\n",
              "  'Price': 750,\n",
              "  'Quantity': 50},\n",
              " '1000012': {'Color': 'Light pink',\n",
              "  'Company': 'Viviana',\n",
              "  'Name': 'Makeup remover',\n",
              "  'Price': 350,\n",
              "  'Quantity': 30},\n",
              " '1000013': {'Color': 'Fair White',\n",
              "  'Company': 'Patanjali',\n",
              "  'Name': 'Swarna Kanti',\n",
              "  'Price': 590,\n",
              "  'Quantity': 40},\n",
              " '1000014': {'Color': 'Gold',\n",
              "  'Company': 'Forest Essentials',\n",
              "  'Name': 'Skincare',\n",
              "  'Price': 10,\n",
              "  'Quantity': 10},\n",
              " '1000015': {'Color': 'Pearl White',\n",
              "  'Company': 'Coloressence',\n",
              "  'Name': 'Compact Powder',\n",
              "  'Price': 590,\n",
              "  'Quantity': 35},\n",
              " '1000016': {'Color': 'Pearl White',\n",
              "  'Company': 'VLCC',\n",
              "  'Name': ' Gold Facial kit',\n",
              "  'Price': 2000,\n",
              "  'Quantity': 1},\n",
              " '1000017': {'Color': 'Pop silk',\n",
              "  'Company': 'ELLE 18',\n",
              "  'Name': 'Lipstik',\n",
              "  'Price': 1111,\n",
              "  'Quantity': 100},\n",
              " '1000018': {'Color': 'Dark Red',\n",
              "  'Company': 'VIVIANA',\n",
              "  'Name': 'Kajal Stick',\n",
              "  'Price': 850,\n",
              "  'Quantity': 45},\n",
              " '1000019': {'Color': 'Milky',\n",
              "  'Company': 'PAC',\n",
              "  'Name': 'Intensive Moisturizing',\n",
              "  'Price': 20,\n",
              "  'Quantity': 20},\n",
              " '1000020': {'Color': 'Skin color',\n",
              "  'Company': 'Lakme',\n",
              "  'Name': 'Radiance Cream',\n",
              "  'Price': 450,\n",
              "  'Quantity': 300},\n",
              " '1000021': {'Color': 'POP silky',\n",
              "  'Company': 'olreal',\n",
              "  'Name': 'Skin perfect',\n",
              "  'Price': 2500,\n",
              "  'Quantity': 370},\n",
              " '1000022': {'Color': 'Skin color',\n",
              "  'Company': 'Maybellinge',\n",
              "  'Name': 'Shanglow Plus',\n",
              "  'Price': 710,\n",
              "  'Quantity': 10},\n",
              " '1000023': {'Color': 'Light Green',\n",
              "  'Company': 'Mamaearth',\n",
              "  'Name': 'Whitamin C face cream',\n",
              "  'Price': 599,\n",
              "  'Quantity': 15},\n",
              " '1000024': {'Color': 'Bolg Gold',\n",
              "  'Company': 'Oriflame',\n",
              "  'Name': 'Diamond cellular',\n",
              "  'Price': 1020,\n",
              "  'Quantity': 70},\n",
              " '1000025': {'Color': 'Blue',\n",
              "  'Company': 'Avon',\n",
              "  'Name': 'Sundarya Rdiance',\n",
              "  'Price': 110,\n",
              "  'Quantity': 500},\n",
              " '1000026': {'Color': 'Light DEfence',\n",
              "  'Company': 'Colorbar',\n",
              "  'Name': 'Blue light defence',\n",
              "  'Price': 590,\n",
              "  'Quantity': 300},\n",
              " '1000027': {'Color': 'Silk',\n",
              "  'Company': 'Revlon',\n",
              "  'Name': 'Hydra White',\n",
              "  'Price': 1300,\n",
              "  'Quantity': 450},\n",
              " '1000028': {'Color': 'Black',\n",
              "  'Company': 'NYX',\n",
              "  'Name': 'Sebamed',\n",
              "  'Price': 5550,\n",
              "  'Quantity': 450},\n",
              " '1000029': {'Color': 'Facial',\n",
              "  'Company': 'Nykaa',\n",
              "  'Name': 'Wow',\n",
              "  'Price': 100,\n",
              "  'Quantity': 7},\n",
              " '1000030': {'Color': 'Shiny gold',\n",
              "  'Company': 'Wet ',\n",
              "  'Name': 'Glutathione',\n",
              "  'Price': 1100,\n",
              "  'Quantity': 30},\n",
              " '1000031': {'col': 'Blue',\n",
              "  'com': 'Javeda',\n",
              "  'name': 'Maya',\n",
              "  'pr': 6000,\n",
              "  'qn': 100},\n",
              " '1000032': {'col': 'Orange',\n",
              "  'com': 'Moka',\n",
              "  'name': 'Masumi',\n",
              "  'pr': 2300,\n",
              "  'qn': 50},\n",
              " '1000033': {'col': 'Shiny Gold',\n",
              "  'com': 'Mehrum',\n",
              "  'name': 'Romanch',\n",
              "  'pr': 2900,\n",
              "  'qn': 20},\n",
              " '1000034': {'col': 'White',\n",
              "  'com': 'Ponds',\n",
              "  'name': 'Vaseline',\n",
              "  'pr': 2300,\n",
              "  'qn': 1},\n",
              " '1000035': {'col': 'Green',\n",
              "  'com': 'Colfax',\n",
              "  'name': 'Old Spice',\n",
              "  'pr': 300,\n",
              "  'qn': 4},\n",
              " '1000036': {'col': 'Black',\n",
              "  'com': 'Patanjali',\n",
              "  'name': 'Safedi',\n",
              "  'pr': 690,\n",
              "  'qn': 20},\n",
              " '1000037': {'col': 'Blue',\n",
              "  'com': 'Himalaya',\n",
              "  'name': 'Saundarya',\n",
              "  'pr': 500,\n",
              "  'qn': 25},\n",
              " '1000038': {'col': 'Soil Color',\n",
              "  'com': 'Nature',\n",
              "  'name': 'Facial kit',\n",
              "  'pr': 2000,\n",
              "  'qn': 20},\n",
              " '1000039': {'col': 'Cream',\n",
              "  'com': 'ELLE 18',\n",
              "  'name': 'Muskara',\n",
              "  'pr': 6700,\n",
              "  'qn': 2},\n",
              " '1000040': {'col': 'Yellow',\n",
              "  'com': 'Unilever',\n",
              "  'name': 'Kayra',\n",
              "  'pr': 200,\n",
              "  'qn': 40}}"
            ]
          },
          "metadata": {},
          "execution_count": 39
        }
      ]
    },
    {
      "cell_type": "markdown",
      "metadata": {
        "id": "Q7JUYOJdvfif"
      },
      "source": [
        "#**Purchase if chice is 1**"
      ]
    },
    {
      "cell_type": "code",
      "metadata": {
        "colab": {
          "base_uri": "https://localhost:8080/"
        },
        "id": "iY96_XyTve1L",
        "outputId": "2b9f01ec-dea9-469a-88d8-fb6b6c8f408c"
      },
      "source": [
        "import json\n",
        "import time\n",
        "import datetime\n",
        "\n",
        "a_name=input(\"Please enter your name: \")\n",
        "print(f\"Hello {a_name} ! Welcome to our Shopping Store. Buy Products at Discounted & Cheapest Rate !!\")\n",
        "\n",
        "\n",
        "print(\"********************************************************************************************\")\n",
        "\n",
        "print(f\"--------------------WELCOME {a_name}  TO THE COSMETIC SHOP -------------------------------------\")\n",
        "\n",
        "print(\"*******************************************************************************************\")\n",
        "\n",
        "\n",
        "\n",
        "    \n",
        "def exit():\n",
        "    pass\n",
        "\n",
        "def itemPurchase():\n",
        "    with open (\"record.json\",\"r\") as fd:\n",
        "        r = fd.read()\n",
        "        records = json.loads(r)\n",
        "    print(\"Loading items ... Please Wait !!!\")\n",
        "    time.sleep(3)\n",
        "    print(f\"Items Available at Our Stores are {records} \")\n",
        "    bill = 0\n",
        "    i = 0\n",
        "    num_items = 100\n",
        "    ls_items = []\n",
        "    while(num_items > 0):\n",
        "        print(\"========================================================================================\")\n",
        "        item = input(\"Enter one item that you wish to Purchase: \")\n",
        "        prod_id= item.capitalize()\n",
        "        quan = int(input(\"Enter the quantity of Product: \"))\n",
        "        print(\"Product: \", records[prod_id]['Name'])\n",
        "        print(\"Price: \", records[prod_id]['Price'])\n",
        "        print(\"Comoany\" , records[prod_id]['Company'])\n",
        "        print(\"Color:\" , records[prod_id]['Color'])\n",
        "        print(\"-----------------------------------------------------------------------------------------\")\n",
        "        print(\"Billing Amount: \", records[prod_id]['Price'] * quan)\n",
        "        if(prod_id in records):\n",
        "            bill = bill + records[prod_id]['Price'] * quan\n",
        "            ls_items.append(prod_id)\n",
        "            num_items += 1\n",
        "            i += 1\n",
        "            records[prod_id][\"Quantity\"] = records[prod_id][\"Quantity\"] - quan\n",
        "        else:\n",
        "            print(\"________________________________________________________________________________________\")\n",
        "            print(\"We Dont Have This Item as of Now. \")\n",
        "            print(\"_________________________________________________________________________________________\")\n",
        "        wish = input(\"Do You Wish To enter another item y/n : \")\n",
        "        if(wish == \"y\"):\n",
        "            continue\n",
        "        else:\n",
        "            break\n",
        "\n",
        "\n",
        "    # Discount\n",
        "    if (bill <= 5000):\n",
        "        disc = 5.0\n",
        "        discount = (disc*bill)/100\n",
        "        total=float(bill-discount)\n",
        "    elif (bill >= 5000):\n",
        "        disc = 10.0\n",
        "        discount = (disc*bill)/100\n",
        "        total=float(bill-discount)\n",
        "    \n",
        "    # Bill\n",
        "    print(\"******************************************************************************************\") \n",
        "    print(\"                                                                                           \") \n",
        "    print(\"                        \"+  \"  Love Cosmetics \"                            + \"           \") \n",
        "    \n",
        "    print(\"                                                                                        \")\n",
        "    print(\"******************************************************************************************\")\n",
        "    print(\"Address: Block no.2,Shraddha Mangalam Apartment,\\n2nd Floaar, Near Ganesh Peth Police Station\\nNagpur - 440012\")\n",
        "    print(\"_____________________________________________________________________________________________\") \n",
        "    print('                                                                                         ')\n",
        "    print(f\"Customer Name : {a_name}                         Time & Date of Shopping : {time.ctime()}\")\n",
        "    print(\"______________________________________________________________________________________________\")\n",
        "    time.sleep(2)\n",
        "    print(\"                                                                                          \")\n",
        "    print(f\"                Bill Amount is {bill} for the Toys you have purchased.  \")\n",
        "    print(\"                                                                                         \")\n",
        "    print(f\"            Discount {disc}% discount and Your Payable Amount is: {total}\")\n",
        "    print('                                                                                           ')\n",
        "    print(\"^^^^^^^^^^^^^^^^^^^^^ Pay your Bill on Cash Counter ^^^^^^^^^^^^^^^^^^^^^^^^^^^^^^^^^^^^^^\")\n",
        "    print( \"                                                                                            \")\n",
        "    \n",
        "    \n",
        "\n",
        "print(\"Please Choose from the Below Option : \")\n",
        "\n",
        "print(\"1. Item Purchase : \")\n",
        "print(\"2. Exit : \")\n",
        "\n",
        "choice = int(input(\"Enter Your Choice Here : \"))\n",
        "print(\"OK .. Wait For The Next Step ... \")\n",
        "time.sleep(3)\n",
        "\n",
        "if (choice == 1):    \n",
        "    itemPurchase()\n",
        "\n",
        "elif (choice == 2):\n",
        "    exit()\n",
        "    print(\"^^^^^^^^^^^^^^^^^^^^^^^^^^^^^^^^^^^^^^^^^^^^^^^^^^^^^^^^^^^^^^^^^^^^^^^^^^^^^^^^^^^^^^^^^\")\n",
        "print(\"                  \" + \"THANK YOU FOR SHOPPING WITH US\" +          \"             \"          )\n",
        "print(\"                      \"  +  \"Visit Again \" +         \"                                     \")\n",
        "print(\"^^^^^^^^^^^^^^^^^^^^^^^^^^^^^^^^^^^^^^^^^^^^^^^^^^^^^^^^^^^^^^^^^^^^^^^^^^^^^^^^^^^^^^^^^\")"
      ],
      "execution_count": 41,
      "outputs": [
        {
          "output_type": "stream",
          "name": "stdout",
          "text": [
            "Please enter your name: Sakshi Nagdive\n",
            "Hello Sakshi Nagdive ! Welcome to our Shopping Store. Buy Products at Discounted & Cheapest Rate !!\n",
            "********************************************************************************************\n",
            "--------------------WELCOME Sakshi Nagdive  TO THE COSMETIC SHOP -------------------------------------\n",
            "*******************************************************************************************\n",
            "Please Choose from the Below Option : \n",
            "1. Item Purchase : \n",
            "2. Exit : \n",
            "Enter Your Choice Here : 1\n",
            "OK .. Wait For The Next Step ... \n",
            "Loading items ... Please Wait !!!\n",
            "Items Available at Our Stores are {'1000001': {'Name': 'Baby Cream', 'Price': 140, 'Quantity': 30, 'Company': 'Himalaya', 'Color': 'White'}, '1000002': {'Name': 'Brightning Day Cream', 'Price': 150, 'Quantity': 10, 'Company': 'Kaya', 'Color': 'Light Pink'}, '1000003': {'Name': 'Eyelyner', 'Price': 500, 'Quantity': 5, 'Company': 'Shehnaz Husan', 'Color': 'Black'}, '1000004': {'Name': 'Lipstic', 'Price': 750, 'Quantity': 23, 'Company': 'Lakme', 'Color': 'Bold Red'}, '1000005': {'Name': 'White Glow', 'Price': 110, 'Quantity': 50, 'Company': 'Lotus', 'Color': 'Navy Blue'}, '1000006': {'Name': 'Anti Wrinkle', 'Price': 1189, 'Quantity': 1, 'Company': 'Ptanjali', 'Color': 'Gold'}, '1000007': {'Name': 'Foundation', 'Price': 1100, 'Quantity': 5, 'Company': 'VLCC', 'Color': 'Light Borwn'}, '1000008': {'Name': 'Nailpaint', 'Price': 11, 'Quantity': 24, 'Company': 'Colorssence', 'Color': 'White'}, '1000009': {'Name': 'Skin Care', 'Price': 220, 'Quantity': 100, 'Company': 'Biotique', 'Color': 'Black'}, '1000010': {'Name': 'Muskara', 'Price': 1110, 'Quantity': 10, 'Company': 'Milani', 'Color': 'Dark Black'}, '1000011': {'Name': 'Lipstic', 'Price': 750, 'Quantity': 50, 'Company': 'Blue heaven', 'Color': 'Pink'}, '1000012': {'Name': 'Makeup remover', 'Price': 350, 'Quantity': 30, 'Company': 'Viviana', 'Color': 'Light pink'}, '1000013': {'Name': 'Swarna Kanti', 'Price': 590, 'Quantity': 40, 'Company': 'Patanjali', 'Color': 'Fair White'}, '1000014': {'Name': 'Skincare', 'Price': 10, 'Quantity': 10, 'Company': 'Forest Essentials', 'Color': 'Gold'}, '1000015': {'Name': 'Compact Powder', 'Price': 590, 'Quantity': 35, 'Company': 'Coloressence', 'Color': 'Pearl White'}, '1000016': {'Name': ' Gold Facial kit', 'Price': 2000, 'Quantity': 1, 'Company': 'VLCC', 'Color': 'Pearl White'}, '1000017': {'Name': 'Lipstik', 'Price': 1111, 'Quantity': 100, 'Company': 'ELLE 18', 'Color': 'Pop silk'}, '1000018': {'Name': 'Kajal Stick', 'Price': 850, 'Quantity': 45, 'Company': 'VIVIANA', 'Color': 'Dark Red'}, '1000019': {'Name': 'Intensive Moisturizing', 'Price': 20, 'Quantity': 20, 'Company': 'PAC', 'Color': 'Milky'}, '1000020': {'Name': 'Radiance Cream', 'Price': 450, 'Quantity': 300, 'Company': 'Lakme', 'Color': 'Skin color'}, '1000021': {'Name': 'Skin perfect', 'Price': 2500, 'Quantity': 370, 'Company': 'olreal', 'Color': 'POP silky'}, '1000022': {'Name': 'Shanglow Plus', 'Price': 710, 'Quantity': 10, 'Company': 'Maybellinge', 'Color': 'Skin color'}, '1000023': {'Name': 'Whitamin C face cream', 'Price': 599, 'Quantity': 15, 'Company': 'Mamaearth', 'Color': 'Light Green'}, '1000024': {'Name': 'Diamond cellular', 'Price': 1020, 'Quantity': 70, 'Company': 'Oriflame', 'Color': 'Bolg Gold'}, '1000025': {'Name': 'Sundarya Rdiance', 'Price': 110, 'Quantity': 500, 'Company': 'Avon', 'Color': 'Blue'}, '1000026': {'Name': 'Blue light defence', 'Price': 590, 'Quantity': 300, 'Company': 'Colorbar', 'Color': 'Light DEfence'}, '1000027': {'Name': 'Hydra White', 'Price': 1300, 'Quantity': 450, 'Company': 'Revlon', 'Color': 'Silk'}, '1000028': {'Name': 'Sebamed', 'Price': 5550, 'Quantity': 450, 'Company': 'NYX', 'Color': 'Black'}, '1000029': {'Name': 'Wow', 'Price': 100, 'Quantity': 7, 'Company': 'Nykaa', 'Color': 'Facial'}, '1000030': {'Name': 'Glutathione', 'Price': 1100, 'Quantity': 30, 'Company': 'Wet ', 'Color': 'Shiny gold'}, '1000031': {'name': 'Maya', 'pr': 6000, 'qn': 100, 'com': 'Javeda', 'col': 'Blue'}, '1000032': {'name': 'Masumi', 'pr': 2300, 'qn': 50, 'com': 'Moka', 'col': 'Orange'}, '1000033': {'name': 'Romanch', 'pr': 2900, 'qn': 20, 'com': 'Mehrum', 'col': 'Shiny Gold'}, '1000034': {'name': 'Vaseline', 'pr': 2300, 'qn': 1, 'com': 'Ponds', 'col': 'White'}, '1000035': {'name': 'Old Spice', 'pr': 300, 'qn': 4, 'com': 'Colfax', 'col': 'Green'}, '1000036': {'name': 'Safedi', 'pr': 690, 'qn': 20, 'com': 'Patanjali', 'col': 'Black'}, '1000037': {'name': 'Saundarya', 'pr': 500, 'qn': 25, 'com': 'Himalaya', 'col': 'Blue'}, '1000038': {'name': 'Facial kit', 'pr': 2000, 'qn': 20, 'com': 'Nature', 'col': 'Soil Color'}, '1000040': {'name': 'Kayra', 'pr': 200, 'qn': 40, 'com': 'Unilever', 'col': 'Yellow'}, '1000039': {'name': 'Muskara', 'pr': 6700, 'qn': 2, 'com': 'ELLE 18', 'col': 'Cream'}} \n",
            "========================================================================================\n",
            "Enter one item that you wish to Purchase: 1000005\n",
            "Enter the quantity of Product: 12\n",
            "Product:  White Glow\n",
            "Price:  110\n",
            "Comoany Lotus\n",
            "Color: Navy Blue\n",
            "-----------------------------------------------------------------------------------------\n",
            "Billing Amount:  1320\n",
            "Do You Wish To enter another item y/n : y\n",
            "========================================================================================\n",
            "Enter one item that you wish to Purchase: 1000010\n",
            "Enter the quantity of Product: 10\n",
            "Product:  Muskara\n",
            "Price:  1110\n",
            "Comoany Milani\n",
            "Color: Dark Black\n",
            "-----------------------------------------------------------------------------------------\n",
            "Billing Amount:  11100\n",
            "Do You Wish To enter another item y/n : y\n",
            "========================================================================================\n",
            "Enter one item that you wish to Purchase: 1000014\n",
            "Enter the quantity of Product: 5\n",
            "Product:  Skincare\n",
            "Price:  10\n",
            "Comoany Forest Essentials\n",
            "Color: Gold\n",
            "-----------------------------------------------------------------------------------------\n",
            "Billing Amount:  50\n",
            "Do You Wish To enter another item y/n : y\n",
            "========================================================================================\n",
            "Enter one item that you wish to Purchase: 1000021\n",
            "Enter the quantity of Product: 10\n",
            "Product:  Skin perfect\n",
            "Price:  2500\n",
            "Comoany olreal\n",
            "Color: POP silky\n",
            "-----------------------------------------------------------------------------------------\n",
            "Billing Amount:  25000\n",
            "Do You Wish To enter another item y/n : y\n",
            "========================================================================================\n",
            "Enter one item that you wish to Purchase: 1000030\n",
            "Enter the quantity of Product: 8\n",
            "Product:  Glutathione\n",
            "Price:  1100\n",
            "Comoany Wet \n",
            "Color: Shiny gold\n",
            "-----------------------------------------------------------------------------------------\n",
            "Billing Amount:  8800\n",
            "Do You Wish To enter another item y/n : n\n",
            "******************************************************************************************\n",
            "                                                                                           \n",
            "                          Love Cosmetics            \n",
            "                                                                                        \n",
            "******************************************************************************************\n",
            "Address: Block no.2,Shraddha Mangalam Apartment,\n",
            "2nd Floaar, Near Ganesh Peth Police Station\n",
            "Nagpur - 440012\n",
            "_____________________________________________________________________________________________\n",
            "                                                                                         \n",
            "Customer Name : Sakshi Nagdive                         Time & Date of Shopping : Mon Sep  6 10:58:27 2021\n",
            "______________________________________________________________________________________________\n",
            "                                                                                          \n",
            "                Bill Amount is 46270 for the Toys you have purchased.  \n",
            "                                                                                         \n",
            "            Discount 10.0% discount and Your Payable Amount is: 41643.0\n",
            "                                                                                           \n",
            "^^^^^^^^^^^^^^^^^^^^^ Pay your Bill on Cash Counter ^^^^^^^^^^^^^^^^^^^^^^^^^^^^^^^^^^^^^^\n",
            "                                                                                            \n",
            "                  THANK YOU FOR SHOPPING WITH US             \n",
            "                      Visit Again                                      \n",
            "^^^^^^^^^^^^^^^^^^^^^^^^^^^^^^^^^^^^^^^^^^^^^^^^^^^^^^^^^^^^^^^^^^^^^^^^^^^^^^^^^^^^^^^^^\n"
          ]
        }
      ]
    },
    {
      "cell_type": "markdown",
      "metadata": {
        "id": "XKXpVE7JwpZW"
      },
      "source": [
        "#**If choice is 2**"
      ]
    },
    {
      "cell_type": "code",
      "metadata": {
        "colab": {
          "base_uri": "https://localhost:8080/"
        },
        "id": "XE1EsC23wvaZ",
        "outputId": "f7a48c6d-9104-4772-a6f9-b94ba4d170a2"
      },
      "source": [
        "import json\n",
        "import time\n",
        "import datetime\n",
        "\n",
        "a_name=input(\"Please enter your name: \")\n",
        "print(f\"Hello {a_name} ! Welcome to our Shopping Store. Buy Products at Discounted & Cheapest Rate !!\")\n",
        "\n",
        "\n",
        "print(\"********************************************************************************************\")\n",
        "\n",
        "print(f\"--------------------WELCOME {a_name}  TO THE COSMETIC SHOP -------------------------------------\")\n",
        "\n",
        "print(\"*******************************************************************************************\")\n",
        "\n",
        "\n",
        "\n",
        "    \n",
        "def exit():\n",
        "    pass\n",
        "\n",
        "def itemPurchase():\n",
        "    with open (\"record.json\",\"r\") as fd:\n",
        "        r = fd.read()\n",
        "        records = json.loads(r)\n",
        "    print(\"Loading items ... Please Wait !!!\")\n",
        "    time.sleep(3)\n",
        "    print(f\"Items Available at Our Stores are {records} \")\n",
        "    bill = 0\n",
        "    i = 0\n",
        "    num_items = 100\n",
        "    ls_items = []\n",
        "    while(num_items > 0):\n",
        "        print(\"========================================================================================\")\n",
        "        item = input(\"Enter one item that you wish to Purchase: \")\n",
        "        prod_id= item.capitalize()\n",
        "        quan = int(input(\"Enter the quantity of Product: \"))\n",
        "        print(\"Product: \", records[prod_id]['Name'])\n",
        "        print(\"Price: \", records[prod_id]['Price'])\n",
        "        print(\"Comoany\" , records[prod_id]['Company'])\n",
        "        print(\"Color:\" , records[prod_id]['Color'])\n",
        "        print(\"-----------------------------------------------------------------------------------------\")\n",
        "        print(\"Billing Amount: \", records[prod_id]['Price'] * quan)\n",
        "        if(prod_id in records):\n",
        "            bill = bill + records[prod_id]['Price'] * quan\n",
        "            ls_items.append(prod_id)\n",
        "            num_items += 1\n",
        "            i += 1\n",
        "            records[prod_id][\"Quantity\"] = records[prod_id][\"Quantity\"] - quan\n",
        "        else:\n",
        "            print(\"________________________________________________________________________________________\")\n",
        "            print(\"We Dont Have This Item as of Now. \")\n",
        "            print(\"_________________________________________________________________________________________\")\n",
        "        wish = input(\"Do You Wish To enter another item y/n : \")\n",
        "        if(wish == \"y\"):\n",
        "            continue\n",
        "        else:\n",
        "            break\n",
        "\n",
        "\n",
        "    # Discount\n",
        "    if (bill <= 5000):\n",
        "        disc = 5.0\n",
        "        discount = (disc*bill)/100\n",
        "        total=float(bill-discount)\n",
        "    elif (bill >= 5000):\n",
        "        disc = 10.0\n",
        "        discount = (disc*bill)/100\n",
        "        total=float(bill-discount)\n",
        "    \n",
        "    # Bill\n",
        "    print(\"******************************************************************************************\") \n",
        "    print(\"                                                                                           \") \n",
        "    print(\"                        \"+  \"  Love Cosmetics \"                            + \"           \") \n",
        "    \n",
        "    print(\"                                                                                        \")\n",
        "    print(\"******************************************************************************************\")\n",
        "    print(\"Address: Block no.2,Shraddha Mangalam Apartment,\\n2nd Floaar, Near Ganesh Peth Police Station\\nNagpur - 440012\")\n",
        "    print(\"_____________________________________________________________________________________________\") \n",
        "    print('                                                                                         ')\n",
        "    print(f\"Customer Name : {a_name}                         Time & Date of Shopping : {time.ctime()}\")\n",
        "    print(\"______________________________________________________________________________________________\")\n",
        "    time.sleep(2)\n",
        "    print(\"                                                                                          \")\n",
        "    print(f\"                Bill Amount is {bill} for the Toys you have purchased.  \")\n",
        "    print(\"                                                                                         \")\n",
        "    print(f\"            Discount {disc}% discount and Your Payable Amount is: {total}\")\n",
        "    print('                                                                                           ')\n",
        "    print(\"^^^^^^^^^^^^^^^^^^^^^ Pay your Bill on Cash Counter ^^^^^^^^^^^^^^^^^^^^^^^^^^^^^^^^^^^^^^\")\n",
        "    print( \"                                                                                            \")\n",
        "    \n",
        "    \n",
        "\n",
        "print(\"Please Choose from the Below Option : \")\n",
        "\n",
        "print(\"1. Item Purchase : \")\n",
        "print(\"2. Exit : \")\n",
        "\n",
        "choice = int(input(\"Enter Your Choice Here : \"))\n",
        "print(\"OK .. Wait For The Next Step ... \")\n",
        "time.sleep(3)\n",
        "\n",
        "if (choice == 1):    \n",
        "    itemPurchase()\n",
        "\n",
        "elif (choice == 2):\n",
        "    exit()\n",
        "    print(\"^^^^^^^^^^^^^^^^^^^^^^^^^^^^^^^^^^^^^^^^^^^^^^^^^^^^^^^^^^^^^^^^^^^^^^^^^^^^^^^^^^^^^^^^^\")\n",
        "print(\"                  \" + \"THANK YOU FOR SHOPPING WITH US\" +          \"             \"          )\n",
        "print(\"                      \"  +  \"Visit Again \" +         \"                                     \")\n",
        "print(\"^^^^^^^^^^^^^^^^^^^^^^^^^^^^^^^^^^^^^^^^^^^^^^^^^^^^^^^^^^^^^^^^^^^^^^^^^^^^^^^^^^^^^^^^^\")"
      ],
      "execution_count": 42,
      "outputs": [
        {
          "output_type": "stream",
          "name": "stdout",
          "text": [
            "Please enter your name: Manju Ghatode\n",
            "Hello Manju Ghatode ! Welcome to our Shopping Store. Buy Products at Discounted & Cheapest Rate !!\n",
            "********************************************************************************************\n",
            "--------------------WELCOME Manju Ghatode  TO THE COSMETIC SHOP -------------------------------------\n",
            "*******************************************************************************************\n",
            "Please Choose from the Below Option : \n",
            "1. Item Purchase : \n",
            "2. Exit : \n",
            "Enter Your Choice Here : 2\n",
            "OK .. Wait For The Next Step ... \n",
            "^^^^^^^^^^^^^^^^^^^^^^^^^^^^^^^^^^^^^^^^^^^^^^^^^^^^^^^^^^^^^^^^^^^^^^^^^^^^^^^^^^^^^^^^^\n",
            "                  THANK YOU FOR SHOPPING WITH US             \n",
            "                      Visit Again                                      \n",
            "^^^^^^^^^^^^^^^^^^^^^^^^^^^^^^^^^^^^^^^^^^^^^^^^^^^^^^^^^^^^^^^^^^^^^^^^^^^^^^^^^^^^^^^^^\n"
          ]
        }
      ]
    },
    {
      "cell_type": "markdown",
      "metadata": {
        "id": "WC4nQG3WxSPE"
      },
      "source": [
        "#**Purchase**"
      ]
    },
    {
      "cell_type": "code",
      "metadata": {
        "id": "0bfJ_C6XxQJx"
      },
      "source": [
        "js = json.dumps(records)\n",
        "\n",
        "fd = open(\"records.json\",\"w\")\n",
        "fd.write(js)\n",
        "fd.close()"
      ],
      "execution_count": 43,
      "outputs": []
    },
    {
      "cell_type": "code",
      "metadata": {
        "colab": {
          "base_uri": "https://localhost:8080/",
          "height": 135
        },
        "id": "YSwLru-Jxbas",
        "outputId": "b6553a81-d313-4f20-c3c5-d6005b606afb"
      },
      "source": [
        "js"
      ],
      "execution_count": 44,
      "outputs": [
        {
          "output_type": "execute_result",
          "data": {
            "application/vnd.google.colaboratory.intrinsic+json": {
              "type": "string"
            },
            "text/plain": [
              "'{\"1000001\": {\"Name\": \"Baby Cream\", \"Price\": 140, \"Quantity\": 30, \"Company\": \"Himalaya\", \"Color\": \"White\"}, \"1000002\": {\"Name\": \"Brightning Day Cream\", \"Price\": 150, \"Quantity\": 10, \"Company\": \"Kaya\", \"Color\": \"Light Pink\"}, \"1000003\": {\"Name\": \"Eyelyner\", \"Price\": 500, \"Quantity\": 5, \"Company\": \"Shehnaz Husan\", \"Color\": \"Black\"}, \"1000004\": {\"Name\": \"Lipstic\", \"Price\": 750, \"Quantity\": 23, \"Company\": \"Lakme\", \"Color\": \"Bold Red\"}, \"1000005\": {\"Name\": \"White Glow\", \"Price\": 110, \"Quantity\": 50, \"Company\": \"Lotus\", \"Color\": \"Navy Blue\"}, \"1000006\": {\"Name\": \"Anti Wrinkle\", \"Price\": 1189, \"Quantity\": 1, \"Company\": \"Ptanjali\", \"Color\": \"Gold\"}, \"1000007\": {\"Name\": \"Foundation\", \"Price\": 1100, \"Quantity\": 5, \"Company\": \"VLCC\", \"Color\": \"Light Borwn\"}, \"1000008\": {\"Name\": \"Nailpaint\", \"Price\": 11, \"Quantity\": 24, \"Company\": \"Colorssence\", \"Color\": \"White\"}, \"1000009\": {\"Name\": \"Skin Care\", \"Price\": 220, \"Quantity\": 100, \"Company\": \"Biotique\", \"Color\": \"Black\"}, \"1000010\": {\"Name\": \"Muskara\", \"Price\": 1110, \"Quantity\": 10, \"Company\": \"Milani\", \"Color\": \"Dark Black\"}, \"1000011\": {\"Name\": \"Lipstic\", \"Price\": 750, \"Quantity\": 50, \"Company\": \"Blue heaven\", \"Color\": \"Pink\"}, \"1000012\": {\"Name\": \"Makeup remover\", \"Price\": 350, \"Quantity\": 30, \"Company\": \"Viviana\", \"Color\": \"Light pink\"}, \"1000013\": {\"Name\": \"Swarna Kanti\", \"Price\": 590, \"Quantity\": 40, \"Company\": \"Patanjali\", \"Color\": \"Fair White\"}, \"1000014\": {\"Name\": \"Skincare\", \"Price\": 10, \"Quantity\": 10, \"Company\": \"Forest Essentials\", \"Color\": \"Gold\"}, \"1000015\": {\"Name\": \"Compact Powder\", \"Price\": 590, \"Quantity\": 35, \"Company\": \"Coloressence\", \"Color\": \"Pearl White\"}, \"1000016\": {\"Name\": \" Gold Facial kit\", \"Price\": 2000, \"Quantity\": 1, \"Company\": \"VLCC\", \"Color\": \"Pearl White\"}, \"1000017\": {\"Name\": \"Lipstik\", \"Price\": 1111, \"Quantity\": 100, \"Company\": \"ELLE 18\", \"Color\": \"Pop silk\"}, \"1000018\": {\"Name\": \"Kajal Stick\", \"Price\": 850, \"Quantity\": 45, \"Company\": \"VIVIANA\", \"Color\": \"Dark Red\"}, \"1000019\": {\"Name\": \"Intensive Moisturizing\", \"Price\": 20, \"Quantity\": 20, \"Company\": \"PAC\", \"Color\": \"Milky\"}, \"1000020\": {\"Name\": \"Radiance Cream\", \"Price\": 450, \"Quantity\": 300, \"Company\": \"Lakme\", \"Color\": \"Skin color\"}, \"1000021\": {\"Name\": \"Skin perfect\", \"Price\": 2500, \"Quantity\": 370, \"Company\": \"olreal\", \"Color\": \"POP silky\"}, \"1000022\": {\"Name\": \"Shanglow Plus\", \"Price\": 710, \"Quantity\": 10, \"Company\": \"Maybellinge\", \"Color\": \"Skin color\"}, \"1000023\": {\"Name\": \"Whitamin C face cream\", \"Price\": 599, \"Quantity\": 15, \"Company\": \"Mamaearth\", \"Color\": \"Light Green\"}, \"1000024\": {\"Name\": \"Diamond cellular\", \"Price\": 1020, \"Quantity\": 70, \"Company\": \"Oriflame\", \"Color\": \"Bolg Gold\"}, \"1000025\": {\"Name\": \"Sundarya Rdiance\", \"Price\": 110, \"Quantity\": 500, \"Company\": \"Avon\", \"Color\": \"Blue\"}, \"1000026\": {\"Name\": \"Blue light defence\", \"Price\": 590, \"Quantity\": 300, \"Company\": \"Colorbar\", \"Color\": \"Light DEfence\"}, \"1000027\": {\"Name\": \"Hydra White\", \"Price\": 1300, \"Quantity\": 450, \"Company\": \"Revlon\", \"Color\": \"Silk\"}, \"1000028\": {\"Name\": \"Sebamed\", \"Price\": 5550, \"Quantity\": 450, \"Company\": \"NYX\", \"Color\": \"Black\"}, \"1000029\": {\"Name\": \"Wow\", \"Price\": 100, \"Quantity\": 7, \"Company\": \"Nykaa\", \"Color\": \"Facial\"}, \"1000030\": {\"Name\": \"Glutathione\", \"Price\": 1100, \"Quantity\": 30, \"Company\": \"Wet \", \"Color\": \"Shiny gold\"}, \"1000031\": {\"name\": \"Maya\", \"pr\": 6000, \"qn\": 100, \"com\": \"Javeda\", \"col\": \"Blue\"}, \"1000032\": {\"name\": \"Masumi\", \"pr\": 2300, \"qn\": 50, \"com\": \"Moka\", \"col\": \"Orange\"}, \"1000033\": {\"name\": \"Romanch\", \"pr\": 2900, \"qn\": 20, \"com\": \"Mehrum\", \"col\": \"Shiny Gold\"}, \"1000034\": {\"name\": \"Vaseline\", \"pr\": 2300, \"qn\": 1, \"com\": \"Ponds\", \"col\": \"White\"}, \"1000035\": {\"name\": \"Old Spice\", \"pr\": 300, \"qn\": 4, \"com\": \"Colfax\", \"col\": \"Green\"}, \"1000036\": {\"name\": \"Safedi\", \"pr\": 690, \"qn\": 20, \"com\": \"Patanjali\", \"col\": \"Black\"}, \"1000037\": {\"name\": \"Saundarya\", \"pr\": 500, \"qn\": 25, \"com\": \"Himalaya\", \"col\": \"Blue\"}, \"1000038\": {\"name\": \"Facial kit\", \"pr\": 2000, \"qn\": 20, \"com\": \"Nature\", \"col\": \"Soil Color\"}, \"1000040\": {\"name\": \"Kayra\", \"pr\": 200, \"qn\": 40, \"com\": \"Unilever\", \"col\": \"Yellow\"}, \"1000039\": {\"name\": \"Muskara\", \"pr\": 6700, \"qn\": 2, \"com\": \"ELLE 18\", \"col\": \"Cream\"}}'"
            ]
          },
          "metadata": {},
          "execution_count": 44
        }
      ]
    },
    {
      "cell_type": "code",
      "metadata": {
        "id": "6lSS2jvTxrsa"
      },
      "source": [
        "import json"
      ],
      "execution_count": 47,
      "outputs": []
    },
    {
      "cell_type": "code",
      "metadata": {
        "colab": {
          "base_uri": "https://localhost:8080/"
        },
        "id": "yjS2DwOgxhny",
        "outputId": "854e8e71-c1af-4a91-cbb1-6ff1338ab459"
      },
      "source": [
        "fd = open(\"record.json\", \"r\")\n",
        "r = fd.read()\n",
        "fd.close()\n",
        "records == json.loads(r)"
      ],
      "execution_count": 48,
      "outputs": [
        {
          "output_type": "execute_result",
          "data": {
            "text/plain": [
              "True"
            ]
          },
          "metadata": {},
          "execution_count": 48
        }
      ]
    },
    {
      "cell_type": "code",
      "metadata": {
        "colab": {
          "base_uri": "https://localhost:8080/"
        },
        "id": "-vv5x3bXxpnG",
        "outputId": "ce5e9875-8bb5-4495-c33a-c1d1956ac4fc"
      },
      "source": [
        "records"
      ],
      "execution_count": 49,
      "outputs": [
        {
          "output_type": "execute_result",
          "data": {
            "text/plain": [
              "{'1000001': {'Color': 'White',\n",
              "  'Company': 'Himalaya',\n",
              "  'Name': 'Baby Cream',\n",
              "  'Price': 140,\n",
              "  'Quantity': 30},\n",
              " '1000002': {'Color': 'Light Pink',\n",
              "  'Company': 'Kaya',\n",
              "  'Name': 'Brightning Day Cream',\n",
              "  'Price': 150,\n",
              "  'Quantity': 10},\n",
              " '1000003': {'Color': 'Black',\n",
              "  'Company': 'Shehnaz Husan',\n",
              "  'Name': 'Eyelyner',\n",
              "  'Price': 500,\n",
              "  'Quantity': 5},\n",
              " '1000004': {'Color': 'Bold Red',\n",
              "  'Company': 'Lakme',\n",
              "  'Name': 'Lipstic',\n",
              "  'Price': 750,\n",
              "  'Quantity': 23},\n",
              " '1000005': {'Color': 'Navy Blue',\n",
              "  'Company': 'Lotus',\n",
              "  'Name': 'White Glow',\n",
              "  'Price': 110,\n",
              "  'Quantity': 50},\n",
              " '1000006': {'Color': 'Gold',\n",
              "  'Company': 'Ptanjali',\n",
              "  'Name': 'Anti Wrinkle',\n",
              "  'Price': 1189,\n",
              "  'Quantity': 1},\n",
              " '1000007': {'Color': 'Light Borwn',\n",
              "  'Company': 'VLCC',\n",
              "  'Name': 'Foundation',\n",
              "  'Price': 1100,\n",
              "  'Quantity': 5},\n",
              " '1000008': {'Color': 'White',\n",
              "  'Company': 'Colorssence',\n",
              "  'Name': 'Nailpaint',\n",
              "  'Price': 11,\n",
              "  'Quantity': 24},\n",
              " '1000009': {'Color': 'Black',\n",
              "  'Company': 'Biotique',\n",
              "  'Name': 'Skin Care',\n",
              "  'Price': 220,\n",
              "  'Quantity': 100},\n",
              " '1000010': {'Color': 'Dark Black',\n",
              "  'Company': 'Milani',\n",
              "  'Name': 'Muskara',\n",
              "  'Price': 1110,\n",
              "  'Quantity': 10},\n",
              " '1000011': {'Color': 'Pink',\n",
              "  'Company': 'Blue heaven',\n",
              "  'Name': 'Lipstic',\n",
              "  'Price': 750,\n",
              "  'Quantity': 50},\n",
              " '1000012': {'Color': 'Light pink',\n",
              "  'Company': 'Viviana',\n",
              "  'Name': 'Makeup remover',\n",
              "  'Price': 350,\n",
              "  'Quantity': 30},\n",
              " '1000013': {'Color': 'Fair White',\n",
              "  'Company': 'Patanjali',\n",
              "  'Name': 'Swarna Kanti',\n",
              "  'Price': 590,\n",
              "  'Quantity': 40},\n",
              " '1000014': {'Color': 'Gold',\n",
              "  'Company': 'Forest Essentials',\n",
              "  'Name': 'Skincare',\n",
              "  'Price': 10,\n",
              "  'Quantity': 10},\n",
              " '1000015': {'Color': 'Pearl White',\n",
              "  'Company': 'Coloressence',\n",
              "  'Name': 'Compact Powder',\n",
              "  'Price': 590,\n",
              "  'Quantity': 35},\n",
              " '1000016': {'Color': 'Pearl White',\n",
              "  'Company': 'VLCC',\n",
              "  'Name': ' Gold Facial kit',\n",
              "  'Price': 2000,\n",
              "  'Quantity': 1},\n",
              " '1000017': {'Color': 'Pop silk',\n",
              "  'Company': 'ELLE 18',\n",
              "  'Name': 'Lipstik',\n",
              "  'Price': 1111,\n",
              "  'Quantity': 100},\n",
              " '1000018': {'Color': 'Dark Red',\n",
              "  'Company': 'VIVIANA',\n",
              "  'Name': 'Kajal Stick',\n",
              "  'Price': 850,\n",
              "  'Quantity': 45},\n",
              " '1000019': {'Color': 'Milky',\n",
              "  'Company': 'PAC',\n",
              "  'Name': 'Intensive Moisturizing',\n",
              "  'Price': 20,\n",
              "  'Quantity': 20},\n",
              " '1000020': {'Color': 'Skin color',\n",
              "  'Company': 'Lakme',\n",
              "  'Name': 'Radiance Cream',\n",
              "  'Price': 450,\n",
              "  'Quantity': 300},\n",
              " '1000021': {'Color': 'POP silky',\n",
              "  'Company': 'olreal',\n",
              "  'Name': 'Skin perfect',\n",
              "  'Price': 2500,\n",
              "  'Quantity': 370},\n",
              " '1000022': {'Color': 'Skin color',\n",
              "  'Company': 'Maybellinge',\n",
              "  'Name': 'Shanglow Plus',\n",
              "  'Price': 710,\n",
              "  'Quantity': 10},\n",
              " '1000023': {'Color': 'Light Green',\n",
              "  'Company': 'Mamaearth',\n",
              "  'Name': 'Whitamin C face cream',\n",
              "  'Price': 599,\n",
              "  'Quantity': 15},\n",
              " '1000024': {'Color': 'Bolg Gold',\n",
              "  'Company': 'Oriflame',\n",
              "  'Name': 'Diamond cellular',\n",
              "  'Price': 1020,\n",
              "  'Quantity': 70},\n",
              " '1000025': {'Color': 'Blue',\n",
              "  'Company': 'Avon',\n",
              "  'Name': 'Sundarya Rdiance',\n",
              "  'Price': 110,\n",
              "  'Quantity': 500},\n",
              " '1000026': {'Color': 'Light DEfence',\n",
              "  'Company': 'Colorbar',\n",
              "  'Name': 'Blue light defence',\n",
              "  'Price': 590,\n",
              "  'Quantity': 300},\n",
              " '1000027': {'Color': 'Silk',\n",
              "  'Company': 'Revlon',\n",
              "  'Name': 'Hydra White',\n",
              "  'Price': 1300,\n",
              "  'Quantity': 450},\n",
              " '1000028': {'Color': 'Black',\n",
              "  'Company': 'NYX',\n",
              "  'Name': 'Sebamed',\n",
              "  'Price': 5550,\n",
              "  'Quantity': 450},\n",
              " '1000029': {'Color': 'Facial',\n",
              "  'Company': 'Nykaa',\n",
              "  'Name': 'Wow',\n",
              "  'Price': 100,\n",
              "  'Quantity': 7},\n",
              " '1000030': {'Color': 'Shiny gold',\n",
              "  'Company': 'Wet ',\n",
              "  'Name': 'Glutathione',\n",
              "  'Price': 1100,\n",
              "  'Quantity': 30},\n",
              " '1000031': {'col': 'Blue',\n",
              "  'com': 'Javeda',\n",
              "  'name': 'Maya',\n",
              "  'pr': 6000,\n",
              "  'qn': 100},\n",
              " '1000032': {'col': 'Orange',\n",
              "  'com': 'Moka',\n",
              "  'name': 'Masumi',\n",
              "  'pr': 2300,\n",
              "  'qn': 50},\n",
              " '1000033': {'col': 'Shiny Gold',\n",
              "  'com': 'Mehrum',\n",
              "  'name': 'Romanch',\n",
              "  'pr': 2900,\n",
              "  'qn': 20},\n",
              " '1000034': {'col': 'White',\n",
              "  'com': 'Ponds',\n",
              "  'name': 'Vaseline',\n",
              "  'pr': 2300,\n",
              "  'qn': 1},\n",
              " '1000035': {'col': 'Green',\n",
              "  'com': 'Colfax',\n",
              "  'name': 'Old Spice',\n",
              "  'pr': 300,\n",
              "  'qn': 4},\n",
              " '1000036': {'col': 'Black',\n",
              "  'com': 'Patanjali',\n",
              "  'name': 'Safedi',\n",
              "  'pr': 690,\n",
              "  'qn': 20},\n",
              " '1000037': {'col': 'Blue',\n",
              "  'com': 'Himalaya',\n",
              "  'name': 'Saundarya',\n",
              "  'pr': 500,\n",
              "  'qn': 25},\n",
              " '1000038': {'col': 'Soil Color',\n",
              "  'com': 'Nature',\n",
              "  'name': 'Facial kit',\n",
              "  'pr': 2000,\n",
              "  'qn': 20},\n",
              " '1000039': {'col': 'Cream',\n",
              "  'com': 'ELLE 18',\n",
              "  'name': 'Muskara',\n",
              "  'pr': 6700,\n",
              "  'qn': 2},\n",
              " '1000040': {'col': 'Yellow',\n",
              "  'com': 'Unilever',\n",
              "  'name': 'Kayra',\n",
              "  'pr': 200,\n",
              "  'qn': 40}}"
            ]
          },
          "metadata": {},
          "execution_count": 49
        }
      ]
    },
    {
      "cell_type": "code",
      "metadata": {
        "colab": {
          "base_uri": "https://localhost:8080/"
        },
        "id": "EbRKu7VUx32o",
        "outputId": "41166af8-364c-4c3c-922f-b8c197d0f3e4"
      },
      "source": [
        "ui_prod  = str(input(\"Enter the product_Id: \"))\n",
        "ui_quant = int(input(\"Enter the quantity: \"))\n",
        "\n",
        "\n",
        "print(\"Product: \", records[ui_prod]['Name'])\n",
        "print(\"Price: \", records[ui_prod]['Price'])\n",
        "print(\"Company: \", records[ui_prod]['Company'])\n",
        "print(\"Color: \", records[ui_prod]['Color'])\n",
        "print(\"Billing Amount: \", records[ui_prod]['Price'] * ui_quant)\n",
        "\n",
        "records[ui_prod]['Quantity'] = records[ui_prod]['Quantity'] - ui_quant"
      ],
      "execution_count": 50,
      "outputs": [
        {
          "output_type": "stream",
          "name": "stdout",
          "text": [
            "Enter the product_Id: 1000020\n",
            "Enter the quantity: 4\n",
            "Product:  Radiance Cream\n",
            "Price:  450\n",
            "Company:  Lakme\n",
            "Color:  Skin color\n",
            "Billing Amount:  1800\n"
          ]
        }
      ]
    },
    {
      "cell_type": "markdown",
      "metadata": {
        "id": "vnHyPaxcyEAG"
      },
      "source": [
        "#**Update Inventory after purchase**"
      ]
    },
    {
      "cell_type": "code",
      "metadata": {
        "id": "KjOVgfDRyCgj"
      },
      "source": [
        "js = json.dumps(records)\n",
        "\n",
        "fd = open(\"records.json\", 'w')\n",
        "fd.write(js)\n",
        "fd.close()"
      ],
      "execution_count": 51,
      "outputs": []
    },
    {
      "cell_type": "code",
      "metadata": {
        "colab": {
          "base_uri": "https://localhost:8080/",
          "height": 135
        },
        "id": "_uMVnO19yKZc",
        "outputId": "0a0b7a64-741b-448d-f1c4-faebb34be551"
      },
      "source": [
        "js"
      ],
      "execution_count": 52,
      "outputs": [
        {
          "output_type": "execute_result",
          "data": {
            "application/vnd.google.colaboratory.intrinsic+json": {
              "type": "string"
            },
            "text/plain": [
              "'{\"1000001\": {\"Name\": \"Baby Cream\", \"Price\": 140, \"Quantity\": 30, \"Company\": \"Himalaya\", \"Color\": \"White\"}, \"1000002\": {\"Name\": \"Brightning Day Cream\", \"Price\": 150, \"Quantity\": 10, \"Company\": \"Kaya\", \"Color\": \"Light Pink\"}, \"1000003\": {\"Name\": \"Eyelyner\", \"Price\": 500, \"Quantity\": 5, \"Company\": \"Shehnaz Husan\", \"Color\": \"Black\"}, \"1000004\": {\"Name\": \"Lipstic\", \"Price\": 750, \"Quantity\": 23, \"Company\": \"Lakme\", \"Color\": \"Bold Red\"}, \"1000005\": {\"Name\": \"White Glow\", \"Price\": 110, \"Quantity\": 50, \"Company\": \"Lotus\", \"Color\": \"Navy Blue\"}, \"1000006\": {\"Name\": \"Anti Wrinkle\", \"Price\": 1189, \"Quantity\": 1, \"Company\": \"Ptanjali\", \"Color\": \"Gold\"}, \"1000007\": {\"Name\": \"Foundation\", \"Price\": 1100, \"Quantity\": 5, \"Company\": \"VLCC\", \"Color\": \"Light Borwn\"}, \"1000008\": {\"Name\": \"Nailpaint\", \"Price\": 11, \"Quantity\": 24, \"Company\": \"Colorssence\", \"Color\": \"White\"}, \"1000009\": {\"Name\": \"Skin Care\", \"Price\": 220, \"Quantity\": 100, \"Company\": \"Biotique\", \"Color\": \"Black\"}, \"1000010\": {\"Name\": \"Muskara\", \"Price\": 1110, \"Quantity\": 10, \"Company\": \"Milani\", \"Color\": \"Dark Black\"}, \"1000011\": {\"Name\": \"Lipstic\", \"Price\": 750, \"Quantity\": 50, \"Company\": \"Blue heaven\", \"Color\": \"Pink\"}, \"1000012\": {\"Name\": \"Makeup remover\", \"Price\": 350, \"Quantity\": 30, \"Company\": \"Viviana\", \"Color\": \"Light pink\"}, \"1000013\": {\"Name\": \"Swarna Kanti\", \"Price\": 590, \"Quantity\": 40, \"Company\": \"Patanjali\", \"Color\": \"Fair White\"}, \"1000014\": {\"Name\": \"Skincare\", \"Price\": 10, \"Quantity\": 10, \"Company\": \"Forest Essentials\", \"Color\": \"Gold\"}, \"1000015\": {\"Name\": \"Compact Powder\", \"Price\": 590, \"Quantity\": 35, \"Company\": \"Coloressence\", \"Color\": \"Pearl White\"}, \"1000016\": {\"Name\": \" Gold Facial kit\", \"Price\": 2000, \"Quantity\": 1, \"Company\": \"VLCC\", \"Color\": \"Pearl White\"}, \"1000017\": {\"Name\": \"Lipstik\", \"Price\": 1111, \"Quantity\": 100, \"Company\": \"ELLE 18\", \"Color\": \"Pop silk\"}, \"1000018\": {\"Name\": \"Kajal Stick\", \"Price\": 850, \"Quantity\": 45, \"Company\": \"VIVIANA\", \"Color\": \"Dark Red\"}, \"1000019\": {\"Name\": \"Intensive Moisturizing\", \"Price\": 20, \"Quantity\": 20, \"Company\": \"PAC\", \"Color\": \"Milky\"}, \"1000020\": {\"Name\": \"Radiance Cream\", \"Price\": 450, \"Quantity\": 296, \"Company\": \"Lakme\", \"Color\": \"Skin color\"}, \"1000021\": {\"Name\": \"Skin perfect\", \"Price\": 2500, \"Quantity\": 370, \"Company\": \"olreal\", \"Color\": \"POP silky\"}, \"1000022\": {\"Name\": \"Shanglow Plus\", \"Price\": 710, \"Quantity\": 10, \"Company\": \"Maybellinge\", \"Color\": \"Skin color\"}, \"1000023\": {\"Name\": \"Whitamin C face cream\", \"Price\": 599, \"Quantity\": 15, \"Company\": \"Mamaearth\", \"Color\": \"Light Green\"}, \"1000024\": {\"Name\": \"Diamond cellular\", \"Price\": 1020, \"Quantity\": 70, \"Company\": \"Oriflame\", \"Color\": \"Bolg Gold\"}, \"1000025\": {\"Name\": \"Sundarya Rdiance\", \"Price\": 110, \"Quantity\": 500, \"Company\": \"Avon\", \"Color\": \"Blue\"}, \"1000026\": {\"Name\": \"Blue light defence\", \"Price\": 590, \"Quantity\": 300, \"Company\": \"Colorbar\", \"Color\": \"Light DEfence\"}, \"1000027\": {\"Name\": \"Hydra White\", \"Price\": 1300, \"Quantity\": 450, \"Company\": \"Revlon\", \"Color\": \"Silk\"}, \"1000028\": {\"Name\": \"Sebamed\", \"Price\": 5550, \"Quantity\": 450, \"Company\": \"NYX\", \"Color\": \"Black\"}, \"1000029\": {\"Name\": \"Wow\", \"Price\": 100, \"Quantity\": 7, \"Company\": \"Nykaa\", \"Color\": \"Facial\"}, \"1000030\": {\"Name\": \"Glutathione\", \"Price\": 1100, \"Quantity\": 30, \"Company\": \"Wet \", \"Color\": \"Shiny gold\"}, \"1000031\": {\"name\": \"Maya\", \"pr\": 6000, \"qn\": 100, \"com\": \"Javeda\", \"col\": \"Blue\"}, \"1000032\": {\"name\": \"Masumi\", \"pr\": 2300, \"qn\": 50, \"com\": \"Moka\", \"col\": \"Orange\"}, \"1000033\": {\"name\": \"Romanch\", \"pr\": 2900, \"qn\": 20, \"com\": \"Mehrum\", \"col\": \"Shiny Gold\"}, \"1000034\": {\"name\": \"Vaseline\", \"pr\": 2300, \"qn\": 1, \"com\": \"Ponds\", \"col\": \"White\"}, \"1000035\": {\"name\": \"Old Spice\", \"pr\": 300, \"qn\": 4, \"com\": \"Colfax\", \"col\": \"Green\"}, \"1000036\": {\"name\": \"Safedi\", \"pr\": 690, \"qn\": 20, \"com\": \"Patanjali\", \"col\": \"Black\"}, \"1000037\": {\"name\": \"Saundarya\", \"pr\": 500, \"qn\": 25, \"com\": \"Himalaya\", \"col\": \"Blue\"}, \"1000038\": {\"name\": \"Facial kit\", \"pr\": 2000, \"qn\": 20, \"com\": \"Nature\", \"col\": \"Soil Color\"}, \"1000040\": {\"name\": \"Kayra\", \"pr\": 200, \"qn\": 40, \"com\": \"Unilever\", \"col\": \"Yellow\"}, \"1000039\": {\"name\": \"Muskara\", \"pr\": 6700, \"qn\": 2, \"com\": \"ELLE 18\", \"col\": \"Cream\"}}'"
            ]
          },
          "metadata": {},
          "execution_count": 52
        }
      ]
    },
    {
      "cell_type": "markdown",
      "metadata": {
        "id": "jE5vfIePyTih"
      },
      "source": [
        "#**Sales JSON**"
      ]
    },
    {
      "cell_type": "code",
      "metadata": {
        "id": "yTv1C8S5yOSL"
      },
      "source": [
        "sales = {1 : {'prod' : ui_prod, 'qn' : ui_quant, 'amount': records[ui_prod]['Price'] * ui_quant},\n",
        "         2 : {'prod' : ui_prod, 'qn' : ui_quant, 'amount': records[ui_prod]['Price'] * ui_quant},\n",
        "         3 : {'prod' : ui_prod, 'qn' : ui_quant, 'amount': records[ui_prod]['Price'] * ui_quant}}"
      ],
      "execution_count": 60,
      "outputs": []
    },
    {
      "cell_type": "code",
      "metadata": {
        "colab": {
          "base_uri": "https://localhost:8080/"
        },
        "id": "w6cyBJADyf1x",
        "outputId": "e2ac4e77-f5d5-4440-cb54-fa88c096c861"
      },
      "source": [
        "sales"
      ],
      "execution_count": 54,
      "outputs": [
        {
          "output_type": "execute_result",
          "data": {
            "text/plain": [
              "{1: {'amount': 1800, 'prod': '1000020', 'qn': 4},\n",
              " 2: {'amount': 1800, 'prod': '1000020', 'qn': 4},\n",
              " 3: {'amount': 1800, 'prod': '1000020', 'qn': 4}}"
            ]
          },
          "metadata": {},
          "execution_count": 54
        }
      ]
    },
    {
      "cell_type": "code",
      "metadata": {
        "id": "iC8mKu_xyjT1"
      },
      "source": [
        "sale = json.dumps(sales)"
      ],
      "execution_count": 55,
      "outputs": []
    },
    {
      "cell_type": "code",
      "metadata": {
        "colab": {
          "base_uri": "https://localhost:8080/",
          "height": 52
        },
        "id": "0KdnSV08ynmA",
        "outputId": "efb2d1a0-af4d-40d0-d910-c22bfc186fab"
      },
      "source": [
        "sale"
      ],
      "execution_count": 56,
      "outputs": [
        {
          "output_type": "execute_result",
          "data": {
            "application/vnd.google.colaboratory.intrinsic+json": {
              "type": "string"
            },
            "text/plain": [
              "'{\"1\": {\"prod\": \"1000020\", \"qn\": 4, \"amount\": 1800}, \"2\": {\"prod\": \"1000020\", \"qn\": 4, \"amount\": 1800}, \"3\": {\"prod\": \"1000020\", \"qn\": 4, \"amount\": 1800}}'"
            ]
          },
          "metadata": {},
          "execution_count": 56
        }
      ]
    },
    {
      "cell_type": "markdown",
      "metadata": {
        "id": "rmGic7g8yqMM"
      },
      "source": [
        "#**THANKU YOU**"
      ]
    }
  ]
}