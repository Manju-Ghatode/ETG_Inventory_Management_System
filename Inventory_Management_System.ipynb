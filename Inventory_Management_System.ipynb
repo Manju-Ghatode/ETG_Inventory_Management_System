{
  "nbformat": 4,
  "nbformat_minor": 0,
  "metadata": {
    "colab": {
      "name": "Inventory_Management_System.ipynb",
      "provenance": [],
      "collapsed_sections": [],
      "authorship_tag": "ABX9TyNZ/Rcc4QC9PiczKgGN+4Vx",
      "include_colab_link": true
    },
    "kernelspec": {
      "name": "python3",
      "display_name": "Python 3"
    },
    "language_info": {
      "name": "python"
    }
  },
  "cells": [
    {
      "cell_type": "markdown",
      "metadata": {
        "id": "view-in-github",
        "colab_type": "text"
      },
      "source": [
        "<a href=\"https://colab.research.google.com/github/Manju-Ghatode/ETG_Inventory_Management_System/blob/main/Inventory_Management_System.ipynb\" target=\"_parent\"><img src=\"https://colab.research.google.com/assets/colab-badge.svg\" alt=\"Open In Colab\"/></a>"
      ]
    },
    {
      "cell_type": "markdown",
      "metadata": {
        "id": "fiFPQ_wAP9k5"
      },
      "source": [
        "#**ELITE TECHNO GROUPS**\n",
        "\n",
        "#**Skills-India-AI-ML-Scholarship**\n",
        "\n",
        "#**JSON Based Inventory Management System**\n",
        "\n",
        "##**Author : Manju Ghatode**"
      ]
    },
    {
      "cell_type": "markdown",
      "metadata": {
        "id": "5XfFaga8wJwb"
      },
      "source": [
        "#**Create  Inventory Management System**"
      ]
    },
    {
      "cell_type": "code",
      "metadata": {
        "id": "k0bt_6T1Qau0"
      },
      "source": [
        "record = { 1000001 : {\"Name\" : \"Baby Cream\", \"Price\" : 140, \"Quantity\" : 30, \"Company\" : \"Himalaya\", \"Color\" : \"White\"}, \n",
        "           1000002 : {\"Name\" : \"Brightning Day Cream\" , \"Price\" :150, \"Quantity\" : 10 , 'Company' : 'Kaya', 'Color' : 'Light Pink'},\n",
        "           1000003 : {'Name':'Eyelyner','Price' :500, 'Quantity' : 5, 'Company' : 'Shehnaz Husan','Color':'Black'},\n",
        "1000004 : {'Name':'Lipstic','Price' :750, 'Quantity' : 23, 'Company' : 'Lakme','Color':'Bold Red'},\n",
        "1000005 : {'Name':'White Glow','Price' :110, 'Quantity' :50 , 'Company' : 'Lotus','Color':'Navy Blue'},\n",
        "1000006: {'Name':'Anti Wrinkle','Price' :1189, 'Quantity' : 1, 'Company' : 'Ptanjali','Color':'Gold'},\n",
        "1000007 : {'Name':'Foundation','Price' :1100, 'Quantity' : 5, 'Company' : 'VLCC','Color':'Light Borwn'},\n",
        "1000008 : {'Name':'Nailpaint','Price' :11, 'Quantity' : 24, 'Company' : 'Colorssence','Color':'White'},\n",
        "1000009 : {'Name':'Skin Care','Price' :220, 'Quantity' : 100, 'Company' : 'Biotique' , 'Color' : 'Black'},\n",
        "1000010 : {'Name':'Muskara','Price' :1110, 'Quantity' : 10, 'Company' : 'Milani','Color':'Dark Black'},\n",
        "1000011 : {'Name':'Lipstic','Price' :750, 'Quantity' : 50, 'Company' : 'Blue heaven','Color':'Pink'},\n",
        "1000012 : {'Name':'Makeup remover','Price' :350, 'Quantity' : 30, 'Company' : 'Viviana','Color':'Light pink'},\n",
        "1000013: {'Name':'Swarna Kanti','Price' :590, 'Quantity' : 40, 'Company' : 'Patanjali','Color':'Fair White'},\n",
        "1000014 : {'Name':'Skincare','Price' :10, 'Quantity' : 10, 'Company' : 'Forest Essentials','Color':'Gold'},\n",
        "1000015 : {'Name':'Compact Powder','Price' :590, 'Quantity' : 35, 'Company' : 'Coloressence','Color':'Pearl White'},\n",
        "1000016 : {'Name':' Gold Facial kit','Price' :2000, 'Quantity' : 1, 'Company' : 'VLCC','Color':'Pearl White'},\n",
        "1000017 : {'Name':'Lipstik','Price' :1111, 'Quantity' : 100, 'Company' : 'ELLE 18','Color':'Pop silk'},\n",
        "1000018 : {'Name':'Kajal Stick','Price' :850, 'Quantity' : 45 , 'Company' : 'VIVIANA','Color':'Dark Red'},\n",
        "1000019 : {'Name':'Intensive Moisturizing','Price' :20, 'Quantity' : 20, 'Company' : 'PAC','Color':'Milky'},\n",
        "1000020 : {'Name':'Radiance Cream','Price' :450, 'Quantity' : 300, 'Company' : 'Lakme','Color':'Skin color'},\n",
        "1000021 : {'Name':'Skin perfect','Price' :2500, 'Quantity' : 370, 'Company' : 'olreal','Color':'POP silky'},\n",
        "1000022 : {'Name':'Shanglow Plus','Price' :710, 'Quantity' : 10, 'Company' : 'Maybellinge','Color':'Skin color'},\n",
        "1000023 : {'Name':'Whitamin C face cream','Price' :599, 'Quantity' : 15, 'Company' : 'Mamaearth','Color':'Light Green'},\n",
        "1000024: {'Name':'Diamond cellular','Price' :1020, 'Quantity' : 70, 'Company' : 'Oriflame','Color':'Bolg Gold'},\n",
        "1000025 : {'Name':'Sundarya Rdiance','Price' :110, 'Quantity' : 500, 'Company' : 'Avon','Color':'Blue'},\n",
        "1000026 : {'Name':'Blue light defence','Price' :590, 'Quantity' : 300, 'Company' : 'Colorbar','Color':'Light DEfence'},\n",
        "1000027 : {'Name':'Hydra White','Price' :1300, 'Quantity' : 450, 'Company' : 'Revlon','Color':'Silk'},\n",
        "1000028 : {'Name':'Sebamed','Price' :5550,'Quantity' : 450, 'Company' : 'NYX','Color':'Black'},\n",
        "1000029 : {'Name':'Wow','Price' :100, 'Quantity' : 7, 'Company' : 'Nykaa','Color':'Facial'},\n",
        "1000030 : {'Name':'Glutathione','Price' :1100, 'Quantity' : 30, 'Company' : 'Wet ','Color':'Shiny gold'},\n",
        "\n",
        "}"
      ],
      "execution_count": 5,
      "outputs": []
    },
    {
      "cell_type": "markdown",
      "metadata": {
        "id": "GEVuznzXwWS6"
      },
      "source": [
        "#**Read the Record**"
      ]
    },
    {
      "cell_type": "code",
      "metadata": {
        "id": "vrlGciJIYef-",
        "colab": {
          "base_uri": "https://localhost:8080/"
        },
        "outputId": "d530f5cb-32e4-4766-a1ee-ec41db857ee4"
      },
      "source": [
        "print(\"~~~~~~~~~~~Record Of Inventary Management System~~~~~~~~~~~~~~~\")\n",
        "\n",
        "record"
      ],
      "execution_count": 6,
      "outputs": [
        {
          "output_type": "stream",
          "name": "stdout",
          "text": [
            "~~~~~~~~~~~Record Of Inventary Management System~~~~~~~~~~~~~~~\n"
          ]
        },
        {
          "output_type": "execute_result",
          "data": {
            "text/plain": [
              "{1000001: {'Color': 'White',\n",
              "  'Company': 'Himalaya',\n",
              "  'Name': 'Baby Cream',\n",
              "  'Price': 140,\n",
              "  'Quantity': 30},\n",
              " 1000002: {'Color': 'Light Pink',\n",
              "  'Company': 'Kaya',\n",
              "  'Name': 'Brightning Day Cream',\n",
              "  'Price': 150,\n",
              "  'Quantity': 10},\n",
              " 1000003: {'Color': 'Black',\n",
              "  'Company': 'Shehnaz Husan',\n",
              "  'Name': 'Eyelyner',\n",
              "  'Price': 500,\n",
              "  'Quantity': 5},\n",
              " 1000004: {'Color': 'Bold Red',\n",
              "  'Company': 'Lakme',\n",
              "  'Name': 'Lipstic',\n",
              "  'Price': 750,\n",
              "  'Quantity': 23},\n",
              " 1000005: {'Color': 'Navy Blue',\n",
              "  'Company': 'Lotus',\n",
              "  'Name': 'White Glow',\n",
              "  'Price': 110,\n",
              "  'Quantity': 50},\n",
              " 1000006: {'Color': 'Gold',\n",
              "  'Company': 'Ptanjali',\n",
              "  'Name': 'Anti Wrinkle',\n",
              "  'Price': 1189,\n",
              "  'Quantity': 1},\n",
              " 1000007: {'Color': 'Light Borwn',\n",
              "  'Company': 'VLCC',\n",
              "  'Name': 'Foundation',\n",
              "  'Price': 1100,\n",
              "  'Quantity': 5},\n",
              " 1000008: {'Color': 'White',\n",
              "  'Company': 'Colorssence',\n",
              "  'Name': 'Nailpaint',\n",
              "  'Price': 11,\n",
              "  'Quantity': 24},\n",
              " 1000009: {'Color': 'Black',\n",
              "  'Company': 'Biotique',\n",
              "  'Name': 'Skin Care',\n",
              "  'Price': 220,\n",
              "  'Quantity': 100},\n",
              " 1000010: {'Color': 'Dark Black',\n",
              "  'Company': 'Milani',\n",
              "  'Name': 'Muskara',\n",
              "  'Price': 1110,\n",
              "  'Quantity': 10},\n",
              " 1000011: {'Color': 'Pink',\n",
              "  'Company': 'Blue heaven',\n",
              "  'Name': 'Lipstic',\n",
              "  'Price': 750,\n",
              "  'Quantity': 50},\n",
              " 1000012: {'Color': 'Light pink',\n",
              "  'Company': 'Viviana',\n",
              "  'Name': 'Makeup remover',\n",
              "  'Price': 350,\n",
              "  'Quantity': 30},\n",
              " 1000013: {'Color': 'Fair White',\n",
              "  'Company': 'Patanjali',\n",
              "  'Name': 'Swarna Kanti',\n",
              "  'Price': 590,\n",
              "  'Quantity': 40},\n",
              " 1000014: {'Color': 'Gold',\n",
              "  'Company': 'Forest Essentials',\n",
              "  'Name': 'Skincare',\n",
              "  'Price': 10,\n",
              "  'Quantity': 10},\n",
              " 1000015: {'Color': 'Pearl White',\n",
              "  'Company': 'Coloressence',\n",
              "  'Name': 'Compact Powder',\n",
              "  'Price': 590,\n",
              "  'Quantity': 35},\n",
              " 1000016: {'Color': 'Pearl White',\n",
              "  'Company': 'VLCC',\n",
              "  'Name': ' Gold Facial kit',\n",
              "  'Price': 2000,\n",
              "  'Quantity': 1},\n",
              " 1000017: {'Color': 'Pop silk',\n",
              "  'Company': 'ELLE 18',\n",
              "  'Name': 'Lipstik',\n",
              "  'Price': 1111,\n",
              "  'Quantity': 100},\n",
              " 1000018: {'Color': 'Dark Red',\n",
              "  'Company': 'VIVIANA',\n",
              "  'Name': 'Kajal Stick',\n",
              "  'Price': 850,\n",
              "  'Quantity': 45},\n",
              " 1000019: {'Color': 'Milky',\n",
              "  'Company': 'PAC',\n",
              "  'Name': 'Intensive Moisturizing',\n",
              "  'Price': 20,\n",
              "  'Quantity': 20},\n",
              " 1000020: {'Color': 'Skin color',\n",
              "  'Company': 'Lakme',\n",
              "  'Name': 'Radiance Cream',\n",
              "  'Price': 450,\n",
              "  'Quantity': 300},\n",
              " 1000021: {'Color': 'POP silky',\n",
              "  'Company': 'olreal',\n",
              "  'Name': 'Skin perfect',\n",
              "  'Price': 2500,\n",
              "  'Quantity': 370},\n",
              " 1000022: {'Color': 'Skin color',\n",
              "  'Company': 'Maybellinge',\n",
              "  'Name': 'Shanglow Plus',\n",
              "  'Price': 710,\n",
              "  'Quantity': 10},\n",
              " 1000023: {'Color': 'Light Green',\n",
              "  'Company': 'Mamaearth',\n",
              "  'Name': 'Whitamin C face cream',\n",
              "  'Price': 599,\n",
              "  'Quantity': 15},\n",
              " 1000024: {'Color': 'Bolg Gold',\n",
              "  'Company': 'Oriflame',\n",
              "  'Name': 'Diamond cellular',\n",
              "  'Price': 1020,\n",
              "  'Quantity': 70},\n",
              " 1000025: {'Color': 'Blue',\n",
              "  'Company': 'Avon',\n",
              "  'Name': 'Sundarya Rdiance',\n",
              "  'Price': 110,\n",
              "  'Quantity': 500},\n",
              " 1000026: {'Color': 'Light DEfence',\n",
              "  'Company': 'Colorbar',\n",
              "  'Name': 'Blue light defence',\n",
              "  'Price': 590,\n",
              "  'Quantity': 300},\n",
              " 1000027: {'Color': 'Silk',\n",
              "  'Company': 'Revlon',\n",
              "  'Name': 'Hydra White',\n",
              "  'Price': 1300,\n",
              "  'Quantity': 450},\n",
              " 1000028: {'Color': 'Black',\n",
              "  'Company': 'NYX',\n",
              "  'Name': 'Sebamed',\n",
              "  'Price': 5550,\n",
              "  'Quantity': 450},\n",
              " 1000029: {'Color': 'Facial',\n",
              "  'Company': 'Nykaa',\n",
              "  'Name': 'Wow',\n",
              "  'Price': 100,\n",
              "  'Quantity': 7},\n",
              " 1000030: {'Color': 'Shiny gold',\n",
              "  'Company': 'Wet ',\n",
              "  'Name': 'Glutathione',\n",
              "  'Price': 1100,\n",
              "  'Quantity': 30}}"
            ]
          },
          "metadata": {},
          "execution_count": 6
        }
      ]
    },
    {
      "cell_type": "markdown",
      "metadata": {
        "id": "lHWi7kDbn8MX"
      },
      "source": [
        "#**Add new item into Inventary**"
      ]
    },
    {
      "cell_type": "code",
      "metadata": {
        "id": "gA6XrkRtS052"
      },
      "source": [
        "import json"
      ],
      "execution_count": 7,
      "outputs": []
    },
    {
      "cell_type": "code",
      "metadata": {
        "id": "ZZxlnKZldjvX"
      },
      "source": [
        "js = json.dumps(record)"
      ],
      "execution_count": 8,
      "outputs": []
    },
    {
      "cell_type": "code",
      "metadata": {
        "colab": {
          "base_uri": "https://localhost:8080/",
          "height": 137
        },
        "id": "sLiX8L2Jdq2K",
        "outputId": "f3f40591-689c-4426-96c2-e743568d61e6"
      },
      "source": [
        "js"
      ],
      "execution_count": 9,
      "outputs": [
        {
          "output_type": "execute_result",
          "data": {
            "application/vnd.google.colaboratory.intrinsic+json": {
              "type": "string"
            },
            "text/plain": [
              "'{\"1000001\": {\"Name\": \"Baby Cream\", \"Price\": 140, \"Quantity\": 30, \"Company\": \"Himalaya\", \"Color\": \"White\"}, \"1000002\": {\"Name\": \"Brightning Day Cream\", \"Price\": 150, \"Quantity\": 10, \"Company\": \"Kaya\", \"Color\": \"Light Pink\"}, \"1000003\": {\"Name\": \"Eyelyner\", \"Price\": 500, \"Quantity\": 5, \"Company\": \"Shehnaz Husan\", \"Color\": \"Black\"}, \"1000004\": {\"Name\": \"Lipstic\", \"Price\": 750, \"Quantity\": 23, \"Company\": \"Lakme\", \"Color\": \"Bold Red\"}, \"1000005\": {\"Name\": \"White Glow\", \"Price\": 110, \"Quantity\": 50, \"Company\": \"Lotus\", \"Color\": \"Navy Blue\"}, \"1000006\": {\"Name\": \"Anti Wrinkle\", \"Price\": 1189, \"Quantity\": 1, \"Company\": \"Ptanjali\", \"Color\": \"Gold\"}, \"1000007\": {\"Name\": \"Foundation\", \"Price\": 1100, \"Quantity\": 5, \"Company\": \"VLCC\", \"Color\": \"Light Borwn\"}, \"1000008\": {\"Name\": \"Nailpaint\", \"Price\": 11, \"Quantity\": 24, \"Company\": \"Colorssence\", \"Color\": \"White\"}, \"1000009\": {\"Name\": \"Skin Care\", \"Price\": 220, \"Quantity\": 100, \"Company\": \"Biotique\", \"Color\": \"Black\"}, \"1000010\": {\"Name\": \"Muskara\", \"Price\": 1110, \"Quantity\": 10, \"Company\": \"Milani\", \"Color\": \"Dark Black\"}, \"1000011\": {\"Name\": \"Lipstic\", \"Price\": 750, \"Quantity\": 50, \"Company\": \"Blue heaven\", \"Color\": \"Pink\"}, \"1000012\": {\"Name\": \"Makeup remover\", \"Price\": 350, \"Quantity\": 30, \"Company\": \"Viviana\", \"Color\": \"Light pink\"}, \"1000013\": {\"Name\": \"Swarna Kanti\", \"Price\": 590, \"Quantity\": 40, \"Company\": \"Patanjali\", \"Color\": \"Fair White\"}, \"1000014\": {\"Name\": \"Skincare\", \"Price\": 10, \"Quantity\": 10, \"Company\": \"Forest Essentials\", \"Color\": \"Gold\"}, \"1000015\": {\"Name\": \"Compact Powder\", \"Price\": 590, \"Quantity\": 35, \"Company\": \"Coloressence\", \"Color\": \"Pearl White\"}, \"1000016\": {\"Name\": \" Gold Facial kit\", \"Price\": 2000, \"Quantity\": 1, \"Company\": \"VLCC\", \"Color\": \"Pearl White\"}, \"1000017\": {\"Name\": \"Lipstik\", \"Price\": 1111, \"Quantity\": 100, \"Company\": \"ELLE 18\", \"Color\": \"Pop silk\"}, \"1000018\": {\"Name\": \"Kajal Stick\", \"Price\": 850, \"Quantity\": 45, \"Company\": \"VIVIANA\", \"Color\": \"Dark Red\"}, \"1000019\": {\"Name\": \"Intensive Moisturizing\", \"Price\": 20, \"Quantity\": 20, \"Company\": \"PAC\", \"Color\": \"Milky\"}, \"1000020\": {\"Name\": \"Radiance Cream\", \"Price\": 450, \"Quantity\": 300, \"Company\": \"Lakme\", \"Color\": \"Skin color\"}, \"1000021\": {\"Name\": \"Skin perfect\", \"Price\": 2500, \"Quantity\": 370, \"Company\": \"olreal\", \"Color\": \"POP silky\"}, \"1000022\": {\"Name\": \"Shanglow Plus\", \"Price\": 710, \"Quantity\": 10, \"Company\": \"Maybellinge\", \"Color\": \"Skin color\"}, \"1000023\": {\"Name\": \"Whitamin C face cream\", \"Price\": 599, \"Quantity\": 15, \"Company\": \"Mamaearth\", \"Color\": \"Light Green\"}, \"1000024\": {\"Name\": \"Diamond cellular\", \"Price\": 1020, \"Quantity\": 70, \"Company\": \"Oriflame\", \"Color\": \"Bolg Gold\"}, \"1000025\": {\"Name\": \"Sundarya Rdiance\", \"Price\": 110, \"Quantity\": 500, \"Company\": \"Avon\", \"Color\": \"Blue\"}, \"1000026\": {\"Name\": \"Blue light defence\", \"Price\": 590, \"Quantity\": 300, \"Company\": \"Colorbar\", \"Color\": \"Light DEfence\"}, \"1000027\": {\"Name\": \"Hydra White\", \"Price\": 1300, \"Quantity\": 450, \"Company\": \"Revlon\", \"Color\": \"Silk\"}, \"1000028\": {\"Name\": \"Sebamed\", \"Price\": 5550, \"Quantity\": 450, \"Company\": \"NYX\", \"Color\": \"Black\"}, \"1000029\": {\"Name\": \"Wow\", \"Price\": 100, \"Quantity\": 7, \"Company\": \"Nykaa\", \"Color\": \"Facial\"}, \"1000030\": {\"Name\": \"Glutathione\", \"Price\": 1100, \"Quantity\": 30, \"Company\": \"Wet \", \"Color\": \"Shiny gold\"}}'"
            ]
          },
          "metadata": {},
          "execution_count": 9
        }
      ]
    },
    {
      "cell_type": "code",
      "metadata": {
        "colab": {
          "base_uri": "https://localhost:8080/"
        },
        "id": "OdRsklcLqmB4",
        "outputId": "21e18bcb-3b54-410a-de8b-56c6a0e2ee1c"
      },
      "source": [
        "prod_id = str(input(\"Enter product id:\"))\n",
        "name = str(input(\"Enter name:\"))\n",
        "pr = int(input(\"Enter price:\"))\n",
        "qn = int(input(\"Enter quantity:\"))\n",
        "com = str(input(\"Enter company:\"))\n",
        "col = str(input(\"Enter color:\"))\n",
        "\n",
        "record[prod_id] = {'name': name, 'pr': pr, 'qn': qn, 'com' : com, 'col': col}\n",
        "\n",
        "js = json.dumps(record)\n",
        "\n",
        "fd = open(\"record.json\",'w')\n",
        "fd.write(js)\n",
        "fd.close()"
      ],
      "execution_count": 10,
      "outputs": [
        {
          "name": "stdout",
          "output_type": "stream",
          "text": [
            "Enter product id:1000031\n",
            "Enter name:Jalousy\n",
            "Enter price:500\n",
            "Enter quantity:10\n",
            "Enter company:Maurya\n",
            "Enter color:Blue\n"
          ]
        }
      ]
    },
    {
      "cell_type": "code",
      "metadata": {
        "colab": {
          "base_uri": "https://localhost:8080/"
        },
        "id": "atX1P3_Pq-UN",
        "outputId": "744e5438-82be-4e5f-9590-44883094965e"
      },
      "source": [
        "prod_id = str(input(\"Enter product id:\"))\n",
        "name = str(input(\"Enter name:\"))\n",
        "pr = int(input(\"Enter price:\"))\n",
        "qn = int(input(\"Enter quantity:\"))\n",
        "com = str(input(\"Enter company:\"))\n",
        "col = str(input(\"Enter color:\"))\n",
        "\n",
        "record[prod_id] = {'name': name, 'pr': pr, 'qn': qn, 'com' : com, 'col': col}\n",
        "\n",
        "js = json.dumps(record)\n",
        "\n",
        "fd = open(\"record.json\",'w')\n",
        "fd.write(js)\n",
        "fd.close()"
      ],
      "execution_count": 11,
      "outputs": [
        {
          "name": "stdout",
          "output_type": "stream",
          "text": [
            "Enter product id:1000032\n",
            "Enter name:Masaj Pack\n",
            "Enter price:1000\n",
            "Enter quantity:100\n",
            "Enter company:Lakme\n",
            "Enter color:Yello\n"
          ]
        }
      ]
    },
    {
      "cell_type": "code",
      "metadata": {
        "colab": {
          "base_uri": "https://localhost:8080/"
        },
        "id": "pjO8MSiwrO9s",
        "outputId": "017f1742-d89b-4cc2-e4a9-2b8b4a28360f"
      },
      "source": [
        "prod_id = str(input(\"Enter product id:\"))\n",
        "name = str(input(\"Enter name:\"))\n",
        "pr = int(input(\"Enter price:\"))\n",
        "qn = int(input(\"Enter quantity:\"))\n",
        "com = str(input(\"Enter company:\"))\n",
        "col = str(input(\"Enter color:\"))\n",
        "\n",
        "record[prod_id] = {'name': name, 'pr': pr, 'qn': qn, 'com' : com, 'col': col}\n",
        "\n",
        "js = json.dumps(record)\n",
        "\n",
        "fd = open(\"record.json\",'w')\n",
        "fd.write(js)\n",
        "fd.close()"
      ],
      "execution_count": 12,
      "outputs": [
        {
          "name": "stdout",
          "output_type": "stream",
          "text": [
            "Enter product id:1000033\n",
            "Enter name:Lipstic\n",
            "Enter price:120\n",
            "Enter quantity:5\n",
            "Enter company:Nayka\n",
            "Enter color:Green\n"
          ]
        }
      ]
    },
    {
      "cell_type": "code",
      "metadata": {
        "colab": {
          "base_uri": "https://localhost:8080/"
        },
        "id": "Sd_Uha3arfPE",
        "outputId": "fcfc214f-a518-4f8b-8c53-4798087350aa"
      },
      "source": [
        "prod_id = str(input(\"Enter product id:\"))\n",
        "name = str(input(\"Enter name:\"))\n",
        "pr = int(input(\"Enter price:\"))\n",
        "qn = int(input(\"Enter quantity:\"))\n",
        "com = str(input(\"Enter company:\"))\n",
        "col = str(input(\"Enter color:\"))\n",
        "\n",
        "record[prod_id] = {'name': name, 'pr': pr, 'qn': qn, 'com' : com, 'col': col}\n",
        "\n",
        "js = json.dumps(record)\n",
        "\n",
        "fd = open(\"record.json\",'w')\n",
        "fd.write(js)\n",
        "fd.close()"
      ],
      "execution_count": 13,
      "outputs": [
        {
          "name": "stdout",
          "output_type": "stream",
          "text": [
            "Enter product id:1000034\n",
            "Enter name:Nailpaint\n",
            "Enter price:290\n",
            "Enter quantity:20\n",
            "Enter company:Lotus\n",
            "Enter color:Red\n"
          ]
        }
      ]
    },
    {
      "cell_type": "code",
      "metadata": {
        "colab": {
          "base_uri": "https://localhost:8080/"
        },
        "id": "PnjcVkILrvBz",
        "outputId": "4a5b07d7-933a-4405-dc9e-06b089465013"
      },
      "source": [
        "prod_id = str(input(\"Enter product id:\"))\n",
        "name = str(input(\"Enter name:\"))\n",
        "pr = int(input(\"Enter price:\"))\n",
        "qn = int(input(\"Enter quantity:\"))\n",
        "com = str(input(\"Enter company:\"))\n",
        "col = str(input(\"Enter color:\"))\n",
        "\n",
        "record[prod_id] = {'name': name, 'pr': pr, 'qn': qn, 'com' : com, 'col': col}\n",
        "\n",
        "js = json.dumps(record)\n",
        "\n",
        "fd = open(\"record.json\",'w')\n",
        "fd.write(js)\n",
        "fd.close()"
      ],
      "execution_count": 14,
      "outputs": [
        {
          "name": "stdout",
          "output_type": "stream",
          "text": [
            "Enter product id:1000035\n",
            "Enter name:Yellow Glow\n",
            "Enter price:590\n",
            "Enter quantity:40\n",
            "Enter company:Coloressence\n",
            "Enter color:Pop pink\n"
          ]
        }
      ]
    },
    {
      "cell_type": "code",
      "metadata": {
        "colab": {
          "base_uri": "https://localhost:8080/"
        },
        "id": "-wBKMEIUsBK-",
        "outputId": "27e8b796-ad82-47e9-ac7c-d4b1221db57d"
      },
      "source": [
        "prod_id = str(input(\"Enter product id:\"))\n",
        "name = str(input(\"Enter name:\"))\n",
        "pr = int(input(\"Enter price:\"))\n",
        "qn = int(input(\"Enter quantity:\"))\n",
        "com = str(input(\"Enter company:\"))\n",
        "col = str(input(\"Enter color:\"))\n",
        "\n",
        "record[prod_id] = {'name': name, 'pr': pr, 'qn': qn, 'com' : com, 'col': col}\n",
        "\n",
        "js = json.dumps(record)\n",
        "\n",
        "fd = open(\"record.json\",'w')\n",
        "fd.write(js)\n",
        "fd.close()"
      ],
      "execution_count": 15,
      "outputs": [
        {
          "name": "stdout",
          "output_type": "stream",
          "text": [
            "Enter product id:1000036\n",
            "Enter name:Muskara\n",
            "Enter price:200\n",
            "Enter quantity:10\n",
            "Enter company:Patanjali\n",
            "Enter color:White\n"
          ]
        }
      ]
    },
    {
      "cell_type": "code",
      "metadata": {
        "colab": {
          "base_uri": "https://localhost:8080/"
        },
        "id": "Jt9HC5fesReC",
        "outputId": "5f6b23f7-1247-4fde-9ed6-c93522bf1768"
      },
      "source": [
        "prod_id = str(input(\"Enter product id:\"))\n",
        "name = str(input(\"Enter name:\"))\n",
        "pr = int(input(\"Enter price:\"))\n",
        "qn = int(input(\"Enter quantity:\"))\n",
        "com = str(input(\"Enter company:\"))\n",
        "col = str(input(\"Enter color:\"))\n",
        "\n",
        "record[prod_id] = {'name': name, 'pr': pr, 'qn': qn, 'com' : com, 'col': col}\n",
        "\n",
        "js = json.dumps(record)\n",
        "\n",
        "fd = open(\"record.json\",'w')\n",
        "fd.write(js)\n",
        "fd.close()"
      ],
      "execution_count": 16,
      "outputs": [
        {
          "name": "stdout",
          "output_type": "stream",
          "text": [
            "Enter product id:1000036\n",
            "Enter name:Compact Powder\n",
            "Enter price:300\n",
            "Enter quantity:25\n",
            "Enter company:Forest Essentials\n",
            "Enter color:White\n"
          ]
        }
      ]
    },
    {
      "cell_type": "code",
      "metadata": {
        "colab": {
          "base_uri": "https://localhost:8080/"
        },
        "id": "2YyofZQYsqjY",
        "outputId": "fa5b5f3d-9ab5-4ab6-f615-4c1cc831226f"
      },
      "source": [
        "prod_id = str(input(\"Enter product id:\"))\n",
        "name = str(input(\"Enter name:\"))\n",
        "pr = int(input(\"Enter price:\"))\n",
        "qn = int(input(\"Enter quantity:\"))\n",
        "com = str(input(\"Enter company:\"))\n",
        "col = str(input(\"Enter color:\"))\n",
        "\n",
        "record[prod_id] = {'name': name, 'pr': pr, 'qn': qn, 'com' : com, 'col': col}\n",
        "\n",
        "js = json.dumps(record)\n",
        "\n",
        "fd = open(\"record.json\",'w')\n",
        "fd.write(js)\n",
        "fd.close()"
      ],
      "execution_count": 17,
      "outputs": [
        {
          "name": "stdout",
          "output_type": "stream",
          "text": [
            "Enter product id:1000037\n",
            "Enter name:Skincare\n",
            "Enter price:1000\n",
            "Enter quantity:5\n",
            "Enter company:Blue Heaven\n",
            "Enter color:Fresh Gold\n"
          ]
        }
      ]
    },
    {
      "cell_type": "code",
      "metadata": {
        "colab": {
          "base_uri": "https://localhost:8080/"
        },
        "id": "IPXoxFHLsqui",
        "outputId": "9c18f7f9-278b-43a0-c37f-8e3712f5658a"
      },
      "source": [
        "prod_id = str(input(\"Enter product id:\"))\n",
        "name = str(input(\"Enter name:\"))\n",
        "pr = int(input(\"Enter price:\"))\n",
        "qn = int(input(\"Enter quantity:\"))\n",
        "com = str(input(\"Enter company:\"))\n",
        "col = str(input(\"Enter color:\"))\n",
        "\n",
        "record[prod_id] = {'name': name, 'pr': pr, 'qn': qn, 'com' : com, 'col': col}\n",
        "\n",
        "js = json.dumps(record)\n",
        "\n",
        "fd = open(\"record.json\",'w')\n",
        "fd.write(js)\n",
        "fd.close()"
      ],
      "execution_count": 18,
      "outputs": [
        {
          "name": "stdout",
          "output_type": "stream",
          "text": [
            "Enter product id:1000038\n",
            "Enter name:Swarna Kanti\n",
            "Enter price:190\n",
            "Enter quantity:15\n",
            "Enter company:VLCC\n",
            "Enter color:Pop Silk\n"
          ]
        }
      ]
    },
    {
      "cell_type": "code",
      "metadata": {
        "colab": {
          "base_uri": "https://localhost:8080/"
        },
        "id": "ax5qGzS9tMzl",
        "outputId": "4eab1cd2-595a-4e1d-fc9f-b26ab118d0b6"
      },
      "source": [
        "prod_id = str(input(\"Enter product id:\"))\n",
        "name = str(input(\"Enter name:\"))\n",
        "pr = int(input(\"Enter price:\"))\n",
        "qn = int(input(\"Enter quantity:\"))\n",
        "com = str(input(\"Enter company:\"))\n",
        "col = str(input(\"Enter color:\"))\n",
        "\n",
        "record[prod_id] = {'name': name, 'pr': pr, 'qn': qn, 'com' : com, 'col': col}\n",
        "\n",
        "js = json.dumps(record)\n",
        "\n",
        "fd = open(\"record.json\",'w')\n",
        "fd.write(js)\n",
        "fd.close()"
      ],
      "execution_count": 19,
      "outputs": [
        {
          "name": "stdout",
          "output_type": "stream",
          "text": [
            "Enter product id:1000039\n",
            "Enter name:Anti Wrinkle\n",
            "Enter price:500\n",
            "Enter quantity:50\n",
            "Enter company:VIVIANA\n",
            "Enter color:Navy Blue\n"
          ]
        }
      ]
    },
    {
      "cell_type": "code",
      "metadata": {
        "colab": {
          "base_uri": "https://localhost:8080/"
        },
        "id": "POX5oo_Uqyby",
        "outputId": "add40f72-c325-4736-f392-09215a38dc12"
      },
      "source": [
        "print(\"~~~~~~~~~~~~~~~~~After Adding New Inventary in Inventary Management System ~~~~~~~~~~~~~~~~~~ \")\n",
        "\n",
        "record\n"
      ],
      "execution_count": 20,
      "outputs": [
        {
          "output_type": "stream",
          "name": "stdout",
          "text": [
            "~~~~~~~~~~~~~~~~~After Adding New Inventary in Inventary Management System ~~~~~~~~~~~~~~~~~~ \n"
          ]
        },
        {
          "output_type": "execute_result",
          "data": {
            "text/plain": [
              "{1000001: {'Color': 'White',\n",
              "  'Company': 'Himalaya',\n",
              "  'Name': 'Baby Cream',\n",
              "  'Price': 140,\n",
              "  'Quantity': 30},\n",
              " 1000002: {'Color': 'Light Pink',\n",
              "  'Company': 'Kaya',\n",
              "  'Name': 'Brightning Day Cream',\n",
              "  'Price': 150,\n",
              "  'Quantity': 10},\n",
              " 1000003: {'Color': 'Black',\n",
              "  'Company': 'Shehnaz Husan',\n",
              "  'Name': 'Eyelyner',\n",
              "  'Price': 500,\n",
              "  'Quantity': 5},\n",
              " 1000004: {'Color': 'Bold Red',\n",
              "  'Company': 'Lakme',\n",
              "  'Name': 'Lipstic',\n",
              "  'Price': 750,\n",
              "  'Quantity': 23},\n",
              " 1000005: {'Color': 'Navy Blue',\n",
              "  'Company': 'Lotus',\n",
              "  'Name': 'White Glow',\n",
              "  'Price': 110,\n",
              "  'Quantity': 50},\n",
              " 1000006: {'Color': 'Gold',\n",
              "  'Company': 'Ptanjali',\n",
              "  'Name': 'Anti Wrinkle',\n",
              "  'Price': 1189,\n",
              "  'Quantity': 1},\n",
              " 1000007: {'Color': 'Light Borwn',\n",
              "  'Company': 'VLCC',\n",
              "  'Name': 'Foundation',\n",
              "  'Price': 1100,\n",
              "  'Quantity': 5},\n",
              " 1000008: {'Color': 'White',\n",
              "  'Company': 'Colorssence',\n",
              "  'Name': 'Nailpaint',\n",
              "  'Price': 11,\n",
              "  'Quantity': 24},\n",
              " 1000009: {'Color': 'Black',\n",
              "  'Company': 'Biotique',\n",
              "  'Name': 'Skin Care',\n",
              "  'Price': 220,\n",
              "  'Quantity': 100},\n",
              " 1000010: {'Color': 'Dark Black',\n",
              "  'Company': 'Milani',\n",
              "  'Name': 'Muskara',\n",
              "  'Price': 1110,\n",
              "  'Quantity': 10},\n",
              " 1000011: {'Color': 'Pink',\n",
              "  'Company': 'Blue heaven',\n",
              "  'Name': 'Lipstic',\n",
              "  'Price': 750,\n",
              "  'Quantity': 50},\n",
              " 1000012: {'Color': 'Light pink',\n",
              "  'Company': 'Viviana',\n",
              "  'Name': 'Makeup remover',\n",
              "  'Price': 350,\n",
              "  'Quantity': 30},\n",
              " 1000013: {'Color': 'Fair White',\n",
              "  'Company': 'Patanjali',\n",
              "  'Name': 'Swarna Kanti',\n",
              "  'Price': 590,\n",
              "  'Quantity': 40},\n",
              " 1000014: {'Color': 'Gold',\n",
              "  'Company': 'Forest Essentials',\n",
              "  'Name': 'Skincare',\n",
              "  'Price': 10,\n",
              "  'Quantity': 10},\n",
              " 1000015: {'Color': 'Pearl White',\n",
              "  'Company': 'Coloressence',\n",
              "  'Name': 'Compact Powder',\n",
              "  'Price': 590,\n",
              "  'Quantity': 35},\n",
              " 1000016: {'Color': 'Pearl White',\n",
              "  'Company': 'VLCC',\n",
              "  'Name': ' Gold Facial kit',\n",
              "  'Price': 2000,\n",
              "  'Quantity': 1},\n",
              " 1000017: {'Color': 'Pop silk',\n",
              "  'Company': 'ELLE 18',\n",
              "  'Name': 'Lipstik',\n",
              "  'Price': 1111,\n",
              "  'Quantity': 100},\n",
              " 1000018: {'Color': 'Dark Red',\n",
              "  'Company': 'VIVIANA',\n",
              "  'Name': 'Kajal Stick',\n",
              "  'Price': 850,\n",
              "  'Quantity': 45},\n",
              " 1000019: {'Color': 'Milky',\n",
              "  'Company': 'PAC',\n",
              "  'Name': 'Intensive Moisturizing',\n",
              "  'Price': 20,\n",
              "  'Quantity': 20},\n",
              " 1000020: {'Color': 'Skin color',\n",
              "  'Company': 'Lakme',\n",
              "  'Name': 'Radiance Cream',\n",
              "  'Price': 450,\n",
              "  'Quantity': 300},\n",
              " 1000021: {'Color': 'POP silky',\n",
              "  'Company': 'olreal',\n",
              "  'Name': 'Skin perfect',\n",
              "  'Price': 2500,\n",
              "  'Quantity': 370},\n",
              " 1000022: {'Color': 'Skin color',\n",
              "  'Company': 'Maybellinge',\n",
              "  'Name': 'Shanglow Plus',\n",
              "  'Price': 710,\n",
              "  'Quantity': 10},\n",
              " 1000023: {'Color': 'Light Green',\n",
              "  'Company': 'Mamaearth',\n",
              "  'Name': 'Whitamin C face cream',\n",
              "  'Price': 599,\n",
              "  'Quantity': 15},\n",
              " 1000024: {'Color': 'Bolg Gold',\n",
              "  'Company': 'Oriflame',\n",
              "  'Name': 'Diamond cellular',\n",
              "  'Price': 1020,\n",
              "  'Quantity': 70},\n",
              " 1000025: {'Color': 'Blue',\n",
              "  'Company': 'Avon',\n",
              "  'Name': 'Sundarya Rdiance',\n",
              "  'Price': 110,\n",
              "  'Quantity': 500},\n",
              " 1000026: {'Color': 'Light DEfence',\n",
              "  'Company': 'Colorbar',\n",
              "  'Name': 'Blue light defence',\n",
              "  'Price': 590,\n",
              "  'Quantity': 300},\n",
              " 1000027: {'Color': 'Silk',\n",
              "  'Company': 'Revlon',\n",
              "  'Name': 'Hydra White',\n",
              "  'Price': 1300,\n",
              "  'Quantity': 450},\n",
              " 1000028: {'Color': 'Black',\n",
              "  'Company': 'NYX',\n",
              "  'Name': 'Sebamed',\n",
              "  'Price': 5550,\n",
              "  'Quantity': 450},\n",
              " 1000029: {'Color': 'Facial',\n",
              "  'Company': 'Nykaa',\n",
              "  'Name': 'Wow',\n",
              "  'Price': 100,\n",
              "  'Quantity': 7},\n",
              " 1000030: {'Color': 'Shiny gold',\n",
              "  'Company': 'Wet ',\n",
              "  'Name': 'Glutathione',\n",
              "  'Price': 1100,\n",
              "  'Quantity': 30},\n",
              " '1000031': {'col': 'Blue',\n",
              "  'com': 'Maurya',\n",
              "  'name': 'Jalousy',\n",
              "  'pr': 500,\n",
              "  'qn': 10},\n",
              " '1000032': {'col': 'Yello',\n",
              "  'com': 'Lakme',\n",
              "  'name': 'Masaj Pack',\n",
              "  'pr': 1000,\n",
              "  'qn': 100},\n",
              " '1000033': {'col': 'Green',\n",
              "  'com': 'Nayka',\n",
              "  'name': 'Lipstic',\n",
              "  'pr': 120,\n",
              "  'qn': 5},\n",
              " '1000034': {'col': 'Red',\n",
              "  'com': 'Lotus',\n",
              "  'name': 'Nailpaint',\n",
              "  'pr': 290,\n",
              "  'qn': 20},\n",
              " '1000035': {'col': 'Pop pink',\n",
              "  'com': 'Coloressence',\n",
              "  'name': 'Yellow Glow',\n",
              "  'pr': 590,\n",
              "  'qn': 40},\n",
              " '1000036': {'col': 'White',\n",
              "  'com': 'Forest Essentials',\n",
              "  'name': 'Compact Powder',\n",
              "  'pr': 300,\n",
              "  'qn': 25},\n",
              " '1000037': {'col': 'Fresh Gold',\n",
              "  'com': 'Blue Heaven',\n",
              "  'name': 'Skincare',\n",
              "  'pr': 1000,\n",
              "  'qn': 5},\n",
              " '1000038': {'col': 'Pop Silk',\n",
              "  'com': 'VLCC',\n",
              "  'name': 'Swarna Kanti',\n",
              "  'pr': 190,\n",
              "  'qn': 15},\n",
              " '1000039': {'col': 'Navy Blue',\n",
              "  'com': 'VIVIANA',\n",
              "  'name': 'Anti Wrinkle',\n",
              "  'pr': 500,\n",
              "  'qn': 50}}"
            ]
          },
          "metadata": {},
          "execution_count": 20
        }
      ]
    },
    {
      "cell_type": "code",
      "metadata": {
        "id": "n2rTIksSdzUO",
        "colab": {
          "base_uri": "https://localhost:8080/"
        },
        "outputId": "e6ce5a0b-ed01-4f2b-f8b0-d8a2df44f117"
      },
      "source": [
        "type(js)"
      ],
      "execution_count": 21,
      "outputs": [
        {
          "output_type": "execute_result",
          "data": {
            "text/plain": [
              "str"
            ]
          },
          "metadata": {},
          "execution_count": 21
        }
      ]
    },
    {
      "cell_type": "code",
      "metadata": {
        "id": "1ygCxRCoeAau"
      },
      "source": [
        "fd = open(\"record.json\",'w')\n",
        "\n",
        "fd.write(js)\n",
        "\n",
        "fd.close()"
      ],
      "execution_count": 22,
      "outputs": []
    },
    {
      "cell_type": "code",
      "metadata": {
        "id": "GJH3tUvbiWVP"
      },
      "source": [
        "fd = open(\"record.json\" , 'r')\n",
        "\n",
        "txt = fd.read()\n",
        "record = json.loads(txt)\n",
        "fd.close()"
      ],
      "execution_count": 23,
      "outputs": []
    },
    {
      "cell_type": "code",
      "metadata": {
        "id": "Xl1dEimOizNX",
        "colab": {
          "base_uri": "https://localhost:8080/",
          "height": 137
        },
        "outputId": "b29bade5-20b8-4065-dc47-1627604fd656"
      },
      "source": [
        "txt"
      ],
      "execution_count": 24,
      "outputs": [
        {
          "output_type": "execute_result",
          "data": {
            "application/vnd.google.colaboratory.intrinsic+json": {
              "type": "string"
            },
            "text/plain": [
              "'{\"1000001\": {\"Name\": \"Baby Cream\", \"Price\": 140, \"Quantity\": 30, \"Company\": \"Himalaya\", \"Color\": \"White\"}, \"1000002\": {\"Name\": \"Brightning Day Cream\", \"Price\": 150, \"Quantity\": 10, \"Company\": \"Kaya\", \"Color\": \"Light Pink\"}, \"1000003\": {\"Name\": \"Eyelyner\", \"Price\": 500, \"Quantity\": 5, \"Company\": \"Shehnaz Husan\", \"Color\": \"Black\"}, \"1000004\": {\"Name\": \"Lipstic\", \"Price\": 750, \"Quantity\": 23, \"Company\": \"Lakme\", \"Color\": \"Bold Red\"}, \"1000005\": {\"Name\": \"White Glow\", \"Price\": 110, \"Quantity\": 50, \"Company\": \"Lotus\", \"Color\": \"Navy Blue\"}, \"1000006\": {\"Name\": \"Anti Wrinkle\", \"Price\": 1189, \"Quantity\": 1, \"Company\": \"Ptanjali\", \"Color\": \"Gold\"}, \"1000007\": {\"Name\": \"Foundation\", \"Price\": 1100, \"Quantity\": 5, \"Company\": \"VLCC\", \"Color\": \"Light Borwn\"}, \"1000008\": {\"Name\": \"Nailpaint\", \"Price\": 11, \"Quantity\": 24, \"Company\": \"Colorssence\", \"Color\": \"White\"}, \"1000009\": {\"Name\": \"Skin Care\", \"Price\": 220, \"Quantity\": 100, \"Company\": \"Biotique\", \"Color\": \"Black\"}, \"1000010\": {\"Name\": \"Muskara\", \"Price\": 1110, \"Quantity\": 10, \"Company\": \"Milani\", \"Color\": \"Dark Black\"}, \"1000011\": {\"Name\": \"Lipstic\", \"Price\": 750, \"Quantity\": 50, \"Company\": \"Blue heaven\", \"Color\": \"Pink\"}, \"1000012\": {\"Name\": \"Makeup remover\", \"Price\": 350, \"Quantity\": 30, \"Company\": \"Viviana\", \"Color\": \"Light pink\"}, \"1000013\": {\"Name\": \"Swarna Kanti\", \"Price\": 590, \"Quantity\": 40, \"Company\": \"Patanjali\", \"Color\": \"Fair White\"}, \"1000014\": {\"Name\": \"Skincare\", \"Price\": 10, \"Quantity\": 10, \"Company\": \"Forest Essentials\", \"Color\": \"Gold\"}, \"1000015\": {\"Name\": \"Compact Powder\", \"Price\": 590, \"Quantity\": 35, \"Company\": \"Coloressence\", \"Color\": \"Pearl White\"}, \"1000016\": {\"Name\": \" Gold Facial kit\", \"Price\": 2000, \"Quantity\": 1, \"Company\": \"VLCC\", \"Color\": \"Pearl White\"}, \"1000017\": {\"Name\": \"Lipstik\", \"Price\": 1111, \"Quantity\": 100, \"Company\": \"ELLE 18\", \"Color\": \"Pop silk\"}, \"1000018\": {\"Name\": \"Kajal Stick\", \"Price\": 850, \"Quantity\": 45, \"Company\": \"VIVIANA\", \"Color\": \"Dark Red\"}, \"1000019\": {\"Name\": \"Intensive Moisturizing\", \"Price\": 20, \"Quantity\": 20, \"Company\": \"PAC\", \"Color\": \"Milky\"}, \"1000020\": {\"Name\": \"Radiance Cream\", \"Price\": 450, \"Quantity\": 300, \"Company\": \"Lakme\", \"Color\": \"Skin color\"}, \"1000021\": {\"Name\": \"Skin perfect\", \"Price\": 2500, \"Quantity\": 370, \"Company\": \"olreal\", \"Color\": \"POP silky\"}, \"1000022\": {\"Name\": \"Shanglow Plus\", \"Price\": 710, \"Quantity\": 10, \"Company\": \"Maybellinge\", \"Color\": \"Skin color\"}, \"1000023\": {\"Name\": \"Whitamin C face cream\", \"Price\": 599, \"Quantity\": 15, \"Company\": \"Mamaearth\", \"Color\": \"Light Green\"}, \"1000024\": {\"Name\": \"Diamond cellular\", \"Price\": 1020, \"Quantity\": 70, \"Company\": \"Oriflame\", \"Color\": \"Bolg Gold\"}, \"1000025\": {\"Name\": \"Sundarya Rdiance\", \"Price\": 110, \"Quantity\": 500, \"Company\": \"Avon\", \"Color\": \"Blue\"}, \"1000026\": {\"Name\": \"Blue light defence\", \"Price\": 590, \"Quantity\": 300, \"Company\": \"Colorbar\", \"Color\": \"Light DEfence\"}, \"1000027\": {\"Name\": \"Hydra White\", \"Price\": 1300, \"Quantity\": 450, \"Company\": \"Revlon\", \"Color\": \"Silk\"}, \"1000028\": {\"Name\": \"Sebamed\", \"Price\": 5550, \"Quantity\": 450, \"Company\": \"NYX\", \"Color\": \"Black\"}, \"1000029\": {\"Name\": \"Wow\", \"Price\": 100, \"Quantity\": 7, \"Company\": \"Nykaa\", \"Color\": \"Facial\"}, \"1000030\": {\"Name\": \"Glutathione\", \"Price\": 1100, \"Quantity\": 30, \"Company\": \"Wet \", \"Color\": \"Shiny gold\"}, \"1000031\": {\"name\": \"Jalousy\", \"pr\": 500, \"qn\": 10, \"com\": \"Maurya\", \"col\": \"Blue\"}, \"1000032\": {\"name\": \"Masaj Pack\", \"pr\": 1000, \"qn\": 100, \"com\": \"Lakme\", \"col\": \"Yello\"}, \"1000033\": {\"name\": \"Lipstic\", \"pr\": 120, \"qn\": 5, \"com\": \"Nayka\", \"col\": \"Green\"}, \"1000034\": {\"name\": \"Nailpaint\", \"pr\": 290, \"qn\": 20, \"com\": \"Lotus\", \"col\": \"Red\"}, \"1000035\": {\"name\": \"Yellow Glow\", \"pr\": 590, \"qn\": 40, \"com\": \"Coloressence\", \"col\": \"Pop pink\"}, \"1000036\": {\"name\": \"Compact Powder\", \"pr\": 300, \"qn\": 25, \"com\": \"Forest Essentials\", \"col\": \"White\"}, \"1000037\": {\"name\": \"Skincare\", \"pr\": 1000, \"qn\": 5, \"com\": \"Blue Heaven\", \"col\": \"Fresh Gold\"}, \"1000038\": {\"name\": \"Swarna Kanti\", \"pr\": 190, \"qn\": 15, \"com\": \"VLCC\", \"col\": \"Pop Silk\"}, \"1000039\": {\"name\": \"Anti Wrinkle\", \"pr\": 500, \"qn\": 50, \"com\": \"VIVIANA\", \"col\": \"Navy Blue\"}}'"
            ]
          },
          "metadata": {},
          "execution_count": 24
        }
      ]
    },
    {
      "cell_type": "code",
      "metadata": {
        "id": "3BmlyTb6i3KX",
        "colab": {
          "base_uri": "https://localhost:8080/"
        },
        "outputId": "1e10a0a8-155b-42b1-e71c-1ac042e98eed"
      },
      "source": [
        " type(txt)"
      ],
      "execution_count": 25,
      "outputs": [
        {
          "output_type": "execute_result",
          "data": {
            "text/plain": [
              "str"
            ]
          },
          "metadata": {},
          "execution_count": 25
        }
      ]
    },
    {
      "cell_type": "markdown",
      "metadata": {
        "id": "rtayDjpav70j"
      },
      "source": [
        "#**find Kyes and Values**"
      ]
    },
    {
      "cell_type": "code",
      "metadata": {
        "id": "-D0itQdfvXeG"
      },
      "source": [
        "record = json.loads(txt)"
      ],
      "execution_count": 26,
      "outputs": []
    },
    {
      "cell_type": "code",
      "metadata": {
        "colab": {
          "base_uri": "https://localhost:8080/"
        },
        "id": "c8izGs5JvfzK",
        "outputId": "8eaa616d-80b5-4a3f-eaa3-d942cd24dc83"
      },
      "source": [
        "record"
      ],
      "execution_count": 27,
      "outputs": [
        {
          "output_type": "execute_result",
          "data": {
            "text/plain": [
              "{'1000001': {'Color': 'White',\n",
              "  'Company': 'Himalaya',\n",
              "  'Name': 'Baby Cream',\n",
              "  'Price': 140,\n",
              "  'Quantity': 30},\n",
              " '1000002': {'Color': 'Light Pink',\n",
              "  'Company': 'Kaya',\n",
              "  'Name': 'Brightning Day Cream',\n",
              "  'Price': 150,\n",
              "  'Quantity': 10},\n",
              " '1000003': {'Color': 'Black',\n",
              "  'Company': 'Shehnaz Husan',\n",
              "  'Name': 'Eyelyner',\n",
              "  'Price': 500,\n",
              "  'Quantity': 5},\n",
              " '1000004': {'Color': 'Bold Red',\n",
              "  'Company': 'Lakme',\n",
              "  'Name': 'Lipstic',\n",
              "  'Price': 750,\n",
              "  'Quantity': 23},\n",
              " '1000005': {'Color': 'Navy Blue',\n",
              "  'Company': 'Lotus',\n",
              "  'Name': 'White Glow',\n",
              "  'Price': 110,\n",
              "  'Quantity': 50},\n",
              " '1000006': {'Color': 'Gold',\n",
              "  'Company': 'Ptanjali',\n",
              "  'Name': 'Anti Wrinkle',\n",
              "  'Price': 1189,\n",
              "  'Quantity': 1},\n",
              " '1000007': {'Color': 'Light Borwn',\n",
              "  'Company': 'VLCC',\n",
              "  'Name': 'Foundation',\n",
              "  'Price': 1100,\n",
              "  'Quantity': 5},\n",
              " '1000008': {'Color': 'White',\n",
              "  'Company': 'Colorssence',\n",
              "  'Name': 'Nailpaint',\n",
              "  'Price': 11,\n",
              "  'Quantity': 24},\n",
              " '1000009': {'Color': 'Black',\n",
              "  'Company': 'Biotique',\n",
              "  'Name': 'Skin Care',\n",
              "  'Price': 220,\n",
              "  'Quantity': 100},\n",
              " '1000010': {'Color': 'Dark Black',\n",
              "  'Company': 'Milani',\n",
              "  'Name': 'Muskara',\n",
              "  'Price': 1110,\n",
              "  'Quantity': 10},\n",
              " '1000011': {'Color': 'Pink',\n",
              "  'Company': 'Blue heaven',\n",
              "  'Name': 'Lipstic',\n",
              "  'Price': 750,\n",
              "  'Quantity': 50},\n",
              " '1000012': {'Color': 'Light pink',\n",
              "  'Company': 'Viviana',\n",
              "  'Name': 'Makeup remover',\n",
              "  'Price': 350,\n",
              "  'Quantity': 30},\n",
              " '1000013': {'Color': 'Fair White',\n",
              "  'Company': 'Patanjali',\n",
              "  'Name': 'Swarna Kanti',\n",
              "  'Price': 590,\n",
              "  'Quantity': 40},\n",
              " '1000014': {'Color': 'Gold',\n",
              "  'Company': 'Forest Essentials',\n",
              "  'Name': 'Skincare',\n",
              "  'Price': 10,\n",
              "  'Quantity': 10},\n",
              " '1000015': {'Color': 'Pearl White',\n",
              "  'Company': 'Coloressence',\n",
              "  'Name': 'Compact Powder',\n",
              "  'Price': 590,\n",
              "  'Quantity': 35},\n",
              " '1000016': {'Color': 'Pearl White',\n",
              "  'Company': 'VLCC',\n",
              "  'Name': ' Gold Facial kit',\n",
              "  'Price': 2000,\n",
              "  'Quantity': 1},\n",
              " '1000017': {'Color': 'Pop silk',\n",
              "  'Company': 'ELLE 18',\n",
              "  'Name': 'Lipstik',\n",
              "  'Price': 1111,\n",
              "  'Quantity': 100},\n",
              " '1000018': {'Color': 'Dark Red',\n",
              "  'Company': 'VIVIANA',\n",
              "  'Name': 'Kajal Stick',\n",
              "  'Price': 850,\n",
              "  'Quantity': 45},\n",
              " '1000019': {'Color': 'Milky',\n",
              "  'Company': 'PAC',\n",
              "  'Name': 'Intensive Moisturizing',\n",
              "  'Price': 20,\n",
              "  'Quantity': 20},\n",
              " '1000020': {'Color': 'Skin color',\n",
              "  'Company': 'Lakme',\n",
              "  'Name': 'Radiance Cream',\n",
              "  'Price': 450,\n",
              "  'Quantity': 300},\n",
              " '1000021': {'Color': 'POP silky',\n",
              "  'Company': 'olreal',\n",
              "  'Name': 'Skin perfect',\n",
              "  'Price': 2500,\n",
              "  'Quantity': 370},\n",
              " '1000022': {'Color': 'Skin color',\n",
              "  'Company': 'Maybellinge',\n",
              "  'Name': 'Shanglow Plus',\n",
              "  'Price': 710,\n",
              "  'Quantity': 10},\n",
              " '1000023': {'Color': 'Light Green',\n",
              "  'Company': 'Mamaearth',\n",
              "  'Name': 'Whitamin C face cream',\n",
              "  'Price': 599,\n",
              "  'Quantity': 15},\n",
              " '1000024': {'Color': 'Bolg Gold',\n",
              "  'Company': 'Oriflame',\n",
              "  'Name': 'Diamond cellular',\n",
              "  'Price': 1020,\n",
              "  'Quantity': 70},\n",
              " '1000025': {'Color': 'Blue',\n",
              "  'Company': 'Avon',\n",
              "  'Name': 'Sundarya Rdiance',\n",
              "  'Price': 110,\n",
              "  'Quantity': 500},\n",
              " '1000026': {'Color': 'Light DEfence',\n",
              "  'Company': 'Colorbar',\n",
              "  'Name': 'Blue light defence',\n",
              "  'Price': 590,\n",
              "  'Quantity': 300},\n",
              " '1000027': {'Color': 'Silk',\n",
              "  'Company': 'Revlon',\n",
              "  'Name': 'Hydra White',\n",
              "  'Price': 1300,\n",
              "  'Quantity': 450},\n",
              " '1000028': {'Color': 'Black',\n",
              "  'Company': 'NYX',\n",
              "  'Name': 'Sebamed',\n",
              "  'Price': 5550,\n",
              "  'Quantity': 450},\n",
              " '1000029': {'Color': 'Facial',\n",
              "  'Company': 'Nykaa',\n",
              "  'Name': 'Wow',\n",
              "  'Price': 100,\n",
              "  'Quantity': 7},\n",
              " '1000030': {'Color': 'Shiny gold',\n",
              "  'Company': 'Wet ',\n",
              "  'Name': 'Glutathione',\n",
              "  'Price': 1100,\n",
              "  'Quantity': 30},\n",
              " '1000031': {'col': 'Blue',\n",
              "  'com': 'Maurya',\n",
              "  'name': 'Jalousy',\n",
              "  'pr': 500,\n",
              "  'qn': 10},\n",
              " '1000032': {'col': 'Yello',\n",
              "  'com': 'Lakme',\n",
              "  'name': 'Masaj Pack',\n",
              "  'pr': 1000,\n",
              "  'qn': 100},\n",
              " '1000033': {'col': 'Green',\n",
              "  'com': 'Nayka',\n",
              "  'name': 'Lipstic',\n",
              "  'pr': 120,\n",
              "  'qn': 5},\n",
              " '1000034': {'col': 'Red',\n",
              "  'com': 'Lotus',\n",
              "  'name': 'Nailpaint',\n",
              "  'pr': 290,\n",
              "  'qn': 20},\n",
              " '1000035': {'col': 'Pop pink',\n",
              "  'com': 'Coloressence',\n",
              "  'name': 'Yellow Glow',\n",
              "  'pr': 590,\n",
              "  'qn': 40},\n",
              " '1000036': {'col': 'White',\n",
              "  'com': 'Forest Essentials',\n",
              "  'name': 'Compact Powder',\n",
              "  'pr': 300,\n",
              "  'qn': 25},\n",
              " '1000037': {'col': 'Fresh Gold',\n",
              "  'com': 'Blue Heaven',\n",
              "  'name': 'Skincare',\n",
              "  'pr': 1000,\n",
              "  'qn': 5},\n",
              " '1000038': {'col': 'Pop Silk',\n",
              "  'com': 'VLCC',\n",
              "  'name': 'Swarna Kanti',\n",
              "  'pr': 190,\n",
              "  'qn': 15},\n",
              " '1000039': {'col': 'Navy Blue',\n",
              "  'com': 'VIVIANA',\n",
              "  'name': 'Anti Wrinkle',\n",
              "  'pr': 500,\n",
              "  'qn': 50}}"
            ]
          },
          "metadata": {},
          "execution_count": 27
        }
      ]
    },
    {
      "cell_type": "code",
      "metadata": {
        "colab": {
          "base_uri": "https://localhost:8080/"
        },
        "id": "aNiDCsOgr3Ur",
        "outputId": "a8e8bb95-a238-466d-e512-76d500b420ab"
      },
      "source": [
        "record.keys()"
      ],
      "execution_count": 28,
      "outputs": [
        {
          "output_type": "execute_result",
          "data": {
            "text/plain": [
              "dict_keys(['1000001', '1000002', '1000003', '1000004', '1000005', '1000006', '1000007', '1000008', '1000009', '1000010', '1000011', '1000012', '1000013', '1000014', '1000015', '1000016', '1000017', '1000018', '1000019', '1000020', '1000021', '1000022', '1000023', '1000024', '1000025', '1000026', '1000027', '1000028', '1000029', '1000030', '1000031', '1000032', '1000033', '1000034', '1000035', '1000036', '1000037', '1000038', '1000039'])"
            ]
          },
          "metadata": {},
          "execution_count": 28
        }
      ]
    },
    {
      "cell_type": "code",
      "metadata": {
        "colab": {
          "base_uri": "https://localhost:8080/"
        },
        "id": "z3Ye0o4_sT89",
        "outputId": "5e95f7f1-ad91-4df7-dbe4-b41cf564b1d8"
      },
      "source": [
        "record.values()"
      ],
      "execution_count": 29,
      "outputs": [
        {
          "output_type": "execute_result",
          "data": {
            "text/plain": [
              "dict_values([{'Name': 'Baby Cream', 'Price': 140, 'Quantity': 30, 'Company': 'Himalaya', 'Color': 'White'}, {'Name': 'Brightning Day Cream', 'Price': 150, 'Quantity': 10, 'Company': 'Kaya', 'Color': 'Light Pink'}, {'Name': 'Eyelyner', 'Price': 500, 'Quantity': 5, 'Company': 'Shehnaz Husan', 'Color': 'Black'}, {'Name': 'Lipstic', 'Price': 750, 'Quantity': 23, 'Company': 'Lakme', 'Color': 'Bold Red'}, {'Name': 'White Glow', 'Price': 110, 'Quantity': 50, 'Company': 'Lotus', 'Color': 'Navy Blue'}, {'Name': 'Anti Wrinkle', 'Price': 1189, 'Quantity': 1, 'Company': 'Ptanjali', 'Color': 'Gold'}, {'Name': 'Foundation', 'Price': 1100, 'Quantity': 5, 'Company': 'VLCC', 'Color': 'Light Borwn'}, {'Name': 'Nailpaint', 'Price': 11, 'Quantity': 24, 'Company': 'Colorssence', 'Color': 'White'}, {'Name': 'Skin Care', 'Price': 220, 'Quantity': 100, 'Company': 'Biotique', 'Color': 'Black'}, {'Name': 'Muskara', 'Price': 1110, 'Quantity': 10, 'Company': 'Milani', 'Color': 'Dark Black'}, {'Name': 'Lipstic', 'Price': 750, 'Quantity': 50, 'Company': 'Blue heaven', 'Color': 'Pink'}, {'Name': 'Makeup remover', 'Price': 350, 'Quantity': 30, 'Company': 'Viviana', 'Color': 'Light pink'}, {'Name': 'Swarna Kanti', 'Price': 590, 'Quantity': 40, 'Company': 'Patanjali', 'Color': 'Fair White'}, {'Name': 'Skincare', 'Price': 10, 'Quantity': 10, 'Company': 'Forest Essentials', 'Color': 'Gold'}, {'Name': 'Compact Powder', 'Price': 590, 'Quantity': 35, 'Company': 'Coloressence', 'Color': 'Pearl White'}, {'Name': ' Gold Facial kit', 'Price': 2000, 'Quantity': 1, 'Company': 'VLCC', 'Color': 'Pearl White'}, {'Name': 'Lipstik', 'Price': 1111, 'Quantity': 100, 'Company': 'ELLE 18', 'Color': 'Pop silk'}, {'Name': 'Kajal Stick', 'Price': 850, 'Quantity': 45, 'Company': 'VIVIANA', 'Color': 'Dark Red'}, {'Name': 'Intensive Moisturizing', 'Price': 20, 'Quantity': 20, 'Company': 'PAC', 'Color': 'Milky'}, {'Name': 'Radiance Cream', 'Price': 450, 'Quantity': 300, 'Company': 'Lakme', 'Color': 'Skin color'}, {'Name': 'Skin perfect', 'Price': 2500, 'Quantity': 370, 'Company': 'olreal', 'Color': 'POP silky'}, {'Name': 'Shanglow Plus', 'Price': 710, 'Quantity': 10, 'Company': 'Maybellinge', 'Color': 'Skin color'}, {'Name': 'Whitamin C face cream', 'Price': 599, 'Quantity': 15, 'Company': 'Mamaearth', 'Color': 'Light Green'}, {'Name': 'Diamond cellular', 'Price': 1020, 'Quantity': 70, 'Company': 'Oriflame', 'Color': 'Bolg Gold'}, {'Name': 'Sundarya Rdiance', 'Price': 110, 'Quantity': 500, 'Company': 'Avon', 'Color': 'Blue'}, {'Name': 'Blue light defence', 'Price': 590, 'Quantity': 300, 'Company': 'Colorbar', 'Color': 'Light DEfence'}, {'Name': 'Hydra White', 'Price': 1300, 'Quantity': 450, 'Company': 'Revlon', 'Color': 'Silk'}, {'Name': 'Sebamed', 'Price': 5550, 'Quantity': 450, 'Company': 'NYX', 'Color': 'Black'}, {'Name': 'Wow', 'Price': 100, 'Quantity': 7, 'Company': 'Nykaa', 'Color': 'Facial'}, {'Name': 'Glutathione', 'Price': 1100, 'Quantity': 30, 'Company': 'Wet ', 'Color': 'Shiny gold'}, {'name': 'Jalousy', 'pr': 500, 'qn': 10, 'com': 'Maurya', 'col': 'Blue'}, {'name': 'Masaj Pack', 'pr': 1000, 'qn': 100, 'com': 'Lakme', 'col': 'Yello'}, {'name': 'Lipstic', 'pr': 120, 'qn': 5, 'com': 'Nayka', 'col': 'Green'}, {'name': 'Nailpaint', 'pr': 290, 'qn': 20, 'com': 'Lotus', 'col': 'Red'}, {'name': 'Yellow Glow', 'pr': 590, 'qn': 40, 'com': 'Coloressence', 'col': 'Pop pink'}, {'name': 'Compact Powder', 'pr': 300, 'qn': 25, 'com': 'Forest Essentials', 'col': 'White'}, {'name': 'Skincare', 'pr': 1000, 'qn': 5, 'com': 'Blue Heaven', 'col': 'Fresh Gold'}, {'name': 'Swarna Kanti', 'pr': 190, 'qn': 15, 'com': 'VLCC', 'col': 'Pop Silk'}, {'name': 'Anti Wrinkle', 'pr': 500, 'qn': 50, 'com': 'VIVIANA', 'col': 'Navy Blue'}])"
            ]
          },
          "metadata": {},
          "execution_count": 29
        }
      ]
    },
    {
      "cell_type": "code",
      "metadata": {
        "colab": {
          "base_uri": "https://localhost:8080/"
        },
        "id": "dffg8c29swSL",
        "outputId": "1bcfff52-d2d5-4d8b-ad25-3e1c344f17cc"
      },
      "source": [
        "record['1000001']"
      ],
      "execution_count": 30,
      "outputs": [
        {
          "output_type": "execute_result",
          "data": {
            "text/plain": [
              "{'Color': 'White',\n",
              " 'Company': 'Himalaya',\n",
              " 'Name': 'Baby Cream',\n",
              " 'Price': 140,\n",
              " 'Quantity': 30}"
            ]
          },
          "metadata": {},
          "execution_count": 30
        }
      ]
    },
    {
      "cell_type": "code",
      "metadata": {
        "colab": {
          "base_uri": "https://localhost:8080/"
        },
        "id": "ncwo0MGPvthR",
        "outputId": "a944ab3d-f09d-4846-81ec-7ff59a0cd7f9"
      },
      "source": [
        "record['1000005']"
      ],
      "execution_count": 31,
      "outputs": [
        {
          "output_type": "execute_result",
          "data": {
            "text/plain": [
              "{'Color': 'Navy Blue',\n",
              " 'Company': 'Lotus',\n",
              " 'Name': 'White Glow',\n",
              " 'Price': 110,\n",
              " 'Quantity': 50}"
            ]
          },
          "metadata": {},
          "execution_count": 31
        }
      ]
    },
    {
      "cell_type": "code",
      "metadata": {
        "colab": {
          "base_uri": "https://localhost:8080/"
        },
        "id": "o5lnjuhhwBuC",
        "outputId": "54596930-9021-49db-d6bc-d9ed0b1f21ae"
      },
      "source": [
        "record['1000010']"
      ],
      "execution_count": 32,
      "outputs": [
        {
          "output_type": "execute_result",
          "data": {
            "text/plain": [
              "{'Color': 'Dark Black',\n",
              " 'Company': 'Milani',\n",
              " 'Name': 'Muskara',\n",
              " 'Price': 1110,\n",
              " 'Quantity': 10}"
            ]
          },
          "metadata": {},
          "execution_count": 32
        }
      ]
    },
    {
      "cell_type": "code",
      "metadata": {
        "colab": {
          "base_uri": "https://localhost:8080/"
        },
        "id": "39wAH5U5wJQj",
        "outputId": "36313b51-3d8f-4b2d-90dc-48ae44f934e5"
      },
      "source": [
        "record['1000020']"
      ],
      "execution_count": 33,
      "outputs": [
        {
          "output_type": "execute_result",
          "data": {
            "text/plain": [
              "{'Color': 'Skin color',\n",
              " 'Company': 'Lakme',\n",
              " 'Name': 'Radiance Cream',\n",
              " 'Price': 450,\n",
              " 'Quantity': 300}"
            ]
          },
          "metadata": {},
          "execution_count": 33
        }
      ]
    },
    {
      "cell_type": "code",
      "metadata": {
        "colab": {
          "base_uri": "https://localhost:8080/"
        },
        "id": "ZA8CREFhwMoT",
        "outputId": "008c3835-e222-41c2-b5e0-632a6eedbfef"
      },
      "source": [
        "record['1000030']"
      ],
      "execution_count": 34,
      "outputs": [
        {
          "output_type": "execute_result",
          "data": {
            "text/plain": [
              "{'Color': 'Shiny gold',\n",
              " 'Company': 'Wet ',\n",
              " 'Name': 'Glutathione',\n",
              " 'Price': 1100,\n",
              " 'Quantity': 30}"
            ]
          },
          "metadata": {},
          "execution_count": 34
        }
      ]
    },
    {
      "cell_type": "code",
      "metadata": {
        "colab": {
          "base_uri": "https://localhost:8080/"
        },
        "id": "Bvt0InWaw96n",
        "outputId": "ecce0c50-f515-4327-b1c8-800854593a0f"
      },
      "source": [
        "record['1000005']['Price']"
      ],
      "execution_count": 35,
      "outputs": [
        {
          "output_type": "execute_result",
          "data": {
            "text/plain": [
              "110"
            ]
          },
          "metadata": {},
          "execution_count": 35
        }
      ]
    },
    {
      "cell_type": "code",
      "metadata": {
        "colab": {
          "base_uri": "https://localhost:8080/",
          "height": 35
        },
        "id": "j_tPQS2gxA-i",
        "outputId": "a9a684cd-caab-423e-f22a-b0a4521d0d6f"
      },
      "source": [
        "record['1000010']['Name']"
      ],
      "execution_count": 36,
      "outputs": [
        {
          "output_type": "execute_result",
          "data": {
            "application/vnd.google.colaboratory.intrinsic+json": {
              "type": "string"
            },
            "text/plain": [
              "'Muskara'"
            ]
          },
          "metadata": {},
          "execution_count": 36
        }
      ]
    },
    {
      "cell_type": "code",
      "metadata": {
        "colab": {
          "base_uri": "https://localhost:8080/",
          "height": 35
        },
        "id": "1-out29cxIjD",
        "outputId": "279d5bbb-4f9c-4be7-bcb4-d98f5519d4c6"
      },
      "source": [
        "record['1000010']['Color']"
      ],
      "execution_count": 37,
      "outputs": [
        {
          "output_type": "execute_result",
          "data": {
            "application/vnd.google.colaboratory.intrinsic+json": {
              "type": "string"
            },
            "text/plain": [
              "'Dark Black'"
            ]
          },
          "metadata": {},
          "execution_count": 37
        }
      ]
    },
    {
      "cell_type": "code",
      "metadata": {
        "colab": {
          "base_uri": "https://localhost:8080/",
          "height": 35
        },
        "id": "0ZCVn7nIxPip",
        "outputId": "c08c185b-8bb7-4fdb-9d8f-00bc6f954fa2"
      },
      "source": [
        "record['1000020']['Company']"
      ],
      "execution_count": 38,
      "outputs": [
        {
          "output_type": "execute_result",
          "data": {
            "application/vnd.google.colaboratory.intrinsic+json": {
              "type": "string"
            },
            "text/plain": [
              "'Lakme'"
            ]
          },
          "metadata": {},
          "execution_count": 38
        }
      ]
    },
    {
      "cell_type": "code",
      "metadata": {
        "colab": {
          "base_uri": "https://localhost:8080/"
        },
        "id": "kfKvb6pNxZzv",
        "outputId": "1220dae4-2d8a-40ef-f1d1-c0659d34bc27"
      },
      "source": [
        "record['1000015']['Quantity']"
      ],
      "execution_count": 39,
      "outputs": [
        {
          "output_type": "execute_result",
          "data": {
            "text/plain": [
              "35"
            ]
          },
          "metadata": {},
          "execution_count": 39
        }
      ]
    },
    {
      "cell_type": "markdown",
      "metadata": {
        "id": "66tQbwmIwsg7"
      },
      "source": [
        "#**Check Date and Time**"
      ]
    },
    {
      "cell_type": "code",
      "metadata": {
        "id": "Xj_FKdptS3Gk"
      },
      "source": [
        "import time"
      ],
      "execution_count": 40,
      "outputs": []
    },
    {
      "cell_type": "code",
      "metadata": {
        "colab": {
          "base_uri": "https://localhost:8080/",
          "height": 35
        },
        "id": "JG5fHWtVS6kg",
        "outputId": "5f05fae6-b472-440d-9e70-132b1bb9d181"
      },
      "source": [
        "time.ctime()"
      ],
      "execution_count": 41,
      "outputs": [
        {
          "output_type": "execute_result",
          "data": {
            "application/vnd.google.colaboratory.intrinsic+json": {
              "type": "string"
            },
            "text/plain": [
              "'Fri Nov  5 10:42:31 2021'"
            ]
          },
          "metadata": {},
          "execution_count": 41
        }
      ]
    },
    {
      "cell_type": "markdown",
      "metadata": {
        "id": "f17J-K7kfJEy"
      },
      "source": [
        "#**Purchase inventory**"
      ]
    },
    {
      "cell_type": "code",
      "metadata": {
        "id": "I9a9-iE2iKDH"
      },
      "source": [
        "fd = open(\"record.json\",'r')\n",
        "r = fd.read()\n",
        "fd.close()\n",
        "\n",
        "records = json.loads(r)"
      ],
      "execution_count": 42,
      "outputs": []
    },
    {
      "cell_type": "code",
      "metadata": {
        "colab": {
          "base_uri": "https://localhost:8080/"
        },
        "id": "kIIUaNiKfybg",
        "outputId": "b765a6ed-862d-4557-8688-3120a0cd5925"
      },
      "source": [
        "records"
      ],
      "execution_count": 43,
      "outputs": [
        {
          "output_type": "execute_result",
          "data": {
            "text/plain": [
              "{'1000001': {'Color': 'White',\n",
              "  'Company': 'Himalaya',\n",
              "  'Name': 'Baby Cream',\n",
              "  'Price': 140,\n",
              "  'Quantity': 30},\n",
              " '1000002': {'Color': 'Light Pink',\n",
              "  'Company': 'Kaya',\n",
              "  'Name': 'Brightning Day Cream',\n",
              "  'Price': 150,\n",
              "  'Quantity': 10},\n",
              " '1000003': {'Color': 'Black',\n",
              "  'Company': 'Shehnaz Husan',\n",
              "  'Name': 'Eyelyner',\n",
              "  'Price': 500,\n",
              "  'Quantity': 5},\n",
              " '1000004': {'Color': 'Bold Red',\n",
              "  'Company': 'Lakme',\n",
              "  'Name': 'Lipstic',\n",
              "  'Price': 750,\n",
              "  'Quantity': 23},\n",
              " '1000005': {'Color': 'Navy Blue',\n",
              "  'Company': 'Lotus',\n",
              "  'Name': 'White Glow',\n",
              "  'Price': 110,\n",
              "  'Quantity': 50},\n",
              " '1000006': {'Color': 'Gold',\n",
              "  'Company': 'Ptanjali',\n",
              "  'Name': 'Anti Wrinkle',\n",
              "  'Price': 1189,\n",
              "  'Quantity': 1},\n",
              " '1000007': {'Color': 'Light Borwn',\n",
              "  'Company': 'VLCC',\n",
              "  'Name': 'Foundation',\n",
              "  'Price': 1100,\n",
              "  'Quantity': 5},\n",
              " '1000008': {'Color': 'White',\n",
              "  'Company': 'Colorssence',\n",
              "  'Name': 'Nailpaint',\n",
              "  'Price': 11,\n",
              "  'Quantity': 24},\n",
              " '1000009': {'Color': 'Black',\n",
              "  'Company': 'Biotique',\n",
              "  'Name': 'Skin Care',\n",
              "  'Price': 220,\n",
              "  'Quantity': 100},\n",
              " '1000010': {'Color': 'Dark Black',\n",
              "  'Company': 'Milani',\n",
              "  'Name': 'Muskara',\n",
              "  'Price': 1110,\n",
              "  'Quantity': 10},\n",
              " '1000011': {'Color': 'Pink',\n",
              "  'Company': 'Blue heaven',\n",
              "  'Name': 'Lipstic',\n",
              "  'Price': 750,\n",
              "  'Quantity': 50},\n",
              " '1000012': {'Color': 'Light pink',\n",
              "  'Company': 'Viviana',\n",
              "  'Name': 'Makeup remover',\n",
              "  'Price': 350,\n",
              "  'Quantity': 30},\n",
              " '1000013': {'Color': 'Fair White',\n",
              "  'Company': 'Patanjali',\n",
              "  'Name': 'Swarna Kanti',\n",
              "  'Price': 590,\n",
              "  'Quantity': 40},\n",
              " '1000014': {'Color': 'Gold',\n",
              "  'Company': 'Forest Essentials',\n",
              "  'Name': 'Skincare',\n",
              "  'Price': 10,\n",
              "  'Quantity': 10},\n",
              " '1000015': {'Color': 'Pearl White',\n",
              "  'Company': 'Coloressence',\n",
              "  'Name': 'Compact Powder',\n",
              "  'Price': 590,\n",
              "  'Quantity': 35},\n",
              " '1000016': {'Color': 'Pearl White',\n",
              "  'Company': 'VLCC',\n",
              "  'Name': ' Gold Facial kit',\n",
              "  'Price': 2000,\n",
              "  'Quantity': 1},\n",
              " '1000017': {'Color': 'Pop silk',\n",
              "  'Company': 'ELLE 18',\n",
              "  'Name': 'Lipstik',\n",
              "  'Price': 1111,\n",
              "  'Quantity': 100},\n",
              " '1000018': {'Color': 'Dark Red',\n",
              "  'Company': 'VIVIANA',\n",
              "  'Name': 'Kajal Stick',\n",
              "  'Price': 850,\n",
              "  'Quantity': 45},\n",
              " '1000019': {'Color': 'Milky',\n",
              "  'Company': 'PAC',\n",
              "  'Name': 'Intensive Moisturizing',\n",
              "  'Price': 20,\n",
              "  'Quantity': 20},\n",
              " '1000020': {'Color': 'Skin color',\n",
              "  'Company': 'Lakme',\n",
              "  'Name': 'Radiance Cream',\n",
              "  'Price': 450,\n",
              "  'Quantity': 300},\n",
              " '1000021': {'Color': 'POP silky',\n",
              "  'Company': 'olreal',\n",
              "  'Name': 'Skin perfect',\n",
              "  'Price': 2500,\n",
              "  'Quantity': 370},\n",
              " '1000022': {'Color': 'Skin color',\n",
              "  'Company': 'Maybellinge',\n",
              "  'Name': 'Shanglow Plus',\n",
              "  'Price': 710,\n",
              "  'Quantity': 10},\n",
              " '1000023': {'Color': 'Light Green',\n",
              "  'Company': 'Mamaearth',\n",
              "  'Name': 'Whitamin C face cream',\n",
              "  'Price': 599,\n",
              "  'Quantity': 15},\n",
              " '1000024': {'Color': 'Bolg Gold',\n",
              "  'Company': 'Oriflame',\n",
              "  'Name': 'Diamond cellular',\n",
              "  'Price': 1020,\n",
              "  'Quantity': 70},\n",
              " '1000025': {'Color': 'Blue',\n",
              "  'Company': 'Avon',\n",
              "  'Name': 'Sundarya Rdiance',\n",
              "  'Price': 110,\n",
              "  'Quantity': 500},\n",
              " '1000026': {'Color': 'Light DEfence',\n",
              "  'Company': 'Colorbar',\n",
              "  'Name': 'Blue light defence',\n",
              "  'Price': 590,\n",
              "  'Quantity': 300},\n",
              " '1000027': {'Color': 'Silk',\n",
              "  'Company': 'Revlon',\n",
              "  'Name': 'Hydra White',\n",
              "  'Price': 1300,\n",
              "  'Quantity': 450},\n",
              " '1000028': {'Color': 'Black',\n",
              "  'Company': 'NYX',\n",
              "  'Name': 'Sebamed',\n",
              "  'Price': 5550,\n",
              "  'Quantity': 450},\n",
              " '1000029': {'Color': 'Facial',\n",
              "  'Company': 'Nykaa',\n",
              "  'Name': 'Wow',\n",
              "  'Price': 100,\n",
              "  'Quantity': 7},\n",
              " '1000030': {'Color': 'Shiny gold',\n",
              "  'Company': 'Wet ',\n",
              "  'Name': 'Glutathione',\n",
              "  'Price': 1100,\n",
              "  'Quantity': 30},\n",
              " '1000031': {'col': 'Blue',\n",
              "  'com': 'Maurya',\n",
              "  'name': 'Jalousy',\n",
              "  'pr': 500,\n",
              "  'qn': 10},\n",
              " '1000032': {'col': 'Yello',\n",
              "  'com': 'Lakme',\n",
              "  'name': 'Masaj Pack',\n",
              "  'pr': 1000,\n",
              "  'qn': 100},\n",
              " '1000033': {'col': 'Green',\n",
              "  'com': 'Nayka',\n",
              "  'name': 'Lipstic',\n",
              "  'pr': 120,\n",
              "  'qn': 5},\n",
              " '1000034': {'col': 'Red',\n",
              "  'com': 'Lotus',\n",
              "  'name': 'Nailpaint',\n",
              "  'pr': 290,\n",
              "  'qn': 20},\n",
              " '1000035': {'col': 'Pop pink',\n",
              "  'com': 'Coloressence',\n",
              "  'name': 'Yellow Glow',\n",
              "  'pr': 590,\n",
              "  'qn': 40},\n",
              " '1000036': {'col': 'White',\n",
              "  'com': 'Forest Essentials',\n",
              "  'name': 'Compact Powder',\n",
              "  'pr': 300,\n",
              "  'qn': 25},\n",
              " '1000037': {'col': 'Fresh Gold',\n",
              "  'com': 'Blue Heaven',\n",
              "  'name': 'Skincare',\n",
              "  'pr': 1000,\n",
              "  'qn': 5},\n",
              " '1000038': {'col': 'Pop Silk',\n",
              "  'com': 'VLCC',\n",
              "  'name': 'Swarna Kanti',\n",
              "  'pr': 190,\n",
              "  'qn': 15},\n",
              " '1000039': {'col': 'Navy Blue',\n",
              "  'com': 'VIVIANA',\n",
              "  'name': 'Anti Wrinkle',\n",
              "  'pr': 500,\n",
              "  'qn': 50}}"
            ]
          },
          "metadata": {},
          "execution_count": 43
        }
      ]
    },
    {
      "cell_type": "markdown",
      "metadata": {
        "id": "QB1sKOsOYft2"
      },
      "source": [
        "#**Purchase if chice is 1**\n",
        "\n",
        "\n",
        "\n"
      ]
    },
    {
      "cell_type": "code",
      "metadata": {
        "colab": {
          "base_uri": "https://localhost:8080/"
        },
        "id": "2cvySNbleZEz",
        "outputId": "40bfdeca-62f3-4706-a872-835462eebfff"
      },
      "source": [
        "import json\n",
        "import time\n",
        "import datetime\n",
        "\n",
        "a_name=input(\"Please enter your name: \")\n",
        "print(f\"Hello {a_name} ! Welcome to our Shopping Store. Buy Products at Discounted & Cheapest Rate !!\")\n",
        "\n",
        "\n",
        "print(\"********************************************************************************************\")\n",
        "\n",
        "print(f\"--------------------WELCOME {a_name}  TO THE TOY SHOP -------------------------------------\")\n",
        "\n",
        "print(\"*******************************************************************************************\")\n",
        "\n",
        "\n",
        "\n",
        "    \n",
        "def exit():\n",
        "    pass\n",
        "\n",
        "def itemPurchase():\n",
        "    with open (\"record.json\",\"r\") as fd:\n",
        "        r = fd.read()\n",
        "        records = json.loads(r)\n",
        "    print(\"Loading items ... Please Wait !!!\")\n",
        "    time.sleep(3)\n",
        "    print(f\"Items Available at Our Stores are {records} \")\n",
        "    bill = 0\n",
        "    i = 0\n",
        "    num_items = 100\n",
        "    ls_items = []\n",
        "    while(num_items > 0):\n",
        "        print(\"========================================================================================\")\n",
        "        item = input(\"Enter one item that you wish to Purchase: \")\n",
        "        prod_id= item.capitalize()\n",
        "        quan = int(input(\"Enter the quantity of Product: \"))\n",
        "        print(\"Product: \", records[prod_id]['Name'])\n",
        "        print(\"Price: \", records[prod_id]['Price'])\n",
        "        print(\"Comoany\" , records[prod_id]['Company'])\n",
        "        print(\"Color:\" , records[prod_id]['Color'])\n",
        "        print(\"-----------------------------------------------------------------------------------------\")\n",
        "        print(\"Billing Amount: \", records[prod_id]['Price'] * quan)\n",
        "        if(prod_id in records):\n",
        "            bill = bill + records[prod_id]['Price'] * quan\n",
        "            ls_items.append(prod_id)\n",
        "            num_items += 1\n",
        "            i += 1\n",
        "            records[prod_id][\"Quantity\"] = records[prod_id][\"Quantity\"] - quan\n",
        "        else:\n",
        "            print(\"________________________________________________________________________________________\")\n",
        "            print(\"We Dont Have This Item as of Now. \")\n",
        "            print(\"_________________________________________________________________________________________\")\n",
        "        wish = input(\"Do You Wish To enter another item y/n : \")\n",
        "        if(wish == \"y\"):\n",
        "            continue\n",
        "        else:\n",
        "            break\n",
        "\n",
        "\n",
        "    # Discount\n",
        "    if (bill <= 5000):\n",
        "        disc = 5.0\n",
        "        discount = (disc*bill)/100\n",
        "        total=float(bill-discount)\n",
        "    elif (bill >= 5000):\n",
        "        disc = 10.0\n",
        "        discount = (disc*bill)/100\n",
        "        total=float(bill-discount)\n",
        "    \n",
        "    # Bill\n",
        "    print(\"******************************************************************************************\") \n",
        "    print(\"                                                                                           \") \n",
        "    print(\"                        \"+  \"  Love Cosmetics \"                            + \"           \") \n",
        "    \n",
        "    print(\"                                                                                        \")\n",
        "    print(\"******************************************************************************************\")\n",
        "    print(\"Address: Block no.2,Shraddha Mangalam Apartment,\\n2nd Floaar, Near Ganesh Peth Police Station\\nNagpur - 440012\")\n",
        "    print(\"_____________________________________________________________________________________________\") \n",
        "    print('                                                                                         ')\n",
        "    print(f\"Customer Name : {a_name}                         Time & Date of Shopping : {time.ctime()}\")\n",
        "    print(\"______________________________________________________________________________________________\")\n",
        "    time.sleep(2)\n",
        "    print(\"                                                                                          \")\n",
        "    print(f\"                Bill Amount is {bill} for the Cosmetics you have purchased.  \")\n",
        "    print(\"                                                                                         \")\n",
        "    print(f\"            Discount {disc}% discount and Your Payable Amount is: {total}\")\n",
        "    print('                                                                                           ')\n",
        "    print(\"^^^^^^^^^^^^^^^^^^^^^ Pay your Bill on Cash Counter ^^^^^^^^^^^^^^^^^^^^^^^^^^^^^^^^^^^^^^\")\n",
        "    print( \"                                                                                            \")\n",
        "    \n",
        "    \n",
        "\n",
        "print(\"Please Choose from the Below Option : \")\n",
        "\n",
        "print(\"1. Item Purchase : \")\n",
        "print(\"2. Exit : \")\n",
        "\n",
        "choice = int(input(\"Enter Your Choice Here : \"))\n",
        "print(\"OK .. Wait For The Next Step ... \")\n",
        "time.sleep(3)\n",
        "\n",
        "if (choice == 1):    \n",
        "    itemPurchase()\n",
        "\n",
        "elif (choice == 2):\n",
        "    exit()\n",
        "    print(\"^^^^^^^^^^^^^^^^^^^^^^^^^^^^^^^^^^^^^^^^^^^^^^^^^^^^^^^^^^^^^^^^^^^^^^^^^^^^^^^^^^^^^^^^^\")\n",
        "print(\"                  \" + \"THANK YOU FOR SHOPPING WITH US\" +          \"             \"          )\n",
        "print(\"                      \"  +  \"Visit Again \" +         \"                                     \")\n",
        "print(\"^^^^^^^^^^^^^^^^^^^^^^^^^^^^^^^^^^^^^^^^^^^^^^^^^^^^^^^^^^^^^^^^^^^^^^^^^^^^^^^^^^^^^^^^^\")"
      ],
      "execution_count": 88,
      "outputs": [
        {
          "output_type": "stream",
          "name": "stdout",
          "text": [
            "Please enter your name: Sakshi Nagdive\n",
            "Hello Sakshi Nagdive ! Welcome to our Shopping Store. Buy Products at Discounted & Cheapest Rate !!\n",
            "********************************************************************************************\n",
            "--------------------WELCOME Sakshi Nagdive  TO THE TOY SHOP -------------------------------------\n",
            "*******************************************************************************************\n",
            "Please Choose from the Below Option : \n",
            "1. Item Purchase : \n",
            "2. Exit : \n",
            "Enter Your Choice Here : 1\n",
            "OK .. Wait For The Next Step ... \n",
            "Loading items ... Please Wait !!!\n",
            "Items Available at Our Stores are {'1000001': {'Name': 'Baby Cream', 'Price': 140, 'Quantity': 30, 'Company': 'Himalaya', 'Color': 'White'}, '1000002': {'Name': 'Brightning Day Cream', 'Price': 150, 'Quantity': 10, 'Company': 'Kaya', 'Color': 'Light Pink'}, '1000003': {'Name': 'Eyelyner', 'Price': 500, 'Quantity': 5, 'Company': 'Shehnaz Husan', 'Color': 'Black'}, '1000004': {'Name': 'Lipstic', 'Price': 750, 'Quantity': 23, 'Company': 'Lakme', 'Color': 'Bold Red'}, '1000005': {'Name': 'White Glow', 'Price': 110, 'Quantity': 50, 'Company': 'Lotus', 'Color': 'Navy Blue'}, '1000006': {'Name': 'Anti Wrinkle', 'Price': 1189, 'Quantity': 1, 'Company': 'Ptanjali', 'Color': 'Gold'}, '1000007': {'Name': 'Foundation', 'Price': 1100, 'Quantity': 5, 'Company': 'VLCC', 'Color': 'Light Borwn'}, '1000008': {'Name': 'Nailpaint', 'Price': 11, 'Quantity': 24, 'Company': 'Colorssence', 'Color': 'White'}, '1000009': {'Name': 'Skin Care', 'Price': 220, 'Quantity': 100, 'Company': 'Biotique', 'Color': 'Black'}, '1000010': {'Name': 'Muskara', 'Price': 1110, 'Quantity': 10, 'Company': 'Milani', 'Color': 'Dark Black'}, '1000011': {'Name': 'Lipstic', 'Price': 750, 'Quantity': 50, 'Company': 'Blue heaven', 'Color': 'Pink'}, '1000012': {'Name': 'Makeup remover', 'Price': 350, 'Quantity': 30, 'Company': 'Viviana', 'Color': 'Light pink'}, '1000013': {'Name': 'Swarna Kanti', 'Price': 590, 'Quantity': 40, 'Company': 'Patanjali', 'Color': 'Fair White'}, '1000014': {'Name': 'Skincare', 'Price': 10, 'Quantity': 10, 'Company': 'Forest Essentials', 'Color': 'Gold'}, '1000015': {'Name': 'Compact Powder', 'Price': 590, 'Quantity': 35, 'Company': 'Coloressence', 'Color': 'Pearl White'}, '1000016': {'Name': ' Gold Facial kit', 'Price': 2000, 'Quantity': 1, 'Company': 'VLCC', 'Color': 'Pearl White'}, '1000017': {'Name': 'Lipstik', 'Price': 1111, 'Quantity': 100, 'Company': 'ELLE 18', 'Color': 'Pop silk'}, '1000018': {'Name': 'Kajal Stick', 'Price': 850, 'Quantity': 45, 'Company': 'VIVIANA', 'Color': 'Dark Red'}, '1000019': {'Name': 'Intensive Moisturizing', 'Price': 20, 'Quantity': 20, 'Company': 'PAC', 'Color': 'Milky'}, '1000020': {'Name': 'Radiance Cream', 'Price': 450, 'Quantity': 300, 'Company': 'Lakme', 'Color': 'Skin color'}, '1000021': {'Name': 'Skin perfect', 'Price': 2500, 'Quantity': 370, 'Company': 'olreal', 'Color': 'POP silky'}, '1000022': {'Name': 'Shanglow Plus', 'Price': 710, 'Quantity': 10, 'Company': 'Maybellinge', 'Color': 'Skin color'}, '1000023': {'Name': 'Whitamin C face cream', 'Price': 599, 'Quantity': 15, 'Company': 'Mamaearth', 'Color': 'Light Green'}, '1000024': {'Name': 'Diamond cellular', 'Price': 1020, 'Quantity': 70, 'Company': 'Oriflame', 'Color': 'Bolg Gold'}, '1000025': {'Name': 'Sundarya Rdiance', 'Price': 110, 'Quantity': 500, 'Company': 'Avon', 'Color': 'Blue'}, '1000026': {'Name': 'Blue light defence', 'Price': 590, 'Quantity': 300, 'Company': 'Colorbar', 'Color': 'Light DEfence'}, '1000027': {'Name': 'Hydra White', 'Price': 1300, 'Quantity': 450, 'Company': 'Revlon', 'Color': 'Silk'}, '1000028': {'Name': 'Sebamed', 'Price': 5550, 'Quantity': 450, 'Company': 'NYX', 'Color': 'Black'}, '1000029': {'Name': 'Wow', 'Price': 100, 'Quantity': 7, 'Company': 'Nykaa', 'Color': 'Facial'}, '1000030': {'Name': 'Glutathione', 'Price': 1100, 'Quantity': 30, 'Company': 'Wet ', 'Color': 'Shiny gold'}, '1000031': {'name': 'Jalousy', 'pr': 500, 'qn': 10, 'com': 'Maurya', 'col': 'Blue'}, '1000032': {'name': 'Masaj Pack', 'pr': 1000, 'qn': 100, 'com': 'Lakme', 'col': 'Yello'}, '1000033': {'name': 'Lipstic', 'pr': 120, 'qn': 5, 'com': 'Nayka', 'col': 'Green'}, '1000034': {'name': 'Nailpaint', 'pr': 290, 'qn': 20, 'com': 'Lotus', 'col': 'Red'}, '1000035': {'name': 'Yellow Glow', 'pr': 590, 'qn': 40, 'com': 'Coloressence', 'col': 'Pop pink'}, '1000036': {'name': 'Compact Powder', 'pr': 300, 'qn': 25, 'com': 'Forest Essentials', 'col': 'White'}, '1000037': {'name': 'Skincare', 'pr': 1000, 'qn': 5, 'com': 'Blue Heaven', 'col': 'Fresh Gold'}, '1000038': {'name': 'Swarna Kanti', 'pr': 190, 'qn': 15, 'com': 'VLCC', 'col': 'Pop Silk'}, '1000039': {'name': 'Anti Wrinkle', 'pr': 500, 'qn': 50, 'com': 'VIVIANA', 'col': 'Navy Blue'}} \n",
            "========================================================================================\n",
            "Enter one item that you wish to Purchase: 1000005\n",
            "Enter the quantity of Product: 20\n",
            "Product:  White Glow\n",
            "Price:  110\n",
            "Comoany Lotus\n",
            "Color: Navy Blue\n",
            "-----------------------------------------------------------------------------------------\n",
            "Billing Amount:  2200\n",
            "Do You Wish To enter another item y/n : y\n",
            "========================================================================================\n",
            "Enter one item that you wish to Purchase: 1000007\n",
            "Enter the quantity of Product: 25\n",
            "Product:  Foundation\n",
            "Price:  1100\n",
            "Comoany VLCC\n",
            "Color: Light Borwn\n",
            "-----------------------------------------------------------------------------------------\n",
            "Billing Amount:  27500\n",
            "Do You Wish To enter another item y/n : y\n",
            "========================================================================================\n",
            "Enter one item that you wish to Purchase: 1000009\n",
            "Enter the quantity of Product: 15\n",
            "Product:  Skin Care\n",
            "Price:  220\n",
            "Comoany Biotique\n",
            "Color: Black\n",
            "-----------------------------------------------------------------------------------------\n",
            "Billing Amount:  3300\n",
            "Do You Wish To enter another item y/n : n\n",
            "******************************************************************************************\n",
            "                                                                                           \n",
            "                          Love Cosmetics            \n",
            "                                                                                        \n",
            "******************************************************************************************\n",
            "Address: Block no.2,Shraddha Mangalam Apartment,\n",
            "2nd Floaar, Near Ganesh Peth Police Station\n",
            "Nagpur - 440012\n",
            "_____________________________________________________________________________________________\n",
            "                                                                                         \n",
            "Customer Name : Sakshi Nagdive                         Time & Date of Shopping : Fri Nov  5 11:12:01 2021\n",
            "______________________________________________________________________________________________\n",
            "                                                                                          \n",
            "                Bill Amount is 33000 for the Cosmetics you have purchased.  \n",
            "                                                                                         \n",
            "            Discount 10.0% discount and Your Payable Amount is: 29700.0\n",
            "                                                                                           \n",
            "^^^^^^^^^^^^^^^^^^^^^ Pay your Bill on Cash Counter ^^^^^^^^^^^^^^^^^^^^^^^^^^^^^^^^^^^^^^\n",
            "                                                                                            \n",
            "                  THANK YOU FOR SHOPPING WITH US             \n",
            "                      Visit Again                                      \n",
            "^^^^^^^^^^^^^^^^^^^^^^^^^^^^^^^^^^^^^^^^^^^^^^^^^^^^^^^^^^^^^^^^^^^^^^^^^^^^^^^^^^^^^^^^^\n"
          ]
        }
      ]
    },
    {
      "cell_type": "markdown",
      "metadata": {
        "id": "-XTfqtxOY4a2"
      },
      "source": [
        "#**If choice is 2**"
      ]
    },
    {
      "cell_type": "code",
      "metadata": {
        "colab": {
          "base_uri": "https://localhost:8080/"
        },
        "id": "jvTYuowIYO52",
        "outputId": "fd1c7f48-ef0c-4e88-a736-91c9d2279b0d"
      },
      "source": [
        "import json\n",
        "import time\n",
        "import datetime\n",
        "\n",
        "a_name=input(\"Please enter your name: \")\n",
        "print(f\"Hello {a_name} ! Welcome to our Shopping Store. Buy Products at Discounted & Cheapest Rate !!\")\n",
        "\n",
        "\n",
        "print(\"********************************************************************************************\")\n",
        "\n",
        "print(f\"--------------------WELCOME {a_name}  TO THE Cosmetic SHOP -------------------------------------\")\n",
        "\n",
        "print(\"*******************************************************************************************\")\n",
        "\n",
        "\n",
        "\n",
        "    \n",
        "def exit():\n",
        "    pass\n",
        "\n",
        "def itemPurchase():\n",
        "    with open (\"record.json\",\"r\") as fd:\n",
        "        r = fd.read()\n",
        "        records = json.loads(r)\n",
        "    print(\"Loading items ... Please Wait !!!\")\n",
        "    time.sleep(3)\n",
        "    print(f\"Items Available at Our Stores are {records} \")\n",
        "    bill = 0\n",
        "    i = 0\n",
        "    num_items = 100\n",
        "    ls_items = []\n",
        "    while(num_items > 0):\n",
        "        print(\"========================================================================================\")\n",
        "        item = input(\"Enter one item that you wish to Purchase: \")\n",
        "        prod_id= item.capitalize()\n",
        "        quan = int(input(\"Enter the quantity of Product: \"))\n",
        "        print(\"Product: \", records[prod_id]['Name'])\n",
        "        print(\"Price: \", records[prod_id]['Price'])\n",
        "        print(\"Comoany\" , records[prod_id]['Company'])\n",
        "        print(\"Color:\" , records[prod_id]['Color'])\n",
        "        print(\"-----------------------------------------------------------------------------------------\")\n",
        "        print(\"Billing Amount: \", records[prod_id]['Price'] * quan)\n",
        "        if(prod_id in records):\n",
        "            bill = bill + records[prod_id]['Price'] * quan\n",
        "            ls_items.append(prod_id)\n",
        "            num_items += 1\n",
        "            i += 1\n",
        "            records[prod_id][\"Quantity\"] = records[prod_id][\"Quantity\"] - quan\n",
        "        else:\n",
        "            print(\"________________________________________________________________________________________\")\n",
        "            print(\"We Dont Have This Item as of Now. \")\n",
        "            print(\"_________________________________________________________________________________________\")\n",
        "        wish = input(\"Do You Wish To enter another item y/n : \")\n",
        "        if(wish == \"y\"):\n",
        "            continue\n",
        "        else:\n",
        "            break\n",
        "\n",
        "\n",
        "    # Discount\n",
        "    if (bill <= 5000):\n",
        "        disc = 5.0\n",
        "        discount = (disc*bill)/100\n",
        "        total=float(bill-discount)\n",
        "    elif (bill >= 5000):\n",
        "        disc = 10.0\n",
        "        discount = (disc*bill)/100\n",
        "        total=float(bill-discount)\n",
        "    \n",
        "    # Bill\n",
        "    print(\"******************************************************************************************\") \n",
        "    print(\"                                                                                           \") \n",
        "    print(\"                        \"+  \"  Love Cosmetics \"                            + \"           \") \n",
        "    \n",
        "    print(\"                                                                                        \")\n",
        "    print(\"******************************************************************************************\")\n",
        "    print(\"Address: Block no.2,Shraddha Mangalam Apartment,\\n2nd Floaar, Near Ganesh Peth Police Station\\nNagpur - 440012\")\n",
        "    print(\"_____________________________________________________________________________________________\") \n",
        "    print('                                                                                         ')\n",
        "    print(f\"Customer Name : {a_name}                         Time & Date of Shopping : {time.ctime()}\")\n",
        "    print(\"______________________________________________________________________________________________\")\n",
        "    time.sleep(2)\n",
        "    print(\"                                                                                          \")\n",
        "    print(f\"                Bill Amount is {bill} for the Cosmetics you have purchased.  \")\n",
        "    print(\"                                                                                         \")\n",
        "    print(f\"            Discount {disc}% discount and Your Payable Amount is: {total}\")\n",
        "    print('                                                                                           ')\n",
        "    print(\"^^^^^^^^^^^^^^^^^^^^^ Pay your Bill on Cash Counter ^^^^^^^^^^^^^^^^^^^^^^^^^^^^^^^^^^^^^^\")\n",
        "    print( \"                                                                                            \")\n",
        "    \n",
        "    \n",
        "\n",
        "print(\"Please Choose from the Below Option : \")\n",
        "\n",
        "print(\"1. Item Purchase : \")\n",
        "print(\"2. Exit : \")\n",
        "\n",
        "choice = int(input(\"Enter Your Choice Here : \"))\n",
        "print(\"OK .. Wait For The Next Step ... \")\n",
        "time.sleep(3)\n",
        "\n",
        "if (choice == 1):    \n",
        "    itemPurchase()\n",
        "\n",
        "elif (choice == 2):\n",
        "    exit()\n",
        "    print(\"^^^^^^^^^^^^^^^^^^^^^^^^^^^^^^^^^^^^^^^^^^^^^^^^^^^^^^^^^^^^^^^^^^^^^^^^^^^^^^^^^^^^^^^^^\")\n",
        "print(\"                  \" + \"THANK YOU FOR SHOPPING WITH US\" +          \"             \"          )\n",
        "print(\"                      \"  +  \"Visit Again \" +         \"                                     \")\n",
        "print(\"^^^^^^^^^^^^^^^^^^^^^^^^^^^^^^^^^^^^^^^^^^^^^^^^^^^^^^^^^^^^^^^^^^^^^^^^^^^^^^^^^^^^^^^^^\")"
      ],
      "execution_count": 89,
      "outputs": [
        {
          "output_type": "stream",
          "name": "stdout",
          "text": [
            "Please enter your name: Manju Ghatode\n",
            "Hello Manju Ghatode ! Welcome to our Shopping Store. Buy Products at Discounted & Cheapest Rate !!\n",
            "********************************************************************************************\n",
            "--------------------WELCOME Manju Ghatode  TO THE Cosmetic SHOP -------------------------------------\n",
            "*******************************************************************************************\n",
            "Please Choose from the Below Option : \n",
            "1. Item Purchase : \n",
            "2. Exit : \n",
            "Enter Your Choice Here : 2\n",
            "OK .. Wait For The Next Step ... \n",
            "^^^^^^^^^^^^^^^^^^^^^^^^^^^^^^^^^^^^^^^^^^^^^^^^^^^^^^^^^^^^^^^^^^^^^^^^^^^^^^^^^^^^^^^^^\n",
            "                  THANK YOU FOR SHOPPING WITH US             \n",
            "                      Visit Again                                      \n",
            "^^^^^^^^^^^^^^^^^^^^^^^^^^^^^^^^^^^^^^^^^^^^^^^^^^^^^^^^^^^^^^^^^^^^^^^^^^^^^^^^^^^^^^^^^\n"
          ]
        }
      ]
    },
    {
      "cell_type": "markdown",
      "metadata": {
        "id": "rO_lxuJSfcFp"
      },
      "source": [
        "#**Update Inventary After purchase**"
      ]
    },
    {
      "cell_type": "code",
      "metadata": {
        "id": "3Xlokz-hfGJa"
      },
      "source": [
        "js = json.dumps(records)\n",
        "\n",
        "fd = open(\"records.json\",\"w\")\n",
        "fd.write(js)\n",
        "fd.close()"
      ],
      "execution_count": 90,
      "outputs": []
    },
    {
      "cell_type": "code",
      "metadata": {
        "colab": {
          "base_uri": "https://localhost:8080/",
          "height": 460
        },
        "id": "RuJY7jpcfmnA",
        "outputId": "789e7272-fee7-4cd6-bb9c-bb8bff92525e"
      },
      "source": [
        "js"
      ],
      "execution_count": 48,
      "outputs": [
        {
          "output_type": "execute_result",
          "data": {
            "application/vnd.google.colaboratory.intrinsic+json": {
              "type": "string"
            },
            "text/plain": [
              "'{\"1000001\": {\"Name\": \"Baby Cream\", \"Price\": 140, \"Quantity\": 30, \"Company\": \"Himalaya\", \"Color\": \"White\"}, \"1000002\": {\"Name\": \"Brightning Day Cream\", \"Price\": 150, \"Quantity\": 10, \"Company\": \"Kaya\", \"Color\": \"Light Pink\"}, \"1000003\": {\"Name\": \"Eyelyner\", \"Price\": 500, \"Quantity\": 5, \"Company\": \"Shehnaz Husan\", \"Color\": \"Black\"}, \"1000004\": {\"Name\": \"Lipstic\", \"Price\": 750, \"Quantity\": 23, \"Company\": \"Lakme\", \"Color\": \"Bold Red\"}, \"1000005\": {\"Name\": \"White Glow\", \"Price\": 110, \"Quantity\": 50, \"Company\": \"Lotus\", \"Color\": \"Navy Blue\"}, \"1000006\": {\"Name\": \"Anti Wrinkle\", \"Price\": 1189, \"Quantity\": 1, \"Company\": \"Ptanjali\", \"Color\": \"Gold\"}, \"1000007\": {\"Name\": \"Foundation\", \"Price\": 1100, \"Quantity\": 5, \"Company\": \"VLCC\", \"Color\": \"Light Borwn\"}, \"1000008\": {\"Name\": \"Nailpaint\", \"Price\": 11, \"Quantity\": 24, \"Company\": \"Colorssence\", \"Color\": \"White\"}, \"1000009\": {\"Name\": \"Skin Care\", \"Price\": 220, \"Quantity\": 100, \"Company\": \"Biotique\", \"Color\": \"Black\"}, \"1000010\": {\"Name\": \"Muskara\", \"Price\": 1110, \"Quantity\": 10, \"Company\": \"Milani\", \"Color\": \"Dark Black\"}, \"1000011\": {\"Name\": \"Lipstic\", \"Price\": 750, \"Quantity\": 50, \"Company\": \"Blue heaven\", \"Color\": \"Pink\"}, \"1000012\": {\"Name\": \"Makeup remover\", \"Price\": 350, \"Quantity\": 30, \"Company\": \"Viviana\", \"Color\": \"Light pink\"}, \"1000013\": {\"Name\": \"Swarna Kanti\", \"Price\": 590, \"Quantity\": 40, \"Company\": \"Patanjali\", \"Color\": \"Fair White\"}, \"1000014\": {\"Name\": \"Skincare\", \"Price\": 10, \"Quantity\": 10, \"Company\": \"Forest Essentials\", \"Color\": \"Gold\"}, \"1000015\": {\"Name\": \"Compact Powder\", \"Price\": 590, \"Quantity\": 35, \"Company\": \"Coloressence\", \"Color\": \"Pearl White\"}, \"1000016\": {\"Name\": \" Gold Facial kit\", \"Price\": 2000, \"Quantity\": 1, \"Company\": \"VLCC\", \"Color\": \"Pearl White\"}, \"1000017\": {\"Name\": \"Lipstik\", \"Price\": 1111, \"Quantity\": 100, \"Company\": \"ELLE 18\", \"Color\": \"Pop silk\"}, \"1000018\": {\"Name\": \"Kajal Stick\", \"Price\": 850, \"Quantity\": 45, \"Company\": \"VIVIANA\", \"Color\": \"Dark Red\"}, \"1000019\": {\"Name\": \"Intensive Moisturizing\", \"Price\": 20, \"Quantity\": 20, \"Company\": \"PAC\", \"Color\": \"Milky\"}, \"1000020\": {\"Name\": \"Radiance Cream\", \"Price\": 450, \"Quantity\": 300, \"Company\": \"Lakme\", \"Color\": \"Skin color\"}, \"1000021\": {\"Name\": \"Skin perfect\", \"Price\": 2500, \"Quantity\": 370, \"Company\": \"olreal\", \"Color\": \"POP silky\"}, \"1000022\": {\"Name\": \"Shanglow Plus\", \"Price\": 710, \"Quantity\": 10, \"Company\": \"Maybellinge\", \"Color\": \"Skin color\"}, \"1000023\": {\"Name\": \"Whitamin C face cream\", \"Price\": 599, \"Quantity\": 15, \"Company\": \"Mamaearth\", \"Color\": \"Light Green\"}, \"1000024\": {\"Name\": \"Diamond cellular\", \"Price\": 1020, \"Quantity\": 70, \"Company\": \"Oriflame\", \"Color\": \"Bolg Gold\"}, \"1000025\": {\"Name\": \"Sundarya Rdiance\", \"Price\": 110, \"Quantity\": 500, \"Company\": \"Avon\", \"Color\": \"Blue\"}, \"1000026\": {\"Name\": \"Blue light defence\", \"Price\": 590, \"Quantity\": 300, \"Company\": \"Colorbar\", \"Color\": \"Light DEfence\"}, \"1000027\": {\"Name\": \"Hydra White\", \"Price\": 1300, \"Quantity\": 450, \"Company\": \"Revlon\", \"Color\": \"Silk\"}, \"1000028\": {\"Name\": \"Sebamed\", \"Price\": 5550, \"Quantity\": 450, \"Company\": \"NYX\", \"Color\": \"Black\"}, \"1000029\": {\"Name\": \"Wow\", \"Price\": 100, \"Quantity\": 7, \"Company\": \"Nykaa\", \"Color\": \"Facial\"}, \"1000030\": {\"Name\": \"Glutathione\", \"Price\": 1100, \"Quantity\": 30, \"Company\": \"Wet \", \"Color\": \"Shiny gold\"}, \"1000031\": {\"name\": \"Jalousy\", \"pr\": 500, \"qn\": 10, \"com\": \"Maurya\", \"col\": \"Blue\"}, \"1000032\": {\"name\": \"Masaj Pack\", \"pr\": 1000, \"qn\": 100, \"com\": \"Lakme\", \"col\": \"Yello\"}, \"1000033\": {\"name\": \"Lipstic\", \"pr\": 120, \"qn\": 5, \"com\": \"Nayka\", \"col\": \"Green\"}, \"1000034\": {\"name\": \"Nailpaint\", \"pr\": 290, \"qn\": 20, \"com\": \"Lotus\", \"col\": \"Red\"}, \"1000035\": {\"name\": \"Yellow Glow\", \"pr\": 590, \"qn\": 40, \"com\": \"Coloressence\", \"col\": \"Pop pink\"}, \"1000036\": {\"name\": \"Compact Powder\", \"pr\": 300, \"qn\": 25, \"com\": \"Forest Essentials\", \"col\": \"White\"}, \"1000037\": {\"name\": \"Skincare\", \"pr\": 1000, \"qn\": 5, \"com\": \"Blue Heaven\", \"col\": \"Fresh Gold\"}, \"1000038\": {\"name\": \"Swarna Kanti\", \"pr\": 190, \"qn\": 15, \"com\": \"VLCC\", \"col\": \"Pop Silk\"}, \"1000039\": {\"name\": \"Anti Wrinkle\", \"pr\": 500, \"qn\": 50, \"com\": \"VIVIANA\", \"col\": \"Navy Blue\"}}'"
            ]
          },
          "metadata": {},
          "execution_count": 48
        }
      ]
    },
    {
      "cell_type": "markdown",
      "metadata": {
        "id": "14jWlBdKg5_R"
      },
      "source": [
        "#**Purchase**"
      ]
    },
    {
      "cell_type": "code",
      "metadata": {
        "id": "xlVmzlbliw2i"
      },
      "source": [
        "import json "
      ],
      "execution_count": 91,
      "outputs": []
    },
    {
      "cell_type": "code",
      "metadata": {
        "id": "DTswioC2i9yT",
        "colab": {
          "base_uri": "https://localhost:8080/"
        },
        "outputId": "1ec544a4-8fb8-4fe3-865a-53626aa873ca"
      },
      "source": [
        "fd = open(\"record.json\", \"r\")\n",
        "r = fd.read()\n",
        "fd.close()\n",
        "records == json.loads(r)"
      ],
      "execution_count": 50,
      "outputs": [
        {
          "output_type": "execute_result",
          "data": {
            "text/plain": [
              "True"
            ]
          },
          "metadata": {},
          "execution_count": 50
        }
      ]
    },
    {
      "cell_type": "code",
      "metadata": {
        "colab": {
          "base_uri": "https://localhost:8080/"
        },
        "id": "rme_c6_3jF24",
        "outputId": "60bf01de-d46c-4640-bb66-a611fa9c022e"
      },
      "source": [
        "records"
      ],
      "execution_count": 92,
      "outputs": [
        {
          "output_type": "execute_result",
          "data": {
            "text/plain": [
              "{'1000001': {'Color': 'White',\n",
              "  'Company': 'Himalaya',\n",
              "  'Name': 'Baby Cream',\n",
              "  'Price': 140,\n",
              "  'Quantity': 30},\n",
              " '1000002': {'Color': 'Light Pink',\n",
              "  'Company': 'Kaya',\n",
              "  'Name': 'Brightning Day Cream',\n",
              "  'Price': 150,\n",
              "  'Quantity': 10},\n",
              " '1000003': {'Color': 'Black',\n",
              "  'Company': 'Shehnaz Husan',\n",
              "  'Name': 'Eyelyner',\n",
              "  'Price': 500,\n",
              "  'Quantity': 5},\n",
              " '1000004': {'Color': 'Bold Red',\n",
              "  'Company': 'Lakme',\n",
              "  'Name': 'Lipstic',\n",
              "  'Price': 750,\n",
              "  'Quantity': 23},\n",
              " '1000005': {'Color': 'Navy Blue',\n",
              "  'Company': 'Lotus',\n",
              "  'Name': 'White Glow',\n",
              "  'Price': 110,\n",
              "  'Quantity': 50},\n",
              " '1000006': {'Color': 'Gold',\n",
              "  'Company': 'Ptanjali',\n",
              "  'Name': 'Anti Wrinkle',\n",
              "  'Price': 1189,\n",
              "  'Quantity': 1},\n",
              " '1000007': {'Color': 'Light Borwn',\n",
              "  'Company': 'VLCC',\n",
              "  'Name': 'Foundation',\n",
              "  'Price': 1100,\n",
              "  'Quantity': 5},\n",
              " '1000008': {'Color': 'White',\n",
              "  'Company': 'Colorssence',\n",
              "  'Name': 'Nailpaint',\n",
              "  'Price': 11,\n",
              "  'Quantity': 24},\n",
              " '1000009': {'Color': 'Black',\n",
              "  'Company': 'Biotique',\n",
              "  'Name': 'Skin Care',\n",
              "  'Price': 220,\n",
              "  'Quantity': 100},\n",
              " '1000010': {'Color': 'Dark Black',\n",
              "  'Company': 'Milani',\n",
              "  'Name': 'Muskara',\n",
              "  'Price': 1110,\n",
              "  'Quantity': 10},\n",
              " '1000011': {'Color': 'Pink',\n",
              "  'Company': 'Blue heaven',\n",
              "  'Name': 'Lipstic',\n",
              "  'Price': 750,\n",
              "  'Quantity': 50},\n",
              " '1000012': {'Color': 'Light pink',\n",
              "  'Company': 'Viviana',\n",
              "  'Name': 'Makeup remover',\n",
              "  'Price': 350,\n",
              "  'Quantity': 30},\n",
              " '1000013': {'Color': 'Fair White',\n",
              "  'Company': 'Patanjali',\n",
              "  'Name': 'Swarna Kanti',\n",
              "  'Price': 590,\n",
              "  'Quantity': 40},\n",
              " '1000014': {'Color': 'Gold',\n",
              "  'Company': 'Forest Essentials',\n",
              "  'Name': 'Skincare',\n",
              "  'Price': 10,\n",
              "  'Quantity': 10},\n",
              " '1000015': {'Color': 'Pearl White',\n",
              "  'Company': 'Coloressence',\n",
              "  'Name': 'Compact Powder',\n",
              "  'Price': 590,\n",
              "  'Quantity': 15},\n",
              " '1000016': {'Color': 'Pearl White',\n",
              "  'Company': 'VLCC',\n",
              "  'Name': ' Gold Facial kit',\n",
              "  'Price': 2000,\n",
              "  'Quantity': 1},\n",
              " '1000017': {'Color': 'Pop silk',\n",
              "  'Company': 'ELLE 18',\n",
              "  'Name': 'Lipstik',\n",
              "  'Price': 1111,\n",
              "  'Quantity': 100},\n",
              " '1000018': {'Color': 'Dark Red',\n",
              "  'Company': 'VIVIANA',\n",
              "  'Name': 'Kajal Stick',\n",
              "  'Price': 850,\n",
              "  'Quantity': 45},\n",
              " '1000019': {'Color': 'Milky',\n",
              "  'Company': 'PAC',\n",
              "  'Name': 'Intensive Moisturizing',\n",
              "  'Price': 20,\n",
              "  'Quantity': 20},\n",
              " '1000020': {'Color': 'Skin color',\n",
              "  'Company': 'Lakme',\n",
              "  'Name': 'Radiance Cream',\n",
              "  'Price': 450,\n",
              "  'Quantity': 300},\n",
              " '1000021': {'Color': 'POP silky',\n",
              "  'Company': 'olreal',\n",
              "  'Name': 'Skin perfect',\n",
              "  'Price': 2500,\n",
              "  'Quantity': 370},\n",
              " '1000022': {'Color': 'Skin color',\n",
              "  'Company': 'Maybellinge',\n",
              "  'Name': 'Shanglow Plus',\n",
              "  'Price': 710,\n",
              "  'Quantity': 10},\n",
              " '1000023': {'Color': 'Light Green',\n",
              "  'Company': 'Mamaearth',\n",
              "  'Name': 'Whitamin C face cream',\n",
              "  'Price': 599,\n",
              "  'Quantity': 15},\n",
              " '1000024': {'Color': 'Bolg Gold',\n",
              "  'Company': 'Oriflame',\n",
              "  'Name': 'Diamond cellular',\n",
              "  'Price': 1020,\n",
              "  'Quantity': 70},\n",
              " '1000025': {'Color': 'Blue',\n",
              "  'Company': 'Avon',\n",
              "  'Name': 'Sundarya Rdiance',\n",
              "  'Price': 110,\n",
              "  'Quantity': 500},\n",
              " '1000026': {'Color': 'Light DEfence',\n",
              "  'Company': 'Colorbar',\n",
              "  'Name': 'Blue light defence',\n",
              "  'Price': 590,\n",
              "  'Quantity': 300},\n",
              " '1000027': {'Color': 'Silk',\n",
              "  'Company': 'Revlon',\n",
              "  'Name': 'Hydra White',\n",
              "  'Price': 1300,\n",
              "  'Quantity': 450},\n",
              " '1000028': {'Color': 'Black',\n",
              "  'Company': 'NYX',\n",
              "  'Name': 'Sebamed',\n",
              "  'Price': 5550,\n",
              "  'Quantity': 450},\n",
              " '1000029': {'Color': 'Facial',\n",
              "  'Company': 'Nykaa',\n",
              "  'Name': 'Wow',\n",
              "  'Price': 100,\n",
              "  'Quantity': 7},\n",
              " '1000030': {'Color': 'Shiny gold',\n",
              "  'Company': 'Wet ',\n",
              "  'Name': 'Glutathione',\n",
              "  'Price': 1100,\n",
              "  'Quantity': 30},\n",
              " '1000031': {'col': 'Blue',\n",
              "  'com': 'Maurya',\n",
              "  'name': 'Jalousy',\n",
              "  'pr': 500,\n",
              "  'qn': 10},\n",
              " '1000032': {'col': 'Yello',\n",
              "  'com': 'Lakme',\n",
              "  'name': 'Masaj Pack',\n",
              "  'pr': 1000,\n",
              "  'qn': 100},\n",
              " '1000033': {'col': 'Green',\n",
              "  'com': 'Nayka',\n",
              "  'name': 'Lipstic',\n",
              "  'pr': 120,\n",
              "  'qn': 5},\n",
              " '1000034': {'col': 'Red',\n",
              "  'com': 'Lotus',\n",
              "  'name': 'Nailpaint',\n",
              "  'pr': 290,\n",
              "  'qn': 20},\n",
              " '1000035': {'col': 'Pop pink',\n",
              "  'com': 'Coloressence',\n",
              "  'name': 'Yellow Glow',\n",
              "  'pr': 590,\n",
              "  'qn': 40},\n",
              " '1000036': {'col': 'White',\n",
              "  'com': 'Forest Essentials',\n",
              "  'name': 'Compact Powder',\n",
              "  'pr': 300,\n",
              "  'qn': 25},\n",
              " '1000037': {'col': 'Fresh Gold',\n",
              "  'com': 'Blue Heaven',\n",
              "  'name': 'Skincare',\n",
              "  'pr': 1000,\n",
              "  'qn': 5},\n",
              " '1000038': {'col': 'Pop Silk',\n",
              "  'com': 'VLCC',\n",
              "  'name': 'Swarna Kanti',\n",
              "  'pr': 190,\n",
              "  'qn': 15},\n",
              " '1000039': {'col': 'Navy Blue',\n",
              "  'com': 'VIVIANA',\n",
              "  'name': 'Anti Wrinkle',\n",
              "  'pr': 500,\n",
              "  'qn': 50}}"
            ]
          },
          "metadata": {},
          "execution_count": 92
        }
      ]
    },
    {
      "cell_type": "code",
      "metadata": {
        "colab": {
          "base_uri": "https://localhost:8080/"
        },
        "id": "82qmvfneisGS",
        "outputId": "6be43bba-2fa4-4b28-9363-98d0e85563a1"
      },
      "source": [
        "ui_prod  = str(input(\"Enter the product_Id: \"))\n",
        "ui_quant = int(input(\"Enter the quantity: \"))\n",
        "\n",
        "\n",
        "print(\"Product: \", records[ui_prod]['Name'])\n",
        "print(\"Price: \", records[ui_prod]['Price'])\n",
        "print(\"Company: \", records[ui_prod]['Company'])\n",
        "print(\"Color: \", records[ui_prod]['Color'])\n",
        "print(\"Billing Amount: \", records[ui_prod]['Price'] * ui_quant)\n",
        "\n",
        "records[ui_prod]['Quantity'] = records[ui_prod]['Quantity'] - ui_quant"
      ],
      "execution_count": 52,
      "outputs": [
        {
          "output_type": "stream",
          "name": "stdout",
          "text": [
            "Enter the product_Id: 1000015\n",
            "Enter the quantity: 20\n",
            "Product:  Compact Powder\n",
            "Price:  590\n",
            "Company:  Coloressence\n",
            "Color:  Pearl White\n",
            "Billing Amount:  11800\n"
          ]
        }
      ]
    },
    {
      "cell_type": "markdown",
      "metadata": {
        "id": "gWVWBUhDjRIp"
      },
      "source": [
        "#**Update Inventory after purchase**"
      ]
    },
    {
      "cell_type": "code",
      "metadata": {
        "id": "IZuXOXJweeuH"
      },
      "source": [
        "js = json.dumps(records)\n",
        "\n",
        "fd = open(\"records.json\", 'w')\n",
        "fd.write(js)\n",
        "fd.close()"
      ],
      "execution_count": 93,
      "outputs": []
    },
    {
      "cell_type": "code",
      "metadata": {
        "colab": {
          "base_uri": "https://localhost:8080/",
          "height": 137
        },
        "id": "vEAV5WH8hYbM",
        "outputId": "15512331-405d-457a-e441-6b2c0ba5db99"
      },
      "source": [
        "js"
      ],
      "execution_count": 94,
      "outputs": [
        {
          "output_type": "execute_result",
          "data": {
            "application/vnd.google.colaboratory.intrinsic+json": {
              "type": "string"
            },
            "text/plain": [
              "'{\"1000001\": {\"Name\": \"Baby Cream\", \"Price\": 140, \"Quantity\": 30, \"Company\": \"Himalaya\", \"Color\": \"White\"}, \"1000002\": {\"Name\": \"Brightning Day Cream\", \"Price\": 150, \"Quantity\": 10, \"Company\": \"Kaya\", \"Color\": \"Light Pink\"}, \"1000003\": {\"Name\": \"Eyelyner\", \"Price\": 500, \"Quantity\": 5, \"Company\": \"Shehnaz Husan\", \"Color\": \"Black\"}, \"1000004\": {\"Name\": \"Lipstic\", \"Price\": 750, \"Quantity\": 23, \"Company\": \"Lakme\", \"Color\": \"Bold Red\"}, \"1000005\": {\"Name\": \"White Glow\", \"Price\": 110, \"Quantity\": 50, \"Company\": \"Lotus\", \"Color\": \"Navy Blue\"}, \"1000006\": {\"Name\": \"Anti Wrinkle\", \"Price\": 1189, \"Quantity\": 1, \"Company\": \"Ptanjali\", \"Color\": \"Gold\"}, \"1000007\": {\"Name\": \"Foundation\", \"Price\": 1100, \"Quantity\": 5, \"Company\": \"VLCC\", \"Color\": \"Light Borwn\"}, \"1000008\": {\"Name\": \"Nailpaint\", \"Price\": 11, \"Quantity\": 24, \"Company\": \"Colorssence\", \"Color\": \"White\"}, \"1000009\": {\"Name\": \"Skin Care\", \"Price\": 220, \"Quantity\": 100, \"Company\": \"Biotique\", \"Color\": \"Black\"}, \"1000010\": {\"Name\": \"Muskara\", \"Price\": 1110, \"Quantity\": 10, \"Company\": \"Milani\", \"Color\": \"Dark Black\"}, \"1000011\": {\"Name\": \"Lipstic\", \"Price\": 750, \"Quantity\": 50, \"Company\": \"Blue heaven\", \"Color\": \"Pink\"}, \"1000012\": {\"Name\": \"Makeup remover\", \"Price\": 350, \"Quantity\": 30, \"Company\": \"Viviana\", \"Color\": \"Light pink\"}, \"1000013\": {\"Name\": \"Swarna Kanti\", \"Price\": 590, \"Quantity\": 40, \"Company\": \"Patanjali\", \"Color\": \"Fair White\"}, \"1000014\": {\"Name\": \"Skincare\", \"Price\": 10, \"Quantity\": 10, \"Company\": \"Forest Essentials\", \"Color\": \"Gold\"}, \"1000015\": {\"Name\": \"Compact Powder\", \"Price\": 590, \"Quantity\": 15, \"Company\": \"Coloressence\", \"Color\": \"Pearl White\"}, \"1000016\": {\"Name\": \" Gold Facial kit\", \"Price\": 2000, \"Quantity\": 1, \"Company\": \"VLCC\", \"Color\": \"Pearl White\"}, \"1000017\": {\"Name\": \"Lipstik\", \"Price\": 1111, \"Quantity\": 100, \"Company\": \"ELLE 18\", \"Color\": \"Pop silk\"}, \"1000018\": {\"Name\": \"Kajal Stick\", \"Price\": 850, \"Quantity\": 45, \"Company\": \"VIVIANA\", \"Color\": \"Dark Red\"}, \"1000019\": {\"Name\": \"Intensive Moisturizing\", \"Price\": 20, \"Quantity\": 20, \"Company\": \"PAC\", \"Color\": \"Milky\"}, \"1000020\": {\"Name\": \"Radiance Cream\", \"Price\": 450, \"Quantity\": 300, \"Company\": \"Lakme\", \"Color\": \"Skin color\"}, \"1000021\": {\"Name\": \"Skin perfect\", \"Price\": 2500, \"Quantity\": 370, \"Company\": \"olreal\", \"Color\": \"POP silky\"}, \"1000022\": {\"Name\": \"Shanglow Plus\", \"Price\": 710, \"Quantity\": 10, \"Company\": \"Maybellinge\", \"Color\": \"Skin color\"}, \"1000023\": {\"Name\": \"Whitamin C face cream\", \"Price\": 599, \"Quantity\": 15, \"Company\": \"Mamaearth\", \"Color\": \"Light Green\"}, \"1000024\": {\"Name\": \"Diamond cellular\", \"Price\": 1020, \"Quantity\": 70, \"Company\": \"Oriflame\", \"Color\": \"Bolg Gold\"}, \"1000025\": {\"Name\": \"Sundarya Rdiance\", \"Price\": 110, \"Quantity\": 500, \"Company\": \"Avon\", \"Color\": \"Blue\"}, \"1000026\": {\"Name\": \"Blue light defence\", \"Price\": 590, \"Quantity\": 300, \"Company\": \"Colorbar\", \"Color\": \"Light DEfence\"}, \"1000027\": {\"Name\": \"Hydra White\", \"Price\": 1300, \"Quantity\": 450, \"Company\": \"Revlon\", \"Color\": \"Silk\"}, \"1000028\": {\"Name\": \"Sebamed\", \"Price\": 5550, \"Quantity\": 450, \"Company\": \"NYX\", \"Color\": \"Black\"}, \"1000029\": {\"Name\": \"Wow\", \"Price\": 100, \"Quantity\": 7, \"Company\": \"Nykaa\", \"Color\": \"Facial\"}, \"1000030\": {\"Name\": \"Glutathione\", \"Price\": 1100, \"Quantity\": 30, \"Company\": \"Wet \", \"Color\": \"Shiny gold\"}, \"1000031\": {\"name\": \"Jalousy\", \"pr\": 500, \"qn\": 10, \"com\": \"Maurya\", \"col\": \"Blue\"}, \"1000032\": {\"name\": \"Masaj Pack\", \"pr\": 1000, \"qn\": 100, \"com\": \"Lakme\", \"col\": \"Yello\"}, \"1000033\": {\"name\": \"Lipstic\", \"pr\": 120, \"qn\": 5, \"com\": \"Nayka\", \"col\": \"Green\"}, \"1000034\": {\"name\": \"Nailpaint\", \"pr\": 290, \"qn\": 20, \"com\": \"Lotus\", \"col\": \"Red\"}, \"1000035\": {\"name\": \"Yellow Glow\", \"pr\": 590, \"qn\": 40, \"com\": \"Coloressence\", \"col\": \"Pop pink\"}, \"1000036\": {\"name\": \"Compact Powder\", \"pr\": 300, \"qn\": 25, \"com\": \"Forest Essentials\", \"col\": \"White\"}, \"1000037\": {\"name\": \"Skincare\", \"pr\": 1000, \"qn\": 5, \"com\": \"Blue Heaven\", \"col\": \"Fresh Gold\"}, \"1000038\": {\"name\": \"Swarna Kanti\", \"pr\": 190, \"qn\": 15, \"com\": \"VLCC\", \"col\": \"Pop Silk\"}, \"1000039\": {\"name\": \"Anti Wrinkle\", \"pr\": 500, \"qn\": 50, \"com\": \"VIVIANA\", \"col\": \"Navy Blue\"}}'"
            ]
          },
          "metadata": {},
          "execution_count": 94
        }
      ]
    },
    {
      "cell_type": "markdown",
      "metadata": {
        "id": "uvym34ACnscF"
      },
      "source": [
        "#**Sales JSON**"
      ]
    },
    {
      "cell_type": "code",
      "metadata": {
        "id": "ZGW924tcqFdh"
      },
      "source": [
        "sales = {\"1000005\" : {'prod' : 'White Glow', 'qn' : 20, 'amount':110 * ui_quant},\n",
        "         \"1000007\": {'prod' : 'Foundation', 'qn' : 25, 'amount': 1100 * ui_quant},\n",
        "         \"1000009\": {'prod' : 'Skin Care', 'qn' : 10, 'amount': 220 * ui_quant}}"
      ],
      "execution_count": 95,
      "outputs": []
    },
    {
      "cell_type": "code",
      "metadata": {
        "colab": {
          "base_uri": "https://localhost:8080/"
        },
        "id": "-g1e78ujqfcl",
        "outputId": "187fbe4c-7530-4575-be46-81152e7c95d8"
      },
      "source": [
        "sales"
      ],
      "execution_count": 96,
      "outputs": [
        {
          "output_type": "execute_result",
          "data": {
            "text/plain": [
              "{'1000005': {'amount': 2200, 'prod': 'White Glow', 'qn': 20},\n",
              " '1000007': {'amount': 22000, 'prod': 'Foundation', 'qn': 25},\n",
              " '1000009': {'amount': 4400, 'prod': 'Skin Care', 'qn': 10}}"
            ]
          },
          "metadata": {},
          "execution_count": 96
        }
      ]
    },
    {
      "cell_type": "code",
      "metadata": {
        "id": "SCzrkO-wqsPO"
      },
      "source": [
        "sale = json.dumps(sales)"
      ],
      "execution_count": 97,
      "outputs": []
    },
    {
      "cell_type": "code",
      "metadata": {
        "colab": {
          "base_uri": "https://localhost:8080/",
          "height": 52
        },
        "id": "O6zQOh5Hqyqj",
        "outputId": "ee01e98b-185f-4423-a341-d5868c5ace67"
      },
      "source": [
        "sale"
      ],
      "execution_count": 98,
      "outputs": [
        {
          "output_type": "execute_result",
          "data": {
            "application/vnd.google.colaboratory.intrinsic+json": {
              "type": "string"
            },
            "text/plain": [
              "'{\"1000005\": {\"prod\": \"White Glow\", \"qn\": 20, \"amount\": 2200}, \"1000007\": {\"prod\": \"Foundation\", \"qn\": 25, \"amount\": 22000}, \"1000009\": {\"prod\": \"Skin Care\", \"qn\": 10, \"amount\": 4400}}'"
            ]
          },
          "metadata": {},
          "execution_count": 98
        }
      ]
    }
  ]
}